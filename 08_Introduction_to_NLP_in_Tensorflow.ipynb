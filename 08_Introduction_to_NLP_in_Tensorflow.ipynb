{
  "nbformat": 4,
  "nbformat_minor": 0,
  "metadata": {
    "colab": {
      "name": "08_Introduction_to_NLP_in_Tensorflow.ipynb",
      "provenance": [],
      "authorship_tag": "ABX9TyPQgDbDbBhaxhvwf21XmoG1"
    },
    "kernelspec": {
      "name": "python3",
      "display_name": "Python 3"
    },
    "language_info": {
      "name": "python"
    }
  },
  "cells": [
    {
      "cell_type": "code",
      "metadata": {
        "colab": {
          "base_uri": "https://localhost:8080/"
        },
        "id": "4lO7eXRdSirS",
        "outputId": "bee61a86-5c2b-4d07-9917-ae86aef0e24a"
      },
      "source": [
        "# Check GPU\n",
        "!nvidia-smi -L"
      ],
      "execution_count": 1,
      "outputs": [
        {
          "output_type": "stream",
          "name": "stdout",
          "text": [
            "NVIDIA-SMI has failed because it couldn't communicate with the NVIDIA driver. Make sure that the latest NVIDIA driver is installed and running.\n",
            "\n"
          ]
        }
      ]
    },
    {
      "cell_type": "code",
      "metadata": {
        "id": "WP-fO1YNTLM_"
      },
      "source": [
        "from helper_functions import unzip_data, create_tensorboard_callback, plot_loss_curves, compare_historys"
      ],
      "execution_count": 2,
      "outputs": []
    },
    {
      "cell_type": "code",
      "metadata": {
        "colab": {
          "base_uri": "https://localhost:8080/"
        },
        "id": "BbYI2ujVUZt_",
        "outputId": "8b2e1f6a-7645-457a-e0bc-fc48e41d9c03"
      },
      "source": [
        "## Get text dataset\n",
        "## Kaggle's introduction to NLP dataset\n",
        "!wget https://storage.googleapis.com/ztm_tf_course/nlp_getting_started.zip\n",
        "\n",
        "#Unzip data\n",
        "unzip_data('nlp_getting_started.zip')"
      ],
      "execution_count": 3,
      "outputs": [
        {
          "output_type": "stream",
          "name": "stdout",
          "text": [
            "--2021-11-19 22:12:24--  https://storage.googleapis.com/ztm_tf_course/nlp_getting_started.zip\n",
            "Resolving storage.googleapis.com (storage.googleapis.com)... 142.250.1.128, 108.177.121.128, 142.250.103.128, ...\n",
            "Connecting to storage.googleapis.com (storage.googleapis.com)|142.250.1.128|:443... connected.\n",
            "HTTP request sent, awaiting response... 200 OK\n",
            "Length: 607343 (593K) [application/zip]\n",
            "Saving to: ‘nlp_getting_started.zip’\n",
            "\n",
            "\rnlp_getting_started   0%[                    ]       0  --.-KB/s               \rnlp_getting_started 100%[===================>] 593.11K  --.-KB/s    in 0.006s  \n",
            "\n",
            "2021-11-19 22:12:24 (97.3 MB/s) - ‘nlp_getting_started.zip’ saved [607343/607343]\n",
            "\n"
          ]
        }
      ]
    },
    {
      "cell_type": "code",
      "metadata": {
        "id": "5M0iJl_nVLOk"
      },
      "source": [
        "import pandas as pd\n",
        "train_df = pd.read_csv('/content/train.csv')\n",
        "test_df = pd.read_csv('/content/test.csv')"
      ],
      "execution_count": 4,
      "outputs": []
    },
    {
      "cell_type": "code",
      "metadata": {
        "colab": {
          "base_uri": "https://localhost:8080/"
        },
        "id": "IlcVLjqoW3-c",
        "outputId": "9b7ae80a-9539-408d-e031-4e3eb8301b74"
      },
      "source": [
        "train_df.shape, test_df.shape"
      ],
      "execution_count": 5,
      "outputs": [
        {
          "output_type": "execute_result",
          "data": {
            "text/plain": [
              "((7613, 5), (3263, 4))"
            ]
          },
          "metadata": {},
          "execution_count": 5
        }
      ]
    },
    {
      "cell_type": "code",
      "metadata": {
        "colab": {
          "base_uri": "https://localhost:8080/",
          "height": 34
        },
        "id": "-g4hmfSkW9EB",
        "outputId": "bdde3a97-d891-4624-e924-0937e3143003"
      },
      "source": [
        "train_df['text'][1]"
      ],
      "execution_count": 6,
      "outputs": [
        {
          "output_type": "execute_result",
          "data": {
            "application/vnd.google.colaboratory.intrinsic+json": {
              "type": "string"
            },
            "text/plain": [
              "'Forest fire near La Ronge Sask. Canada'"
            ]
          },
          "metadata": {},
          "execution_count": 6
        }
      ]
    },
    {
      "cell_type": "code",
      "metadata": {
        "colab": {
          "base_uri": "https://localhost:8080/",
          "height": 202
        },
        "id": "jYkjMzJgXWZ7",
        "outputId": "61811ed3-f93e-4929-8a42-785f8e27be45"
      },
      "source": [
        "# shuffle training data\n",
        "train_df_shuffled = train_df.sample(frac=1, random_state=42)\n",
        "train_df_shuffled.head()"
      ],
      "execution_count": 7,
      "outputs": [
        {
          "output_type": "execute_result",
          "data": {
            "text/html": [
              "<div>\n",
              "<style scoped>\n",
              "    .dataframe tbody tr th:only-of-type {\n",
              "        vertical-align: middle;\n",
              "    }\n",
              "\n",
              "    .dataframe tbody tr th {\n",
              "        vertical-align: top;\n",
              "    }\n",
              "\n",
              "    .dataframe thead th {\n",
              "        text-align: right;\n",
              "    }\n",
              "</style>\n",
              "<table border=\"1\" class=\"dataframe\">\n",
              "  <thead>\n",
              "    <tr style=\"text-align: right;\">\n",
              "      <th></th>\n",
              "      <th>id</th>\n",
              "      <th>keyword</th>\n",
              "      <th>location</th>\n",
              "      <th>text</th>\n",
              "      <th>target</th>\n",
              "    </tr>\n",
              "  </thead>\n",
              "  <tbody>\n",
              "    <tr>\n",
              "      <th>2644</th>\n",
              "      <td>3796</td>\n",
              "      <td>destruction</td>\n",
              "      <td>NaN</td>\n",
              "      <td>So you have a new weapon that can cause un-ima...</td>\n",
              "      <td>1</td>\n",
              "    </tr>\n",
              "    <tr>\n",
              "      <th>2227</th>\n",
              "      <td>3185</td>\n",
              "      <td>deluge</td>\n",
              "      <td>NaN</td>\n",
              "      <td>The f$&amp;amp;@ing things I do for #GISHWHES Just...</td>\n",
              "      <td>0</td>\n",
              "    </tr>\n",
              "    <tr>\n",
              "      <th>5448</th>\n",
              "      <td>7769</td>\n",
              "      <td>police</td>\n",
              "      <td>UK</td>\n",
              "      <td>DT @georgegalloway: RT @Galloway4Mayor: ÛÏThe...</td>\n",
              "      <td>1</td>\n",
              "    </tr>\n",
              "    <tr>\n",
              "      <th>132</th>\n",
              "      <td>191</td>\n",
              "      <td>aftershock</td>\n",
              "      <td>NaN</td>\n",
              "      <td>Aftershock back to school kick off was great. ...</td>\n",
              "      <td>0</td>\n",
              "    </tr>\n",
              "    <tr>\n",
              "      <th>6845</th>\n",
              "      <td>9810</td>\n",
              "      <td>trauma</td>\n",
              "      <td>Montgomery County, MD</td>\n",
              "      <td>in response to trauma Children of Addicts deve...</td>\n",
              "      <td>0</td>\n",
              "    </tr>\n",
              "  </tbody>\n",
              "</table>\n",
              "</div>"
            ],
            "text/plain": [
              "        id  ... target\n",
              "2644  3796  ...      1\n",
              "2227  3185  ...      0\n",
              "5448  7769  ...      1\n",
              "132    191  ...      0\n",
              "6845  9810  ...      0\n",
              "\n",
              "[5 rows x 5 columns]"
            ]
          },
          "metadata": {},
          "execution_count": 7
        }
      ]
    },
    {
      "cell_type": "code",
      "metadata": {
        "colab": {
          "base_uri": "https://localhost:8080/",
          "height": 202
        },
        "id": "EDsJE3mkXsSY",
        "outputId": "7e32e56b-dccb-4ac6-deca-9e72f1683e99"
      },
      "source": [
        "test_df.head()"
      ],
      "execution_count": 8,
      "outputs": [
        {
          "output_type": "execute_result",
          "data": {
            "text/html": [
              "<div>\n",
              "<style scoped>\n",
              "    .dataframe tbody tr th:only-of-type {\n",
              "        vertical-align: middle;\n",
              "    }\n",
              "\n",
              "    .dataframe tbody tr th {\n",
              "        vertical-align: top;\n",
              "    }\n",
              "\n",
              "    .dataframe thead th {\n",
              "        text-align: right;\n",
              "    }\n",
              "</style>\n",
              "<table border=\"1\" class=\"dataframe\">\n",
              "  <thead>\n",
              "    <tr style=\"text-align: right;\">\n",
              "      <th></th>\n",
              "      <th>id</th>\n",
              "      <th>keyword</th>\n",
              "      <th>location</th>\n",
              "      <th>text</th>\n",
              "    </tr>\n",
              "  </thead>\n",
              "  <tbody>\n",
              "    <tr>\n",
              "      <th>0</th>\n",
              "      <td>0</td>\n",
              "      <td>NaN</td>\n",
              "      <td>NaN</td>\n",
              "      <td>Just happened a terrible car crash</td>\n",
              "    </tr>\n",
              "    <tr>\n",
              "      <th>1</th>\n",
              "      <td>2</td>\n",
              "      <td>NaN</td>\n",
              "      <td>NaN</td>\n",
              "      <td>Heard about #earthquake is different cities, s...</td>\n",
              "    </tr>\n",
              "    <tr>\n",
              "      <th>2</th>\n",
              "      <td>3</td>\n",
              "      <td>NaN</td>\n",
              "      <td>NaN</td>\n",
              "      <td>there is a forest fire at spot pond, geese are...</td>\n",
              "    </tr>\n",
              "    <tr>\n",
              "      <th>3</th>\n",
              "      <td>9</td>\n",
              "      <td>NaN</td>\n",
              "      <td>NaN</td>\n",
              "      <td>Apocalypse lighting. #Spokane #wildfires</td>\n",
              "    </tr>\n",
              "    <tr>\n",
              "      <th>4</th>\n",
              "      <td>11</td>\n",
              "      <td>NaN</td>\n",
              "      <td>NaN</td>\n",
              "      <td>Typhoon Soudelor kills 28 in China and Taiwan</td>\n",
              "    </tr>\n",
              "  </tbody>\n",
              "</table>\n",
              "</div>"
            ],
            "text/plain": [
              "   id keyword location                                               text\n",
              "0   0     NaN      NaN                 Just happened a terrible car crash\n",
              "1   2     NaN      NaN  Heard about #earthquake is different cities, s...\n",
              "2   3     NaN      NaN  there is a forest fire at spot pond, geese are...\n",
              "3   9     NaN      NaN           Apocalypse lighting. #Spokane #wildfires\n",
              "4  11     NaN      NaN      Typhoon Soudelor kills 28 in China and Taiwan"
            ]
          },
          "metadata": {},
          "execution_count": 8
        }
      ]
    },
    {
      "cell_type": "code",
      "metadata": {
        "colab": {
          "base_uri": "https://localhost:8080/"
        },
        "id": "BJ8QNckTX3jq",
        "outputId": "e815b9ec-42a8-4d12-baa6-9ef47175d815"
      },
      "source": [
        "train_df['target'].value_counts()"
      ],
      "execution_count": 9,
      "outputs": [
        {
          "output_type": "execute_result",
          "data": {
            "text/plain": [
              "0    4342\n",
              "1    3271\n",
              "Name: target, dtype: int64"
            ]
          },
          "metadata": {},
          "execution_count": 9
        }
      ]
    },
    {
      "cell_type": "code",
      "metadata": {
        "colab": {
          "base_uri": "https://localhost:8080/"
        },
        "id": "toUuPXv0YCEN",
        "outputId": "bd897610-6ce2-4ee2-ddda-f65fd09ffcbe"
      },
      "source": [
        "# number of samples\n",
        "len(train_df), len(test_df)"
      ],
      "execution_count": 10,
      "outputs": [
        {
          "output_type": "execute_result",
          "data": {
            "text/plain": [
              "(7613, 3263)"
            ]
          },
          "metadata": {},
          "execution_count": 10
        }
      ]
    },
    {
      "cell_type": "code",
      "metadata": {
        "colab": {
          "base_uri": "https://localhost:8080/"
        },
        "id": "C180Y3XTONvG",
        "outputId": "90bbe271-cfa6-432e-d20d-2769bd9c4601"
      },
      "source": [
        "# visualize some random training examples\n",
        "import random\n",
        "random_index = random.randint(0, len(train_df)-5)\n",
        "for row in train_df_shuffled[['text', 'target']][random_index:random_index+5].itertuples():\n",
        "  _, text, target = row\n",
        "  print(f'Target: {target}', \"(real diaster)\" if target >0 else \"(not real diaster)\")\n",
        "  print(f'Text:\\n{text}\\n')\n",
        "  print('---\\n')"
      ],
      "execution_count": 11,
      "outputs": [
        {
          "output_type": "stream",
          "name": "stdout",
          "text": [
            "Target: 0 (not real diaster)\n",
            "Text:\n",
            "I just collapsed in my bed ugh I'm exhausted\n",
            "\n",
            "---\n",
            "\n",
            "Target: 1 (real diaster)\n",
            "Text:\n",
            "US Navy Sidelines 3 Newest Subs - http://t.co/guvTIzyCHE: DefenseNews.comUS Navy Sidelines 3 Newest SubsD... http://t.co/SY2WhXT0K5 #navy\n",
            "\n",
            "---\n",
            "\n",
            "Target: 0 (not real diaster)\n",
            "Text:\n",
            "Nuclear reactor railguns would be a great way to deliver t1000s.\n",
            "\n",
            "---\n",
            "\n",
            "Target: 0 (not real diaster)\n",
            "Text:\n",
            "Russian #ushanka #winter #military fur hat (xl61-62) with soviet badge LINK:\n",
            "http://t.co/74YFQxvAK0 http://t.co/KXrEHVt6hL\n",
            "\n",
            "---\n",
            "\n",
            "Target: 1 (real diaster)\n",
            "Text:\n",
            "#World #News Qld police wrap Billy Gordon investigation: QUEENSLAND Police have wrapped up their investigation...  http://t.co/msgnNDxOeK\n",
            "\n",
            "---\n",
            "\n"
          ]
        }
      ]
    },
    {
      "cell_type": "code",
      "metadata": {
        "id": "tsPzctCNQz2o"
      },
      "source": [
        "from sklearn.model_selection import train_test_split"
      ],
      "execution_count": 12,
      "outputs": []
    },
    {
      "cell_type": "code",
      "metadata": {
        "id": "Fiha9WU8YDiA"
      },
      "source": [
        "train_sentences, val_sentences, train_labels, val_labels = train_test_split(train_df_shuffled['text'].to_numpy(),\n",
        "                                                                            train_df_shuffled['target'].to_numpy(),\n",
        "                                                                            test_size = 0.1,\n",
        "                                                                            random_state = 42)"
      ],
      "execution_count": 13,
      "outputs": []
    },
    {
      "cell_type": "code",
      "metadata": {
        "colab": {
          "base_uri": "https://localhost:8080/"
        },
        "id": "iY9NH_6hYnt5",
        "outputId": "804e8a58-93eb-470f-d5b9-19a94edec003"
      },
      "source": [
        "len(train_sentences), len(train_labels), len(val_sentences), len(val_labels)"
      ],
      "execution_count": 14,
      "outputs": [
        {
          "output_type": "execute_result",
          "data": {
            "text/plain": [
              "(6851, 6851, 762, 762)"
            ]
          },
          "metadata": {},
          "execution_count": 14
        }
      ]
    },
    {
      "cell_type": "code",
      "metadata": {
        "colab": {
          "base_uri": "https://localhost:8080/"
        },
        "id": "u2Bh-BJGYpy-",
        "outputId": "2987185c-e1a9-46fe-b4c6-c2e73aa433e9"
      },
      "source": [
        "# first ten sentences\n",
        "train_sentences[:10], train_labels[:10]"
      ],
      "execution_count": 15,
      "outputs": [
        {
          "output_type": "execute_result",
          "data": {
            "text/plain": [
              "(array(['@mogacola @zamtriossu i screamed after hitting tweet',\n",
              "        'Imagine getting flattened by Kurt Zouma',\n",
              "        '@Gurmeetramrahim #MSGDoing111WelfareWorks Green S welfare force ke appx 65000 members har time disaster victim ki help ke liye tyar hai....',\n",
              "        \"@shakjn @C7 @Magnums im shaking in fear he's gonna hack the planet\",\n",
              "        'Somehow find you and I collide http://t.co/Ee8RpOahPk',\n",
              "        '@EvaHanderek @MarleyKnysh great times until the bus driver held us hostage in the mall parking lot lmfao',\n",
              "        'destroy the free fandom honestly',\n",
              "        'Weapons stolen from National Guard Armory in New Albany still missing #Gunsense http://t.co/lKNU8902JE',\n",
              "        '@wfaaweather Pete when will the heat wave pass? Is it really going to be mid month? Frisco Boy Scouts have a canoe trip in Okla.',\n",
              "        'Patient-reported outcomes in long-term survivors of metastatic colorectal cancer - British Journal of Surgery http://t.co/5Yl4DC1Tqt'],\n",
              "       dtype=object), array([0, 0, 1, 0, 0, 1, 1, 0, 1, 1]))"
            ]
          },
          "metadata": {},
          "execution_count": 15
        }
      ]
    },
    {
      "cell_type": "code",
      "metadata": {
        "id": "xmivd-HOZD9M"
      },
      "source": [
        "# Convert text into numbers\n",
        "import tensorflow as tf\n",
        "from tensorflow.keras.layers import TextVectorization"
      ],
      "execution_count": 16,
      "outputs": []
    },
    {
      "cell_type": "code",
      "metadata": {
        "id": "j8FByM2lAdWe"
      },
      "source": [
        "text_vectorizer = TextVectorization(max_tokens=None,\n",
        "                                    standardize = \"lower_and_strip_punctuation\",\n",
        "                                    split = 'whitespace',\n",
        "                                    ngrams = None,\n",
        "                                    output_mode = \"int\",\n",
        "                                    output_sequence_length=None,\n",
        "                                    pad_to_max_tokens = False)"
      ],
      "execution_count": 17,
      "outputs": []
    },
    {
      "cell_type": "code",
      "metadata": {
        "colab": {
          "base_uri": "https://localhost:8080/"
        },
        "id": "z5OTUU3zAjYT",
        "outputId": "9576bb82-13d7-4744-f565-85e57149274b"
      },
      "source": [
        "# Find the average number of tokens in the training tweets\n",
        "round(sum([len(i.split()) for i in train_sentences])/len(train_sentences))"
      ],
      "execution_count": 18,
      "outputs": [
        {
          "output_type": "execute_result",
          "data": {
            "text/plain": [
              "15"
            ]
          },
          "metadata": {},
          "execution_count": 18
        }
      ]
    },
    {
      "cell_type": "code",
      "metadata": {
        "id": "aAYgCRwKEhSZ"
      },
      "source": [
        "# Setup text vectorization variables\n",
        "max_vocab_length = 10000\n",
        "max_length = 15\n",
        "\n",
        "text_vectorizer = TextVectorization(max_tokens=max_vocab_length,\n",
        "                                    output_mode = 'int',\n",
        "                                    output_sequence_length=max_length)"
      ],
      "execution_count": 19,
      "outputs": []
    },
    {
      "cell_type": "code",
      "metadata": {
        "id": "BSnoFLo7FHCe"
      },
      "source": [
        "# Fit the text vectorizer to the training set\n",
        "text_vectorizer.adapt(train_sentences)"
      ],
      "execution_count": 20,
      "outputs": []
    },
    {
      "cell_type": "code",
      "metadata": {
        "colab": {
          "base_uri": "https://localhost:8080/"
        },
        "id": "c_FFHw9QLE1w",
        "outputId": "d5e940c6-f1e5-4fa5-ef42-7fa44fd99fd5"
      },
      "source": [
        "# Create a sample sentence and tokenize it\n",
        "sample_sentence = \"There's a flood in my street!\"\n",
        "text_vectorizer([sample_sentence])"
      ],
      "execution_count": 21,
      "outputs": [
        {
          "output_type": "execute_result",
          "data": {
            "text/plain": [
              "<tf.Tensor: shape=(1, 15), dtype=int64, numpy=\n",
              "array([[264,   3, 232,   4,  13, 698,   0,   0,   0,   0,   0,   0,   0,\n",
              "          0,   0]])>"
            ]
          },
          "metadata": {},
          "execution_count": 21
        }
      ]
    },
    {
      "cell_type": "code",
      "metadata": {
        "colab": {
          "base_uri": "https://localhost:8080/"
        },
        "id": "B6M3IF3bLVZ2",
        "outputId": "5705ae31-f6a4-4f97-99a7-f491956b2005"
      },
      "source": [
        "# random sentece from training set\n",
        "random_sentence = random.choice(train_sentences)\n",
        "print(f'Original text:\\n {random_sentence}\\\n",
        "      \\n\\n Vectorized version:')\n",
        "text_vectorizer([random_sentence])"
      ],
      "execution_count": 22,
      "outputs": [
        {
          "output_type": "stream",
          "name": "stdout",
          "text": [
            "Original text:\n",
            " @BabySweet420 I'm mad 420 in your name &amp; you don't blaze.      \n",
            "\n",
            " Vectorized version:\n"
          ]
        },
        {
          "output_type": "execute_result",
          "data": {
            "text/plain": [
              "<tf.Tensor: shape=(1, 15), dtype=int64, numpy=\n",
              "array([[  1,  32, 942,   1,   4,  33, 735,  35,  12,  63, 749,   0,   0,\n",
              "          0,   0]])>"
            ]
          },
          "metadata": {},
          "execution_count": 22
        }
      ]
    },
    {
      "cell_type": "code",
      "metadata": {
        "colab": {
          "base_uri": "https://localhost:8080/"
        },
        "id": "HFlW0ihPMRb4",
        "outputId": "a1ee7b26-8c86-4b62-fb95-2d8fb01c33ad"
      },
      "source": [
        "# number of unique word in the vocabulary\n",
        "words_in_vocab = text_vectorizer.get_vocabulary()\n",
        "top_5_words = words_in_vocab[:5]\n",
        "bottom_5_words = words_in_vocab[-5:]\n",
        "print(f'Number of words in vocab: {len(words_in_vocab)}')\n",
        "print(f'5 Most common words: {top_5_words}')\n",
        "print(f'5 least common words: {bottom_5_words}')"
      ],
      "execution_count": 23,
      "outputs": [
        {
          "output_type": "stream",
          "name": "stdout",
          "text": [
            "Number of words in vocab: 10000\n",
            "5 Most common words: ['', '[UNK]', 'the', 'a', 'in']\n",
            "5 least common words: ['pages', 'paeds', 'pads', 'padres', 'paddytomlinson1']\n"
          ]
        }
      ]
    },
    {
      "cell_type": "code",
      "metadata": {
        "id": "zGKDp-fjM2Qz"
      },
      "source": [
        "# Create embedding layer\n",
        "from tensorflow.keras import layers\n",
        "embedding = layers.Embedding(input_dim = max_vocab_length,\n",
        "                             output_dim=128,\n",
        "                             input_length = max_length\n",
        "                             )\n"
      ],
      "execution_count": 24,
      "outputs": []
    },
    {
      "cell_type": "code",
      "metadata": {
        "colab": {
          "base_uri": "https://localhost:8080/"
        },
        "id": "cLT4G2ooY3Gn",
        "outputId": "395bb13b-4f60-4465-b976-10aeddf10b21"
      },
      "source": [
        "# Get a random sentence from the taining set\n",
        "random_sentence = random.choice(train_sentences)\n",
        "print(f'Original text: \\n {random_sentence}\\\n",
        "      \\n \\n Embedded version:')\n",
        "\n",
        "# Embed a random sentence\n",
        "sample_embed = embedding(text_vectorizer([random_sentence]))\n",
        "sample_embed"
      ],
      "execution_count": 25,
      "outputs": [
        {
          "output_type": "stream",
          "name": "stdout",
          "text": [
            "Original text: \n",
            " Micom 2015 Summer Contrast Candy Color Bowknot Cross Body Tote Shoulder Bags for Womengirls with Micom Zip Po http://t.co/sQMTKKJiMJ      \n",
            " \n",
            " Embedded version:\n"
          ]
        },
        {
          "output_type": "execute_result",
          "data": {
            "text/plain": [
              "<tf.Tensor: shape=(1, 15, 128), dtype=float32, numpy=\n",
              "array([[[-0.01903695, -0.01161213,  0.00608771, ..., -0.03312021,\n",
              "          0.04975914, -0.03074349],\n",
              "        [ 0.002591  ,  0.02098775,  0.0319727 , ..., -0.01221076,\n",
              "          0.01531209,  0.04174173],\n",
              "        [ 0.04276116,  0.0265025 ,  0.04668114, ...,  0.00769026,\n",
              "          0.03456128,  0.04704257],\n",
              "        ...,\n",
              "        [-0.04089712, -0.04399662, -0.04070786, ...,  0.02465205,\n",
              "         -0.0343545 , -0.0115487 ],\n",
              "        [-0.0220811 , -0.02680372,  0.01468242, ...,  0.02761325,\n",
              "         -0.04141921, -0.01722528],\n",
              "        [ 0.03227765,  0.00489802,  0.03134326, ..., -0.0315999 ,\n",
              "         -0.01090459, -0.0398368 ]]], dtype=float32)>"
            ]
          },
          "metadata": {},
          "execution_count": 25
        }
      ]
    },
    {
      "cell_type": "code",
      "metadata": {
        "colab": {
          "base_uri": "https://localhost:8080/"
        },
        "id": "GoY5M5PhZb0c",
        "outputId": "d762d931-ca6d-4464-8b6f-3b12b3fd1692"
      },
      "source": [
        "# single token's embedding\n",
        "sample_embed[0][0], sample_embed[0][0].shape, random_sentence"
      ],
      "execution_count": 26,
      "outputs": [
        {
          "output_type": "execute_result",
          "data": {
            "text/plain": [
              "(<tf.Tensor: shape=(128,), dtype=float32, numpy=\n",
              " array([-0.01903695, -0.01161213,  0.00608771,  0.01744797,  0.00083534,\n",
              "        -0.00267769, -0.00678248,  0.02209315,  0.03798189,  0.03599271,\n",
              "        -0.00293721,  0.02305632, -0.00978351, -0.02220939, -0.00500274,\n",
              "        -0.04456649, -0.03200245,  0.00646915,  0.04486578,  0.01987005,\n",
              "        -0.04207226,  0.01966241, -0.0037348 ,  0.00283623,  0.02139255,\n",
              "        -0.0380748 ,  0.02955062,  0.04603736,  0.04650393, -0.03132568,\n",
              "        -0.039582  , -0.00255871,  0.01754444, -0.02823217,  0.04902979,\n",
              "         0.00180085,  0.02127345,  0.04564751, -0.01971078,  0.01144988,\n",
              "        -0.03670366,  0.01736697,  0.00052469,  0.00453528, -0.01762826,\n",
              "        -0.02019324, -0.04032677,  0.03185601, -0.03832394, -0.01147114,\n",
              "        -0.04899549,  0.01984357,  0.01831912,  0.01657324,  0.03009688,\n",
              "         0.01606965, -0.02097012, -0.01314334, -0.00752567, -0.02179955,\n",
              "         0.00181774, -0.02823379, -0.02853388, -0.03562421, -0.01010022,\n",
              "        -0.0245872 ,  0.02904132,  0.01611755, -0.00352476,  0.03912726,\n",
              "        -0.0472444 , -0.03509691,  0.02632378,  0.04328939,  0.04162881,\n",
              "        -0.02537431,  0.01731528, -0.0455596 , -0.03170288,  0.03732612,\n",
              "         0.04415699, -0.04409636, -0.02853235,  0.04602322,  0.02464398,\n",
              "         0.01129143,  0.03966888, -0.02819224,  0.0101152 , -0.01834987,\n",
              "        -0.04257137, -0.00329306, -0.01289887, -0.04665325,  0.02634325,\n",
              "        -0.04170015, -0.03471476,  0.01857746,  0.03751303, -0.01437038,\n",
              "        -0.0072975 ,  0.03310886,  0.00546967, -0.04970303, -0.03894384,\n",
              "         0.04659191, -0.02905765, -0.00652021,  0.03305555,  0.04554177,\n",
              "         0.01181389, -0.0093201 ,  0.04634685,  0.01944328, -0.04112937,\n",
              "        -0.03088833,  0.03228388, -0.01902131,  0.04080744, -0.02893226,\n",
              "        -0.00727021, -0.0123987 ,  0.02012965, -0.02052705,  0.01481248,\n",
              "        -0.03312021,  0.04975914, -0.03074349], dtype=float32)>,\n",
              " TensorShape([128]),\n",
              " 'Micom 2015 Summer Contrast Candy Color Bowknot Cross Body Tote Shoulder Bags for Womengirls with Micom Zip Po http://t.co/sQMTKKJiMJ')"
            ]
          },
          "metadata": {},
          "execution_count": 26
        }
      ]
    },
    {
      "cell_type": "code",
      "metadata": {
        "id": "VOu6_DNCZ67-",
        "colab": {
          "base_uri": "https://localhost:8080/"
        },
        "outputId": "13d4ca91-9936-4b6b-9366-fe65f8d78e7f"
      },
      "source": [
        "# Model 0 (Baseline model)\n",
        "from sklearn.feature_extraction.text import TfidfVectorizer\n",
        "from sklearn.naive_bayes import MultinomialNB\n",
        "from sklearn.pipeline import Pipeline\n",
        "\n",
        "# Create tokenization and modelling pipeline\n",
        "model_0 = Pipeline([\n",
        "                    (\"tfidf\", TfidfVectorizer()),\n",
        "                    (\"clf\", MultinomialNB()),\n",
        "])\n",
        "\n",
        "# Fit pipeline to the training data\n",
        "model_0.fit(train_sentences, train_labels)"
      ],
      "execution_count": 27,
      "outputs": [
        {
          "output_type": "execute_result",
          "data": {
            "text/plain": [
              "Pipeline(steps=[('tfidf', TfidfVectorizer()), ('clf', MultinomialNB())])"
            ]
          },
          "metadata": {},
          "execution_count": 27
        }
      ]
    },
    {
      "cell_type": "code",
      "metadata": {
        "colab": {
          "base_uri": "https://localhost:8080/"
        },
        "id": "N58ZhdZcKkuc",
        "outputId": "d9bce550-7b71-454c-dcc1-29c1c3ccd8a5"
      },
      "source": [
        "# Evaluate model\n",
        "baseline_score = model_0.score(val_sentences, val_labels)\n",
        "print(f'Baseline model has accuracy of: {baseline_score*100:2f}%')"
      ],
      "execution_count": 28,
      "outputs": [
        {
          "output_type": "stream",
          "name": "stdout",
          "text": [
            "Baseline model has accuracy of: 79.265092%\n"
          ]
        }
      ]
    },
    {
      "cell_type": "code",
      "metadata": {
        "id": "vuq2xwkcL8HA"
      },
      "source": [
        "# Make predictions\n",
        "baseline_preds = model_0.predict(val_sentences)"
      ],
      "execution_count": 29,
      "outputs": []
    },
    {
      "cell_type": "code",
      "metadata": {
        "colab": {
          "base_uri": "https://localhost:8080/"
        },
        "id": "76xg8Ik3MIzz",
        "outputId": "7c144cf8-a6f4-424a-9768-251e1fed8c9a"
      },
      "source": [
        "baseline_preds[:10]"
      ],
      "execution_count": 30,
      "outputs": [
        {
          "output_type": "execute_result",
          "data": {
            "text/plain": [
              "array([1, 1, 1, 0, 0, 1, 1, 1, 1, 0])"
            ]
          },
          "metadata": {},
          "execution_count": 30
        }
      ]
    },
    {
      "cell_type": "code",
      "metadata": {
        "id": "7eZb31PoMNfF"
      },
      "source": [
        "# create an evaluation function for modelling experiments\n",
        "from sklearn.metrics import accuracy_score, precision_recall_fscore_support\n",
        "\n",
        "def calculate_results(y_true, y_pred):\n",
        "\n",
        "  \"\"\"\n",
        "  Calculates model accuracy, precision, recall and f1-score for binary classification model.\n",
        "\n",
        "  \"\"\"\n",
        "  # Calculate model accuracy\n",
        "  model_accuracy = accuracy_score(y_true, y_pred)*100\n",
        "\n",
        "  # Calculate model precision, recall and f1-score using wieghted average\n",
        "  model_precision, model_recall, model_f1, _ = precision_recall_fscore_support(y_true, y_pred, average='weighted')\n",
        "  model_results = {\"accuracy\": model_accuracy,\n",
        "                   \"precision\": model_precision,\n",
        "                   \"recall\": model_recall,\n",
        "                   \"f1\": model_f1}\n",
        "  return model_results"
      ],
      "execution_count": 31,
      "outputs": []
    },
    {
      "cell_type": "code",
      "metadata": {
        "colab": {
          "base_uri": "https://localhost:8080/"
        },
        "id": "0j-qWBNqYHBT",
        "outputId": "b75ae308-5261-458e-f083-598079f588c8"
      },
      "source": [
        "baseline_results = calculate_results(y_true=val_labels,\n",
        "                                     y_pred = baseline_preds)\n",
        "\n",
        "baseline_results"
      ],
      "execution_count": 32,
      "outputs": [
        {
          "output_type": "execute_result",
          "data": {
            "text/plain": [
              "{'accuracy': 79.26509186351706,\n",
              " 'f1': 0.7862189758049549,\n",
              " 'precision': 0.8111390004213173,\n",
              " 'recall': 0.7926509186351706}"
            ]
          },
          "metadata": {},
          "execution_count": 32
        }
      ]
    },
    {
      "cell_type": "code",
      "metadata": {
        "id": "pSo6pxr2YVc4"
      },
      "source": [
        "# Model_1: A simple dense model\n",
        "# Create a tensorboard callback\n",
        "from helper_functions import create_tensorboard_callback\n",
        "\n",
        "# Ctreate a directory to save a TensorBoard logs\n",
        "SAVE_DIR = \"model_logs\""
      ],
      "execution_count": 33,
      "outputs": []
    },
    {
      "cell_type": "code",
      "metadata": {
        "id": "Q-ivPRTZZp2k"
      },
      "source": [
        "# Build model with the Functional API\n",
        "from tensorflow.keras import layers\n",
        "inputs = layers.Input(shape=(1,), dtype=\"string\") # inputs are 1-dimensional strings\n",
        "x = text_vectorizer(inputs) # turn the input text into numbers\n",
        "x = embedding(x) # create an embedding of the numerized numbers\n",
        "x = layers.GlobalAveragePooling1D()(x) # lower the dimensionality of the embedding \n",
        "outputs = layers.Dense(1, activation=\"sigmoid\")(x) # create the output layer, want binary outputs so use sigmoid activation\n",
        "model_1 = tf.keras.Model(inputs, outputs, name=\"model_1_dense\") # construct the model"
      ],
      "execution_count": 34,
      "outputs": []
    },
    {
      "cell_type": "code",
      "metadata": {
        "colab": {
          "base_uri": "https://localhost:8080/"
        },
        "id": "xYfGa2vBeCQW",
        "outputId": "fe0cc43a-7291-4123-c179-249bc39ca4e5"
      },
      "source": [
        "model_1.summary()"
      ],
      "execution_count": 35,
      "outputs": [
        {
          "output_type": "stream",
          "name": "stdout",
          "text": [
            "Model: \"model_1_dense\"\n",
            "_________________________________________________________________\n",
            " Layer (type)                Output Shape              Param #   \n",
            "=================================================================\n",
            " input_1 (InputLayer)        [(None, 1)]               0         \n",
            "                                                                 \n",
            " text_vectorization_1 (TextV  (None, 15)               0         \n",
            " ectorization)                                                   \n",
            "                                                                 \n",
            " embedding (Embedding)       (None, 15, 128)           1280000   \n",
            "                                                                 \n",
            " global_average_pooling1d (G  (None, 128)              0         \n",
            " lobalAveragePooling1D)                                          \n",
            "                                                                 \n",
            " dense (Dense)               (None, 1)                 129       \n",
            "                                                                 \n",
            "=================================================================\n",
            "Total params: 1,280,129\n",
            "Trainable params: 1,280,129\n",
            "Non-trainable params: 0\n",
            "_________________________________________________________________\n"
          ]
        }
      ]
    },
    {
      "cell_type": "code",
      "metadata": {
        "id": "dlZw1L0neFnt"
      },
      "source": [
        "# Compile model\n",
        "model_1.compile(loss = 'binary_crossentropy',\n",
        "                optimizer = tf.keras.optimizers.Adam(),\n",
        "                metrics=['accuracy'])"
      ],
      "execution_count": 36,
      "outputs": []
    },
    {
      "cell_type": "code",
      "metadata": {
        "colab": {
          "base_uri": "https://localhost:8080/"
        },
        "id": "0L9OLZGJednb",
        "outputId": "056b42ef-88d5-4aee-cbb0-e93d31edd7d9"
      },
      "source": [
        "# Fit the model\n",
        "model_1_history = model_1.fit(train_sentences, # input sentences can be a list of strings due to text preprocessing layer built-in model\n",
        "                              train_labels,\n",
        "                              epochs=5,\n",
        "                              validation_data=(val_sentences, val_labels),\n",
        "                              callbacks=[create_tensorboard_callback(dir_name=SAVE_DIR, \n",
        "                                                                     experiment_name=\"simple_dense_model\")])"
      ],
      "execution_count": 37,
      "outputs": [
        {
          "output_type": "stream",
          "name": "stdout",
          "text": [
            "Saving TensorBoard log files to: model_logs/simple_dense_model/20211119-221226\n",
            "Epoch 1/5\n",
            "215/215 [==============================] - 4s 16ms/step - loss: 0.6147 - accuracy: 0.6852 - val_loss: 0.5390 - val_accuracy: 0.7546\n",
            "Epoch 2/5\n",
            "215/215 [==============================] - 3s 14ms/step - loss: 0.4444 - accuracy: 0.8178 - val_loss: 0.4741 - val_accuracy: 0.7861\n",
            "Epoch 3/5\n",
            "215/215 [==============================] - 3s 14ms/step - loss: 0.3476 - accuracy: 0.8621 - val_loss: 0.4597 - val_accuracy: 0.7887\n",
            "Epoch 4/5\n",
            "215/215 [==============================] - 3s 13ms/step - loss: 0.2857 - accuracy: 0.8902 - val_loss: 0.4626 - val_accuracy: 0.7887\n",
            "Epoch 5/5\n",
            "215/215 [==============================] - 3s 13ms/step - loss: 0.2390 - accuracy: 0.9102 - val_loss: 0.4800 - val_accuracy: 0.7756\n"
          ]
        }
      ]
    },
    {
      "cell_type": "code",
      "metadata": {
        "colab": {
          "base_uri": "https://localhost:8080/"
        },
        "id": "Apt4wPgSe3qU",
        "outputId": "4f2b46f2-3949-412b-de08-0e1d01059839"
      },
      "source": [
        "model_1.evaluate(val_sentences, val_labels)"
      ],
      "execution_count": 38,
      "outputs": [
        {
          "output_type": "stream",
          "name": "stdout",
          "text": [
            "24/24 [==============================] - 0s 2ms/step - loss: 0.4800 - accuracy: 0.7756\n"
          ]
        },
        {
          "output_type": "execute_result",
          "data": {
            "text/plain": [
              "[0.4800243079662323, 0.7755905389785767]"
            ]
          },
          "metadata": {},
          "execution_count": 38
        }
      ]
    },
    {
      "cell_type": "code",
      "metadata": {
        "id": "frIJmhaUgGhr"
      },
      "source": [
        "model_1_pred_probs = model_1.predict(val_sentences)"
      ],
      "execution_count": 39,
      "outputs": []
    },
    {
      "cell_type": "code",
      "metadata": {
        "colab": {
          "base_uri": "https://localhost:8080/"
        },
        "id": "flhO_04ogNHa",
        "outputId": "afbd16b8-d5dd-4348-effd-b1f3e163513d"
      },
      "source": [
        "model_1_pred_probs[0]"
      ],
      "execution_count": 40,
      "outputs": [
        {
          "output_type": "execute_result",
          "data": {
            "text/plain": [
              "array([0.3962436], dtype=float32)"
            ]
          },
          "metadata": {},
          "execution_count": 40
        }
      ]
    },
    {
      "cell_type": "code",
      "metadata": {
        "colab": {
          "base_uri": "https://localhost:8080/"
        },
        "id": "HerA1PxNgUsp",
        "outputId": "a2f57096-6b06-4f79-d54f-c1d3bcc95925"
      },
      "source": [
        "# Convert model predictions probabilities to labels\n",
        "model_1_preds = tf.squeeze(tf.round(model_1_pred_probs))\n",
        "model_1_preds[:20]"
      ],
      "execution_count": 41,
      "outputs": [
        {
          "output_type": "execute_result",
          "data": {
            "text/plain": [
              "<tf.Tensor: shape=(20,), dtype=float32, numpy=\n",
              "array([0., 1., 1., 0., 0., 1., 1., 1., 1., 0., 0., 1., 0., 0., 0., 0., 0.,\n",
              "       0., 0., 1.], dtype=float32)>"
            ]
          },
          "metadata": {},
          "execution_count": 41
        }
      ]
    },
    {
      "cell_type": "code",
      "metadata": {
        "colab": {
          "base_uri": "https://localhost:8080/"
        },
        "id": "4kCtSoCwiDhW",
        "outputId": "3b8aee36-6d40-4e82-e9a9-e529afc7c001"
      },
      "source": [
        "model_1_results = calculate_results(y_true=val_labels,\n",
        "                                    y_pred = model_1_preds)\n",
        "\n",
        "model_1_results"
      ],
      "execution_count": 42,
      "outputs": [
        {
          "output_type": "execute_result",
          "data": {
            "text/plain": [
              "{'accuracy': 77.55905511811024,\n",
              " 'f1': 0.7725109164504043,\n",
              " 'precision': 0.7797991425654591,\n",
              " 'recall': 0.7755905511811023}"
            ]
          },
          "metadata": {},
          "execution_count": 42
        }
      ]
    },
    {
      "cell_type": "code",
      "metadata": {
        "colab": {
          "base_uri": "https://localhost:8080/"
        },
        "id": "NG3-K8m5iSxu",
        "outputId": "af4ce951-8e52-47e2-9b26-e101398182ce"
      },
      "source": [
        "baseline_results"
      ],
      "execution_count": 43,
      "outputs": [
        {
          "output_type": "execute_result",
          "data": {
            "text/plain": [
              "{'accuracy': 79.26509186351706,\n",
              " 'f1': 0.7862189758049549,\n",
              " 'precision': 0.8111390004213173,\n",
              " 'recall': 0.7926509186351706}"
            ]
          },
          "metadata": {},
          "execution_count": 43
        }
      ]
    },
    {
      "cell_type": "code",
      "metadata": {
        "colab": {
          "base_uri": "https://localhost:8080/"
        },
        "id": "3jw3KQRyiYFy",
        "outputId": "a90928d0-e7af-4b30-e5b6-317e7ee4d1b7"
      },
      "source": [
        "import numpy as np\n",
        "np.array(list(model_1_results.values())) > np.array(list(baseline_results.values()))"
      ],
      "execution_count": 44,
      "outputs": [
        {
          "output_type": "execute_result",
          "data": {
            "text/plain": [
              "array([False, False, False, False])"
            ]
          },
          "metadata": {},
          "execution_count": 44
        }
      ]
    },
    {
      "cell_type": "code",
      "metadata": {
        "colab": {
          "base_uri": "https://localhost:8080/"
        },
        "id": "u40Mnw-ainW7",
        "outputId": "160cd2d6-8741-416d-da1e-09ff4b3e825b"
      },
      "source": [
        "# Get the vocabulary from the text vectorization\n",
        "words_in_vocab = text_vectorizer.get_vocabulary()\n",
        "len(words_in_vocab), words_in_vocab[:10]"
      ],
      "execution_count": 45,
      "outputs": [
        {
          "output_type": "execute_result",
          "data": {
            "text/plain": [
              "(10000, ['', '[UNK]', 'the', 'a', 'in', 'to', 'of', 'and', 'i', 'is'])"
            ]
          },
          "metadata": {},
          "execution_count": 45
        }
      ]
    },
    {
      "cell_type": "code",
      "metadata": {
        "colab": {
          "base_uri": "https://localhost:8080/"
        },
        "id": "-uUv33A1muLt",
        "outputId": "c2f7098a-424d-4b1c-b45d-27deb7fd62b2"
      },
      "source": [
        "# Model 1 summary\n",
        "model_1.summary()"
      ],
      "execution_count": 46,
      "outputs": [
        {
          "output_type": "stream",
          "name": "stdout",
          "text": [
            "Model: \"model_1_dense\"\n",
            "_________________________________________________________________\n",
            " Layer (type)                Output Shape              Param #   \n",
            "=================================================================\n",
            " input_1 (InputLayer)        [(None, 1)]               0         \n",
            "                                                                 \n",
            " text_vectorization_1 (TextV  (None, 15)               0         \n",
            " ectorization)                                                   \n",
            "                                                                 \n",
            " embedding (Embedding)       (None, 15, 128)           1280000   \n",
            "                                                                 \n",
            " global_average_pooling1d (G  (None, 128)              0         \n",
            " lobalAveragePooling1D)                                          \n",
            "                                                                 \n",
            " dense (Dense)               (None, 1)                 129       \n",
            "                                                                 \n",
            "=================================================================\n",
            "Total params: 1,280,129\n",
            "Trainable params: 1,280,129\n",
            "Non-trainable params: 0\n",
            "_________________________________________________________________\n"
          ]
        }
      ]
    },
    {
      "cell_type": "code",
      "metadata": {
        "colab": {
          "base_uri": "https://localhost:8080/"
        },
        "id": "xlMteiEjm81R",
        "outputId": "9cf947ee-2320-434c-e8c9-3b1f359c9ba3"
      },
      "source": [
        "# Get the weight matrix of embedding layer \n",
        "# (these are the numerical patterns between the text in the training dataset the model has learned)\n",
        "embed_weights = model_1.get_layer(\"embedding\").get_weights()[0]\n",
        "print(embed_weights.shape) # same size as vocab size and embedding_dim (each word is a embedding_dim size vector)"
      ],
      "execution_count": 48,
      "outputs": [
        {
          "output_type": "stream",
          "name": "stdout",
          "text": [
            "(10000, 128)\n"
          ]
        }
      ]
    },
    {
      "cell_type": "code",
      "metadata": {
        "colab": {
          "base_uri": "https://localhost:8080/"
        },
        "id": "vwKA9BtpnVro",
        "outputId": "47ecfade-23d0-48ac-cb46-9933b4a588d3"
      },
      "source": [
        "print(embed_weights[0].shape)"
      ],
      "execution_count": 49,
      "outputs": [
        {
          "output_type": "stream",
          "name": "stdout",
          "text": [
            "(128,)\n"
          ]
        }
      ]
    },
    {
      "cell_type": "code",
      "metadata": {
        "id": "wawMtkHwuJJq"
      },
      "source": [
        "# Create embedding files\n",
        "import io\n",
        "out_v = io.open('vectors.tsv', 'w', encoding='utf-8')\n",
        "out_m = io.open('metadata.tsv', 'w', encoding='utf-8')\n",
        "\n",
        "for index, word in enumerate(words_in_vocab):\n",
        "  if index == 0:\n",
        "    continue  # skip 0, it's padding.\n",
        "  vec = embed_weights[index]\n",
        "  out_v.write('\\t'.join([str(x) for x in vec]) + \"\\n\")\n",
        "  out_m.write(word + \"\\n\")\n",
        "out_v.close()\n",
        "out_m.close()"
      ],
      "execution_count": 50,
      "outputs": []
    },
    {
      "cell_type": "code",
      "metadata": {
        "id": "QUkOEnIFvmt3"
      },
      "source": [
        "#try:\n",
        "# from google.colab import files\n",
        "#  files.download('vectors.tsv')\n",
        "#  files.download('metadata.tsv')\n",
        "#except Exception:\n",
        "#  pass"
      ],
      "execution_count": 51,
      "outputs": []
    },
    {
      "cell_type": "code",
      "metadata": {
        "id": "733PYXjav42b"
      },
      "source": [
        "# Create an LSTM model\n",
        "from tensorflow.keras import layers\n",
        "\n",
        "input = layers.Input(shape=(1,), dtype='string')\n",
        "x = text_vectorizer(inputs)\n",
        "x = embedding(x)\n",
        "#print(x.shape)\n",
        "#x = layers.LSTM(64, return_sequences=True)(x) # for stacking lSTMs\n",
        "#print(x.shape)\n",
        "x = layers.LSTM(64)(x)\n",
        "#print(x.shape)\n",
        "#x = layers.Dense(64, activation='relu')(x)\n",
        "outputs = layers.Dense(1, activation='sigmoid')(x)\n",
        "model_2 = tf.keras.Model(inputs, outputs, name='model_2_LSTM')"
      ],
      "execution_count": 52,
      "outputs": []
    },
    {
      "cell_type": "code",
      "metadata": {
        "colab": {
          "base_uri": "https://localhost:8080/"
        },
        "id": "Zq4RrPYKF0dZ",
        "outputId": "87a84554-a120-4670-83ea-26a32cc43bc3"
      },
      "source": [
        "model_2.summary()"
      ],
      "execution_count": 53,
      "outputs": [
        {
          "output_type": "stream",
          "name": "stdout",
          "text": [
            "Model: \"model_2_LSTM\"\n",
            "_________________________________________________________________\n",
            " Layer (type)                Output Shape              Param #   \n",
            "=================================================================\n",
            " input_1 (InputLayer)        [(None, 1)]               0         \n",
            "                                                                 \n",
            " text_vectorization_1 (TextV  (None, 15)               0         \n",
            " ectorization)                                                   \n",
            "                                                                 \n",
            " embedding (Embedding)       (None, 15, 128)           1280000   \n",
            "                                                                 \n",
            " lstm (LSTM)                 (None, 64)                49408     \n",
            "                                                                 \n",
            " dense_1 (Dense)             (None, 1)                 65        \n",
            "                                                                 \n",
            "=================================================================\n",
            "Total params: 1,329,473\n",
            "Trainable params: 1,329,473\n",
            "Non-trainable params: 0\n",
            "_________________________________________________________________\n"
          ]
        }
      ]
    },
    {
      "cell_type": "code",
      "metadata": {
        "id": "fwTya6h1K-s5"
      },
      "source": [
        "# Compile the model\n",
        "model_2.compile(loss = 'binary_crossentropy',\n",
        "                optimizer = 'adam',\n",
        "                metrics = ['accuracy'])"
      ],
      "execution_count": 54,
      "outputs": []
    },
    {
      "cell_type": "code",
      "metadata": {
        "colab": {
          "base_uri": "https://localhost:8080/"
        },
        "id": "DanaxXMoLjUx",
        "outputId": "1fc736b0-6ca2-4b81-8341-2a27dca6de55"
      },
      "source": [
        "# Fit the model\n",
        "model_2_history = model_2.fit(train_sentences,\n",
        "                              train_labels,\n",
        "                              epochs = 5,\n",
        "                              validation_data=(val_sentences, val_labels),\n",
        "                              callbacks = [create_tensorboard_callback(SAVE_DIR,\n",
        "                                                                       'model_2_LSTM')])"
      ],
      "execution_count": 55,
      "outputs": [
        {
          "output_type": "stream",
          "name": "stdout",
          "text": [
            "Saving TensorBoard log files to: model_logs/model_2_LSTM/20211119-221304\n",
            "Epoch 1/5\n",
            "215/215 [==============================] - 9s 29ms/step - loss: 0.2262 - accuracy: 0.9161 - val_loss: 0.5981 - val_accuracy: 0.7808\n",
            "Epoch 2/5\n",
            "215/215 [==============================] - 6s 26ms/step - loss: 0.1565 - accuracy: 0.9413 - val_loss: 0.6264 - val_accuracy: 0.7808\n",
            "Epoch 3/5\n",
            "215/215 [==============================] - 6s 26ms/step - loss: 0.1288 - accuracy: 0.9510 - val_loss: 0.6433 - val_accuracy: 0.7769\n",
            "Epoch 4/5\n",
            "215/215 [==============================] - 6s 26ms/step - loss: 0.1071 - accuracy: 0.9581 - val_loss: 0.6337 - val_accuracy: 0.7730\n",
            "Epoch 5/5\n",
            "215/215 [==============================] - 6s 26ms/step - loss: 0.0862 - accuracy: 0.9676 - val_loss: 0.9822 - val_accuracy: 0.7756\n"
          ]
        }
      ]
    },
    {
      "cell_type": "code",
      "metadata": {
        "colab": {
          "base_uri": "https://localhost:8080/"
        },
        "id": "WHYGZJ7FL794",
        "outputId": "fa9ccac3-4581-4eee-8e36-bb6026279b9e"
      },
      "source": [
        "# Make predictions with the LSTM model\n",
        "model_2_pred_probs = model_2.predict(val_sentences)\n",
        "model_2_pred_probs[:10]"
      ],
      "execution_count": 56,
      "outputs": [
        {
          "output_type": "execute_result",
          "data": {
            "text/plain": [
              "array([[4.8045516e-03],\n",
              "       [7.2051704e-01],\n",
              "       [9.9981827e-01],\n",
              "       [1.5429348e-02],\n",
              "       [7.6025724e-04],\n",
              "       [9.9881345e-01],\n",
              "       [9.8124582e-01],\n",
              "       [9.9985307e-01],\n",
              "       [9.9975646e-01],\n",
              "       [6.0078174e-01]], dtype=float32)"
            ]
          },
          "metadata": {},
          "execution_count": 56
        }
      ]
    },
    {
      "cell_type": "code",
      "metadata": {
        "colab": {
          "base_uri": "https://localhost:8080/"
        },
        "id": "g3ruRNhQMTYS",
        "outputId": "c3adb708-5139-4a8d-85d8-7ef01567c0dd"
      },
      "source": [
        "# Convert prediction probabilities to labels\n",
        "model_2_preds = tf.squeeze(tf.round(model_2_pred_probs))\n",
        "model_2_preds[:10]"
      ],
      "execution_count": 57,
      "outputs": [
        {
          "output_type": "execute_result",
          "data": {
            "text/plain": [
              "<tf.Tensor: shape=(10,), dtype=float32, numpy=array([0., 1., 1., 0., 0., 1., 1., 1., 1., 1.], dtype=float32)>"
            ]
          },
          "metadata": {},
          "execution_count": 57
        }
      ]
    },
    {
      "cell_type": "code",
      "metadata": {
        "colab": {
          "base_uri": "https://localhost:8080/"
        },
        "id": "LGx7lxfUMhq4",
        "outputId": "b42f6b0e-59ef-425a-871c-01ce3e9c42d2"
      },
      "source": [
        "# Calculate model 2 results\n",
        "model_2_results = calculate_results(y_true=val_labels,\n",
        "                                    y_pred = model_2_preds)\n",
        "\n",
        "model_2_results"
      ],
      "execution_count": 58,
      "outputs": [
        {
          "output_type": "execute_result",
          "data": {
            "text/plain": [
              "{'accuracy': 77.55905511811024,\n",
              " 'f1': 0.7743062301518678,\n",
              " 'precision': 0.7759863909628747,\n",
              " 'recall': 0.7755905511811023}"
            ]
          },
          "metadata": {},
          "execution_count": 58
        }
      ]
    },
    {
      "cell_type": "code",
      "metadata": {
        "colab": {
          "base_uri": "https://localhost:8080/"
        },
        "id": "ecLNvLXXM9Fp",
        "outputId": "a98f5272-2f3a-4a52-9f10-05a01174a2b8"
      },
      "source": [
        "baseline_results"
      ],
      "execution_count": 59,
      "outputs": [
        {
          "output_type": "execute_result",
          "data": {
            "text/plain": [
              "{'accuracy': 79.26509186351706,\n",
              " 'f1': 0.7862189758049549,\n",
              " 'precision': 0.8111390004213173,\n",
              " 'recall': 0.7926509186351706}"
            ]
          },
          "metadata": {},
          "execution_count": 59
        }
      ]
    },
    {
      "cell_type": "code",
      "metadata": {
        "id": "AiaD18wbNAmV"
      },
      "source": [
        "## model 3: GRU (gated recurrent unit)\n",
        "\n",
        "from tensorflow.keras import layers\n",
        "inputs = layers.Input(shape=(1,), dtype=tf.string)\n",
        "x = text_vectorizer(inputs)\n",
        "x = embedding(x)\n",
        "x = layers.GRU(64)(x)\n",
        "#print(x.shape)\n",
        "#x = layers.LSTM(64, return_sequences=True)(x)\n",
        "#print(x.shape)\n",
        "#x = layers.GRU(64)(x)\n",
        "#print(x.shape)\n",
        "#x = layers.Dense(64, activation='relu')(x)\n",
        "#x = layers.GlobalAveragePooling1D()(x)\n",
        "outputs = layers.Dense(1, activation='sigmoid')(x)\n",
        "model_3 = tf.keras.Model(inputs, outputs, name='model_3_GRU')"
      ],
      "execution_count": 60,
      "outputs": []
    },
    {
      "cell_type": "code",
      "metadata": {
        "colab": {
          "base_uri": "https://localhost:8080/"
        },
        "id": "-NrPEuEKPIE4",
        "outputId": "8b75589c-003c-4e8e-d54f-5f324fd192de"
      },
      "source": [
        "model_3.summary()"
      ],
      "execution_count": 61,
      "outputs": [
        {
          "output_type": "stream",
          "name": "stdout",
          "text": [
            "Model: \"model_3_GRU\"\n",
            "_________________________________________________________________\n",
            " Layer (type)                Output Shape              Param #   \n",
            "=================================================================\n",
            " input_3 (InputLayer)        [(None, 1)]               0         \n",
            "                                                                 \n",
            " text_vectorization_1 (TextV  (None, 15)               0         \n",
            " ectorization)                                                   \n",
            "                                                                 \n",
            " embedding (Embedding)       (None, 15, 128)           1280000   \n",
            "                                                                 \n",
            " gru (GRU)                   (None, 64)                37248     \n",
            "                                                                 \n",
            " dense_2 (Dense)             (None, 1)                 65        \n",
            "                                                                 \n",
            "=================================================================\n",
            "Total params: 1,317,313\n",
            "Trainable params: 1,317,313\n",
            "Non-trainable params: 0\n",
            "_________________________________________________________________\n"
          ]
        }
      ]
    },
    {
      "cell_type": "code",
      "metadata": {
        "id": "ZkEduCBUQKS-"
      },
      "source": [
        "model_3.compile(loss='binary_crossentropy',\n",
        "                optimizer = 'adam',\n",
        "                metrics=['accuracy'])"
      ],
      "execution_count": 62,
      "outputs": []
    },
    {
      "cell_type": "code",
      "metadata": {
        "colab": {
          "base_uri": "https://localhost:8080/"
        },
        "id": "QxOFflN-RGXn",
        "outputId": "80f7bf93-1b05-4350-d905-a52a9ff2a599"
      },
      "source": [
        "model_3_history = model_3.fit(train_sentences,\n",
        "                              train_labels,\n",
        "                              epochs=5,\n",
        "                              validation_data=(val_sentences,val_labels),\n",
        "                              callbacks = [create_tensorboard_callback(SAVE_DIR,\n",
        "                                                                       'model_3_GRU')])"
      ],
      "execution_count": 63,
      "outputs": [
        {
          "output_type": "stream",
          "name": "stdout",
          "text": [
            "Saving TensorBoard log files to: model_logs/model_3_GRU/20211119-221336\n",
            "Epoch 1/5\n",
            "215/215 [==============================] - 8s 28ms/step - loss: 0.1558 - accuracy: 0.9394 - val_loss: 0.7113 - val_accuracy: 0.7651\n",
            "Epoch 2/5\n",
            "215/215 [==============================] - 5s 25ms/step - loss: 0.0856 - accuracy: 0.9686 - val_loss: 0.8127 - val_accuracy: 0.7756\n",
            "Epoch 3/5\n",
            "215/215 [==============================] - 6s 26ms/step - loss: 0.0690 - accuracy: 0.9731 - val_loss: 0.8513 - val_accuracy: 0.7703\n",
            "Epoch 4/5\n",
            "215/215 [==============================] - 6s 26ms/step - loss: 0.0592 - accuracy: 0.9761 - val_loss: 1.0928 - val_accuracy: 0.7782\n",
            "Epoch 5/5\n",
            "215/215 [==============================] - 6s 26ms/step - loss: 0.0500 - accuracy: 0.9778 - val_loss: 1.1612 - val_accuracy: 0.7703\n"
          ]
        }
      ]
    },
    {
      "cell_type": "code",
      "metadata": {
        "colab": {
          "base_uri": "https://localhost:8080/"
        },
        "id": "FTy3OjRFRbTt",
        "outputId": "26aa7e8f-ab84-4b70-d661-bae5fe47d80d"
      },
      "source": [
        "model_3_pred_probs = model_3.predict(val_sentences)\n",
        "model_3_pred_probs[:10]"
      ],
      "execution_count": 64,
      "outputs": [
        {
          "output_type": "execute_result",
          "data": {
            "text/plain": [
              "array([[1.20712310e-01],\n",
              "       [7.90693760e-01],\n",
              "       [9.99902427e-01],\n",
              "       [1.18103415e-01],\n",
              "       [1.18792341e-04],\n",
              "       [9.99479771e-01],\n",
              "       [8.57475162e-01],\n",
              "       [9.99948740e-01],\n",
              "       [9.99902606e-01],\n",
              "       [8.17297697e-01]], dtype=float32)"
            ]
          },
          "metadata": {},
          "execution_count": 64
        }
      ]
    },
    {
      "cell_type": "code",
      "metadata": {
        "colab": {
          "base_uri": "https://localhost:8080/"
        },
        "id": "g2UJqyTlRqDl",
        "outputId": "1548ab9b-107c-4cce-98ca-7662dc1d3104"
      },
      "source": [
        "model_3_preds = tf.squeeze(tf.round(model_3_pred_probs))\n",
        "model_3_pred_probs[:10]"
      ],
      "execution_count": 65,
      "outputs": [
        {
          "output_type": "execute_result",
          "data": {
            "text/plain": [
              "array([[1.20712310e-01],\n",
              "       [7.90693760e-01],\n",
              "       [9.99902427e-01],\n",
              "       [1.18103415e-01],\n",
              "       [1.18792341e-04],\n",
              "       [9.99479771e-01],\n",
              "       [8.57475162e-01],\n",
              "       [9.99948740e-01],\n",
              "       [9.99902606e-01],\n",
              "       [8.17297697e-01]], dtype=float32)"
            ]
          },
          "metadata": {},
          "execution_count": 65
        }
      ]
    },
    {
      "cell_type": "code",
      "metadata": {
        "colab": {
          "base_uri": "https://localhost:8080/"
        },
        "id": "Yi1uVfxaR2bW",
        "outputId": "fe557a12-035f-4193-ae51-5a30b1c34f5d"
      },
      "source": [
        "model_3_results = calculate_results(y_true=val_labels,\n",
        "                                    y_pred=model_3_preds)\n",
        "\n",
        "\n",
        "model_3_results"
      ],
      "execution_count": 66,
      "outputs": [
        {
          "output_type": "execute_result",
          "data": {
            "text/plain": [
              "{'accuracy': 77.03412073490814,\n",
              " 'f1': 0.7696090403305004,\n",
              " 'precision': 0.7700604729059295,\n",
              " 'recall': 0.7703412073490814}"
            ]
          },
          "metadata": {},
          "execution_count": 66
        }
      ]
    },
    {
      "cell_type": "code",
      "metadata": {
        "id": "GxC9nniVSCQV"
      },
      "source": [
        "## Model 4: Bidirectional RNN\n",
        "from tensorflow.keras import layers\n",
        "inputs = layers.Input(shape=(1,), dtype='string')\n",
        "x = text_vectorizer(inputs)\n",
        "x = embedding(x)\n",
        "x = layers.Bidirectional(layers.LSTM(64))(x)\n",
        "#x = layers.Bidirectional(layers.GRU(64))(x)\n",
        "outputs = layers.Dense(1, activation='sigmoid')(x)\n",
        "model_4 = tf.keras.Model(inputs, outputs, name = 'model_4_bidirectional')"
      ],
      "execution_count": 67,
      "outputs": []
    },
    {
      "cell_type": "code",
      "metadata": {
        "colab": {
          "base_uri": "https://localhost:8080/"
        },
        "id": "y-z_bjVgoqJZ",
        "outputId": "f8f4137d-ef60-4ee9-c1b5-2e4d533b2856"
      },
      "source": [
        "model_4.summary()"
      ],
      "execution_count": 68,
      "outputs": [
        {
          "output_type": "stream",
          "name": "stdout",
          "text": [
            "Model: \"model_4_bidirectional\"\n",
            "_________________________________________________________________\n",
            " Layer (type)                Output Shape              Param #   \n",
            "=================================================================\n",
            " input_4 (InputLayer)        [(None, 1)]               0         \n",
            "                                                                 \n",
            " text_vectorization_1 (TextV  (None, 15)               0         \n",
            " ectorization)                                                   \n",
            "                                                                 \n",
            " embedding (Embedding)       (None, 15, 128)           1280000   \n",
            "                                                                 \n",
            " bidirectional (Bidirectiona  (None, 128)              98816     \n",
            " l)                                                              \n",
            "                                                                 \n",
            " dense_3 (Dense)             (None, 1)                 129       \n",
            "                                                                 \n",
            "=================================================================\n",
            "Total params: 1,378,945\n",
            "Trainable params: 1,378,945\n",
            "Non-trainable params: 0\n",
            "_________________________________________________________________\n"
          ]
        }
      ]
    },
    {
      "cell_type": "code",
      "metadata": {
        "id": "UUmGPj8HorzH"
      },
      "source": [
        "# Compile the model\n",
        "model_4.compile(loss='binary_crossentropy',\n",
        "                optimizer = 'adam',\n",
        "                metrics = ['accuracy'])"
      ],
      "execution_count": 69,
      "outputs": []
    },
    {
      "cell_type": "code",
      "metadata": {
        "colab": {
          "base_uri": "https://localhost:8080/"
        },
        "id": "9mlU2nN5pzpg",
        "outputId": "823db808-6f3a-40bb-99de-e7613bf36a2b"
      },
      "source": [
        "# Fit the model\n",
        "model_4_history = model_4.fit(train_sentences,\n",
        "                              train_labels,\n",
        "                              epochs=5,\n",
        "                              validation_data=(val_sentences, val_labels),\n",
        "                              callbacks = [create_tensorboard_callback(SAVE_DIR,\n",
        "                                                                       'model_4_bidirectional')])"
      ],
      "execution_count": 70,
      "outputs": [
        {
          "output_type": "stream",
          "name": "stdout",
          "text": [
            "Saving TensorBoard log files to: model_logs/model_4_bidirectional/20211119-221420\n",
            "Epoch 1/5\n",
            "215/215 [==============================] - 13s 41ms/step - loss: 0.1070 - accuracy: 0.9688 - val_loss: 0.8984 - val_accuracy: 0.7638\n",
            "Epoch 2/5\n",
            "215/215 [==============================] - 8s 36ms/step - loss: 0.0485 - accuracy: 0.9790 - val_loss: 1.1509 - val_accuracy: 0.7585\n",
            "Epoch 3/5\n",
            "215/215 [==============================] - 8s 37ms/step - loss: 0.0479 - accuracy: 0.9783 - val_loss: 1.1926 - val_accuracy: 0.7690\n",
            "Epoch 4/5\n",
            "215/215 [==============================] - 8s 36ms/step - loss: 0.0436 - accuracy: 0.9796 - val_loss: 1.2641 - val_accuracy: 0.7651\n",
            "Epoch 5/5\n",
            "215/215 [==============================] - 8s 36ms/step - loss: 0.0383 - accuracy: 0.9816 - val_loss: 1.5507 - val_accuracy: 0.7717\n"
          ]
        }
      ]
    },
    {
      "cell_type": "code",
      "metadata": {
        "colab": {
          "base_uri": "https://localhost:8080/"
        },
        "id": "1Le9707RqKPg",
        "outputId": "6f108aa9-863a-48bd-dd95-53c2a825a3e2"
      },
      "source": [
        "model_4_pred_probs = model_4.predict(val_sentences)\n",
        "model_4_pred_probs[:10]"
      ],
      "execution_count": 71,
      "outputs": [
        {
          "output_type": "execute_result",
          "data": {
            "text/plain": [
              "array([[2.0465255e-04],\n",
              "       [8.0620629e-01],\n",
              "       [9.9998951e-01],\n",
              "       [4.3168306e-02],\n",
              "       [1.4240984e-05],\n",
              "       [9.7939450e-01],\n",
              "       [1.2916058e-02],\n",
              "       [9.9999142e-01],\n",
              "       [9.9998724e-01],\n",
              "       [9.9699759e-01]], dtype=float32)"
            ]
          },
          "metadata": {},
          "execution_count": 71
        }
      ]
    },
    {
      "cell_type": "code",
      "metadata": {
        "colab": {
          "base_uri": "https://localhost:8080/"
        },
        "id": "fSbL46d8qU7J",
        "outputId": "8a71fd86-3047-4a65-976a-5cdd7d9f6534"
      },
      "source": [
        "# Convert pred probs to pred labels\n",
        "model_4_preds = tf.squeeze(tf.round(model_4_pred_probs))\n",
        "model_4_preds[:10]"
      ],
      "execution_count": 72,
      "outputs": [
        {
          "output_type": "execute_result",
          "data": {
            "text/plain": [
              "<tf.Tensor: shape=(10,), dtype=float32, numpy=array([0., 1., 1., 0., 0., 1., 0., 1., 1., 1.], dtype=float32)>"
            ]
          },
          "metadata": {},
          "execution_count": 72
        }
      ]
    },
    {
      "cell_type": "code",
      "metadata": {
        "colab": {
          "base_uri": "https://localhost:8080/"
        },
        "id": "H8LOktmWqlOA",
        "outputId": "55d627ef-11a5-4940-aa9c-b91e4d6b1b64"
      },
      "source": [
        "model_4_results = calculate_results(y_true=val_labels,\n",
        "                                    y_pred = model_4_preds)\n",
        "\n",
        "model_4_results"
      ],
      "execution_count": 73,
      "outputs": [
        {
          "output_type": "execute_result",
          "data": {
            "text/plain": [
              "{'accuracy': 77.16535433070865,\n",
              " 'f1': 0.7685968913498257,\n",
              " 'precision': 0.7755054154623078,\n",
              " 'recall': 0.7716535433070866}"
            ]
          },
          "metadata": {},
          "execution_count": 73
        }
      ]
    },
    {
      "cell_type": "code",
      "metadata": {
        "colab": {
          "base_uri": "https://localhost:8080/"
        },
        "id": "cqS14jXNquup",
        "outputId": "ec4f4e94-12f7-4969-e290-c896eea68993"
      },
      "source": [
        "baseline_results"
      ],
      "execution_count": 74,
      "outputs": [
        {
          "output_type": "execute_result",
          "data": {
            "text/plain": [
              "{'accuracy': 79.26509186351706,\n",
              " 'f1': 0.7862189758049549,\n",
              " 'precision': 0.8111390004213173,\n",
              " 'recall': 0.7926509186351706}"
            ]
          },
          "metadata": {},
          "execution_count": 74
        }
      ]
    },
    {
      "cell_type": "code",
      "metadata": {
        "colab": {
          "base_uri": "https://localhost:8080/"
        },
        "id": "FFD3kJlNqw7Q",
        "outputId": "034ff51f-512e-43d0-fb24-038b9a68c78d"
      },
      "source": [
        "# Test out embedding layer, Conv1D layer and max pooling\n",
        "embedding_test = embedding(text_vectorizer([\"this is a test sentence\"]))\n",
        "conv_1d = layers.Conv1D(filters=32,\n",
        "                        kernel_size=5,\n",
        "                        activation='relu',\n",
        "                        padding=\"valid\")\n",
        "\n",
        "conv_1d_output = conv_1d(embedding_test)\n",
        "max_pool = layers.GlobalMaxPooling1D()\n",
        "max_pool_output = max_pool(conv_1d_output)\n",
        "\n",
        "embedding_test.shape, conv_1d_output.shape, max_pool_output.shape"
      ],
      "execution_count": 75,
      "outputs": [
        {
          "output_type": "execute_result",
          "data": {
            "text/plain": [
              "(TensorShape([1, 15, 128]), TensorShape([1, 11, 32]), TensorShape([1, 32]))"
            ]
          },
          "metadata": {},
          "execution_count": 75
        }
      ]
    },
    {
      "cell_type": "code",
      "metadata": {
        "colab": {
          "base_uri": "https://localhost:8080/"
        },
        "id": "NX6eguKb1KXP",
        "outputId": "519b623b-9af9-41ac-9273-4c863781828a"
      },
      "source": [
        "embedding_test"
      ],
      "execution_count": 76,
      "outputs": [
        {
          "output_type": "execute_result",
          "data": {
            "text/plain": [
              "<tf.Tensor: shape=(1, 15, 128), dtype=float32, numpy=\n",
              "array([[[ 0.0567638 ,  0.00620732,  0.0586348 , ...,  0.02329377,\n",
              "          0.05133513,  0.02865776],\n",
              "        [-0.02867325, -0.022655  , -0.01895995, ...,  0.02158034,\n",
              "          0.04950592,  0.05161981],\n",
              "        [ 0.03267182,  0.04003241, -0.0118691 , ...,  0.0037484 ,\n",
              "          0.04170733,  0.00421341],\n",
              "        ...,\n",
              "        [ 0.03485788, -0.03916227,  0.04025098, ..., -0.01422921,\n",
              "          0.00917294,  0.00254906],\n",
              "        [ 0.03485788, -0.03916227,  0.04025098, ..., -0.01422921,\n",
              "          0.00917294,  0.00254906],\n",
              "        [ 0.03485788, -0.03916227,  0.04025098, ..., -0.01422921,\n",
              "          0.00917294,  0.00254906]]], dtype=float32)>"
            ]
          },
          "metadata": {},
          "execution_count": 76
        }
      ]
    },
    {
      "cell_type": "code",
      "metadata": {
        "colab": {
          "base_uri": "https://localhost:8080/"
        },
        "id": "oXYXfiQ_3FU0",
        "outputId": "23e00f60-7239-48ad-e2eb-4d9d91af262e"
      },
      "source": [
        "conv_1d_output"
      ],
      "execution_count": 77,
      "outputs": [
        {
          "output_type": "execute_result",
          "data": {
            "text/plain": [
              "<tf.Tensor: shape=(1, 11, 32), dtype=float32, numpy=\n",
              "array([[[0.03841533, 0.        , 0.        , 0.        , 0.01076279,\n",
              "         0.05258829, 0.07141263, 0.        , 0.        , 0.        ,\n",
              "         0.        , 0.02508487, 0.        , 0.05835299, 0.06922501,\n",
              "         0.        , 0.        , 0.08665226, 0.        , 0.        ,\n",
              "         0.00590851, 0.03659828, 0.        , 0.04026986, 0.0664205 ,\n",
              "         0.00751897, 0.        , 0.04763882, 0.        , 0.07003564,\n",
              "         0.02085503, 0.00830361],\n",
              "        [0.02967061, 0.        , 0.        , 0.03037643, 0.        ,\n",
              "         0.08793002, 0.01674295, 0.03069116, 0.        , 0.08105101,\n",
              "         0.        , 0.02305288, 0.02485244, 0.02389897, 0.05293202,\n",
              "         0.        , 0.        , 0.03603096, 0.        , 0.00938548,\n",
              "         0.00324193, 0.04961966, 0.03328489, 0.06752726, 0.0119764 ,\n",
              "         0.03745362, 0.        , 0.        , 0.        , 0.0533834 ,\n",
              "         0.00485062, 0.        ],\n",
              "        [0.05926793, 0.        , 0.        , 0.        , 0.        ,\n",
              "         0.        , 0.00667038, 0.        , 0.        , 0.0532794 ,\n",
              "         0.        , 0.02097661, 0.        , 0.02981452, 0.01356841,\n",
              "         0.041524  , 0.        , 0.        , 0.01814499, 0.08857159,\n",
              "         0.07360035, 0.        , 0.04893723, 0.03430821, 0.02381916,\n",
              "         0.02997738, 0.        , 0.        , 0.        , 0.        ,\n",
              "         0.05340582, 0.05029275],\n",
              "        [0.013128  , 0.        , 0.00281722, 0.        , 0.        ,\n",
              "         0.02678296, 0.        , 0.01659016, 0.        , 0.        ,\n",
              "         0.01695955, 0.02885124, 0.        , 0.03703104, 0.        ,\n",
              "         0.02575767, 0.00228295, 0.01020471, 0.        , 0.        ,\n",
              "         0.04966728, 0.        , 0.05919017, 0.        , 0.04194739,\n",
              "         0.        , 0.04883731, 0.        , 0.        , 0.00095479,\n",
              "         0.01318214, 0.        ],\n",
              "        [0.01128178, 0.00652959, 0.01696499, 0.        , 0.        ,\n",
              "         0.        , 0.        , 0.05992464, 0.0250309 , 0.0087428 ,\n",
              "         0.00298447, 0.0319245 , 0.        , 0.06170572, 0.        ,\n",
              "         0.        , 0.        , 0.02953104, 0.        , 0.00502259,\n",
              "         0.01616536, 0.        , 0.04922166, 0.02321771, 0.03580189,\n",
              "         0.        , 0.05268461, 0.        , 0.01488077, 0.02639704,\n",
              "         0.        , 0.        ],\n",
              "        [0.01604247, 0.        , 0.        , 0.01174905, 0.        ,\n",
              "         0.        , 0.03200767, 0.01616685, 0.01500724, 0.02565977,\n",
              "         0.02310207, 0.04361341, 0.00176501, 0.05792148, 0.00347355,\n",
              "         0.01421852, 0.        , 0.0282223 , 0.03023706, 0.00280959,\n",
              "         0.03931576, 0.        , 0.04105578, 0.01748856, 0.02353392,\n",
              "         0.        , 0.02797826, 0.        , 0.        , 0.01197205,\n",
              "         0.        , 0.        ],\n",
              "        [0.01604247, 0.        , 0.        , 0.01174905, 0.        ,\n",
              "         0.        , 0.03200767, 0.01616685, 0.01500724, 0.02565977,\n",
              "         0.02310207, 0.04361341, 0.00176501, 0.05792148, 0.00347355,\n",
              "         0.01421852, 0.        , 0.0282223 , 0.03023706, 0.00280959,\n",
              "         0.03931576, 0.        , 0.04105578, 0.01748856, 0.02353392,\n",
              "         0.        , 0.02797826, 0.        , 0.        , 0.01197205,\n",
              "         0.        , 0.        ],\n",
              "        [0.01604247, 0.        , 0.        , 0.01174905, 0.        ,\n",
              "         0.        , 0.03200767, 0.01616685, 0.01500724, 0.02565977,\n",
              "         0.02310207, 0.04361341, 0.00176501, 0.05792148, 0.00347355,\n",
              "         0.01421852, 0.        , 0.0282223 , 0.03023706, 0.00280959,\n",
              "         0.03931576, 0.        , 0.04105578, 0.01748856, 0.02353392,\n",
              "         0.        , 0.02797826, 0.        , 0.        , 0.01197205,\n",
              "         0.        , 0.        ],\n",
              "        [0.01604247, 0.        , 0.        , 0.01174905, 0.        ,\n",
              "         0.        , 0.03200767, 0.01616685, 0.01500724, 0.02565977,\n",
              "         0.02310207, 0.04361341, 0.00176501, 0.05792148, 0.00347355,\n",
              "         0.01421852, 0.        , 0.0282223 , 0.03023706, 0.00280959,\n",
              "         0.03931576, 0.        , 0.04105578, 0.01748856, 0.02353392,\n",
              "         0.        , 0.02797826, 0.        , 0.        , 0.01197205,\n",
              "         0.        , 0.        ],\n",
              "        [0.01604247, 0.        , 0.        , 0.01174905, 0.        ,\n",
              "         0.        , 0.03200767, 0.01616685, 0.01500724, 0.02565977,\n",
              "         0.02310207, 0.04361341, 0.00176501, 0.05792148, 0.00347355,\n",
              "         0.01421852, 0.        , 0.0282223 , 0.03023706, 0.00280959,\n",
              "         0.03931576, 0.        , 0.04105578, 0.01748856, 0.02353392,\n",
              "         0.        , 0.02797826, 0.        , 0.        , 0.01197205,\n",
              "         0.        , 0.        ],\n",
              "        [0.01604247, 0.        , 0.        , 0.01174905, 0.        ,\n",
              "         0.        , 0.03200767, 0.01616685, 0.01500724, 0.02565977,\n",
              "         0.02310207, 0.04361341, 0.00176501, 0.05792148, 0.00347355,\n",
              "         0.01421852, 0.        , 0.0282223 , 0.03023706, 0.00280959,\n",
              "         0.03931576, 0.        , 0.04105578, 0.01748856, 0.02353392,\n",
              "         0.        , 0.02797826, 0.        , 0.        , 0.01197205,\n",
              "         0.        , 0.        ]]], dtype=float32)>"
            ]
          },
          "metadata": {},
          "execution_count": 77
        }
      ]
    },
    {
      "cell_type": "code",
      "metadata": {
        "id": "Cfp60yg13KEz"
      },
      "source": [
        "# Create a 1D convolution layer to model sequences\n",
        "inputs = layers.Input(shape=(1,), dtype=tf.string)\n",
        "x = text_vectorizer(inputs)\n",
        "x = embedding(x)\n",
        "x = layers.Conv1D(filters=64, kernel_size=5,strides=1 ,activation='relu', padding='valid')(x)\n",
        "x = layers.GlobalMaxPooling1D()(x)\n",
        "# x = layers.Dense(64, activation='relu')(x)\n",
        "outputs = layers.Dense(1, activation='sigmoid')(x)\n",
        "model_5 = tf.keras.Model(inputs, outputs, name = 'model_5_Conv1D')\n",
        "\n",
        "# Complile Conv1D model\n",
        "model_5.compile(loss='binary_crossentropy',\n",
        "                optimizer=tf.keras.optimizers.Adam(),\n",
        "                metrics=['accuracy'])\n"
      ],
      "execution_count": 82,
      "outputs": []
    },
    {
      "cell_type": "code",
      "metadata": {
        "colab": {
          "base_uri": "https://localhost:8080/"
        },
        "id": "o9_KFAPhSMh9",
        "outputId": "1da4b24b-2f22-44c2-d4d7-564b875dd78c"
      },
      "source": [
        "model_5.summary()"
      ],
      "execution_count": 83,
      "outputs": [
        {
          "output_type": "stream",
          "name": "stdout",
          "text": [
            "Model: \"model_5_Conv1D\"\n",
            "_________________________________________________________________\n",
            " Layer (type)                Output Shape              Param #   \n",
            "=================================================================\n",
            " input_7 (InputLayer)        [(None, 1)]               0         \n",
            "                                                                 \n",
            " text_vectorization_1 (TextV  (None, 15)               0         \n",
            " ectorization)                                                   \n",
            "                                                                 \n",
            " embedding (Embedding)       (None, 15, 128)           1280000   \n",
            "                                                                 \n",
            " conv1d_3 (Conv1D)           (None, 11, 64)            41024     \n",
            "                                                                 \n",
            " global_max_pooling1d_3 (Glo  (None, 64)               0         \n",
            " balMaxPooling1D)                                                \n",
            "                                                                 \n",
            " dense_4 (Dense)             (None, 1)                 65        \n",
            "                                                                 \n",
            "=================================================================\n",
            "Total params: 1,321,089\n",
            "Trainable params: 1,321,089\n",
            "Non-trainable params: 0\n",
            "_________________________________________________________________\n"
          ]
        }
      ]
    },
    {
      "cell_type": "code",
      "metadata": {
        "colab": {
          "base_uri": "https://localhost:8080/"
        },
        "id": "0E76ElhpSp05",
        "outputId": "a16f49b1-1388-4c2f-d51c-14ab909054be"
      },
      "source": [
        "# fit the model\n",
        "model_5_history = model_5.fit(train_sentences,\n",
        "                              train_labels,\n",
        "                              epochs=5,\n",
        "                              validation_data = (val_sentences,val_labels),\n",
        "                              callbacks = [create_tensorboard_callback(SAVE_DIR,\n",
        "                                                                       'Conv1D')])"
      ],
      "execution_count": 90,
      "outputs": [
        {
          "output_type": "stream",
          "name": "stdout",
          "text": [
            "Saving TensorBoard log files to: model_logs/Conv1D/20211119-224715\n",
            "Epoch 1/5\n",
            "215/215 [==============================] - 4s 19ms/step - loss: 0.0507 - accuracy: 0.9793 - val_loss: 1.2181 - val_accuracy: 0.7572\n",
            "Epoch 2/5\n",
            "215/215 [==============================] - 4s 18ms/step - loss: 0.0461 - accuracy: 0.9807 - val_loss: 1.2819 - val_accuracy: 0.7585\n",
            "Epoch 3/5\n",
            "215/215 [==============================] - 4s 18ms/step - loss: 0.0454 - accuracy: 0.9800 - val_loss: 1.2761 - val_accuracy: 0.7651\n",
            "Epoch 4/5\n",
            "215/215 [==============================] - 4s 18ms/step - loss: 0.0440 - accuracy: 0.9810 - val_loss: 1.2911 - val_accuracy: 0.7612\n",
            "Epoch 5/5\n",
            "215/215 [==============================] - 4s 18ms/step - loss: 0.0436 - accuracy: 0.9804 - val_loss: 1.2671 - val_accuracy: 0.7520\n"
          ]
        }
      ]
    },
    {
      "cell_type": "code",
      "metadata": {
        "colab": {
          "base_uri": "https://localhost:8080/"
        },
        "id": "yYXUm8q0THLP",
        "outputId": "88564d66-7a0e-40b3-c2f9-15f105f0b9f9"
      },
      "source": [
        "model_5_pred_probs = model_5.predict(val_sentences)\n",
        "model_5_pred_probs[:10]"
      ],
      "execution_count": 101,
      "outputs": [
        {
          "output_type": "execute_result",
          "data": {
            "text/plain": [
              "array([[3.0590415e-02],\n",
              "       [9.5465422e-01],\n",
              "       [9.9979925e-01],\n",
              "       [5.9175134e-02],\n",
              "       [3.4239676e-07],\n",
              "       [9.8799354e-01],\n",
              "       [9.7471642e-01],\n",
              "       [9.9992019e-01],\n",
              "       [9.9999881e-01],\n",
              "       [8.5584342e-01]], dtype=float32)"
            ]
          },
          "metadata": {},
          "execution_count": 101
        }
      ]
    },
    {
      "cell_type": "code",
      "metadata": {
        "colab": {
          "base_uri": "https://localhost:8080/"
        },
        "id": "yCFbL_G3TQSn",
        "outputId": "f133e18a-fc0b-4422-8b9a-8bfb2e095f47"
      },
      "source": [
        "# Convert model 5 pred probs to labels\n",
        "model_5_preds = tf.squeeze(tf.round(model_5_pred_probs))\n",
        "model_5_preds[:10]"
      ],
      "execution_count": 102,
      "outputs": [
        {
          "output_type": "execute_result",
          "data": {
            "text/plain": [
              "<tf.Tensor: shape=(10,), dtype=float32, numpy=array([0., 1., 1., 0., 0., 1., 1., 1., 1., 1.], dtype=float32)>"
            ]
          },
          "metadata": {},
          "execution_count": 102
        }
      ]
    },
    {
      "cell_type": "code",
      "metadata": {
        "colab": {
          "base_uri": "https://localhost:8080/"
        },
        "id": "Rz_omy98TglB",
        "outputId": "f7317343-a4ae-456c-b7ba-1d856297d5b8"
      },
      "source": [
        "# evaluate model5\n",
        "model_5_results = calculate_results(y_true=val_labels,\n",
        "                                    y_pred = model_5_preds)\n",
        "\n",
        "model_5_results"
      ],
      "execution_count": 103,
      "outputs": [
        {
          "output_type": "execute_result",
          "data": {
            "text/plain": [
              "{'accuracy': 75.19685039370079,\n",
              " 'f1': 0.7497885511234939,\n",
              " 'precision': 0.7529888699847289,\n",
              " 'recall': 0.7519685039370079}"
            ]
          },
          "metadata": {},
          "execution_count": 103
        }
      ]
    },
    {
      "cell_type": "code",
      "metadata": {
        "colab": {
          "base_uri": "https://localhost:8080/"
        },
        "id": "kPsVQselTuGq",
        "outputId": "bbba3b01-7690-4ff8-b6e5-e51429648d83"
      },
      "source": [
        "baseline_results"
      ],
      "execution_count": 104,
      "outputs": [
        {
          "output_type": "execute_result",
          "data": {
            "text/plain": [
              "{'accuracy': 79.26509186351706,\n",
              " 'f1': 0.7862189758049549,\n",
              " 'precision': 0.8111390004213173,\n",
              " 'recall': 0.7926509186351706}"
            ]
          },
          "metadata": {},
          "execution_count": 104
        }
      ]
    },
    {
      "cell_type": "code",
      "metadata": {
        "colab": {
          "base_uri": "https://localhost:8080/"
        },
        "id": "3Uf-IKWDTwNS",
        "outputId": "e6671453-1a14-4a39-df32-182615288fa7"
      },
      "source": [
        "# Model 6 : tensorflow hub pretrained model (USE feature extractor)\n",
        "import tensorflow_hub as hub\n",
        "embed = hub.load(\"https://tfhub.dev/google/universal-sentence-encoder/4\")\n",
        "embed_samples = embed([sample_sentence,\n",
        "                       \"When you call the universal sentence encoder on a sentence, it turn it into numbers\"])\n",
        "\n",
        "print(embed_samples[0][:50])"
      ],
      "execution_count": 105,
      "outputs": [
        {
          "output_type": "stream",
          "name": "stdout",
          "text": [
            "tf.Tensor(\n",
            "[-0.01157025  0.02485911  0.02878051 -0.012715    0.03971541  0.08827761\n",
            "  0.02680988  0.05589839 -0.01068731 -0.00597293  0.00639321 -0.01819516\n",
            "  0.00030816  0.09105889  0.05874646 -0.03180629  0.01512474 -0.05162925\n",
            "  0.00991366 -0.06865345 -0.04209306  0.0267898   0.03011009  0.00321065\n",
            " -0.00337968 -0.04787357  0.0226672  -0.00985927 -0.04063615 -0.01292093\n",
            " -0.04666382  0.05630299 -0.03949255  0.00517682  0.02495827 -0.07014439\n",
            "  0.0287151   0.0494768  -0.00633978 -0.08960193  0.02807119 -0.00808364\n",
            " -0.01360601  0.05998649 -0.10361788 -0.05195373  0.00232958 -0.02332531\n",
            " -0.03758106  0.03327729], shape=(50,), dtype=float32)\n"
          ]
        }
      ]
    },
    {
      "cell_type": "code",
      "metadata": {
        "colab": {
          "base_uri": "https://localhost:8080/"
        },
        "id": "7CK_jAqrcilN",
        "outputId": "dd60aa9d-c8ac-4e87-c6ca-65cbc027c8fb"
      },
      "source": [
        "embed_samples"
      ],
      "execution_count": 106,
      "outputs": [
        {
          "output_type": "execute_result",
          "data": {
            "text/plain": [
              "<tf.Tensor: shape=(2, 512), dtype=float32, numpy=\n",
              "array([[-0.01157025,  0.02485911,  0.02878051, ..., -0.00186124,\n",
              "         0.02315822, -0.01485021],\n",
              "       [ 0.03569669, -0.08161653, -0.03142678, ..., -0.05226755,\n",
              "         0.03114403, -0.00885672]], dtype=float32)>"
            ]
          },
          "metadata": {},
          "execution_count": 106
        }
      ]
    },
    {
      "cell_type": "code",
      "metadata": {
        "colab": {
          "base_uri": "https://localhost:8080/",
          "height": 34
        },
        "id": "KU81nWbcdXLM",
        "outputId": "e2148d47-7a4e-4c22-83d8-721e020b8bb1"
      },
      "source": [
        "sample_sentence"
      ],
      "execution_count": 107,
      "outputs": [
        {
          "output_type": "execute_result",
          "data": {
            "application/vnd.google.colaboratory.intrinsic+json": {
              "type": "string"
            },
            "text/plain": [
              "\"There's a flood in my street!\""
            ]
          },
          "metadata": {},
          "execution_count": 107
        }
      ]
    },
    {
      "cell_type": "code",
      "metadata": {
        "id": "90xXDOnJdYe4"
      },
      "source": [
        "sentence_encoder_layer = hub.KerasLayer(\"https://tfhub.dev/google/universal-sentence-encoder/4\", \n",
        "                                         input_shape=[], # input can be variable length, output is a vector of length 512\n",
        "                                         dtype=tf.string,\n",
        "                                         trainable=False,\n",
        "                                         name='USE')"
      ],
      "execution_count": 109,
      "outputs": []
    },
    {
      "cell_type": "code",
      "metadata": {
        "id": "-x8aPO0GqEK0"
      },
      "source": [
        "# Create model using sequential API\n",
        "model_6 = tf.keras.Sequential([\n",
        "  sentence_encoder_layer,\n",
        "  layers.Dense(64, activation='relu'),\n",
        "  layers.Dense(1, activation='sigmoid')\n",
        "], name='model_6_USE')\n",
        "\n",
        "# Compile model\n",
        "model_6.compile(loss='binary_crossentropy',\n",
        "                optimizer='adam',\n",
        "                metrics=['accuracy'])"
      ],
      "execution_count": 128,
      "outputs": []
    },
    {
      "cell_type": "code",
      "metadata": {
        "colab": {
          "base_uri": "https://localhost:8080/"
        },
        "id": "4XFpVbEZrD63",
        "outputId": "634ea4d9-2b2e-4820-e89c-1d7d3c8949b9"
      },
      "source": [
        "model_6.summary()"
      ],
      "execution_count": 129,
      "outputs": [
        {
          "output_type": "stream",
          "name": "stdout",
          "text": [
            "Model: \"model_6_USE\"\n",
            "_________________________________________________________________\n",
            " Layer (type)                Output Shape              Param #   \n",
            "=================================================================\n",
            " USE (KerasLayer)            (None, 512)               256797824 \n",
            "                                                                 \n",
            " dense_10 (Dense)            (None, 64)                32832     \n",
            "                                                                 \n",
            " dense_11 (Dense)            (None, 1)                 65        \n",
            "                                                                 \n",
            "=================================================================\n",
            "Total params: 256,830,721\n",
            "Trainable params: 32,897\n",
            "Non-trainable params: 256,797,824\n",
            "_________________________________________________________________\n"
          ]
        }
      ]
    },
    {
      "cell_type": "code",
      "metadata": {
        "colab": {
          "base_uri": "https://localhost:8080/"
        },
        "id": "tB5z_nz-rF0S",
        "outputId": "d1b53ae0-e716-45cb-e527-2da95a5ff58a"
      },
      "source": [
        "model_6_history = model_6.fit(train_sentences,\n",
        "                              train_labels,\n",
        "                              epochs=5,\n",
        "                              validation_data=(val_sentences,val_labels),\n",
        "                              callbacks=[create_tensorboard_callback(SAVE_DIR,\n",
        "                                                                     'tf_hub_USE')])"
      ],
      "execution_count": 130,
      "outputs": [
        {
          "output_type": "stream",
          "name": "stdout",
          "text": [
            "Saving TensorBoard log files to: model_logs/tf_hub_USE/20211120-001543\n",
            "Epoch 1/5\n",
            "215/215 [==============================] - 4s 14ms/step - loss: 0.5066 - accuracy: 0.7846 - val_loss: 0.4510 - val_accuracy: 0.7966\n",
            "Epoch 2/5\n",
            "215/215 [==============================] - 2s 11ms/step - loss: 0.4155 - accuracy: 0.8159 - val_loss: 0.4405 - val_accuracy: 0.8136\n",
            "Epoch 3/5\n",
            "215/215 [==============================] - 2s 11ms/step - loss: 0.4006 - accuracy: 0.8215 - val_loss: 0.4343 - val_accuracy: 0.8150\n",
            "Epoch 4/5\n",
            "215/215 [==============================] - 2s 11ms/step - loss: 0.3923 - accuracy: 0.8259 - val_loss: 0.4326 - val_accuracy: 0.8163\n",
            "Epoch 5/5\n",
            "215/215 [==============================] - 2s 11ms/step - loss: 0.3859 - accuracy: 0.8305 - val_loss: 0.4242 - val_accuracy: 0.8215\n"
          ]
        }
      ]
    },
    {
      "cell_type": "code",
      "metadata": {
        "colab": {
          "base_uri": "https://localhost:8080/"
        },
        "id": "XW9LKVJpreln",
        "outputId": "e1878e7b-3990-4e07-b8cb-598d541903ce"
      },
      "source": [
        "# make predictions with USE model\n",
        "model_6_pred_probs = model_6.predict(val_sentences)\n",
        "model_6_pred_probs[:10]"
      ],
      "execution_count": 131,
      "outputs": [
        {
          "output_type": "execute_result",
          "data": {
            "text/plain": [
              "array([[0.19140458],\n",
              "       [0.79184014],\n",
              "       [0.98871124],\n",
              "       [0.21091512],\n",
              "       [0.8018575 ],\n",
              "       [0.76326025],\n",
              "       [0.9795474 ],\n",
              "       [0.9829999 ],\n",
              "       [0.9442698 ],\n",
              "       [0.10509592]], dtype=float32)"
            ]
          },
          "metadata": {},
          "execution_count": 131
        }
      ]
    },
    {
      "cell_type": "code",
      "metadata": {
        "colab": {
          "base_uri": "https://localhost:8080/"
        },
        "id": "zGct8Ra0rz3k",
        "outputId": "e5167f7c-457b-4cdb-cf76-574d6c7d2fe7"
      },
      "source": [
        "# Convert prediction probabilities to labels\n",
        "model_6_preds = tf.squeeze(tf.round(model_6_pred_probs))\n",
        "model_6_preds[:10]"
      ],
      "execution_count": 132,
      "outputs": [
        {
          "output_type": "execute_result",
          "data": {
            "text/plain": [
              "<tf.Tensor: shape=(10,), dtype=float32, numpy=array([0., 1., 1., 0., 1., 1., 1., 1., 1., 0.], dtype=float32)>"
            ]
          },
          "metadata": {},
          "execution_count": 132
        }
      ]
    },
    {
      "cell_type": "code",
      "metadata": {
        "colab": {
          "base_uri": "https://localhost:8080/"
        },
        "id": "DM8sMDGusFOD",
        "outputId": "7a53eee0-c925-4af3-a0cd-0af6886e379f"
      },
      "source": [
        "# model_6 results\n",
        "model_6_results = calculate_results(y_true = val_labels,\n",
        "                                    y_pred = model_6_preds)\n",
        "\n",
        "model_6_results"
      ],
      "execution_count": 133,
      "outputs": [
        {
          "output_type": "execute_result",
          "data": {
            "text/plain": [
              "{'accuracy': 82.1522309711286,\n",
              " 'f1': 0.821051835664206,\n",
              " 'precision': 0.8215093851904876,\n",
              " 'recall': 0.821522309711286}"
            ]
          },
          "metadata": {},
          "execution_count": 133
        }
      ]
    },
    {
      "cell_type": "code",
      "metadata": {
        "colab": {
          "base_uri": "https://localhost:8080/",
          "height": 202
        },
        "id": "VNyTV7aUsV3t",
        "outputId": "20ec27cf-bf1e-430d-f89c-335983a6482c"
      },
      "source": [
        "# Model_7: TF Hub with pretrained USE on only 10 percent of the data\n",
        "train_df_shuffled.head()"
      ],
      "execution_count": 134,
      "outputs": [
        {
          "output_type": "execute_result",
          "data": {
            "text/html": [
              "<div>\n",
              "<style scoped>\n",
              "    .dataframe tbody tr th:only-of-type {\n",
              "        vertical-align: middle;\n",
              "    }\n",
              "\n",
              "    .dataframe tbody tr th {\n",
              "        vertical-align: top;\n",
              "    }\n",
              "\n",
              "    .dataframe thead th {\n",
              "        text-align: right;\n",
              "    }\n",
              "</style>\n",
              "<table border=\"1\" class=\"dataframe\">\n",
              "  <thead>\n",
              "    <tr style=\"text-align: right;\">\n",
              "      <th></th>\n",
              "      <th>id</th>\n",
              "      <th>keyword</th>\n",
              "      <th>location</th>\n",
              "      <th>text</th>\n",
              "      <th>target</th>\n",
              "    </tr>\n",
              "  </thead>\n",
              "  <tbody>\n",
              "    <tr>\n",
              "      <th>2644</th>\n",
              "      <td>3796</td>\n",
              "      <td>destruction</td>\n",
              "      <td>NaN</td>\n",
              "      <td>So you have a new weapon that can cause un-ima...</td>\n",
              "      <td>1</td>\n",
              "    </tr>\n",
              "    <tr>\n",
              "      <th>2227</th>\n",
              "      <td>3185</td>\n",
              "      <td>deluge</td>\n",
              "      <td>NaN</td>\n",
              "      <td>The f$&amp;amp;@ing things I do for #GISHWHES Just...</td>\n",
              "      <td>0</td>\n",
              "    </tr>\n",
              "    <tr>\n",
              "      <th>5448</th>\n",
              "      <td>7769</td>\n",
              "      <td>police</td>\n",
              "      <td>UK</td>\n",
              "      <td>DT @georgegalloway: RT @Galloway4Mayor: ÛÏThe...</td>\n",
              "      <td>1</td>\n",
              "    </tr>\n",
              "    <tr>\n",
              "      <th>132</th>\n",
              "      <td>191</td>\n",
              "      <td>aftershock</td>\n",
              "      <td>NaN</td>\n",
              "      <td>Aftershock back to school kick off was great. ...</td>\n",
              "      <td>0</td>\n",
              "    </tr>\n",
              "    <tr>\n",
              "      <th>6845</th>\n",
              "      <td>9810</td>\n",
              "      <td>trauma</td>\n",
              "      <td>Montgomery County, MD</td>\n",
              "      <td>in response to trauma Children of Addicts deve...</td>\n",
              "      <td>0</td>\n",
              "    </tr>\n",
              "  </tbody>\n",
              "</table>\n",
              "</div>"
            ],
            "text/plain": [
              "        id  ... target\n",
              "2644  3796  ...      1\n",
              "2227  3185  ...      0\n",
              "5448  7769  ...      1\n",
              "132    191  ...      0\n",
              "6845  9810  ...      0\n",
              "\n",
              "[5 rows x 5 columns]"
            ]
          },
          "metadata": {},
          "execution_count": 134
        }
      ]
    },
    {
      "cell_type": "code",
      "metadata": {
        "id": "6pMKWGaCtyp4"
      },
      "source": [
        "train_10_precent = train_df_shuffled[[\"text\", \"target\"]].sample(frac=0.1, random_state=42)\n",
        "train_sentences_10_precent = train_10_precent[\"text\"].to_list()\n",
        "train_labels_10_precent = train_10_precent['target'].to_list()"
      ],
      "execution_count": 137,
      "outputs": []
    },
    {
      "cell_type": "code",
      "metadata": {
        "colab": {
          "base_uri": "https://localhost:8080/"
        },
        "id": "ZiNdDK03uOHG",
        "outputId": "7938cab0-88f7-4187-f586-7256ead415fb"
      },
      "source": [
        "len(train_df_shuffled), len(train_10_precent)"
      ],
      "execution_count": 138,
      "outputs": [
        {
          "output_type": "execute_result",
          "data": {
            "text/plain": [
              "(7613, 761)"
            ]
          },
          "metadata": {},
          "execution_count": 138
        }
      ]
    },
    {
      "cell_type": "code",
      "metadata": {
        "colab": {
          "base_uri": "https://localhost:8080/"
        },
        "id": "2bABD3YfuScS",
        "outputId": "fd4838da-586f-40f5-8247-5b70cdda3b41"
      },
      "source": [
        "# Check the number of targets inout subset of data\n",
        "train_10_precent['target'].value_counts()"
      ],
      "execution_count": 139,
      "outputs": [
        {
          "output_type": "execute_result",
          "data": {
            "text/plain": [
              "0    413\n",
              "1    348\n",
              "Name: target, dtype: int64"
            ]
          },
          "metadata": {},
          "execution_count": 139
        }
      ]
    },
    {
      "cell_type": "code",
      "metadata": {
        "colab": {
          "base_uri": "https://localhost:8080/"
        },
        "id": "nuWcWWKquxew",
        "outputId": "8cf48221-66e3-4ecc-c7e4-817b8b0f9943"
      },
      "source": [
        "train_df_shuffled['target'].value_counts()"
      ],
      "execution_count": 140,
      "outputs": [
        {
          "output_type": "execute_result",
          "data": {
            "text/plain": [
              "0    4342\n",
              "1    3271\n",
              "Name: target, dtype: int64"
            ]
          },
          "metadata": {},
          "execution_count": 140
        }
      ]
    },
    {
      "cell_type": "code",
      "metadata": {
        "id": "ygw9aoXru1c_"
      },
      "source": [
        "# Clone model_6\n",
        "model_7 = tf.keras.models.clone_model(model_6)\n",
        "\n",
        "# Compile model\n",
        "model_7.compile(loss='binary_crossentropy',\n",
        "                optimizer='adam',\n",
        "                metrics=['accuracy'])"
      ],
      "execution_count": 162,
      "outputs": []
    },
    {
      "cell_type": "code",
      "metadata": {
        "colab": {
          "base_uri": "https://localhost:8080/"
        },
        "id": "FcUqpB0_xeh5",
        "outputId": "0cf2350f-6c84-4818-9a19-909fdd24197b"
      },
      "source": [
        "model_7.summary()"
      ],
      "execution_count": 163,
      "outputs": [
        {
          "output_type": "stream",
          "name": "stdout",
          "text": [
            "Model: \"model_6_USE\"\n",
            "_________________________________________________________________\n",
            " Layer (type)                Output Shape              Param #   \n",
            "=================================================================\n",
            " USE (KerasLayer)            (None, 512)               256797824 \n",
            "                                                                 \n",
            " dense_10 (Dense)            (None, 64)                32832     \n",
            "                                                                 \n",
            " dense_11 (Dense)            (None, 1)                 65        \n",
            "                                                                 \n",
            "=================================================================\n",
            "Total params: 256,830,721\n",
            "Trainable params: 32,897\n",
            "Non-trainable params: 256,797,824\n",
            "_________________________________________________________________\n"
          ]
        }
      ]
    },
    {
      "cell_type": "code",
      "metadata": {
        "colab": {
          "base_uri": "https://localhost:8080/"
        },
        "id": "KdF5X0PUxkzo",
        "outputId": "427c7e5f-6d9e-4b21-d14b-5ecdb7550cfb"
      },
      "source": [
        "model_7_history = model_7.fit(train_sentences_10_precent,\n",
        "                              train_labels_10_precent,\n",
        "                              epochs=5,\n",
        "                              validation_data=(val_sentences,val_labels),\n",
        "                              callbacks=[create_tensorboard_callback(SAVE_DIR,\n",
        "                                                                     'tf_hub_USE_10_percent')])"
      ],
      "execution_count": 152,
      "outputs": [
        {
          "output_type": "stream",
          "name": "stdout",
          "text": [
            "Saving TensorBoard log files to: model_logs/tf_hub_USE_10_percent/20211120-004545\n",
            "Epoch 1/5\n",
            "24/24 [==============================] - 1s 22ms/step - loss: 0.4313 - accuracy: 0.8134 - val_loss: 0.4044 - val_accuracy: 0.8268\n",
            "Epoch 2/5\n",
            "24/24 [==============================] - 1s 25ms/step - loss: 0.4023 - accuracy: 0.8318 - val_loss: 0.3782 - val_accuracy: 0.8451\n",
            "Epoch 3/5\n",
            "24/24 [==============================] - 1s 24ms/step - loss: 0.3771 - accuracy: 0.8463 - val_loss: 0.3581 - val_accuracy: 0.8517\n",
            "Epoch 4/5\n",
            "24/24 [==============================] - 1s 25ms/step - loss: 0.3585 - accuracy: 0.8502 - val_loss: 0.3414 - val_accuracy: 0.8609\n",
            "Epoch 5/5\n",
            "24/24 [==============================] - 0s 20ms/step - loss: 0.3415 - accuracy: 0.8568 - val_loss: 0.3266 - val_accuracy: 0.8701\n"
          ]
        }
      ]
    },
    {
      "cell_type": "code",
      "metadata": {
        "colab": {
          "base_uri": "https://localhost:8080/"
        },
        "id": "SMq2q_-fyDDe",
        "outputId": "c1ebcfc2-dae6-4556-a39d-f663a9c9bd19"
      },
      "source": [
        "# make predictions with USE model\n",
        "model_7_pred_probs = model_7.predict(val_sentences)\n",
        "model_7_pred_probs[:10]"
      ],
      "execution_count": 153,
      "outputs": [
        {
          "output_type": "execute_result",
          "data": {
            "text/plain": [
              "array([[0.14635497],\n",
              "       [0.7494444 ],\n",
              "       [0.9975699 ],\n",
              "       [0.29313022],\n",
              "       [0.7634861 ],\n",
              "       [0.8319789 ],\n",
              "       [0.98993653],\n",
              "       [0.9963395 ],\n",
              "       [0.97040606],\n",
              "       [0.03203771]], dtype=float32)"
            ]
          },
          "metadata": {},
          "execution_count": 153
        }
      ]
    },
    {
      "cell_type": "code",
      "metadata": {
        "colab": {
          "base_uri": "https://localhost:8080/"
        },
        "id": "BUm97tq9yPSI",
        "outputId": "00f7dd47-b29e-403d-d8ca-446a98a98bc7"
      },
      "source": [
        "# Convert prediction probabilities to labels\n",
        "model_7_preds = tf.squeeze(tf.round(model_7_pred_probs))\n",
        "model_7_preds[:10]"
      ],
      "execution_count": 154,
      "outputs": [
        {
          "output_type": "execute_result",
          "data": {
            "text/plain": [
              "<tf.Tensor: shape=(10,), dtype=float32, numpy=array([0., 1., 1., 0., 1., 1., 1., 1., 1., 0.], dtype=float32)>"
            ]
          },
          "metadata": {},
          "execution_count": 154
        }
      ]
    },
    {
      "cell_type": "code",
      "metadata": {
        "colab": {
          "base_uri": "https://localhost:8080/"
        },
        "id": "XFxzLa6CyVPZ",
        "outputId": "5ffe90db-15e9-4b86-b097-5dfd0ddb070e"
      },
      "source": [
        "# model_7 results\n",
        "model_7_results = calculate_results(y_true = val_labels,\n",
        "                                    y_pred = model_7_preds)\n",
        "\n",
        "model_7_results"
      ],
      "execution_count": 155,
      "outputs": [
        {
          "output_type": "execute_result",
          "data": {
            "text/plain": [
              "{'accuracy': 87.00787401574803,\n",
              " 'f1': 0.8692736261433838,\n",
              " 'precision': 0.8722368010352193,\n",
              " 'recall': 0.8700787401574803}"
            ]
          },
          "metadata": {},
          "execution_count": 155
        }
      ]
    },
    {
      "cell_type": "code",
      "metadata": {
        "colab": {
          "base_uri": "https://localhost:8080/"
        },
        "id": "PGKD5tsvydZu",
        "outputId": "2c0c8ac4-c95f-4487-a36d-82026e4d7a45"
      },
      "source": [
        "model_6_results"
      ],
      "execution_count": 156,
      "outputs": [
        {
          "output_type": "execute_result",
          "data": {
            "text/plain": [
              "{'accuracy': 82.1522309711286,\n",
              " 'f1': 0.821051835664206,\n",
              " 'precision': 0.8215093851904876,\n",
              " 'recall': 0.821522309711286}"
            ]
          },
          "metadata": {},
          "execution_count": 156
        }
      ]
    },
    {
      "cell_type": "code",
      "metadata": {
        "id": "ujoU-2wSzdSA"
      },
      "source": [
        "# Fixing the data leakage of the 10 percent data\n",
        "train_10_precent_split = int(0.1*len(train_sentences))\n",
        "train_sentences_10_precent = train_sentences[:train_10_precent_split]\n",
        "train_labels_10_precent = train_labels[:train_10_precent_split]"
      ],
      "execution_count": 159,
      "outputs": []
    },
    {
      "cell_type": "code",
      "metadata": {
        "colab": {
          "base_uri": "https://localhost:8080/"
        },
        "id": "iQ9NpYAo3qQO",
        "outputId": "14d12adb-8068-4164-b245-9a2af73c1414"
      },
      "source": [
        "train_df_shuffled['target'].value_counts()"
      ],
      "execution_count": 160,
      "outputs": [
        {
          "output_type": "execute_result",
          "data": {
            "text/plain": [
              "0    4342\n",
              "1    3271\n",
              "Name: target, dtype: int64"
            ]
          },
          "metadata": {},
          "execution_count": 160
        }
      ]
    },
    {
      "cell_type": "code",
      "metadata": {
        "colab": {
          "base_uri": "https://localhost:8080/"
        },
        "id": "H4kjsSuY4NH7",
        "outputId": "b00f5854-b2a2-4d83-d22f-6414f5089ed0"
      },
      "source": [
        "model_7_history = model_7.fit(train_sentences_10_precent,\n",
        "                              train_labels_10_precent,\n",
        "                              epochs=5,\n",
        "                              validation_data=(val_sentences,val_labels),\n",
        "                              callbacks=[create_tensorboard_callback(SAVE_DIR,\n",
        "                                                                     'tf_hub_USE_10_percent_fixed')])"
      ],
      "execution_count": 164,
      "outputs": [
        {
          "output_type": "stream",
          "name": "stdout",
          "text": [
            "Saving TensorBoard log files to: model_logs/tf_hub_USE_10_percent_fixed/20211120-010906\n",
            "Epoch 1/5\n",
            "22/22 [==============================] - 4s 40ms/step - loss: 0.6701 - accuracy: 0.6686 - val_loss: 0.6463 - val_accuracy: 0.7441\n",
            "Epoch 2/5\n",
            "22/22 [==============================] - 1s 26ms/step - loss: 0.5935 - accuracy: 0.8190 - val_loss: 0.5840 - val_accuracy: 0.7664\n",
            "Epoch 3/5\n",
            "22/22 [==============================] - 0s 19ms/step - loss: 0.5155 - accuracy: 0.8204 - val_loss: 0.5308 - val_accuracy: 0.7730\n",
            "Epoch 4/5\n",
            "22/22 [==============================] - 0s 21ms/step - loss: 0.4551 - accuracy: 0.8248 - val_loss: 0.5029 - val_accuracy: 0.7756\n",
            "Epoch 5/5\n",
            "22/22 [==============================] - 0s 19ms/step - loss: 0.4160 - accuracy: 0.8380 - val_loss: 0.4863 - val_accuracy: 0.7703\n"
          ]
        }
      ]
    },
    {
      "cell_type": "code",
      "metadata": {
        "id": "R19jtWBG4fAk"
      },
      "source": [
        ""
      ],
      "execution_count": null,
      "outputs": []
    }
  ]
}