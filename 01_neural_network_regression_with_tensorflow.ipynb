{
  "nbformat": 4,
  "nbformat_minor": 0,
  "metadata": {
    "colab": {
      "name": "01_neural_network_regression_with_tensorflow.ipynb",
      "provenance": [],
      "collapsed_sections": [
        "CGs1GmWTI_Qw"
      ],
      "toc_visible": true,
      "mount_file_id": "1SUuHPSXeSWUVTaRTpNee-06LzbdDCIf3",
      "authorship_tag": "ABX9TyO57oKmSwq9k1FY/chW0c6M",
      "include_colab_link": true
    },
    "kernelspec": {
      "name": "python3",
      "display_name": "Python 3"
    },
    "language_info": {
      "name": "python"
    }
  },
  "cells": [
    {
      "cell_type": "markdown",
      "metadata": {
        "id": "view-in-github",
        "colab_type": "text"
      },
      "source": [
        "<a href=\"https://colab.research.google.com/github/Kgs-Mathaba/TensorFlow_DC_ZTM/blob/main/01_neural_network_regression_with_tensorflow.ipynb\" target=\"_parent\"><img src=\"https://colab.research.google.com/assets/colab-badge.svg\" alt=\"Open In Colab\"/></a>"
      ]
    },
    {
      "cell_type": "markdown",
      "metadata": {
        "id": "SDMzmCaiz_M6"
      },
      "source": [
        "# Introduction to Regression using Neural Networks"
      ]
    },
    {
      "cell_type": "code",
      "metadata": {
        "colab": {
          "base_uri": "https://localhost:8080/"
        },
        "id": "nYQCeO3P0bUM",
        "outputId": "870b6341-8f7a-433c-8316-2e35be921ad5"
      },
      "source": [
        "import tensorflow as tf\n",
        "print(tf.__version__)"
      ],
      "execution_count": 1,
      "outputs": [
        {
          "output_type": "stream",
          "text": [
            "2.5.0\n"
          ],
          "name": "stdout"
        }
      ]
    },
    {
      "cell_type": "code",
      "metadata": {
        "colab": {
          "base_uri": "https://localhost:8080/",
          "height": 283
        },
        "id": "a0k-in9Q0qfx",
        "outputId": "196ab555-990c-4e55-8131-dab19b51e425"
      },
      "source": [
        "import numpy as np\n",
        "import matplotlib.pyplot as plt\n",
        "\n",
        "\n",
        "#create features\n",
        "X = np.array([-7.0, -4.0, -1.0, 2.0, 5.0, 8.0, 11.0, 14.0])\n",
        "\n",
        "y = np.array([3.0, 6.6, 9.0, 12.0, 15.0, 18.0, 21.0, 25.0])\n",
        "\n",
        "plt.scatter(X,y)"
      ],
      "execution_count": 2,
      "outputs": [
        {
          "output_type": "execute_result",
          "data": {
            "text/plain": [
              "<matplotlib.collections.PathCollection at 0x7f7e4b72fed0>"
            ]
          },
          "metadata": {
            "tags": []
          },
          "execution_count": 2
        },
        {
          "output_type": "display_data",
          "data": {
            "image/png": "[encoded data removed]",
            "text/plain": [
              "<Figure size 432x288 with 1 Axes>"
            ]
          },
          "metadata": {
            "tags": [],
            "needs_background": "light"
          }
        }
      ]
    },
    {
      "cell_type": "code",
      "metadata": {
        "colab": {
          "base_uri": "https://localhost:8080/"
        },
        "id": "r1FCUPr-1cJ_",
        "outputId": "d0c510cd-1086-42e2-b152-d2e2760c231b"
      },
      "source": [
        "X+10"
      ],
      "execution_count": 3,
      "outputs": [
        {
          "output_type": "execute_result",
          "data": {
            "text/plain": [
              "array([ 3.,  6.,  9., 12., 15., 18., 21., 24.])"
            ]
          },
          "metadata": {
            "tags": []
          },
          "execution_count": 3
        }
      ]
    },
    {
      "cell_type": "code",
      "metadata": {
        "colab": {
          "base_uri": "https://localhost:8080/"
        },
        "id": "uOUyYE6Z1wTn",
        "outputId": "f80210f5-fbbd-48f0-9a8d-b82ceb99b57a"
      },
      "source": [
        "y==X+10"
      ],
      "execution_count": 4,
      "outputs": [
        {
          "output_type": "execute_result",
          "data": {
            "text/plain": [
              "array([ True, False,  True,  True,  True,  True,  True, False])"
            ]
          },
          "metadata": {
            "tags": []
          },
          "execution_count": 4
        }
      ]
    },
    {
      "cell_type": "markdown",
      "metadata": {
        "id": "0TqV54jt1yOP"
      },
      "source": [
        "## input and output shape"
      ]
    },
    {
      "cell_type": "code",
      "metadata": {
        "colab": {
          "base_uri": "https://localhost:8080/"
        },
        "id": "zIO0OK302I8X",
        "outputId": "062a366a-e759-49e3-ef1c-63a41bfacddc"
      },
      "source": [
        "#create demo tensor for the input\n",
        "house_info = tf.constant([\"bedroom\", \"bathroom\", \"garage\"])\n",
        "house_price = tf.constant([939700])\n",
        "house_info, house_price"
      ],
      "execution_count": 5,
      "outputs": [
        {
          "output_type": "execute_result",
          "data": {
            "text/plain": [
              "(<tf.Tensor: shape=(3,), dtype=string, numpy=array([b'bedroom', b'bathroom', b'garage'], dtype=object)>,\n",
              " <tf.Tensor: shape=(1,), dtype=int32, numpy=array([939700], dtype=int32)>)"
            ]
          },
          "metadata": {
            "tags": []
          },
          "execution_count": 5
        }
      ]
    },
    {
      "cell_type": "code",
      "metadata": {
        "colab": {
          "base_uri": "https://localhost:8080/"
        },
        "id": "zStRdwtM3Tbe",
        "outputId": "2847f87d-4ba6-4ee2-de55-e956f5480b3d"
      },
      "source": [
        "input_shape = X.shape\n",
        "output_shape = y.shape\n",
        "input_shape, output_shape"
      ],
      "execution_count": 6,
      "outputs": [
        {
          "output_type": "execute_result",
          "data": {
            "text/plain": [
              "((8,), (8,))"
            ]
          },
          "metadata": {
            "tags": []
          },
          "execution_count": 6
        }
      ]
    },
    {
      "cell_type": "code",
      "metadata": {
        "colab": {
          "base_uri": "https://localhost:8080/"
        },
        "id": "iizj5wJy3g4O",
        "outputId": "f823cdef-13dd-4117-edcd-048bd1d3ed13"
      },
      "source": [
        "X[0], y[0]"
      ],
      "execution_count": 7,
      "outputs": [
        {
          "output_type": "execute_result",
          "data": {
            "text/plain": [
              "(-7.0, 3.0)"
            ]
          },
          "metadata": {
            "tags": []
          },
          "execution_count": 7
        }
      ]
    },
    {
      "cell_type": "markdown",
      "metadata": {
        "id": "uuc90D8K39tA"
      },
      "source": [
        "# Turn numpy array to tensor"
      ]
    },
    {
      "cell_type": "code",
      "metadata": {
        "colab": {
          "base_uri": "https://localhost:8080/"
        },
        "id": "jSxJ2n9OAa1C",
        "outputId": "d76d7a2e-be9d-4cad-8de4-c9604a47ebb2"
      },
      "source": [
        "X = tf.constant(X)\n",
        "y = tf.constant(y)\n",
        "X, y"
      ],
      "execution_count": 8,
      "outputs": [
        {
          "output_type": "execute_result",
          "data": {
            "text/plain": [
              "(<tf.Tensor: shape=(8,), dtype=float64, numpy=array([-7., -4., -1.,  2.,  5.,  8., 11., 14.])>,\n",
              " <tf.Tensor: shape=(8,), dtype=float64, numpy=array([ 3. ,  6.6,  9. , 12. , 15. , 18. , 21. , 25. ])>)"
            ]
          },
          "metadata": {
            "tags": []
          },
          "execution_count": 8
        }
      ]
    },
    {
      "cell_type": "code",
      "metadata": {
        "colab": {
          "base_uri": "https://localhost:8080/"
        },
        "id": "aEPmbQ9iAgFV",
        "outputId": "af6f0896-6fdd-446c-a66d-31e703e26313"
      },
      "source": [
        "input_shape = X[0].shape\n",
        "output_shape = y[0].shape\n",
        "input_shape, output_shape"
      ],
      "execution_count": 9,
      "outputs": [
        {
          "output_type": "execute_result",
          "data": {
            "text/plain": [
              "(TensorShape([]), TensorShape([]))"
            ]
          },
          "metadata": {
            "tags": []
          },
          "execution_count": 9
        }
      ]
    },
    {
      "cell_type": "code",
      "metadata": {
        "colab": {
          "base_uri": "https://localhost:8080/",
          "height": 283
        },
        "id": "L5pndpUnAtdd",
        "outputId": "ac10f0c5-d7ef-4a42-c65c-9598b2cfe423"
      },
      "source": [
        "plt.scatter(X, y)"
      ],
      "execution_count": 10,
      "outputs": [
        {
          "output_type": "execute_result",
          "data": {
            "text/plain": [
              "<matplotlib.collections.PathCollection at 0x7f7e4b260390>"
            ]
          },
          "metadata": {
            "tags": []
          },
          "execution_count": 10
        },
        {
          "output_type": "display_data",
          "data": {
            "image/png": "[encoded data removed]",
            "text/plain": [
              "<Figure size 432x288 with 1 Axes>"
            ]
          },
          "metadata": {
            "tags": [],
            "needs_background": "light"
          }
        }
      ]
    },
    {
      "cell_type": "markdown",
      "metadata": {
        "id": "fE9rKt1uA758"
      },
      "source": [
        "## Steps in modelling with tensorflow\n",
        "\n",
        "1. **Creating a model** - define input and output layers, also the hidden layers\n",
        "2. **Compiling a model** - define a loss function (tells how wrong the model is), and the optimizer (tells model how to improve), and evaluation metrics.\n",
        "3. **Fitting the model** - let the model find the patterns in the data"
      ]
    },
    {
      "cell_type": "code",
      "metadata": {
        "colab": {
          "base_uri": "https://localhost:8080/"
        },
        "id": "JrTGoESTBBa0",
        "outputId": "9dfa99cd-f750-4943-b4ba-16517a478ae3"
      },
      "source": [
        "# Set random seed\n",
        "tf.random.set_seed(42)\n",
        "\n",
        "#1. Create a model using Sequential API\n",
        "model = tf.keras.Sequential([\n",
        "                             tf.keras.layers.Dense(1)\n",
        "])\n",
        "\n",
        "# 2. Compile the model\n",
        "model.compile(loss =tf.keras.losses.mae, # mae mean absolute error\n",
        "              optimizer=tf.keras.optimizers.SGD(),\n",
        "              metrics=['mae'])\n",
        "\n",
        "# 3. Fit the model\n",
        "model.fit(X, y, epochs=5)"
      ],
      "execution_count": 11,
      "outputs": [
        {
          "output_type": "stream",
          "text": [
            "Epoch 1/5\n",
            "1/1 [==============================] - 1s 520ms/step - loss: 11.7048 - mae: 11.7048\n",
            "Epoch 2/5\n",
            "1/1 [==============================] - 0s 6ms/step - loss: 11.5723 - mae: 11.5723\n",
            "Epoch 3/5\n",
            "1/1 [==============================] - 0s 7ms/step - loss: 11.4398 - mae: 11.4398\n",
            "Epoch 4/5\n",
            "1/1 [==============================] - 0s 4ms/step - loss: 11.3073 - mae: 11.3073\n",
            "Epoch 5/5\n",
            "1/1 [==============================] - 0s 5ms/step - loss: 11.1748 - mae: 11.1748\n"
          ],
          "name": "stdout"
        },
        {
          "output_type": "execute_result",
          "data": {
            "text/plain": [
              "<tensorflow.python.keras.callbacks.History at 0x7f7e47afa590>"
            ]
          },
          "metadata": {
            "tags": []
          },
          "execution_count": 11
        }
      ]
    },
    {
      "cell_type": "code",
      "metadata": {
        "colab": {
          "base_uri": "https://localhost:8080/"
        },
        "id": "TmSIEt-hHxl1",
        "outputId": "d31e3e8d-5450-492a-f374-306c0a1e91b6"
      },
      "source": [
        "# Set random seed\n",
        "tf.random.set_seed(42)\n",
        "\n",
        "#1. Create a model using Sequential API\n",
        "model = tf.keras.Sequential([\n",
        "                             tf.keras.layers.Dense(1)\n",
        "])\n",
        "\n",
        "# 2. Compile the model\n",
        "model.compile(loss =tf.keras.losses.mse, # mae mean absolute error\n",
        "              optimizer=tf.keras.optimizers.Adam(),\n",
        "              metrics=['mse'])\n",
        "\n",
        "# 3. Fit the model\n",
        "model.fit(X, y, epochs=50)"
      ],
      "execution_count": 12,
      "outputs": [
        {
          "output_type": "stream",
          "text": [
            "Epoch 1/50\n",
            "1/1 [==============================] - 0s 292ms/step - loss: 146.5111 - mse: 146.5111\n",
            "Epoch 2/50\n",
            "1/1 [==============================] - 0s 5ms/step - loss: 146.3637 - mse: 146.3637\n",
            "Epoch 3/50\n",
            "1/1 [==============================] - 0s 4ms/step - loss: 146.2165 - mse: 146.2165\n",
            "Epoch 4/50\n",
            "1/1 [==============================] - 0s 4ms/step - loss: 146.0693 - mse: 146.0693\n",
            "Epoch 5/50\n",
            "1/1 [==============================] - 0s 6ms/step - loss: 145.9223 - mse: 145.9223\n",
            "Epoch 6/50\n",
            "1/1 [==============================] - 0s 4ms/step - loss: 145.7755 - mse: 145.7755\n",
            "Epoch 7/50\n",
            "1/1 [==============================] - 0s 5ms/step - loss: 145.6288 - mse: 145.6288\n",
            "Epoch 8/50\n",
            "1/1 [==============================] - 0s 6ms/step - loss: 145.4823 - mse: 145.4823\n",
            "Epoch 9/50\n",
            "1/1 [==============================] - 0s 3ms/step - loss: 145.3359 - mse: 145.3359\n",
            "Epoch 10/50\n",
            "1/1 [==============================] - 0s 4ms/step - loss: 145.1897 - mse: 145.1897\n",
            "Epoch 11/50\n",
            "1/1 [==============================] - 0s 5ms/step - loss: 145.0436 - mse: 145.0436\n",
            "Epoch 12/50\n",
            "1/1 [==============================] - 0s 4ms/step - loss: 144.8977 - mse: 144.8977\n",
            "Epoch 13/50\n",
            "1/1 [==============================] - 0s 5ms/step - loss: 144.7519 - mse: 144.7519\n",
            "Epoch 14/50\n",
            "1/1 [==============================] - 0s 4ms/step - loss: 144.6063 - mse: 144.6063\n",
            "Epoch 15/50\n",
            "1/1 [==============================] - 0s 6ms/step - loss: 144.4609 - mse: 144.4609\n",
            "Epoch 16/50\n",
            "1/1 [==============================] - 0s 5ms/step - loss: 144.3156 - mse: 144.3156\n",
            "Epoch 17/50\n",
            "1/1 [==============================] - 0s 4ms/step - loss: 144.1705 - mse: 144.1705\n",
            "Epoch 18/50\n",
            "1/1 [==============================] - 0s 3ms/step - loss: 144.0256 - mse: 144.0256\n",
            "Epoch 19/50\n",
            "1/1 [==============================] - 0s 5ms/step - loss: 143.8808 - mse: 143.8808\n",
            "Epoch 20/50\n",
            "1/1 [==============================] - 0s 5ms/step - loss: 143.7363 - mse: 143.7363\n",
            "Epoch 21/50\n",
            "1/1 [==============================] - 0s 7ms/step - loss: 143.5919 - mse: 143.5919\n",
            "Epoch 22/50\n",
            "1/1 [==============================] - 0s 8ms/step - loss: 143.4476 - mse: 143.4476\n",
            "Epoch 23/50\n",
            "1/1 [==============================] - 0s 6ms/step - loss: 143.3036 - mse: 143.3036\n",
            "Epoch 24/50\n",
            "1/1 [==============================] - 0s 4ms/step - loss: 143.1597 - mse: 143.1597\n",
            "Epoch 25/50\n",
            "1/1 [==============================] - 0s 6ms/step - loss: 143.0160 - mse: 143.0160\n",
            "Epoch 26/50\n",
            "1/1 [==============================] - 0s 5ms/step - loss: 142.8725 - mse: 142.8725\n",
            "Epoch 27/50\n",
            "1/1 [==============================] - 0s 8ms/step - loss: 142.7291 - mse: 142.7291\n",
            "Epoch 28/50\n",
            "1/1 [==============================] - 0s 4ms/step - loss: 142.5860 - mse: 142.5860\n",
            "Epoch 29/50\n",
            "1/1 [==============================] - 0s 5ms/step - loss: 142.4430 - mse: 142.4430\n",
            "Epoch 30/50\n",
            "1/1 [==============================] - 0s 12ms/step - loss: 142.3002 - mse: 142.3002\n",
            "Epoch 31/50\n",
            "1/1 [==============================] - 0s 9ms/step - loss: 142.1576 - mse: 142.1576\n",
            "Epoch 32/50\n",
            "1/1 [==============================] - 0s 8ms/step - loss: 142.0152 - mse: 142.0152\n",
            "Epoch 33/50\n",
            "1/1 [==============================] - 0s 5ms/step - loss: 141.8730 - mse: 141.8730\n",
            "Epoch 34/50\n",
            "1/1 [==============================] - 0s 4ms/step - loss: 141.7309 - mse: 141.7309\n",
            "Epoch 35/50\n",
            "1/1 [==============================] - 0s 19ms/step - loss: 141.5891 - mse: 141.5891\n",
            "Epoch 36/50\n",
            "1/1 [==============================] - 0s 9ms/step - loss: 141.4474 - mse: 141.4474\n",
            "Epoch 37/50\n",
            "1/1 [==============================] - 0s 5ms/step - loss: 141.3060 - mse: 141.3060\n",
            "Epoch 38/50\n",
            "1/1 [==============================] - 0s 7ms/step - loss: 141.1647 - mse: 141.1647\n",
            "Epoch 39/50\n",
            "1/1 [==============================] - 0s 7ms/step - loss: 141.0236 - mse: 141.0236\n",
            "Epoch 40/50\n",
            "1/1 [==============================] - 0s 6ms/step - loss: 140.8827 - mse: 140.8827\n",
            "Epoch 41/50\n",
            "1/1 [==============================] - 0s 5ms/step - loss: 140.7420 - mse: 140.7420\n",
            "Epoch 42/50\n",
            "1/1 [==============================] - 0s 7ms/step - loss: 140.6015 - mse: 140.6015\n",
            "Epoch 43/50\n",
            "1/1 [==============================] - 0s 7ms/step - loss: 140.4612 - mse: 140.4612\n",
            "Epoch 44/50\n",
            "1/1 [==============================] - 0s 5ms/step - loss: 140.3210 - mse: 140.3210\n",
            "Epoch 45/50\n",
            "1/1 [==============================] - 0s 7ms/step - loss: 140.1811 - mse: 140.1811\n",
            "Epoch 46/50\n",
            "1/1 [==============================] - 0s 8ms/step - loss: 140.0414 - mse: 140.0414\n",
            "Epoch 47/50\n",
            "1/1 [==============================] - 0s 4ms/step - loss: 139.9018 - mse: 139.9018\n",
            "Epoch 48/50\n",
            "1/1 [==============================] - 0s 5ms/step - loss: 139.7624 - mse: 139.7624\n",
            "Epoch 49/50\n",
            "1/1 [==============================] - 0s 9ms/step - loss: 139.6233 - mse: 139.6233\n",
            "Epoch 50/50\n",
            "1/1 [==============================] - 0s 4ms/step - loss: 139.4843 - mse: 139.4843\n"
          ],
          "name": "stdout"
        },
        {
          "output_type": "execute_result",
          "data": {
            "text/plain": [
              "<tensorflow.python.keras.callbacks.History at 0x7f7e47b28910>"
            ]
          },
          "metadata": {
            "tags": []
          },
          "execution_count": 12
        }
      ]
    },
    {
      "cell_type": "code",
      "metadata": {
        "colab": {
          "base_uri": "https://localhost:8080/"
        },
        "id": "ysWyfQp1H2_G",
        "outputId": "1830dee4-cfae-4600-c08e-513a30745cd5"
      },
      "source": [
        "# try make prdiction with the model\n",
        "y_pred = model.predict([17.0])\n",
        "y_pred"
      ],
      "execution_count": 13,
      "outputs": [
        {
          "output_type": "execute_result",
          "data": {
            "text/plain": [
              "array([[10.58562]], dtype=float32)"
            ]
          },
          "metadata": {
            "tags": []
          },
          "execution_count": 13
        }
      ]
    },
    {
      "cell_type": "markdown",
      "metadata": {
        "id": "CGs1GmWTI_Qw"
      },
      "source": [
        "## The model is way off "
      ]
    },
    {
      "cell_type": "markdown",
      "metadata": {
        "id": "zPHuxJ8EImaB"
      },
      "source": [
        "# Improving the model\n",
        "\n",
        "1. Add more hidden layers, change activation functions\n",
        "2. Change optimization function or change learning rate\n",
        "3. fit model for more epochs, or on more data (more examples"
      ]
    },
    {
      "cell_type": "code",
      "metadata": {
        "id": "YTG-OQNNJD-u",
        "colab": {
          "base_uri": "https://localhost:8080/"
        },
        "outputId": "94d51f2d-835e-4a83-d599-4853d3263ed0"
      },
      "source": [
        "# rebuild model\n",
        "\n",
        "# Create the model\n",
        "model = tf.keras.Sequential([\n",
        "                             tf.keras.layers.Dense(1)\n",
        "])\n",
        "\n",
        "# 2. Compile the model\n",
        "model.compile(loss=tf.keras.losses.mae,\n",
        "              optimizer = tf.keras.optimizers.SGD(),\n",
        "              metrics=['mae'])\n",
        "# 3. Fut the model\n",
        "model.fit(X,y, epochs=100)"
      ],
      "execution_count": 14,
      "outputs": [
        {
          "output_type": "stream",
          "text": [
            "Epoch 1/100\n",
            "1/1 [==============================] - 0s 256ms/step - loss: 11.4219 - mae: 11.4219\n",
            "Epoch 2/100\n",
            "1/1 [==============================] - 0s 6ms/step - loss: 11.2894 - mae: 11.2894\n",
            "Epoch 3/100\n",
            "1/1 [==============================] - 0s 5ms/step - loss: 11.1569 - mae: 11.1569\n",
            "Epoch 4/100\n",
            "1/1 [==============================] - 0s 6ms/step - loss: 11.0244 - mae: 11.0244\n",
            "Epoch 5/100\n",
            "1/1 [==============================] - 0s 5ms/step - loss: 10.8919 - mae: 10.8919\n",
            "Epoch 6/100\n",
            "1/1 [==============================] - 0s 17ms/step - loss: 10.7594 - mae: 10.7594\n",
            "Epoch 7/100\n",
            "1/1 [==============================] - 0s 4ms/step - loss: 10.6269 - mae: 10.6269\n",
            "Epoch 8/100\n",
            "1/1 [==============================] - 0s 3ms/step - loss: 10.4944 - mae: 10.4944\n",
            "Epoch 9/100\n",
            "1/1 [==============================] - 0s 5ms/step - loss: 10.3619 - mae: 10.3619\n",
            "Epoch 10/100\n",
            "1/1 [==============================] - 0s 3ms/step - loss: 10.2294 - mae: 10.2294\n",
            "Epoch 11/100\n",
            "1/1 [==============================] - 0s 3ms/step - loss: 10.0969 - mae: 10.0969\n",
            "Epoch 12/100\n",
            "1/1 [==============================] - 0s 3ms/step - loss: 9.9644 - mae: 9.9644\n",
            "Epoch 13/100\n",
            "1/1 [==============================] - 0s 3ms/step - loss: 9.8319 - mae: 9.8319\n",
            "Epoch 14/100\n",
            "1/1 [==============================] - 0s 5ms/step - loss: 9.6994 - mae: 9.6994\n",
            "Epoch 15/100\n",
            "1/1 [==============================] - 0s 4ms/step - loss: 9.5669 - mae: 9.5669\n",
            "Epoch 16/100\n",
            "1/1 [==============================] - 0s 5ms/step - loss: 9.4344 - mae: 9.4344\n",
            "Epoch 17/100\n",
            "1/1 [==============================] - 0s 6ms/step - loss: 9.3019 - mae: 9.3019\n",
            "Epoch 18/100\n",
            "1/1 [==============================] - 0s 3ms/step - loss: 9.1694 - mae: 9.1694\n",
            "Epoch 19/100\n",
            "1/1 [==============================] - 0s 3ms/step - loss: 9.0369 - mae: 9.0369\n",
            "Epoch 20/100\n",
            "1/1 [==============================] - 0s 5ms/step - loss: 8.9044 - mae: 8.9044\n",
            "Epoch 21/100\n",
            "1/1 [==============================] - 0s 3ms/step - loss: 8.7719 - mae: 8.7719\n",
            "Epoch 22/100\n",
            "1/1 [==============================] - 0s 3ms/step - loss: 8.6394 - mae: 8.6394\n",
            "Epoch 23/100\n",
            "1/1 [==============================] - 0s 5ms/step - loss: 8.5069 - mae: 8.5069\n",
            "Epoch 24/100\n",
            "1/1 [==============================] - 0s 13ms/step - loss: 8.3744 - mae: 8.3744\n",
            "Epoch 25/100\n",
            "1/1 [==============================] - 0s 12ms/step - loss: 8.2419 - mae: 8.2419\n",
            "Epoch 26/100\n",
            "1/1 [==============================] - 0s 6ms/step - loss: 8.1094 - mae: 8.1094\n",
            "Epoch 27/100\n",
            "1/1 [==============================] - 0s 4ms/step - loss: 7.9769 - mae: 7.9769\n",
            "Epoch 28/100\n",
            "1/1 [==============================] - 0s 5ms/step - loss: 7.8444 - mae: 7.8444\n",
            "Epoch 29/100\n",
            "1/1 [==============================] - 0s 5ms/step - loss: 7.7119 - mae: 7.7119\n",
            "Epoch 30/100\n",
            "1/1 [==============================] - 0s 5ms/step - loss: 7.5794 - mae: 7.5794\n",
            "Epoch 31/100\n",
            "1/1 [==============================] - 0s 7ms/step - loss: 7.4469 - mae: 7.4469\n",
            "Epoch 32/100\n",
            "1/1 [==============================] - 0s 7ms/step - loss: 7.3144 - mae: 7.3144\n",
            "Epoch 33/100\n",
            "1/1 [==============================] - 0s 6ms/step - loss: 7.2100 - mae: 7.2100\n",
            "Epoch 34/100\n",
            "1/1 [==============================] - 0s 5ms/step - loss: 7.2044 - mae: 7.2044\n",
            "Epoch 35/100\n",
            "1/1 [==============================] - 0s 7ms/step - loss: 7.1987 - mae: 7.1987\n",
            "Epoch 36/100\n",
            "1/1 [==============================] - 0s 7ms/step - loss: 7.1931 - mae: 7.1931\n",
            "Epoch 37/100\n",
            "1/1 [==============================] - 0s 5ms/step - loss: 7.1875 - mae: 7.1875\n",
            "Epoch 38/100\n",
            "1/1 [==============================] - 0s 6ms/step - loss: 7.1819 - mae: 7.1819\n",
            "Epoch 39/100\n",
            "1/1 [==============================] - 0s 4ms/step - loss: 7.1762 - mae: 7.1762\n",
            "Epoch 40/100\n",
            "1/1 [==============================] - 0s 6ms/step - loss: 7.1706 - mae: 7.1706\n",
            "Epoch 41/100\n",
            "1/1 [==============================] - 0s 4ms/step - loss: 7.1650 - mae: 7.1650\n",
            "Epoch 42/100\n",
            "1/1 [==============================] - 0s 7ms/step - loss: 7.1594 - mae: 7.1594\n",
            "Epoch 43/100\n",
            "1/1 [==============================] - 0s 5ms/step - loss: 7.1537 - mae: 7.1537\n",
            "Epoch 44/100\n",
            "1/1 [==============================] - 0s 6ms/step - loss: 7.1481 - mae: 7.1481\n",
            "Epoch 45/100\n",
            "1/1 [==============================] - 0s 4ms/step - loss: 7.1425 - mae: 7.1425\n",
            "Epoch 46/100\n",
            "1/1 [==============================] - 0s 6ms/step - loss: 7.1369 - mae: 7.1369\n",
            "Epoch 47/100\n",
            "1/1 [==============================] - 0s 29ms/step - loss: 7.1312 - mae: 7.1312\n",
            "Epoch 48/100\n",
            "1/1 [==============================] - 0s 9ms/step - loss: 7.1256 - mae: 7.1256\n",
            "Epoch 49/100\n",
            "1/1 [==============================] - 0s 4ms/step - loss: 7.1200 - mae: 7.1200\n",
            "Epoch 50/100\n",
            "1/1 [==============================] - 0s 5ms/step - loss: 7.1144 - mae: 7.1144\n",
            "Epoch 51/100\n",
            "1/1 [==============================] - 0s 6ms/step - loss: 7.1087 - mae: 7.1087\n",
            "Epoch 52/100\n",
            "1/1 [==============================] - 0s 4ms/step - loss: 7.1031 - mae: 7.1031\n",
            "Epoch 53/100\n",
            "1/1 [==============================] - 0s 6ms/step - loss: 7.0975 - mae: 7.0975\n",
            "Epoch 54/100\n",
            "1/1 [==============================] - 0s 5ms/step - loss: 7.0919 - mae: 7.0919\n",
            "Epoch 55/100\n",
            "1/1 [==============================] - 0s 6ms/step - loss: 7.0863 - mae: 7.0863\n",
            "Epoch 56/100\n",
            "1/1 [==============================] - 0s 6ms/step - loss: 7.0806 - mae: 7.0806\n",
            "Epoch 57/100\n",
            "1/1 [==============================] - 0s 17ms/step - loss: 7.0750 - mae: 7.0750\n",
            "Epoch 58/100\n",
            "1/1 [==============================] - 0s 8ms/step - loss: 7.0694 - mae: 7.0694\n",
            "Epoch 59/100\n",
            "1/1 [==============================] - 0s 8ms/step - loss: 7.0637 - mae: 7.0637\n",
            "Epoch 60/100\n",
            "1/1 [==============================] - 0s 6ms/step - loss: 7.0581 - mae: 7.0581\n",
            "Epoch 61/100\n",
            "1/1 [==============================] - 0s 4ms/step - loss: 7.0525 - mae: 7.0525\n",
            "Epoch 62/100\n",
            "1/1 [==============================] - 0s 7ms/step - loss: 7.0469 - mae: 7.0469\n",
            "Epoch 63/100\n",
            "1/1 [==============================] - 0s 13ms/step - loss: 7.0412 - mae: 7.0412\n",
            "Epoch 64/100\n",
            "1/1 [==============================] - 0s 8ms/step - loss: 7.0356 - mae: 7.0356\n",
            "Epoch 65/100\n",
            "1/1 [==============================] - 0s 10ms/step - loss: 7.0300 - mae: 7.0300\n",
            "Epoch 66/100\n",
            "1/1 [==============================] - 0s 7ms/step - loss: 7.0244 - mae: 7.0244\n",
            "Epoch 67/100\n",
            "1/1 [==============================] - 0s 11ms/step - loss: 7.0188 - mae: 7.0188\n",
            "Epoch 68/100\n",
            "1/1 [==============================] - 0s 7ms/step - loss: 7.0131 - mae: 7.0131\n",
            "Epoch 69/100\n",
            "1/1 [==============================] - 0s 9ms/step - loss: 7.0075 - mae: 7.0075\n",
            "Epoch 70/100\n",
            "1/1 [==============================] - 0s 6ms/step - loss: 7.0019 - mae: 7.0019\n",
            "Epoch 71/100\n",
            "1/1 [==============================] - 0s 5ms/step - loss: 6.9963 - mae: 6.9963\n",
            "Epoch 72/100\n",
            "1/1 [==============================] - 0s 7ms/step - loss: 6.9906 - mae: 6.9906\n",
            "Epoch 73/100\n",
            "1/1 [==============================] - 0s 5ms/step - loss: 6.9850 - mae: 6.9850\n",
            "Epoch 74/100\n",
            "1/1 [==============================] - 0s 5ms/step - loss: 6.9794 - mae: 6.9794\n",
            "Epoch 75/100\n",
            "1/1 [==============================] - 0s 4ms/step - loss: 6.9738 - mae: 6.9738\n",
            "Epoch 76/100\n",
            "1/1 [==============================] - 0s 6ms/step - loss: 6.9681 - mae: 6.9681\n",
            "Epoch 77/100\n",
            "1/1 [==============================] - 0s 4ms/step - loss: 6.9625 - mae: 6.9625\n",
            "Epoch 78/100\n",
            "1/1 [==============================] - 0s 6ms/step - loss: 6.9569 - mae: 6.9569\n",
            "Epoch 79/100\n",
            "1/1 [==============================] - 0s 4ms/step - loss: 6.9513 - mae: 6.9513\n",
            "Epoch 80/100\n",
            "1/1 [==============================] - 0s 4ms/step - loss: 6.9456 - mae: 6.9456\n",
            "Epoch 81/100\n",
            "1/1 [==============================] - 0s 5ms/step - loss: 6.9400 - mae: 6.9400\n",
            "Epoch 82/100\n",
            "1/1 [==============================] - 0s 6ms/step - loss: 6.9344 - mae: 6.9344\n",
            "Epoch 83/100\n",
            "1/1 [==============================] - 0s 4ms/step - loss: 6.9287 - mae: 6.9287\n",
            "Epoch 84/100\n",
            "1/1 [==============================] - 0s 5ms/step - loss: 6.9231 - mae: 6.9231\n",
            "Epoch 85/100\n",
            "1/1 [==============================] - 0s 4ms/step - loss: 6.9175 - mae: 6.9175\n",
            "Epoch 86/100\n",
            "1/1 [==============================] - 0s 4ms/step - loss: 6.9119 - mae: 6.9119\n",
            "Epoch 87/100\n",
            "1/1 [==============================] - 0s 7ms/step - loss: 6.9062 - mae: 6.9062\n",
            "Epoch 88/100\n",
            "1/1 [==============================] - 0s 4ms/step - loss: 6.9006 - mae: 6.9006\n",
            "Epoch 89/100\n",
            "1/1 [==============================] - 0s 6ms/step - loss: 6.8950 - mae: 6.8950\n",
            "Epoch 90/100\n",
            "1/1 [==============================] - 0s 4ms/step - loss: 6.8894 - mae: 6.8894\n",
            "Epoch 91/100\n",
            "1/1 [==============================] - 0s 5ms/step - loss: 6.8838 - mae: 6.8838\n",
            "Epoch 92/100\n",
            "1/1 [==============================] - 0s 9ms/step - loss: 6.8781 - mae: 6.8781\n",
            "Epoch 93/100\n",
            "1/1 [==============================] - 0s 5ms/step - loss: 6.8725 - mae: 6.8725\n",
            "Epoch 94/100\n",
            "1/1 [==============================] - 0s 6ms/step - loss: 6.8669 - mae: 6.8669\n",
            "Epoch 95/100\n",
            "1/1 [==============================] - 0s 4ms/step - loss: 6.8613 - mae: 6.8613\n",
            "Epoch 96/100\n",
            "1/1 [==============================] - 0s 6ms/step - loss: 6.8556 - mae: 6.8556\n",
            "Epoch 97/100\n",
            "1/1 [==============================] - 0s 4ms/step - loss: 6.8500 - mae: 6.8500\n",
            "Epoch 98/100\n",
            "1/1 [==============================] - 0s 6ms/step - loss: 6.8444 - mae: 6.8444\n",
            "Epoch 99/100\n",
            "1/1 [==============================] - 0s 5ms/step - loss: 6.8388 - mae: 6.8388\n",
            "Epoch 100/100\n",
            "1/1 [==============================] - 0s 8ms/step - loss: 6.8331 - mae: 6.8331\n"
          ],
          "name": "stdout"
        },
        {
          "output_type": "execute_result",
          "data": {
            "text/plain": [
              "<tensorflow.python.keras.callbacks.History at 0x7f7e44e9e190>"
            ]
          },
          "metadata": {
            "tags": []
          },
          "execution_count": 14
        }
      ]
    },
    {
      "cell_type": "code",
      "metadata": {
        "colab": {
          "base_uri": "https://localhost:8080/"
        },
        "id": "h0v1pF-__Kmg",
        "outputId": "1d7d5dbd-3bb5-43fe-bac7-99164f2061a1"
      },
      "source": [
        "model.predict([17.0])"
      ],
      "execution_count": 15,
      "outputs": [
        {
          "output_type": "execute_result",
          "data": {
            "text/plain": [
              "array([[30.934855]], dtype=float32)"
            ]
          },
          "metadata": {
            "tags": []
          },
          "execution_count": 15
        }
      ]
    },
    {
      "cell_type": "code",
      "metadata": {
        "colab": {
          "base_uri": "https://localhost:8080/"
        },
        "id": "I8hnpDtV_oH3",
        "outputId": "e078fb7f-378a-4c61-f6a3-66848602e5c7"
      },
      "source": [
        "X, y"
      ],
      "execution_count": 16,
      "outputs": [
        {
          "output_type": "execute_result",
          "data": {
            "text/plain": [
              "(<tf.Tensor: shape=(8,), dtype=float64, numpy=array([-7., -4., -1.,  2.,  5.,  8., 11., 14.])>,\n",
              " <tf.Tensor: shape=(8,), dtype=float64, numpy=array([ 3. ,  6.6,  9. , 12. , 15. , 18. , 21. , 25. ])>)"
            ]
          },
          "metadata": {
            "tags": []
          },
          "execution_count": 16
        }
      ]
    },
    {
      "cell_type": "code",
      "metadata": {
        "colab": {
          "base_uri": "https://localhost:8080/"
        },
        "id": "zXuReM8iAQAX",
        "outputId": "c1c7b6b7-3037-4e72-e466-79f6c913ff86"
      },
      "source": [
        "# 1. Create the model\n",
        "model = tf.keras.Sequential([\n",
        "                             tf.keras.layers.Dense(1, input_shape=(1,)),\n",
        "                             tf.keras.layers.Dense(2),\n",
        "                             tf.keras.layers.Dense(1)\n",
        "])\n",
        "\n",
        "# 2.Compile model\n",
        "model.compile(loss=tf.keras.losses.mae,\n",
        "              optimizer = tf.keras.optimizers.Adam(),\n",
        "              metrics = ['mae'])\n",
        "\n",
        "# 3. Fit the model\n",
        "model.fit(X,y, epochs=55)"
      ],
      "execution_count": 17,
      "outputs": [
        {
          "output_type": "stream",
          "text": [
            "Epoch 1/55\n",
            "1/1 [==============================] - 0s 386ms/step - loss: 11.9866 - mae: 11.9866\n",
            "Epoch 2/55\n",
            "1/1 [==============================] - 0s 8ms/step - loss: 11.9763 - mae: 11.9763\n",
            "Epoch 3/55\n",
            "1/1 [==============================] - 0s 11ms/step - loss: 11.9659 - mae: 11.9659\n",
            "Epoch 4/55\n",
            "1/1 [==============================] - 0s 8ms/step - loss: 11.9555 - mae: 11.9555\n",
            "Epoch 5/55\n",
            "1/1 [==============================] - 0s 6ms/step - loss: 11.9450 - mae: 11.9450\n",
            "Epoch 6/55\n",
            "1/1 [==============================] - 0s 9ms/step - loss: 11.9345 - mae: 11.9345\n",
            "Epoch 7/55\n",
            "1/1 [==============================] - 0s 5ms/step - loss: 11.9240 - mae: 11.9240\n",
            "Epoch 8/55\n",
            "1/1 [==============================] - 0s 5ms/step - loss: 11.9134 - mae: 11.9134\n",
            "Epoch 9/55\n",
            "1/1 [==============================] - 0s 9ms/step - loss: 11.9028 - mae: 11.9028\n",
            "Epoch 10/55\n",
            "1/1 [==============================] - 0s 4ms/step - loss: 11.8921 - mae: 11.8921\n",
            "Epoch 11/55\n",
            "1/1 [==============================] - 0s 4ms/step - loss: 11.8814 - mae: 11.8814\n",
            "Epoch 12/55\n",
            "1/1 [==============================] - 0s 6ms/step - loss: 11.8707 - mae: 11.8707\n",
            "Epoch 13/55\n",
            "1/1 [==============================] - 0s 5ms/step - loss: 11.8599 - mae: 11.8599\n",
            "Epoch 14/55\n",
            "1/1 [==============================] - 0s 6ms/step - loss: 11.8491 - mae: 11.8491\n",
            "Epoch 15/55\n",
            "1/1 [==============================] - 0s 5ms/step - loss: 11.8382 - mae: 11.8382\n",
            "Epoch 16/55\n",
            "1/1 [==============================] - 0s 5ms/step - loss: 11.8273 - mae: 11.8273\n",
            "Epoch 17/55\n",
            "1/1 [==============================] - 0s 5ms/step - loss: 11.8164 - mae: 11.8164\n",
            "Epoch 18/55\n",
            "1/1 [==============================] - 0s 7ms/step - loss: 11.8054 - mae: 11.8054\n",
            "Epoch 19/55\n",
            "1/1 [==============================] - 0s 3ms/step - loss: 11.7943 - mae: 11.7943\n",
            "Epoch 20/55\n",
            "1/1 [==============================] - 0s 5ms/step - loss: 11.7832 - mae: 11.7832\n",
            "Epoch 21/55\n",
            "1/1 [==============================] - 0s 12ms/step - loss: 11.7721 - mae: 11.7721\n",
            "Epoch 22/55\n",
            "1/1 [==============================] - 0s 5ms/step - loss: 11.7609 - mae: 11.7609\n",
            "Epoch 23/55\n",
            "1/1 [==============================] - 0s 11ms/step - loss: 11.7497 - mae: 11.7497\n",
            "Epoch 24/55\n",
            "1/1 [==============================] - 0s 23ms/step - loss: 11.7384 - mae: 11.7384\n",
            "Epoch 25/55\n",
            "1/1 [==============================] - 0s 7ms/step - loss: 11.7271 - mae: 11.7271\n",
            "Epoch 26/55\n",
            "1/1 [==============================] - 0s 5ms/step - loss: 11.7157 - mae: 11.7157\n",
            "Epoch 27/55\n",
            "1/1 [==============================] - 0s 6ms/step - loss: 11.7043 - mae: 11.7043\n",
            "Epoch 28/55\n",
            "1/1 [==============================] - 0s 4ms/step - loss: 11.6928 - mae: 11.6928\n",
            "Epoch 29/55\n",
            "1/1 [==============================] - 0s 5ms/step - loss: 11.6813 - mae: 11.6813\n",
            "Epoch 30/55\n",
            "1/1 [==============================] - 0s 17ms/step - loss: 11.6697 - mae: 11.6697\n",
            "Epoch 31/55\n",
            "1/1 [==============================] - 0s 5ms/step - loss: 11.6581 - mae: 11.6581\n",
            "Epoch 32/55\n",
            "1/1 [==============================] - 0s 4ms/step - loss: 11.6464 - mae: 11.6464\n",
            "Epoch 33/55\n",
            "1/1 [==============================] - 0s 5ms/step - loss: 11.6347 - mae: 11.6347\n",
            "Epoch 34/55\n",
            "1/1 [==============================] - 0s 9ms/step - loss: 11.6229 - mae: 11.6229\n",
            "Epoch 35/55\n",
            "1/1 [==============================] - 0s 4ms/step - loss: 11.6110 - mae: 11.6110\n",
            "Epoch 36/55\n",
            "1/1 [==============================] - 0s 4ms/step - loss: 11.5991 - mae: 11.5991\n",
            "Epoch 37/55\n",
            "1/1 [==============================] - 0s 5ms/step - loss: 11.5872 - mae: 11.5872\n",
            "Epoch 38/55\n",
            "1/1 [==============================] - 0s 7ms/step - loss: 11.5752 - mae: 11.5752\n",
            "Epoch 39/55\n",
            "1/1 [==============================] - 0s 5ms/step - loss: 11.5631 - mae: 11.5631\n",
            "Epoch 40/55\n",
            "1/1 [==============================] - 0s 4ms/step - loss: 11.5510 - mae: 11.5510\n",
            "Epoch 41/55\n",
            "1/1 [==============================] - 0s 4ms/step - loss: 11.5388 - mae: 11.5388\n",
            "Epoch 42/55\n",
            "1/1 [==============================] - 0s 7ms/step - loss: 11.5266 - mae: 11.5266\n",
            "Epoch 43/55\n",
            "1/1 [==============================] - 0s 3ms/step - loss: 11.5143 - mae: 11.5143\n",
            "Epoch 44/55\n",
            "1/1 [==============================] - 0s 3ms/step - loss: 11.5019 - mae: 11.5019\n",
            "Epoch 45/55\n",
            "1/1 [==============================] - 0s 3ms/step - loss: 11.4895 - mae: 11.4895\n",
            "Epoch 46/55\n",
            "1/1 [==============================] - 0s 4ms/step - loss: 11.4770 - mae: 11.4770\n",
            "Epoch 47/55\n",
            "1/1 [==============================] - 0s 5ms/step - loss: 11.4645 - mae: 11.4645\n",
            "Epoch 48/55\n",
            "1/1 [==============================] - 0s 5ms/step - loss: 11.4519 - mae: 11.4519\n",
            "Epoch 49/55\n",
            "1/1 [==============================] - 0s 5ms/step - loss: 11.4393 - mae: 11.4393\n",
            "Epoch 50/55\n",
            "1/1 [==============================] - 0s 5ms/step - loss: 11.4265 - mae: 11.4265\n",
            "Epoch 51/55\n",
            "1/1 [==============================] - 0s 6ms/step - loss: 11.4138 - mae: 11.4138\n",
            "Epoch 52/55\n",
            "1/1 [==============================] - 0s 6ms/step - loss: 11.4009 - mae: 11.4009\n",
            "Epoch 53/55\n",
            "1/1 [==============================] - 0s 5ms/step - loss: 11.3880 - mae: 11.3880\n",
            "Epoch 54/55\n",
            "1/1 [==============================] - 0s 5ms/step - loss: 11.3751 - mae: 11.3751\n",
            "Epoch 55/55\n",
            "1/1 [==============================] - 0s 5ms/step - loss: 11.3621 - mae: 11.3621\n"
          ],
          "name": "stdout"
        },
        {
          "output_type": "execute_result",
          "data": {
            "text/plain": [
              "<tensorflow.python.keras.callbacks.History at 0x7f7e43de7b10>"
            ]
          },
          "metadata": {
            "tags": []
          },
          "execution_count": 17
        }
      ]
    },
    {
      "cell_type": "code",
      "metadata": {
        "colab": {
          "base_uri": "https://localhost:8080/"
        },
        "id": "psFS5wANCLCO",
        "outputId": "25e74095-01e1-4ff2-cf4e-7862e6c5f0ba"
      },
      "source": [
        "# 1. create the model ( and add 1 hidden layer with 100 nodes)\n",
        "model = tf.keras.Sequential([\n",
        "  tf.keras.layers.Dense(100, activation = \"relu\"),\n",
        "  tf.keras.layers.Dense(1)\n",
        "]) \n",
        "\n",
        "# 2. compile the model\n",
        "model.compile(loss=tf.keras.losses.mae,\n",
        "              optimizer=tf.keras.optimizers.SGD(),\n",
        "              metrics=['mae'])\n",
        "\n",
        "# 3. fit the model\n",
        "model.fit(X,y, epochs=100)"
      ],
      "execution_count": 18,
      "outputs": [
        {
          "output_type": "stream",
          "text": [
            "Epoch 1/100\n",
            "1/1 [==============================] - 0s 474ms/step - loss: 13.7267 - mae: 13.7267\n",
            "Epoch 2/100\n",
            "1/1 [==============================] - 0s 6ms/step - loss: 13.1594 - mae: 13.1594\n",
            "Epoch 3/100\n",
            "1/1 [==============================] - 0s 4ms/step - loss: 12.5983 - mae: 12.5983\n",
            "Epoch 4/100\n",
            "1/1 [==============================] - 0s 5ms/step - loss: 12.0281 - mae: 12.0281\n",
            "Epoch 5/100\n",
            "1/1 [==============================] - 0s 5ms/step - loss: 11.4463 - mae: 11.4463\n",
            "Epoch 6/100\n",
            "1/1 [==============================] - 0s 3ms/step - loss: 10.8465 - mae: 10.8465\n",
            "Epoch 7/100\n",
            "1/1 [==============================] - 0s 6ms/step - loss: 10.2294 - mae: 10.2294\n",
            "Epoch 8/100\n",
            "1/1 [==============================] - 0s 4ms/step - loss: 9.5938 - mae: 9.5938\n",
            "Epoch 9/100\n",
            "1/1 [==============================] - 0s 4ms/step - loss: 8.9211 - mae: 8.9211\n",
            "Epoch 10/100\n",
            "1/1 [==============================] - 0s 5ms/step - loss: 8.2110 - mae: 8.2110\n",
            "Epoch 11/100\n",
            "1/1 [==============================] - 0s 3ms/step - loss: 7.4573 - mae: 7.4573\n",
            "Epoch 12/100\n",
            "1/1 [==============================] - 0s 3ms/step - loss: 6.6531 - mae: 6.6531\n",
            "Epoch 13/100\n",
            "1/1 [==============================] - 0s 7ms/step - loss: 5.7874 - mae: 5.7874\n",
            "Epoch 14/100\n",
            "1/1 [==============================] - 0s 3ms/step - loss: 4.8583 - mae: 4.8583\n",
            "Epoch 15/100\n",
            "1/1 [==============================] - 0s 4ms/step - loss: 3.9882 - mae: 3.9882\n",
            "Epoch 16/100\n",
            "1/1 [==============================] - 0s 3ms/step - loss: 3.8905 - mae: 3.8905\n",
            "Epoch 17/100\n",
            "1/1 [==============================] - 0s 5ms/step - loss: 3.8862 - mae: 3.8862\n",
            "Epoch 18/100\n",
            "1/1 [==============================] - 0s 7ms/step - loss: 3.8647 - mae: 3.8647\n",
            "Epoch 19/100\n",
            "1/1 [==============================] - 0s 4ms/step - loss: 3.8927 - mae: 3.8927\n",
            "Epoch 20/100\n",
            "1/1 [==============================] - 0s 5ms/step - loss: 3.8477 - mae: 3.8477\n",
            "Epoch 21/100\n",
            "1/1 [==============================] - 0s 7ms/step - loss: 3.9083 - mae: 3.9083\n",
            "Epoch 22/100\n",
            "1/1 [==============================] - 0s 4ms/step - loss: 3.8404 - mae: 3.8404\n",
            "Epoch 23/100\n",
            "1/1 [==============================] - 0s 4ms/step - loss: 3.8947 - mae: 3.8947\n",
            "Epoch 24/100\n",
            "1/1 [==============================] - 0s 7ms/step - loss: 3.8469 - mae: 3.8469\n",
            "Epoch 25/100\n",
            "1/1 [==============================] - 0s 5ms/step - loss: 3.8688 - mae: 3.8688\n",
            "Epoch 26/100\n",
            "1/1 [==============================] - 0s 12ms/step - loss: 3.8535 - mae: 3.8535\n",
            "Epoch 27/100\n",
            "1/1 [==============================] - 0s 6ms/step - loss: 3.8428 - mae: 3.8428\n",
            "Epoch 28/100\n",
            "1/1 [==============================] - 0s 4ms/step - loss: 3.8669 - mae: 3.8669\n",
            "Epoch 29/100\n",
            "1/1 [==============================] - 0s 5ms/step - loss: 3.8249 - mae: 3.8249\n",
            "Epoch 30/100\n",
            "1/1 [==============================] - 0s 7ms/step - loss: 3.8760 - mae: 3.8760\n",
            "Epoch 31/100\n",
            "1/1 [==============================] - 0s 4ms/step - loss: 3.8086 - mae: 3.8086\n",
            "Epoch 32/100\n",
            "1/1 [==============================] - 0s 4ms/step - loss: 3.8719 - mae: 3.8719\n",
            "Epoch 33/100\n",
            "1/1 [==============================] - 0s 4ms/step - loss: 3.8153 - mae: 3.8153\n",
            "Epoch 34/100\n",
            "1/1 [==============================] - 0s 5ms/step - loss: 3.8458 - mae: 3.8458\n",
            "Epoch 35/100\n",
            "1/1 [==============================] - 0s 7ms/step - loss: 3.8221 - mae: 3.8221\n",
            "Epoch 36/100\n",
            "1/1 [==============================] - 0s 3ms/step - loss: 3.8244 - mae: 3.8244\n",
            "Epoch 37/100\n",
            "1/1 [==============================] - 0s 7ms/step - loss: 3.8379 - mae: 3.8379\n",
            "Epoch 38/100\n",
            "1/1 [==============================] - 0s 5ms/step - loss: 3.8013 - mae: 3.8013\n",
            "Epoch 39/100\n",
            "1/1 [==============================] - 0s 4ms/step - loss: 3.8449 - mae: 3.8449\n",
            "Epoch 40/100\n",
            "1/1 [==============================] - 0s 10ms/step - loss: 3.7779 - mae: 3.7779\n",
            "Epoch 41/100\n",
            "1/1 [==============================] - 0s 4ms/step - loss: 3.8478 - mae: 3.8478\n",
            "Epoch 42/100\n",
            "1/1 [==============================] - 0s 5ms/step - loss: 3.7848 - mae: 3.7848\n",
            "Epoch 43/100\n",
            "1/1 [==============================] - 0s 4ms/step - loss: 3.8214 - mae: 3.8214\n",
            "Epoch 44/100\n",
            "1/1 [==============================] - 0s 4ms/step - loss: 3.7943 - mae: 3.7943\n",
            "Epoch 45/100\n",
            "1/1 [==============================] - 0s 4ms/step - loss: 3.8031 - mae: 3.8031\n",
            "Epoch 46/100\n",
            "1/1 [==============================] - 0s 5ms/step - loss: 3.8079 - mae: 3.8079\n",
            "Epoch 47/100\n",
            "1/1 [==============================] - 0s 4ms/step - loss: 3.7763 - mae: 3.7763\n",
            "Epoch 48/100\n",
            "1/1 [==============================] - 0s 4ms/step - loss: 3.8151 - mae: 3.8151\n",
            "Epoch 49/100\n",
            "1/1 [==============================] - 0s 4ms/step - loss: 3.7494 - mae: 3.7494\n",
            "Epoch 50/100\n",
            "1/1 [==============================] - 0s 5ms/step - loss: 3.8224 - mae: 3.8224\n",
            "Epoch 51/100\n",
            "1/1 [==============================] - 0s 4ms/step - loss: 3.7554 - mae: 3.7554\n",
            "Epoch 52/100\n",
            "1/1 [==============================] - 0s 4ms/step - loss: 3.7962 - mae: 3.7962\n",
            "Epoch 53/100\n",
            "1/1 [==============================] - 0s 4ms/step - loss: 3.7716 - mae: 3.7716\n",
            "Epoch 54/100\n",
            "1/1 [==============================] - 0s 3ms/step - loss: 3.7771 - mae: 3.7771\n",
            "Epoch 55/100\n",
            "1/1 [==============================] - 0s 4ms/step - loss: 3.7789 - mae: 3.7789\n",
            "Epoch 56/100\n",
            "1/1 [==============================] - 0s 4ms/step - loss: 3.7500 - mae: 3.7500\n",
            "Epoch 57/100\n",
            "1/1 [==============================] - 0s 4ms/step - loss: 3.7863 - mae: 3.7863\n",
            "Epoch 58/100\n",
            "1/1 [==============================] - 0s 5ms/step - loss: 3.7228 - mae: 3.7228\n",
            "Epoch 59/100\n",
            "1/1 [==============================] - 0s 4ms/step - loss: 3.7938 - mae: 3.7938\n",
            "Epoch 60/100\n",
            "1/1 [==============================] - 0s 4ms/step - loss: 3.7272 - mae: 3.7272\n",
            "Epoch 61/100\n",
            "1/1 [==============================] - 0s 4ms/step - loss: 3.7754 - mae: 3.7754\n",
            "Epoch 62/100\n",
            "1/1 [==============================] - 0s 4ms/step - loss: 3.7435 - mae: 3.7435\n",
            "Epoch 63/100\n",
            "1/1 [==============================] - 0s 6ms/step - loss: 3.7498 - mae: 3.7498\n",
            "Epoch 64/100\n",
            "1/1 [==============================] - 0s 4ms/step - loss: 3.7510 - mae: 3.7510\n",
            "Epoch 65/100\n",
            "1/1 [==============================] - 0s 4ms/step - loss: 3.7224 - mae: 3.7224\n",
            "Epoch 66/100\n",
            "1/1 [==============================] - 0s 4ms/step - loss: 3.7586 - mae: 3.7586\n",
            "Epoch 67/100\n",
            "1/1 [==============================] - 0s 4ms/step - loss: 3.6949 - mae: 3.6949\n",
            "Epoch 68/100\n",
            "1/1 [==============================] - 0s 4ms/step - loss: 3.7663 - mae: 3.7663\n",
            "Epoch 69/100\n",
            "1/1 [==============================] - 0s 5ms/step - loss: 3.7038 - mae: 3.7038\n",
            "Epoch 70/100\n",
            "1/1 [==============================] - 0s 4ms/step - loss: 3.7487 - mae: 3.7487\n",
            "Epoch 71/100\n",
            "1/1 [==============================] - 0s 4ms/step - loss: 3.7164 - mae: 3.7164\n",
            "Epoch 72/100\n",
            "1/1 [==============================] - 0s 4ms/step - loss: 3.7211 - mae: 3.7211\n",
            "Epoch 73/100\n",
            "1/1 [==============================] - 0s 7ms/step - loss: 3.7241 - mae: 3.7241\n",
            "Epoch 74/100\n",
            "1/1 [==============================] - 0s 4ms/step - loss: 3.6935 - mae: 3.6935\n",
            "Epoch 75/100\n",
            "1/1 [==============================] - 0s 4ms/step - loss: 3.7319 - mae: 3.7319\n",
            "Epoch 76/100\n",
            "1/1 [==============================] - 0s 5ms/step - loss: 3.6662 - mae: 3.6662\n",
            "Epoch 77/100\n",
            "1/1 [==============================] - 0s 6ms/step - loss: 3.7399 - mae: 3.7399\n",
            "Epoch 78/100\n",
            "1/1 [==============================] - 0s 4ms/step - loss: 3.6827 - mae: 3.6827\n",
            "Epoch 79/100\n",
            "1/1 [==============================] - 0s 5ms/step - loss: 3.7190 - mae: 3.7190\n",
            "Epoch 80/100\n",
            "1/1 [==============================] - 0s 5ms/step - loss: 3.6905 - mae: 3.6905\n",
            "Epoch 81/100\n",
            "1/1 [==============================] - 0s 6ms/step - loss: 3.6911 - mae: 3.6911\n",
            "Epoch 82/100\n",
            "1/1 [==============================] - 0s 5ms/step - loss: 3.6984 - mae: 3.6984\n",
            "Epoch 83/100\n",
            "1/1 [==============================] - 0s 5ms/step - loss: 3.6632 - mae: 3.6632\n",
            "Epoch 84/100\n",
            "1/1 [==============================] - 0s 5ms/step - loss: 3.7064 - mae: 3.7064\n",
            "Epoch 85/100\n",
            "1/1 [==============================] - 0s 6ms/step - loss: 3.6409 - mae: 3.6409\n",
            "Epoch 86/100\n",
            "1/1 [==============================] - 0s 3ms/step - loss: 3.7150 - mae: 3.7150\n",
            "Epoch 87/100\n",
            "1/1 [==============================] - 0s 5ms/step - loss: 3.6577 - mae: 3.6577\n",
            "Epoch 88/100\n",
            "1/1 [==============================] - 0s 5ms/step - loss: 3.6880 - mae: 3.6880\n",
            "Epoch 89/100\n",
            "1/1 [==============================] - 0s 8ms/step - loss: 3.6656 - mae: 3.6656\n",
            "Epoch 90/100\n",
            "1/1 [==============================] - 0s 4ms/step - loss: 3.6598 - mae: 3.6598\n",
            "Epoch 91/100\n",
            "1/1 [==============================] - 0s 4ms/step - loss: 3.6736 - mae: 3.6736\n",
            "Epoch 92/100\n",
            "1/1 [==============================] - 0s 3ms/step - loss: 3.6315 - mae: 3.6315\n",
            "Epoch 93/100\n",
            "1/1 [==============================] - 0s 6ms/step - loss: 3.6818 - mae: 3.6818\n",
            "Epoch 94/100\n",
            "1/1 [==============================] - 0s 5ms/step - loss: 3.6210 - mae: 3.6210\n",
            "Epoch 95/100\n",
            "1/1 [==============================] - 0s 6ms/step - loss: 3.6840 - mae: 3.6840\n",
            "Epoch 96/100\n",
            "1/1 [==============================] - 0s 6ms/step - loss: 3.6335 - mae: 3.6335\n",
            "Epoch 97/100\n",
            "1/1 [==============================] - 0s 4ms/step - loss: 3.6556 - mae: 3.6556\n",
            "Epoch 98/100\n",
            "1/1 [==============================] - 0s 15ms/step - loss: 3.6416 - mae: 3.6416\n",
            "Epoch 99/100\n",
            "1/1 [==============================] - 0s 36ms/step - loss: 3.6271 - mae: 3.6271\n",
            "Epoch 100/100\n",
            "1/1 [==============================] - 0s 6ms/step - loss: 3.6499 - mae: 3.6499\n"
          ],
          "name": "stdout"
        },
        {
          "output_type": "execute_result",
          "data": {
            "text/plain": [
              "<tensorflow.python.keras.callbacks.History at 0x7f7e434edd90>"
            ]
          },
          "metadata": {
            "tags": []
          },
          "execution_count": 18
        }
      ]
    },
    {
      "cell_type": "code",
      "metadata": {
        "colab": {
          "base_uri": "https://localhost:8080/"
        },
        "id": "pqvLR7UmKJEV",
        "outputId": "a6048a81-4cc9-4457-d1d1-71fed04fb0fe"
      },
      "source": [
        "model.predict([17.0])"
      ],
      "execution_count": 19,
      "outputs": [
        {
          "output_type": "execute_result",
          "data": {
            "text/plain": [
              "array([[31.824467]], dtype=float32)"
            ]
          },
          "metadata": {
            "tags": []
          },
          "execution_count": 19
        }
      ]
    },
    {
      "cell_type": "code",
      "metadata": {
        "colab": {
          "base_uri": "https://localhost:8080/"
        },
        "id": "TH2NiI2bKkXV",
        "outputId": "2dd0967c-4b55-4dda-dc73-d7ccbc22f19f"
      },
      "source": [
        "# 1. create the model ( and add 1 hidden layer with 100 nodes)\n",
        "model = tf.keras.Sequential([\n",
        "  tf.keras.layers.Dense(100, activation = \"relu\"),\n",
        "  tf.keras.layers.Dense(1)\n",
        "]) \n",
        "\n",
        "# 2. compile the model\n",
        "model.compile(loss=tf.keras.losses.mae,\n",
        "              optimizer=tf.keras.optimizers.Adam(learning_rate=0.01),\n",
        "              metrics=['mae'])\n",
        "\n",
        "# 3. fit the model\n",
        "model.fit(X,y, epochs=100)"
      ],
      "execution_count": 20,
      "outputs": [
        {
          "output_type": "stream",
          "text": [
            "Epoch 1/100\n",
            "1/1 [==============================] - 1s 504ms/step - loss: 12.7326 - mae: 12.7326\n",
            "Epoch 2/100\n",
            "1/1 [==============================] - 0s 7ms/step - loss: 11.7901 - mae: 11.7901\n",
            "Epoch 3/100\n",
            "1/1 [==============================] - 0s 6ms/step - loss: 10.8363 - mae: 10.8363\n",
            "Epoch 4/100\n",
            "1/1 [==============================] - 0s 5ms/step - loss: 9.8681 - mae: 9.8681\n",
            "Epoch 5/100\n",
            "1/1 [==============================] - 0s 9ms/step - loss: 9.0655 - mae: 9.0655\n",
            "Epoch 6/100\n",
            "1/1 [==============================] - 0s 4ms/step - loss: 8.2681 - mae: 8.2681\n",
            "Epoch 7/100\n",
            "1/1 [==============================] - 0s 9ms/step - loss: 7.4447 - mae: 7.4447\n",
            "Epoch 8/100\n",
            "1/1 [==============================] - 0s 4ms/step - loss: 6.5927 - mae: 6.5927\n",
            "Epoch 9/100\n",
            "1/1 [==============================] - 0s 4ms/step - loss: 5.7186 - mae: 5.7186\n",
            "Epoch 10/100\n",
            "1/1 [==============================] - 0s 4ms/step - loss: 4.8064 - mae: 4.8064\n",
            "Epoch 11/100\n",
            "1/1 [==============================] - 0s 5ms/step - loss: 3.8916 - mae: 3.8916\n",
            "Epoch 12/100\n",
            "1/1 [==============================] - 0s 9ms/step - loss: 3.8284 - mae: 3.8284\n",
            "Epoch 13/100\n",
            "1/1 [==============================] - 0s 14ms/step - loss: 3.9974 - mae: 3.9974\n",
            "Epoch 14/100\n",
            "1/1 [==============================] - 0s 7ms/step - loss: 4.3121 - mae: 4.3121\n",
            "Epoch 15/100\n",
            "1/1 [==============================] - 0s 4ms/step - loss: 4.5941 - mae: 4.5941\n",
            "Epoch 16/100\n",
            "1/1 [==============================] - 0s 4ms/step - loss: 4.7529 - mae: 4.7529\n",
            "Epoch 17/100\n",
            "1/1 [==============================] - 0s 5ms/step - loss: 4.8061 - mae: 4.8061\n",
            "Epoch 18/100\n",
            "1/1 [==============================] - 0s 6ms/step - loss: 4.7692 - mae: 4.7692\n",
            "Epoch 19/100\n",
            "1/1 [==============================] - 0s 4ms/step - loss: 4.6575 - mae: 4.6575\n",
            "Epoch 20/100\n",
            "1/1 [==============================] - 0s 5ms/step - loss: 4.4826 - mae: 4.4826\n",
            "Epoch 21/100\n",
            "1/1 [==============================] - 0s 12ms/step - loss: 4.2563 - mae: 4.2563\n",
            "Epoch 22/100\n",
            "1/1 [==============================] - 0s 8ms/step - loss: 3.9928 - mae: 3.9928\n",
            "Epoch 23/100\n",
            "1/1 [==============================] - 0s 6ms/step - loss: 3.7784 - mae: 3.7784\n",
            "Epoch 24/100\n",
            "1/1 [==============================] - 0s 9ms/step - loss: 3.6571 - mae: 3.6571\n",
            "Epoch 25/100\n",
            "1/1 [==============================] - 0s 7ms/step - loss: 3.5382 - mae: 3.5382\n",
            "Epoch 26/100\n",
            "1/1 [==============================] - 0s 4ms/step - loss: 3.4197 - mae: 3.4197\n",
            "Epoch 27/100\n",
            "1/1 [==============================] - 0s 4ms/step - loss: 3.4809 - mae: 3.4809\n",
            "Epoch 28/100\n",
            "1/1 [==============================] - 0s 6ms/step - loss: 3.6187 - mae: 3.6187\n",
            "Epoch 29/100\n",
            "1/1 [==============================] - 0s 4ms/step - loss: 3.6544 - mae: 3.6544\n",
            "Epoch 30/100\n",
            "1/1 [==============================] - 0s 5ms/step - loss: 3.5284 - mae: 3.5284\n",
            "Epoch 31/100\n",
            "1/1 [==============================] - 0s 14ms/step - loss: 3.3079 - mae: 3.3079\n",
            "Epoch 32/100\n",
            "1/1 [==============================] - 0s 9ms/step - loss: 3.1672 - mae: 3.1672\n",
            "Epoch 33/100\n",
            "1/1 [==============================] - 0s 8ms/step - loss: 3.1194 - mae: 3.1194\n",
            "Epoch 34/100\n",
            "1/1 [==============================] - 0s 8ms/step - loss: 3.1104 - mae: 3.1104\n",
            "Epoch 35/100\n",
            "1/1 [==============================] - 0s 8ms/step - loss: 3.0868 - mae: 3.0868\n",
            "Epoch 36/100\n",
            "1/1 [==============================] - 0s 8ms/step - loss: 3.0583 - mae: 3.0583\n",
            "Epoch 37/100\n",
            "1/1 [==============================] - 0s 7ms/step - loss: 3.0639 - mae: 3.0639\n",
            "Epoch 38/100\n",
            "1/1 [==============================] - 0s 9ms/step - loss: 3.0121 - mae: 3.0121\n",
            "Epoch 39/100\n",
            "1/1 [==============================] - 0s 6ms/step - loss: 2.9082 - mae: 2.9082\n",
            "Epoch 40/100\n",
            "1/1 [==============================] - 0s 7ms/step - loss: 2.8284 - mae: 2.8284\n",
            "Epoch 41/100\n",
            "1/1 [==============================] - 0s 6ms/step - loss: 2.7386 - mae: 2.7386\n",
            "Epoch 42/100\n",
            "1/1 [==============================] - 0s 7ms/step - loss: 2.6459 - mae: 2.6459\n",
            "Epoch 43/100\n",
            "1/1 [==============================] - 0s 7ms/step - loss: 2.5439 - mae: 2.5439\n",
            "Epoch 44/100\n",
            "1/1 [==============================] - 0s 7ms/step - loss: 2.4353 - mae: 2.4353\n",
            "Epoch 45/100\n",
            "1/1 [==============================] - 0s 6ms/step - loss: 2.3213 - mae: 2.3213\n",
            "Epoch 46/100\n",
            "1/1 [==============================] - 0s 8ms/step - loss: 2.1952 - mae: 2.1952\n",
            "Epoch 47/100\n",
            "1/1 [==============================] - 0s 9ms/step - loss: 2.0688 - mae: 2.0688\n",
            "Epoch 48/100\n",
            "1/1 [==============================] - 0s 9ms/step - loss: 1.9570 - mae: 1.9570\n",
            "Epoch 49/100\n",
            "1/1 [==============================] - 0s 6ms/step - loss: 1.8133 - mae: 1.8133\n",
            "Epoch 50/100\n",
            "1/1 [==============================] - 0s 7ms/step - loss: 1.7067 - mae: 1.7067\n",
            "Epoch 51/100\n",
            "1/1 [==============================] - 0s 9ms/step - loss: 1.5806 - mae: 1.5806\n",
            "Epoch 52/100\n",
            "1/1 [==============================] - 0s 6ms/step - loss: 1.4411 - mae: 1.4411\n",
            "Epoch 53/100\n",
            "1/1 [==============================] - 0s 10ms/step - loss: 1.3135 - mae: 1.3135\n",
            "Epoch 54/100\n",
            "1/1 [==============================] - 0s 16ms/step - loss: 1.1843 - mae: 1.1843\n",
            "Epoch 55/100\n",
            "1/1 [==============================] - 0s 6ms/step - loss: 1.1257 - mae: 1.1257\n",
            "Epoch 56/100\n",
            "1/1 [==============================] - 0s 6ms/step - loss: 1.0194 - mae: 1.0194\n",
            "Epoch 57/100\n",
            "1/1 [==============================] - 0s 5ms/step - loss: 0.8057 - mae: 0.8057\n",
            "Epoch 58/100\n",
            "1/1 [==============================] - 0s 6ms/step - loss: 0.7149 - mae: 0.7149\n",
            "Epoch 59/100\n",
            "1/1 [==============================] - 0s 6ms/step - loss: 0.7101 - mae: 0.7101\n",
            "Epoch 60/100\n",
            "1/1 [==============================] - 0s 7ms/step - loss: 0.4173 - mae: 0.4173\n",
            "Epoch 61/100\n",
            "1/1 [==============================] - 0s 6ms/step - loss: 0.6185 - mae: 0.6185\n",
            "Epoch 62/100\n",
            "1/1 [==============================] - 0s 8ms/step - loss: 0.5910 - mae: 0.5910\n",
            "Epoch 63/100\n",
            "1/1 [==============================] - 0s 5ms/step - loss: 0.5529 - mae: 0.5529\n",
            "Epoch 64/100\n",
            "1/1 [==============================] - 0s 6ms/step - loss: 0.5978 - mae: 0.5978\n",
            "Epoch 65/100\n",
            "1/1 [==============================] - 0s 7ms/step - loss: 0.6071 - mae: 0.6071\n",
            "Epoch 66/100\n",
            "1/1 [==============================] - 0s 6ms/step - loss: 0.4362 - mae: 0.4362\n",
            "Epoch 67/100\n",
            "1/1 [==============================] - 0s 11ms/step - loss: 0.5691 - mae: 0.5691\n",
            "Epoch 68/100\n",
            "1/1 [==============================] - 0s 6ms/step - loss: 0.5856 - mae: 0.5856\n",
            "Epoch 69/100\n",
            "1/1 [==============================] - 0s 5ms/step - loss: 0.5993 - mae: 0.5993\n",
            "Epoch 70/100\n",
            "1/1 [==============================] - 0s 9ms/step - loss: 0.5256 - mae: 0.5256\n",
            "Epoch 71/100\n",
            "1/1 [==============================] - 0s 5ms/step - loss: 0.5130 - mae: 0.5130\n",
            "Epoch 72/100\n",
            "1/1 [==============================] - 0s 8ms/step - loss: 0.4600 - mae: 0.4600\n",
            "Epoch 73/100\n",
            "1/1 [==============================] - 0s 4ms/step - loss: 0.4174 - mae: 0.4174\n",
            "Epoch 74/100\n",
            "1/1 [==============================] - 0s 6ms/step - loss: 0.3767 - mae: 0.3767\n",
            "Epoch 75/100\n",
            "1/1 [==============================] - 0s 6ms/step - loss: 0.3948 - mae: 0.3948\n",
            "Epoch 76/100\n",
            "1/1 [==============================] - 0s 9ms/step - loss: 0.4274 - mae: 0.4274\n",
            "Epoch 77/100\n",
            "1/1 [==============================] - 0s 9ms/step - loss: 0.3558 - mae: 0.3558\n",
            "Epoch 78/100\n",
            "1/1 [==============================] - 0s 5ms/step - loss: 0.5411 - mae: 0.5411\n",
            "Epoch 79/100\n",
            "1/1 [==============================] - 0s 6ms/step - loss: 0.5040 - mae: 0.5040\n",
            "Epoch 80/100\n",
            "1/1 [==============================] - 0s 11ms/step - loss: 0.3953 - mae: 0.3953\n",
            "Epoch 81/100\n",
            "1/1 [==============================] - 0s 5ms/step - loss: 0.4766 - mae: 0.4766\n",
            "Epoch 82/100\n",
            "1/1 [==============================] - 0s 17ms/step - loss: 0.4962 - mae: 0.4962\n",
            "Epoch 83/100\n",
            "1/1 [==============================] - 0s 6ms/step - loss: 0.4292 - mae: 0.4292\n",
            "Epoch 84/100\n",
            "1/1 [==============================] - 0s 14ms/step - loss: 0.4202 - mae: 0.4202\n",
            "Epoch 85/100\n",
            "1/1 [==============================] - 0s 28ms/step - loss: 0.4291 - mae: 0.4291\n",
            "Epoch 86/100\n",
            "1/1 [==============================] - 0s 9ms/step - loss: 0.3492 - mae: 0.3492\n",
            "Epoch 87/100\n",
            "1/1 [==============================] - 0s 6ms/step - loss: 0.3092 - mae: 0.3092\n",
            "Epoch 88/100\n",
            "1/1 [==============================] - 0s 9ms/step - loss: 0.3819 - mae: 0.3819\n",
            "Epoch 89/100\n",
            "1/1 [==============================] - 0s 9ms/step - loss: 0.2866 - mae: 0.2866\n",
            "Epoch 90/100\n",
            "1/1 [==============================] - 0s 17ms/step - loss: 0.2893 - mae: 0.2893\n",
            "Epoch 91/100\n",
            "1/1 [==============================] - 0s 8ms/step - loss: 0.3119 - mae: 0.3119\n",
            "Epoch 92/100\n",
            "1/1 [==============================] - 0s 10ms/step - loss: 0.3027 - mae: 0.3027\n",
            "Epoch 93/100\n",
            "1/1 [==============================] - 0s 6ms/step - loss: 0.3334 - mae: 0.3334\n",
            "Epoch 94/100\n",
            "1/1 [==============================] - 0s 23ms/step - loss: 0.2971 - mae: 0.2971\n",
            "Epoch 95/100\n",
            "1/1 [==============================] - 0s 9ms/step - loss: 0.3066 - mae: 0.3066\n",
            "Epoch 96/100\n",
            "1/1 [==============================] - 0s 12ms/step - loss: 0.2851 - mae: 0.2851\n",
            "Epoch 97/100\n",
            "1/1 [==============================] - 0s 10ms/step - loss: 0.2711 - mae: 0.2711\n",
            "Epoch 98/100\n",
            "1/1 [==============================] - 0s 9ms/step - loss: 0.3147 - mae: 0.3147\n",
            "Epoch 99/100\n",
            "1/1 [==============================] - 0s 5ms/step - loss: 0.2904 - mae: 0.2904\n",
            "Epoch 100/100\n",
            "1/1 [==============================] - 0s 9ms/step - loss: 0.2498 - mae: 0.2498\n"
          ],
          "name": "stdout"
        },
        {
          "output_type": "execute_result",
          "data": {
            "text/plain": [
              "<tensorflow.python.keras.callbacks.History at 0x7f7e4163fc90>"
            ]
          },
          "metadata": {
            "tags": []
          },
          "execution_count": 20
        }
      ]
    },
    {
      "cell_type": "code",
      "metadata": {
        "colab": {
          "base_uri": "https://localhost:8080/"
        },
        "id": "gnsowD6uL-WO",
        "outputId": "4beffa61-73f2-429e-ac9e-d8e8e1123028"
      },
      "source": [
        "model.predict(tf.constant([17.0]))"
      ],
      "execution_count": 21,
      "outputs": [
        {
          "output_type": "execute_result",
          "data": {
            "text/plain": [
              "array([[28.739023]], dtype=float32)"
            ]
          },
          "metadata": {
            "tags": []
          },
          "execution_count": 21
        }
      ]
    },
    {
      "cell_type": "code",
      "metadata": {
        "colab": {
          "base_uri": "https://localhost:8080/"
        },
        "id": "YpNOVbEfMHot",
        "outputId": "40d792e3-d583-46a4-ddc7-669a52a71218"
      },
      "source": [
        "a_numpy = np.array([17.0])\n",
        "a_numpy"
      ],
      "execution_count": 22,
      "outputs": [
        {
          "output_type": "execute_result",
          "data": {
            "text/plain": [
              "array([17.])"
            ]
          },
          "metadata": {
            "tags": []
          },
          "execution_count": 22
        }
      ]
    },
    {
      "cell_type": "code",
      "metadata": {
        "colab": {
          "base_uri": "https://localhost:8080/"
        },
        "id": "NhCOGY60NYKr",
        "outputId": "78f25ebd-e757-4b8a-c46e-c26994b4038e"
      },
      "source": [
        "a_tf = tf.constant(a_numpy)\n",
        "a_tf"
      ],
      "execution_count": 23,
      "outputs": [
        {
          "output_type": "execute_result",
          "data": {
            "text/plain": [
              "<tf.Tensor: shape=(1,), dtype=float64, numpy=array([17.])>"
            ]
          },
          "metadata": {
            "tags": []
          },
          "execution_count": 23
        }
      ]
    },
    {
      "cell_type": "markdown",
      "metadata": {
        "id": "A38dDJgVNfIN"
      },
      "source": [
        "# Evaluating a model"
      ]
    },
    {
      "cell_type": "code",
      "metadata": {
        "id": "VCz3j0_aN_Ba",
        "colab": {
          "base_uri": "https://localhost:8080/"
        },
        "outputId": "4d15f4ba-4c4a-4bdc-87aa-6b3f78172533"
      },
      "source": [
        "# Make bigger data set\n",
        "X = tf.range(-100, 100,4)\n",
        "X"
      ],
      "execution_count": 24,
      "outputs": [
        {
          "output_type": "execute_result",
          "data": {
            "text/plain": [
              "<tf.Tensor: shape=(50,), dtype=int32, numpy=\n",
              "array([-100,  -96,  -92,  -88,  -84,  -80,  -76,  -72,  -68,  -64,  -60,\n",
              "        -56,  -52,  -48,  -44,  -40,  -36,  -32,  -28,  -24,  -20,  -16,\n",
              "        -12,   -8,   -4,    0,    4,    8,   12,   16,   20,   24,   28,\n",
              "         32,   36,   40,   44,   48,   52,   56,   60,   64,   68,   72,\n",
              "         76,   80,   84,   88,   92,   96], dtype=int32)>"
            ]
          },
          "metadata": {
            "tags": []
          },
          "execution_count": 24
        }
      ]
    },
    {
      "cell_type": "code",
      "metadata": {
        "colab": {
          "base_uri": "https://localhost:8080/"
        },
        "id": "vIkhnMCMqWab",
        "outputId": "9184e472-c365-47eb-8440-0b562813ceeb"
      },
      "source": [
        "# labels for the dataset\n",
        "y = X +10\n",
        "y"
      ],
      "execution_count": 25,
      "outputs": [
        {
          "output_type": "execute_result",
          "data": {
            "text/plain": [
              "<tf.Tensor: shape=(50,), dtype=int32, numpy=\n",
              "array([-90, -86, -82, -78, -74, -70, -66, -62, -58, -54, -50, -46, -42,\n",
              "       -38, -34, -30, -26, -22, -18, -14, -10,  -6,  -2,   2,   6,  10,\n",
              "        14,  18,  22,  26,  30,  34,  38,  42,  46,  50,  54,  58,  62,\n",
              "        66,  70,  74,  78,  82,  86,  90,  94,  98, 102, 106], dtype=int32)>"
            ]
          },
          "metadata": {
            "tags": []
          },
          "execution_count": 25
        }
      ]
    },
    {
      "cell_type": "code",
      "metadata": {
        "colab": {
          "base_uri": "https://localhost:8080/",
          "height": 283
        },
        "id": "cRM-HEVmqzn_",
        "outputId": "c4674496-aea4-487b-cf84-f2ff4e40bf3e"
      },
      "source": [
        "#visualize the data\n",
        "\n",
        "plt.scatter(X,y)"
      ],
      "execution_count": 26,
      "outputs": [
        {
          "output_type": "execute_result",
          "data": {
            "text/plain": [
              "<matplotlib.collections.PathCollection at 0x7f7e40570450>"
            ]
          },
          "metadata": {
            "tags": []
          },
          "execution_count": 26
        },
        {
          "output_type": "display_data",
          "data": {
            "image/png": "[encoded data removed]",
            "text/plain": [
              "<Figure size 432x288 with 1 Axes>"
            ]
          },
          "metadata": {
            "tags": [],
            "needs_background": "light"
          }
        }
      ]
    },
    {
      "cell_type": "code",
      "metadata": {
        "colab": {
          "base_uri": "https://localhost:8080/"
        },
        "id": "R59sDtp4q7Qs",
        "outputId": "d535526d-2daa-4d3a-8d17-6cfe57e513c2"
      },
      "source": [
        "len(X)"
      ],
      "execution_count": 27,
      "outputs": [
        {
          "output_type": "execute_result",
          "data": {
            "text/plain": [
              "50"
            ]
          },
          "metadata": {
            "tags": []
          },
          "execution_count": 27
        }
      ]
    },
    {
      "cell_type": "code",
      "metadata": {
        "colab": {
          "base_uri": "https://localhost:8080/"
        },
        "id": "Tpy9BmIbta3N",
        "outputId": "ca44dcd5-c46a-4ef7-d16a-dc57cd878b53"
      },
      "source": [
        "len(y)"
      ],
      "execution_count": 28,
      "outputs": [
        {
          "output_type": "execute_result",
          "data": {
            "text/plain": [
              "50"
            ]
          },
          "metadata": {
            "tags": []
          },
          "execution_count": 28
        }
      ]
    },
    {
      "cell_type": "code",
      "metadata": {
        "id": "xRdmagSdtcPk"
      },
      "source": [
        "# Split data into train and test sets\n",
        "X_train = X[:40]\n",
        "X_test = X[40:]\n",
        "y_train = y[:40]\n",
        "y_test = y[40:]"
      ],
      "execution_count": 29,
      "outputs": []
    },
    {
      "cell_type": "code",
      "metadata": {
        "colab": {
          "base_uri": "https://localhost:8080/",
          "height": 428
        },
        "id": "kaCOfeSxuAU0",
        "outputId": "2363e3c1-1645-4e83-8474-ae5204b5dc79"
      },
      "source": [
        "plt.figure(figsize=(10,7))\n",
        "# Plot training data\n",
        "plt.scatter(X_train, y_train, c='b', label='Training data')\n",
        "# Plot test data in green\n",
        "plt.scatter(X_test, y_test, c='r', label = 'Test data')\n",
        "\n",
        "# show legend\n",
        "plt.legend();"
      ],
      "execution_count": 30,
      "outputs": [
        {
          "output_type": "display_data",
          "data": {
            "image/png": "[encoded data removed]",
            "text/plain": [
              "<Figure size 720x504 with 1 Axes>"
            ]
          },
          "metadata": {
            "tags": [],
            "needs_background": "light"
          }
        }
      ]
    },
    {
      "cell_type": "markdown",
      "metadata": {
        "id": "gqorPCsXu1EE"
      },
      "source": [
        "# Build neural network for this data"
      ]
    },
    {
      "cell_type": "code",
      "metadata": {
        "id": "NwaIiCNRwbwz",
        "colab": {
          "base_uri": "https://localhost:8080/"
        },
        "outputId": "499c2911-9f16-486d-df69-d3d23c4edbdd"
      },
      "source": [
        "# 1. Create a model\n",
        "model = tf.keras.Sequential([\n",
        "  tf.keras.layers.Dense(1)\n",
        "])\n",
        "\n",
        "# 2. Compile the model\n",
        "model.compile(loss = tf.keras.losses.mae,\n",
        "              optimizer = tf.keras.optimizers.SGD(),\n",
        "              metrics =['mae'])\n",
        "# 3. fit the model\n",
        "# Fit the model to train set\n",
        "model.fit(X_train, y_train, epochs=100, verbose=0)"
      ],
      "execution_count": 31,
      "outputs": [
        {
          "output_type": "execute_result",
          "data": {
            "text/plain": [
              "<tensorflow.python.keras.callbacks.History at 0x7f7e404b4e50>"
            ]
          },
          "metadata": {
            "tags": []
          },
          "execution_count": 31
        }
      ]
    },
    {
      "cell_type": "code",
      "metadata": {
        "id": "SjZdj22-yI0x"
      },
      "source": [
        "model.build()"
      ],
      "execution_count": 32,
      "outputs": []
    },
    {
      "cell_type": "code",
      "metadata": {
        "colab": {
          "base_uri": "https://localhost:8080/"
        },
        "id": "3HNGTKgEyY1o",
        "outputId": "2ee9b97c-7330-44e6-9c88-462dd7c50c32"
      },
      "source": [
        "# 1. Create the model\n",
        "model = tf.keras.Sequential([\n",
        "                             tf.keras.layers.Dense(1, input_shape=(1,)),\n",
        "                             tf.keras.layers.Dense(10),\n",
        "                             tf.keras.layers.Dense(1)\n",
        "])\n",
        "\n",
        "# 2.Compile model\n",
        "model.compile(loss=tf.keras.losses.mae,\n",
        "              optimizer = tf.keras.optimizers.SGD(),\n",
        "              metrics = ['mae'])\n",
        "\n",
        "# Fit the model to train set\n",
        "model.fit(X_train, y_train, epochs=100, verbose=1)"
      ],
      "execution_count": 33,
      "outputs": [
        {
          "output_type": "stream",
          "text": [
            "Epoch 1/100\n",
            "2/2 [==============================] - 0s 10ms/step - loss: 37.1992 - mae: 37.1992\n",
            "Epoch 2/100\n",
            "2/2 [==============================] - 0s 6ms/step - loss: 17.8597 - mae: 17.8597\n",
            "Epoch 3/100\n",
            "2/2 [==============================] - 0s 4ms/step - loss: 39.9290 - mae: 39.9290\n",
            "Epoch 4/100\n",
            "2/2 [==============================] - 0s 6ms/step - loss: 30.5580 - mae: 30.5580\n",
            "Epoch 5/100\n",
            "2/2 [==============================] - 0s 4ms/step - loss: 39.4362 - mae: 39.4362\n",
            "Epoch 6/100\n",
            "2/2 [==============================] - 0s 9ms/step - loss: 38.4330 - mae: 38.4330\n",
            "Epoch 7/100\n",
            "2/2 [==============================] - 0s 8ms/step - loss: 24.1293 - mae: 24.1293\n",
            "Epoch 8/100\n",
            "2/2 [==============================] - 0s 7ms/step - loss: 21.0170 - mae: 21.0170\n",
            "Epoch 9/100\n",
            "2/2 [==============================] - 0s 6ms/step - loss: 40.1919 - mae: 40.1919\n",
            "Epoch 10/100\n",
            "2/2 [==============================] - 0s 3ms/step - loss: 35.7101 - mae: 35.7101\n",
            "Epoch 11/100\n",
            "2/2 [==============================] - 0s 13ms/step - loss: 20.9442 - mae: 20.9442\n",
            "Epoch 12/100\n",
            "2/2 [==============================] - 0s 5ms/step - loss: 40.3157 - mae: 40.3157\n",
            "Epoch 13/100\n",
            "2/2 [==============================] - 0s 6ms/step - loss: 37.4593 - mae: 37.4593\n",
            "Epoch 14/100\n",
            "2/2 [==============================] - 0s 5ms/step - loss: 20.3400 - mae: 20.3400\n",
            "Epoch 15/100\n",
            "2/2 [==============================] - 0s 5ms/step - loss: 22.7311 - mae: 22.7311\n",
            "Epoch 16/100\n",
            "2/2 [==============================] - 0s 6ms/step - loss: 19.3997 - mae: 19.3997\n",
            "Epoch 17/100\n",
            "2/2 [==============================] - 0s 7ms/step - loss: 32.5426 - mae: 32.5426\n",
            "Epoch 18/100\n",
            "2/2 [==============================] - 0s 4ms/step - loss: 7.7556 - mae: 7.7556\n",
            "Epoch 19/100\n",
            "2/2 [==============================] - 0s 4ms/step - loss: 35.0174 - mae: 35.0174\n",
            "Epoch 20/100\n",
            "2/2 [==============================] - 0s 3ms/step - loss: 18.9658 - mae: 18.9658\n",
            "Epoch 21/100\n",
            "2/2 [==============================] - 0s 3ms/step - loss: 18.8987 - mae: 18.8987\n",
            "Epoch 22/100\n",
            "2/2 [==============================] - 0s 4ms/step - loss: 19.9912 - mae: 19.9912\n",
            "Epoch 23/100\n",
            "2/2 [==============================] - 0s 6ms/step - loss: 10.0271 - mae: 10.0271\n",
            "Epoch 24/100\n",
            "2/2 [==============================] - 0s 4ms/step - loss: 11.5016 - mae: 11.5016\n",
            "Epoch 25/100\n",
            "2/2 [==============================] - 0s 5ms/step - loss: 11.6234 - mae: 11.6234\n",
            "Epoch 26/100\n",
            "2/2 [==============================] - 0s 7ms/step - loss: 33.7956 - mae: 33.7956\n",
            "Epoch 27/100\n",
            "2/2 [==============================] - 0s 4ms/step - loss: 18.8054 - mae: 18.8054\n",
            "Epoch 28/100\n",
            "2/2 [==============================] - 0s 5ms/step - loss: 28.5745 - mae: 28.5745\n",
            "Epoch 29/100\n",
            "2/2 [==============================] - 0s 3ms/step - loss: 10.8174 - mae: 10.8174\n",
            "Epoch 30/100\n",
            "2/2 [==============================] - 0s 11ms/step - loss: 58.1377 - mae: 58.1377\n",
            "Epoch 31/100\n",
            "2/2 [==============================] - 0s 3ms/step - loss: 15.9996 - mae: 15.9996\n",
            "Epoch 32/100\n",
            "2/2 [==============================] - 0s 4ms/step - loss: 16.3005 - mae: 16.3005\n",
            "Epoch 33/100\n",
            "2/2 [==============================] - 0s 3ms/step - loss: 30.6453 - mae: 30.6453\n",
            "Epoch 34/100\n",
            "2/2 [==============================] - 0s 5ms/step - loss: 8.8049 - mae: 8.8049\n",
            "Epoch 35/100\n",
            "2/2 [==============================] - 0s 3ms/step - loss: 9.8803 - mae: 9.8803\n",
            "Epoch 36/100\n",
            "2/2 [==============================] - 0s 3ms/step - loss: 29.5232 - mae: 29.5232\n",
            "Epoch 37/100\n",
            "2/2 [==============================] - 0s 11ms/step - loss: 27.5327 - mae: 27.5327\n",
            "Epoch 38/100\n",
            "2/2 [==============================] - 0s 7ms/step - loss: 18.0130 - mae: 18.0130\n",
            "Epoch 39/100\n",
            "2/2 [==============================] - 0s 4ms/step - loss: 18.4453 - mae: 18.4453\n",
            "Epoch 40/100\n",
            "2/2 [==============================] - 0s 8ms/step - loss: 31.0991 - mae: 31.0991\n",
            "Epoch 41/100\n",
            "2/2 [==============================] - 0s 3ms/step - loss: 9.2572 - mae: 9.2572\n",
            "Epoch 42/100\n",
            "2/2 [==============================] - 0s 3ms/step - loss: 27.3780 - mae: 27.3780\n",
            "Epoch 43/100\n",
            "2/2 [==============================] - 0s 4ms/step - loss: 13.4368 - mae: 13.4368\n",
            "Epoch 44/100\n",
            "2/2 [==============================] - 0s 5ms/step - loss: 39.5459 - mae: 39.5459\n",
            "Epoch 45/100\n",
            "2/2 [==============================] - 0s 8ms/step - loss: 21.0090 - mae: 21.0090\n",
            "Epoch 46/100\n",
            "2/2 [==============================] - 0s 4ms/step - loss: 20.3813 - mae: 20.3813\n",
            "Epoch 47/100\n",
            "2/2 [==============================] - 0s 6ms/step - loss: 12.7091 - mae: 12.7091\n",
            "Epoch 48/100\n",
            "2/2 [==============================] - 0s 5ms/step - loss: 25.8430 - mae: 25.8430\n",
            "Epoch 49/100\n",
            "2/2 [==============================] - 0s 9ms/step - loss: 12.3707 - mae: 12.3707\n",
            "Epoch 50/100\n",
            "2/2 [==============================] - 0s 7ms/step - loss: 16.0369 - mae: 16.0369\n",
            "Epoch 51/100\n",
            "2/2 [==============================] - 0s 4ms/step - loss: 15.2525 - mae: 15.2525\n",
            "Epoch 52/100\n",
            "2/2 [==============================] - 0s 4ms/step - loss: 38.6411 - mae: 38.6411\n",
            "Epoch 53/100\n",
            "2/2 [==============================] - 0s 4ms/step - loss: 34.4561 - mae: 34.4561\n",
            "Epoch 54/100\n",
            "2/2 [==============================] - 0s 5ms/step - loss: 17.2471 - mae: 17.2471\n",
            "Epoch 55/100\n",
            "2/2 [==============================] - 0s 5ms/step - loss: 32.9783 - mae: 32.9783\n",
            "Epoch 56/100\n",
            "2/2 [==============================] - 0s 4ms/step - loss: 15.9386 - mae: 15.9386\n",
            "Epoch 57/100\n",
            "2/2 [==============================] - 0s 4ms/step - loss: 29.3529 - mae: 29.3529\n",
            "Epoch 58/100\n",
            "2/2 [==============================] - 0s 10ms/step - loss: 9.6527 - mae: 9.6527\n",
            "Epoch 59/100\n",
            "2/2 [==============================] - 0s 7ms/step - loss: 11.2526 - mae: 11.2526\n",
            "Epoch 60/100\n",
            "2/2 [==============================] - 0s 4ms/step - loss: 10.0003 - mae: 10.0003\n",
            "Epoch 61/100\n",
            "2/2 [==============================] - 0s 4ms/step - loss: 12.5329 - mae: 12.5329\n",
            "Epoch 62/100\n",
            "2/2 [==============================] - 0s 3ms/step - loss: 13.2086 - mae: 13.2086\n",
            "Epoch 63/100\n",
            "2/2 [==============================] - 0s 7ms/step - loss: 14.2404 - mae: 14.2404\n",
            "Epoch 64/100\n",
            "2/2 [==============================] - 0s 6ms/step - loss: 11.0695 - mae: 11.0695\n",
            "Epoch 65/100\n",
            "2/2 [==============================] - 0s 3ms/step - loss: 12.0210 - mae: 12.0210\n",
            "Epoch 66/100\n",
            "2/2 [==============================] - 0s 4ms/step - loss: 30.8353 - mae: 30.8353\n",
            "Epoch 67/100\n",
            "2/2 [==============================] - 0s 3ms/step - loss: 19.7539 - mae: 19.7539\n",
            "Epoch 68/100\n",
            "2/2 [==============================] - 0s 6ms/step - loss: 20.3688 - mae: 20.3688\n",
            "Epoch 69/100\n",
            "2/2 [==============================] - 0s 11ms/step - loss: 30.0685 - mae: 30.0685\n",
            "Epoch 70/100\n",
            "2/2 [==============================] - 0s 3ms/step - loss: 8.0221 - mae: 8.0221\n",
            "Epoch 71/100\n",
            "2/2 [==============================] - 0s 4ms/step - loss: 31.6339 - mae: 31.6339\n",
            "Epoch 72/100\n",
            "2/2 [==============================] - 0s 12ms/step - loss: 19.4936 - mae: 19.4936\n",
            "Epoch 73/100\n",
            "2/2 [==============================] - 0s 4ms/step - loss: 15.0527 - mae: 15.0527\n",
            "Epoch 74/100\n",
            "2/2 [==============================] - 0s 8ms/step - loss: 32.3051 - mae: 32.3051\n",
            "Epoch 75/100\n",
            "2/2 [==============================] - 0s 4ms/step - loss: 16.3247 - mae: 16.3247\n",
            "Epoch 76/100\n",
            "2/2 [==============================] - 0s 8ms/step - loss: 33.3780 - mae: 33.3780\n",
            "Epoch 77/100\n",
            "2/2 [==============================] - 0s 4ms/step - loss: 17.8248 - mae: 17.8248\n",
            "Epoch 78/100\n",
            "2/2 [==============================] - 0s 3ms/step - loss: 31.5303 - mae: 31.5303\n",
            "Epoch 79/100\n",
            "2/2 [==============================] - 0s 6ms/step - loss: 12.5295 - mae: 12.5295\n",
            "Epoch 80/100\n",
            "2/2 [==============================] - 0s 6ms/step - loss: 37.5350 - mae: 37.5350\n",
            "Epoch 81/100\n",
            "2/2 [==============================] - 0s 4ms/step - loss: 31.5216 - mae: 31.5216\n",
            "Epoch 82/100\n",
            "2/2 [==============================] - 0s 9ms/step - loss: 17.4374 - mae: 17.4374\n",
            "Epoch 83/100\n",
            "2/2 [==============================] - 0s 5ms/step - loss: 26.4142 - mae: 26.4142\n",
            "Epoch 84/100\n",
            "2/2 [==============================] - 0s 7ms/step - loss: 13.7765 - mae: 13.7765\n",
            "Epoch 85/100\n",
            "2/2 [==============================] - 0s 4ms/step - loss: 29.7752 - mae: 29.7752\n",
            "Epoch 86/100\n",
            "2/2 [==============================] - 0s 10ms/step - loss: 18.6962 - mae: 18.6962\n",
            "Epoch 87/100\n",
            "2/2 [==============================] - 0s 7ms/step - loss: 29.6384 - mae: 29.6384\n",
            "Epoch 88/100\n",
            "2/2 [==============================] - 0s 7ms/step - loss: 12.9966 - mae: 12.9966\n",
            "Epoch 89/100\n",
            "2/2 [==============================] - 0s 6ms/step - loss: 13.0802 - mae: 13.0802\n",
            "Epoch 90/100\n",
            "2/2 [==============================] - 0s 5ms/step - loss: 29.1465 - mae: 29.1465\n",
            "Epoch 91/100\n",
            "2/2 [==============================] - 0s 5ms/step - loss: 18.7366 - mae: 18.7366\n",
            "Epoch 92/100\n",
            "2/2 [==============================] - 0s 4ms/step - loss: 13.8982 - mae: 13.8982\n",
            "Epoch 93/100\n",
            "2/2 [==============================] - 0s 6ms/step - loss: 9.6264 - mae: 9.6264\n",
            "Epoch 94/100\n",
            "2/2 [==============================] - 0s 7ms/step - loss: 12.9113 - mae: 12.9113\n",
            "Epoch 95/100\n",
            "2/2 [==============================] - 0s 9ms/step - loss: 24.7276 - mae: 24.7276\n",
            "Epoch 96/100\n",
            "2/2 [==============================] - 0s 4ms/step - loss: 21.6216 - mae: 21.6216\n",
            "Epoch 97/100\n",
            "2/2 [==============================] - 0s 4ms/step - loss: 56.4582 - mae: 56.4582\n",
            "Epoch 98/100\n",
            "2/2 [==============================] - 0s 4ms/step - loss: 25.9780 - mae: 25.9780\n",
            "Epoch 99/100\n",
            "2/2 [==============================] - 0s 4ms/step - loss: 27.0116 - mae: 27.0116\n",
            "Epoch 100/100\n",
            "2/2 [==============================] - 0s 4ms/step - loss: 16.9068 - mae: 16.9068\n"
          ],
          "name": "stdout"
        },
        {
          "output_type": "execute_result",
          "data": {
            "text/plain": [
              "<tensorflow.python.keras.callbacks.History at 0x7f7e404a1e10>"
            ]
          },
          "metadata": {
            "tags": []
          },
          "execution_count": 33
        }
      ]
    },
    {
      "cell_type": "code",
      "metadata": {
        "colab": {
          "base_uri": "https://localhost:8080/"
        },
        "id": "yRzoOvXLzFk1",
        "outputId": "50d120a6-4fd9-4d57-cb1e-c965994d2b53"
      },
      "source": [
        "model.summary()"
      ],
      "execution_count": 34,
      "outputs": [
        {
          "output_type": "stream",
          "text": [
            "Model: \"sequential_7\"\n",
            "_________________________________________________________________\n",
            "Layer (type)                 Output Shape              Param #   \n",
            "=================================================================\n",
            "dense_11 (Dense)             (None, 1)                 2         \n",
            "_________________________________________________________________\n",
            "dense_12 (Dense)             (None, 10)                20        \n",
            "_________________________________________________________________\n",
            "dense_13 (Dense)             (None, 1)                 11        \n",
            "=================================================================\n",
            "Total params: 33\n",
            "Trainable params: 33\n",
            "Non-trainable params: 0\n",
            "_________________________________________________________________\n"
          ],
          "name": "stdout"
        }
      ]
    },
    {
      "cell_type": "code",
      "metadata": {
        "colab": {
          "base_uri": "https://localhost:8080/"
        },
        "id": "FjdJvTY643Y-",
        "outputId": "8a4d7774-11dc-4283-a6ef-891172885622"
      },
      "source": [
        "model.predict(tf.constant([17.0]))"
      ],
      "execution_count": 35,
      "outputs": [
        {
          "output_type": "stream",
          "text": [
            "WARNING:tensorflow:5 out of the last 5 calls to <function Model.make_predict_function.<locals>.predict_function at 0x7f7e427534d0> triggered tf.function retracing. Tracing is expensive and the excessive number of tracings could be due to (1) creating @tf.function repeatedly in a loop, (2) passing tensors with different shapes, (3) passing Python objects instead of tensors. For (1), please define your @tf.function outside of the loop. For (2), @tf.function has experimental_relax_shapes=True option that relaxes argument shapes that can avoid unnecessary retracing. For (3), please refer to https://www.tensorflow.org/guide/function#controlling_retracing and https://www.tensorflow.org/api_docs/python/tf/function for  more details.\n"
          ],
          "name": "stdout"
        },
        {
          "output_type": "execute_result",
          "data": {
            "text/plain": [
              "array([[3.3944983]], dtype=float32)"
            ]
          },
          "metadata": {
            "tags": []
          },
          "execution_count": 35
        }
      ]
    },
    {
      "cell_type": "code",
      "metadata": {
        "colab": {
          "base_uri": "https://localhost:8080/",
          "height": 422
        },
        "id": "eTpZddZ4tNhw",
        "outputId": "ccfb86b0-7358-4ca4-da42-c3a8ec6a6d6b"
      },
      "source": [
        "from tensorflow.keras.utils import plot_model\n",
        "\n",
        "plot_model(model=model, show_shapes=True, show_layer_names=True)"
      ],
      "execution_count": 36,
      "outputs": [
        {
          "output_type": "execute_result",
          "data": {
            "image/png": "[encoded data removed]",
            "text/plain": [
              "<IPython.core.display.Image object>"
            ]
          },
          "metadata": {
            "tags": []
          },
          "execution_count": 36
        }
      ]
    },
    {
      "cell_type": "code",
      "metadata": {
        "id": "S4XeqpcZvApc"
      },
      "source": [
        "tf.random.set_seed(42)\n",
        "\n",
        "# 1.Create a model\n",
        "model = tf.keras.Sequential([\n",
        "  tf.keras.layers.Dense(2, input_shape=[1], name=\"imput_layer\"),\n",
        "  tf.keras.layers.Dense(1, name=\"output_layer\")\n",
        "], name=\"model_1\")\n",
        "\n",
        "# 2. Compile the model\n",
        "model.compile(loss=tf.keras.losses.mae,\n",
        "              optimizer=tf.keras.optimizers.SGD(),\n",
        "              metrics=[\"mae\"])\n",
        "\n"
      ],
      "execution_count": 37,
      "outputs": []
    },
    {
      "cell_type": "code",
      "metadata": {
        "colab": {
          "base_uri": "https://localhost:8080/"
        },
        "id": "xOfCD0B3w_7z",
        "outputId": "edd42f07-fce2-4acd-d2b4-724d00b13451"
      },
      "source": [
        "model.summary()"
      ],
      "execution_count": 38,
      "outputs": [
        {
          "output_type": "stream",
          "text": [
            "Model: \"model_1\"\n",
            "_________________________________________________________________\n",
            "Layer (type)                 Output Shape              Param #   \n",
            "=================================================================\n",
            "imput_layer (Dense)          (None, 2)                 4         \n",
            "_________________________________________________________________\n",
            "output_layer (Dense)         (None, 1)                 3         \n",
            "=================================================================\n",
            "Total params: 7\n",
            "Trainable params: 7\n",
            "Non-trainable params: 0\n",
            "_________________________________________________________________\n"
          ],
          "name": "stdout"
        }
      ]
    },
    {
      "cell_type": "code",
      "metadata": {
        "colab": {
          "base_uri": "https://localhost:8080/"
        },
        "id": "hNgqYZZVxCKn",
        "outputId": "1c32fa8a-87af-4bc9-87d6-4328149d3a69"
      },
      "source": [
        "# Fit the model\n",
        "model.fit(X_train, y_train, epochs=20)"
      ],
      "execution_count": 39,
      "outputs": [
        {
          "output_type": "stream",
          "text": [
            "Epoch 1/20\n",
            "2/2 [==============================] - 0s 6ms/step - loss: 28.1523 - mae: 28.1523\n",
            "Epoch 2/20\n",
            "2/2 [==============================] - 0s 5ms/step - loss: 9.2143 - mae: 9.2143\n",
            "Epoch 3/20\n",
            "2/2 [==============================] - 0s 5ms/step - loss: 17.6259 - mae: 17.6259\n",
            "Epoch 4/20\n",
            "2/2 [==============================] - 0s 6ms/step - loss: 11.6141 - mae: 11.6141\n",
            "Epoch 5/20\n",
            "2/2 [==============================] - 0s 4ms/step - loss: 12.4787 - mae: 12.4787\n",
            "Epoch 6/20\n",
            "2/2 [==============================] - 0s 4ms/step - loss: 10.1186 - mae: 10.1186\n",
            "Epoch 7/20\n",
            "2/2 [==============================] - 0s 4ms/step - loss: 10.9981 - mae: 10.9981\n",
            "Epoch 8/20\n",
            "2/2 [==============================] - 0s 6ms/step - loss: 10.9666 - mae: 10.9666\n",
            "Epoch 9/20\n",
            "2/2 [==============================] - 0s 6ms/step - loss: 39.2771 - mae: 39.2771\n",
            "Epoch 10/20\n",
            "2/2 [==============================] - 0s 11ms/step - loss: 26.8218 - mae: 26.8218\n",
            "Epoch 11/20\n",
            "2/2 [==============================] - 0s 8ms/step - loss: 11.0264 - mae: 11.0264\n",
            "Epoch 12/20\n",
            "2/2 [==============================] - 0s 6ms/step - loss: 24.4741 - mae: 24.4741\n",
            "Epoch 13/20\n",
            "2/2 [==============================] - 0s 11ms/step - loss: 19.0449 - mae: 19.0449\n",
            "Epoch 14/20\n",
            "2/2 [==============================] - 0s 7ms/step - loss: 23.1881 - mae: 23.1881\n",
            "Epoch 15/20\n",
            "2/2 [==============================] - 0s 6ms/step - loss: 15.0884 - mae: 15.0884\n",
            "Epoch 16/20\n",
            "2/2 [==============================] - 0s 6ms/step - loss: 11.2754 - mae: 11.2754\n",
            "Epoch 17/20\n",
            "2/2 [==============================] - 0s 3ms/step - loss: 22.9412 - mae: 22.9412\n",
            "Epoch 18/20\n",
            "2/2 [==============================] - 0s 4ms/step - loss: 11.3193 - mae: 11.3193\n",
            "Epoch 19/20\n",
            "2/2 [==============================] - 0s 4ms/step - loss: 13.8776 - mae: 13.8776\n",
            "Epoch 20/20\n",
            "2/2 [==============================] - 0s 5ms/step - loss: 11.1677 - mae: 11.1677\n"
          ],
          "name": "stdout"
        },
        {
          "output_type": "execute_result",
          "data": {
            "text/plain": [
              "<tensorflow.python.keras.callbacks.History at 0x7f7e4277df90>"
            ]
          },
          "metadata": {
            "tags": []
          },
          "execution_count": 39
        }
      ]
    },
    {
      "cell_type": "code",
      "metadata": {
        "colab": {
          "base_uri": "https://localhost:8080/"
        },
        "id": "Nr5T1TvAxWYw",
        "outputId": "a4ed8b1b-37c3-4ccb-c71c-49b9ece56141"
      },
      "source": [
        "model.summary()"
      ],
      "execution_count": 40,
      "outputs": [
        {
          "output_type": "stream",
          "text": [
            "Model: \"model_1\"\n",
            "_________________________________________________________________\n",
            "Layer (type)                 Output Shape              Param #   \n",
            "=================================================================\n",
            "imput_layer (Dense)          (None, 2)                 4         \n",
            "_________________________________________________________________\n",
            "output_layer (Dense)         (None, 1)                 3         \n",
            "=================================================================\n",
            "Total params: 7\n",
            "Trainable params: 7\n",
            "Non-trainable params: 0\n",
            "_________________________________________________________________\n"
          ],
          "name": "stdout"
        }
      ]
    },
    {
      "cell_type": "code",
      "metadata": {
        "colab": {
          "base_uri": "https://localhost:8080/",
          "height": 312
        },
        "id": "9gh6HpCmx7te",
        "outputId": "101ec962-22cb-49bc-e4e4-a09d3ed01b15"
      },
      "source": [
        "plot_model(model, show_shapes=True)"
      ],
      "execution_count": 41,
      "outputs": [
        {
          "output_type": "execute_result",
          "data": {
            "image/png": "[encoded data removed]",
            "text/plain": [
              "<IPython.core.display.Image object>"
            ]
          },
          "metadata": {
            "tags": []
          },
          "execution_count": 41
        }
      ]
    },
    {
      "cell_type": "markdown",
      "metadata": {
        "id": "rouQX3EYyHWN"
      },
      "source": [
        "# Visualizing the model"
      ]
    },
    {
      "cell_type": "code",
      "metadata": {
        "colab": {
          "base_uri": "https://localhost:8080/"
        },
        "id": "pJWjm5WQWMxQ",
        "outputId": "0bf8eee9-86f4-45ee-8958-d24253101b0a"
      },
      "source": [
        "# Make some predictions\n",
        "\n",
        "y_pred = model.predict(X_test)\n",
        "y_pred"
      ],
      "execution_count": 42,
      "outputs": [
        {
          "output_type": "stream",
          "text": [
            "WARNING:tensorflow:6 out of the last 6 calls to <function Model.make_predict_function.<locals>.predict_function at 0x7f7e44f81c20> triggered tf.function retracing. Tracing is expensive and the excessive number of tracings could be due to (1) creating @tf.function repeatedly in a loop, (2) passing tensors with different shapes, (3) passing Python objects instead of tensors. For (1), please define your @tf.function outside of the loop. For (2), @tf.function has experimental_relax_shapes=True option that relaxes argument shapes that can avoid unnecessary retracing. For (3), please refer to https://www.tensorflow.org/guide/function#controlling_retracing and https://www.tensorflow.org/api_docs/python/tf/function for  more details.\n"
          ],
          "name": "stdout"
        },
        {
          "output_type": "execute_result",
          "data": {
            "text/plain": [
              "array([[ 77.43165 ],\n",
              "       [ 82.569374],\n",
              "       [ 87.7071  ],\n",
              "       [ 92.844826],\n",
              "       [ 97.98255 ],\n",
              "       [103.12028 ],\n",
              "       [108.258   ],\n",
              "       [113.39573 ],\n",
              "       [118.53345 ],\n",
              "       [123.67118 ]], dtype=float32)"
            ]
          },
          "metadata": {
            "tags": []
          },
          "execution_count": 42
        }
      ]
    },
    {
      "cell_type": "code",
      "metadata": {
        "colab": {
          "base_uri": "https://localhost:8080/"
        },
        "id": "e4JZpjOxYlfN",
        "outputId": "e9020efd-9d90-4d82-9d4e-a61c50e97957"
      },
      "source": [
        "y_test"
      ],
      "execution_count": 43,
      "outputs": [
        {
          "output_type": "execute_result",
          "data": {
            "text/plain": [
              "<tf.Tensor: shape=(10,), dtype=int32, numpy=array([ 70,  74,  78,  82,  86,  90,  94,  98, 102, 106], dtype=int32)>"
            ]
          },
          "metadata": {
            "tags": []
          },
          "execution_count": 43
        }
      ]
    },
    {
      "cell_type": "code",
      "metadata": {
        "colab": {
          "base_uri": "https://localhost:8080/"
        },
        "id": "CkxTDi-cYpdB",
        "outputId": "4a412f78-34ac-4a71-dfc7-e5f706bb21c0"
      },
      "source": [
        "a = tf.constant(y_test)\n",
        "a"
      ],
      "execution_count": 44,
      "outputs": [
        {
          "output_type": "execute_result",
          "data": {
            "text/plain": [
              "<tf.Tensor: shape=(10,), dtype=int32, numpy=array([ 70,  74,  78,  82,  86,  90,  94,  98, 102, 106], dtype=int32)>"
            ]
          },
          "metadata": {
            "tags": []
          },
          "execution_count": 44
        }
      ]
    },
    {
      "cell_type": "code",
      "metadata": {
        "id": "FCz_wqX_YvBR"
      },
      "source": [
        "# Create a plotting function\n",
        "def plot_predictions(train_data = X_train,\n",
        "                     train_labels = y_train,\n",
        "                     test_data=X_test,\n",
        "                     test_labels=y_test,\n",
        "                     predictions=y_pred):\n",
        "  \"\"\"\n",
        "  Plots training data, test data and compares predictions to ground truth labels\n",
        "  \"\"\"\n",
        "  plt.figure(figsize=(10,7))\n",
        "  # Plot training data in blue\n",
        "  plt.scatter(train_data, train_labels, c = 'b', label='Training data')\n",
        "  # Plot testing data in green\n",
        "  plt.scatter(test_data, test_labels, c='g', label=\"Testing data\")\n",
        "  # Plot model's predictions\n",
        "  plt.scatter(test_data, predictions, c=\"r\", label=\"Predictions\")\n",
        "  # Show the legend\n",
        "  plt.legend();"
      ],
      "execution_count": 45,
      "outputs": []
    },
    {
      "cell_type": "code",
      "metadata": {
        "colab": {
          "base_uri": "https://localhost:8080/",
          "height": 428
        },
        "id": "5-iuI1I9aWXh",
        "outputId": "28d10d2f-caaa-4615-ef99-6d64b94d558e"
      },
      "source": [
        "plot_predictions()"
      ],
      "execution_count": 46,
      "outputs": [
        {
          "output_type": "display_data",
          "data": {
            "image/png": "[encoded data removed]",
            "text/plain": [
              "<Figure size 720x504 with 1 Axes>"
            ]
          },
          "metadata": {
            "tags": [],
            "needs_background": "light"
          }
        }
      ]
    },
    {
      "cell_type": "code",
      "metadata": {
        "colab": {
          "base_uri": "https://localhost:8080/",
          "height": 428
        },
        "id": "BqUhzqE8aZjJ",
        "outputId": "33346495-6b0b-4399-d53b-35375e9c10be"
      },
      "source": [
        "plot_predictions(X_train, y_train, X_test, y_test, y_pred)"
      ],
      "execution_count": 47,
      "outputs": [
        {
          "output_type": "display_data",
          "data": {
            "image/png": "[encoded data removed]",
            "text/plain": [
              "<Figure size 720x504 with 1 Axes>"
            ]
          },
          "metadata": {
            "tags": [],
            "needs_background": "light"
          }
        }
      ]
    },
    {
      "cell_type": "markdown",
      "metadata": {
        "id": "CctXfB6ubNIa"
      },
      "source": [
        "### Evaluating predictions with regression metrics"
      ]
    },
    {
      "cell_type": "code",
      "metadata": {
        "colab": {
          "base_uri": "https://localhost:8080/"
        },
        "id": "HI747n_RbjPR",
        "outputId": "b738b465-ca48-4702-e83e-71884f65b930"
      },
      "source": [
        "np.power(y_pred, 2)"
      ],
      "execution_count": 48,
      "outputs": [
        {
          "output_type": "execute_result",
          "data": {
            "text/plain": [
              "array([[ 5995.66  ],\n",
              "       [ 6817.7017],\n",
              "       [ 7692.535 ],\n",
              "       [ 8620.162 ],\n",
              "       [ 9600.58  ],\n",
              "       [10633.792 ],\n",
              "       [11719.795 ],\n",
              "       [12858.592 ],\n",
              "       [14050.178 ],\n",
              "       [15294.561 ]], dtype=float32)"
            ]
          },
          "metadata": {
            "tags": []
          },
          "execution_count": 48
        }
      ]
    },
    {
      "cell_type": "code",
      "metadata": {
        "colab": {
          "base_uri": "https://localhost:8080/"
        },
        "id": "bvkjTl4lc3X0",
        "outputId": "fc837e7c-e1aa-4da8-986b-5386112200ec"
      },
      "source": [
        "# Evaluate the model\n",
        "model.evaluate(X_test, y_test)"
      ],
      "execution_count": 49,
      "outputs": [
        {
          "output_type": "stream",
          "text": [
            "1/1 [==============================] - 0s 126ms/step - loss: 12.5514 - mae: 12.5514\n"
          ],
          "name": "stdout"
        },
        {
          "output_type": "execute_result",
          "data": {
            "text/plain": [
              "[12.551413536071777, 12.551413536071777]"
            ]
          },
          "metadata": {
            "tags": []
          },
          "execution_count": 49
        }
      ]
    },
    {
      "cell_type": "code",
      "metadata": {
        "colab": {
          "base_uri": "https://localhost:8080/"
        },
        "id": "1NpbSAkoekxt",
        "outputId": "dac6e6b3-aace-4868-bf6b-0d12752ac713"
      },
      "source": [
        "y_pred"
      ],
      "execution_count": 50,
      "outputs": [
        {
          "output_type": "execute_result",
          "data": {
            "text/plain": [
              "array([[ 77.43165 ],\n",
              "       [ 82.569374],\n",
              "       [ 87.7071  ],\n",
              "       [ 92.844826],\n",
              "       [ 97.98255 ],\n",
              "       [103.12028 ],\n",
              "       [108.258   ],\n",
              "       [113.39573 ],\n",
              "       [118.53345 ],\n",
              "       [123.67118 ]], dtype=float32)"
            ]
          },
          "metadata": {
            "tags": []
          },
          "execution_count": 50
        }
      ]
    },
    {
      "cell_type": "code",
      "metadata": {
        "colab": {
          "base_uri": "https://localhost:8080/"
        },
        "id": "Q3RBWQxffAUx",
        "outputId": "16bac012-eddf-4cab-d03d-38755f4c9763"
      },
      "source": [
        "y_test"
      ],
      "execution_count": 51,
      "outputs": [
        {
          "output_type": "execute_result",
          "data": {
            "text/plain": [
              "<tf.Tensor: shape=(10,), dtype=int32, numpy=array([ 70,  74,  78,  82,  86,  90,  94,  98, 102, 106], dtype=int32)>"
            ]
          },
          "metadata": {
            "tags": []
          },
          "execution_count": 51
        }
      ]
    },
    {
      "cell_type": "code",
      "metadata": {
        "colab": {
          "base_uri": "https://localhost:8080/"
        },
        "id": "hnIiDUOxfCn5",
        "outputId": "7de874ed-7058-4d08-dfed-fd5f7293a0df"
      },
      "source": [
        "# Calculate the mean absolute error\n",
        "np.abs(y_pred - y_test)"
      ],
      "execution_count": 52,
      "outputs": [
        {
          "output_type": "execute_result",
          "data": {
            "text/plain": [
              "array([[ 7,  3,  1,  5,  9, 13, 17, 21, 25, 29],\n",
              "       [12,  8,  4,  0,  4,  8, 12, 16, 20, 24],\n",
              "       [17, 13,  9,  5,  1,  3,  7, 11, 15, 19],\n",
              "       [22, 18, 14, 10,  6,  2,  2,  6, 10, 14],\n",
              "       [27, 23, 19, 15, 11,  7,  3,  1,  5,  9],\n",
              "       [33, 29, 25, 21, 17, 13,  9,  5,  1,  3],\n",
              "       [38, 34, 30, 26, 22, 18, 14, 10,  6,  2],\n",
              "       [43, 39, 35, 31, 27, 23, 19, 15, 11,  7],\n",
              "       [48, 44, 40, 36, 32, 28, 24, 20, 16, 12],\n",
              "       [53, 49, 45, 41, 37, 33, 29, 25, 21, 17]], dtype=int32)"
            ]
          },
          "metadata": {
            "tags": []
          },
          "execution_count": 52
        }
      ]
    },
    {
      "cell_type": "code",
      "metadata": {
        "colab": {
          "base_uri": "https://localhost:8080/"
        },
        "id": "4Hm88kTQfNIq",
        "outputId": "94068fbb-e5b4-4b8a-ce7f-322d2bf46cf9"
      },
      "source": [
        "np.mean(np.abs(y_test - tf.constant(y_pred, dtype=tf.int32)), axis=-1)"
      ],
      "execution_count": 53,
      "outputs": [
        {
          "output_type": "execute_result",
          "data": {
            "text/plain": [
              "array([13. , 10.8, 10. , 10.4, 12. , 15.6, 20. , 25. , 30. , 35. ])"
            ]
          },
          "metadata": {
            "tags": []
          },
          "execution_count": 53
        }
      ]
    },
    {
      "cell_type": "code",
      "metadata": {
        "colab": {
          "base_uri": "https://localhost:8080/"
        },
        "id": "nw1gts7DfUm5",
        "outputId": "75c0f201-33d5-4631-b47b-8e2607b20668"
      },
      "source": [
        "y_pred"
      ],
      "execution_count": 54,
      "outputs": [
        {
          "output_type": "execute_result",
          "data": {
            "text/plain": [
              "array([[ 77.43165 ],\n",
              "       [ 82.569374],\n",
              "       [ 87.7071  ],\n",
              "       [ 92.844826],\n",
              "       [ 97.98255 ],\n",
              "       [103.12028 ],\n",
              "       [108.258   ],\n",
              "       [113.39573 ],\n",
              "       [118.53345 ],\n",
              "       [123.67118 ]], dtype=float32)"
            ]
          },
          "metadata": {
            "tags": []
          },
          "execution_count": 54
        }
      ]
    },
    {
      "cell_type": "code",
      "metadata": {
        "colab": {
          "base_uri": "https://localhost:8080/"
        },
        "id": "LMCd7bgpfbrp",
        "outputId": "675fb4d7-a5e2-4181-85c0-6ca584aa6bf5"
      },
      "source": [
        "tf.metrics.mean_absolute_error(y_test, tf.constant(y_pred, dtype=tf.int32))"
      ],
      "execution_count": 55,
      "outputs": [
        {
          "output_type": "execute_result",
          "data": {
            "text/plain": [
              "<tf.Tensor: shape=(10,), dtype=int32, numpy=array([13, 10, 10, 10, 12, 15, 20, 25, 30, 35], dtype=int32)>"
            ]
          },
          "metadata": {
            "tags": []
          },
          "execution_count": 55
        }
      ]
    },
    {
      "cell_type": "code",
      "metadata": {
        "colab": {
          "base_uri": "https://localhost:8080/"
        },
        "id": "3tCyAzX6gV-U",
        "outputId": "7f09264f-610d-477f-e742-5a4701658c94"
      },
      "source": [
        "y_pred"
      ],
      "execution_count": 56,
      "outputs": [
        {
          "output_type": "execute_result",
          "data": {
            "text/plain": [
              "array([[ 77.43165 ],\n",
              "       [ 82.569374],\n",
              "       [ 87.7071  ],\n",
              "       [ 92.844826],\n",
              "       [ 97.98255 ],\n",
              "       [103.12028 ],\n",
              "       [108.258   ],\n",
              "       [113.39573 ],\n",
              "       [118.53345 ],\n",
              "       [123.67118 ]], dtype=float32)"
            ]
          },
          "metadata": {
            "tags": []
          },
          "execution_count": 56
        }
      ]
    },
    {
      "cell_type": "code",
      "metadata": {
        "id": "tYOH3lcHmaYr"
      },
      "source": [
        "# calculate the mean absolute error\n",
        "mae = tf.metrics.mean_absolute_error(y_true=y_test,\n",
        "                                     y_pred = tf.squeeze(y_pred))"
      ],
      "execution_count": 57,
      "outputs": []
    },
    {
      "cell_type": "code",
      "metadata": {
        "colab": {
          "base_uri": "https://localhost:8080/"
        },
        "id": "DBVRnXWUmwDy",
        "outputId": "14be8232-a130-4255-f6de-18a44cf98afe"
      },
      "source": [
        "mae"
      ],
      "execution_count": 58,
      "outputs": [
        {
          "output_type": "execute_result",
          "data": {
            "text/plain": [
              "<tf.Tensor: shape=(), dtype=float32, numpy=12.551414>"
            ]
          },
          "metadata": {
            "tags": []
          },
          "execution_count": 58
        }
      ]
    },
    {
      "cell_type": "code",
      "metadata": {
        "id": "YU9WGrfymw2a"
      },
      "source": [
        "mse = tf.metrics.mean_squared_error(y_test, tf.squeeze(y_pred))"
      ],
      "execution_count": 59,
      "outputs": []
    },
    {
      "cell_type": "code",
      "metadata": {
        "colab": {
          "base_uri": "https://localhost:8080/"
        },
        "id": "pqLBInfWm9wK",
        "outputId": "12b941fe-7a97-47f7-c533-10827b626539"
      },
      "source": [
        "mse"
      ],
      "execution_count": 60,
      "outputs": [
        {
          "output_type": "execute_result",
          "data": {
            "text/plain": [
              "<tf.Tensor: shape=(), dtype=float32, numpy=168.21695>"
            ]
          },
          "metadata": {
            "tags": []
          },
          "execution_count": 60
        }
      ]
    },
    {
      "cell_type": "code",
      "metadata": {
        "id": "kducRWIanJBZ"
      },
      "source": [
        "# function to use mae and mse\n",
        "def mae(y_true, y_pred):\n",
        "  return tf.metrics.mean_absolute_error(y_true=y_true,\n",
        "                                        y_pred=tf.squeeze(y_pred))\n",
        "  \n",
        "def mse(y_true, y_pred):\n",
        "  return tf.metrics.mean_squared_error(y_true=y_true,\n",
        "                                        y_pred=tf.squeeze(y_pred))"
      ],
      "execution_count": 61,
      "outputs": []
    },
    {
      "cell_type": "code",
      "metadata": {
        "colab": {
          "base_uri": "https://localhost:8080/"
        },
        "id": "0JsFSPfbnwZs",
        "outputId": "f63270ef-21a0-4e8f-c0bc-24d4b82060ed"
      },
      "source": [
        "mae(y_test, y_pred)"
      ],
      "execution_count": 62,
      "outputs": [
        {
          "output_type": "execute_result",
          "data": {
            "text/plain": [
              "<tf.Tensor: shape=(), dtype=float32, numpy=12.551414>"
            ]
          },
          "metadata": {
            "tags": []
          },
          "execution_count": 62
        }
      ]
    },
    {
      "cell_type": "markdown",
      "metadata": {
        "id": "vbnCuPZfnzyK"
      },
      "source": [
        "# Running experiments to improve the model"
      ]
    },
    {
      "cell_type": "code",
      "metadata": {
        "colab": {
          "base_uri": "https://localhost:8080/"
        },
        "id": "RWgDP-AKobRx",
        "outputId": "7d0ff824-aab4-44b4-ed8f-5f323a678316"
      },
      "source": [
        "X_train, y_train"
      ],
      "execution_count": 63,
      "outputs": [
        {
          "output_type": "execute_result",
          "data": {
            "text/plain": [
              "(<tf.Tensor: shape=(40,), dtype=int32, numpy=\n",
              " array([-100,  -96,  -92,  -88,  -84,  -80,  -76,  -72,  -68,  -64,  -60,\n",
              "         -56,  -52,  -48,  -44,  -40,  -36,  -32,  -28,  -24,  -20,  -16,\n",
              "         -12,   -8,   -4,    0,    4,    8,   12,   16,   20,   24,   28,\n",
              "          32,   36,   40,   44,   48,   52,   56], dtype=int32)>,\n",
              " <tf.Tensor: shape=(40,), dtype=int32, numpy=\n",
              " array([-90, -86, -82, -78, -74, -70, -66, -62, -58, -54, -50, -46, -42,\n",
              "        -38, -34, -30, -26, -22, -18, -14, -10,  -6,  -2,   2,   6,  10,\n",
              "         14,  18,  22,  26,  30,  34,  38,  42,  46,  50,  54,  58,  62,\n",
              "         66], dtype=int32)>)"
            ]
          },
          "metadata": {
            "tags": []
          },
          "execution_count": 63
        }
      ]
    },
    {
      "cell_type": "code",
      "metadata": {
        "colab": {
          "base_uri": "https://localhost:8080/"
        },
        "id": "louOKoWOojQa",
        "outputId": "671d6a8c-f260-4172-e155-5f0976133789"
      },
      "source": [
        "# model 1: try 1 layer for 100 epochs\n",
        "tf.random.set_seed(42)\n",
        "\n",
        "# 1. Create  the model\n",
        "model_1 = tf.keras.Sequential([\n",
        "  tf.keras.layers.Dense(1)\n",
        "])\n",
        "\n",
        "# 2. Compile the model\n",
        "model_1.compile(loss=tf.keras.losses.mae,\n",
        "                optimizer=tf.keras.optimizers.SGD(),\n",
        "                metrics=[\"mae\"])\n",
        "\n",
        "# 3. Fit the model\n",
        "model_1.fit(X_train, y_train, epochs=100)"
      ],
      "execution_count": 64,
      "outputs": [
        {
          "output_type": "stream",
          "text": [
            "Epoch 1/100\n",
            "2/2 [==============================] - 0s 5ms/step - loss: 15.9024 - mae: 15.9024\n",
            "Epoch 2/100\n",
            "2/2 [==============================] - 0s 3ms/step - loss: 11.2837 - mae: 11.2837\n",
            "Epoch 3/100\n",
            "2/2 [==============================] - 0s 9ms/step - loss: 11.1074 - mae: 11.1074\n",
            "Epoch 4/100\n",
            "2/2 [==============================] - 0s 11ms/step - loss: 9.2991 - mae: 9.2991\n",
            "Epoch 5/100\n",
            "2/2 [==============================] - 0s 4ms/step - loss: 10.1677 - mae: 10.1677\n",
            "Epoch 6/100\n",
            "2/2 [==============================] - 0s 6ms/step - loss: 9.4303 - mae: 9.4303\n",
            "Epoch 7/100\n",
            "2/2 [==============================] - 0s 4ms/step - loss: 8.5704 - mae: 8.5704\n",
            "Epoch 8/100\n",
            "2/2 [==============================] - 0s 4ms/step - loss: 9.0442 - mae: 9.0442\n",
            "Epoch 9/100\n",
            "2/2 [==============================] - 0s 5ms/step - loss: 18.7517 - mae: 18.7517\n",
            "Epoch 10/100\n",
            "2/2 [==============================] - 0s 3ms/step - loss: 10.1142 - mae: 10.1142\n",
            "Epoch 11/100\n",
            "2/2 [==============================] - 0s 3ms/step - loss: 8.3980 - mae: 8.3980\n",
            "Epoch 12/100\n",
            "2/2 [==============================] - 0s 3ms/step - loss: 10.6639 - mae: 10.6639\n",
            "Epoch 13/100\n",
            "2/2 [==============================] - 0s 6ms/step - loss: 9.7977 - mae: 9.7977\n",
            "Epoch 14/100\n",
            "2/2 [==============================] - 0s 4ms/step - loss: 16.0103 - mae: 16.0103\n",
            "Epoch 15/100\n",
            "2/2 [==============================] - 0s 4ms/step - loss: 11.4068 - mae: 11.4068\n",
            "Epoch 16/100\n",
            "2/2 [==============================] - 0s 4ms/step - loss: 8.5393 - mae: 8.5393\n",
            "Epoch 17/100\n",
            "2/2 [==============================] - 0s 4ms/step - loss: 13.6348 - mae: 13.6348\n",
            "Epoch 18/100\n",
            "2/2 [==============================] - 0s 5ms/step - loss: 11.4629 - mae: 11.4629\n",
            "Epoch 19/100\n",
            "2/2 [==============================] - 0s 5ms/step - loss: 17.9148 - mae: 17.9148\n",
            "Epoch 20/100\n",
            "2/2 [==============================] - 0s 4ms/step - loss: 15.0494 - mae: 15.0494\n",
            "Epoch 21/100\n",
            "2/2 [==============================] - 0s 4ms/step - loss: 11.0216 - mae: 11.0216\n",
            "Epoch 22/100\n",
            "2/2 [==============================] - 0s 6ms/step - loss: 8.1558 - mae: 8.1558\n",
            "Epoch 23/100\n",
            "2/2 [==============================] - 0s 13ms/step - loss: 9.5138 - mae: 9.5138\n",
            "Epoch 24/100\n",
            "2/2 [==============================] - 0s 5ms/step - loss: 7.6617 - mae: 7.6617\n",
            "Epoch 25/100\n",
            "2/2 [==============================] - 0s 5ms/step - loss: 13.1859 - mae: 13.1859\n",
            "Epoch 26/100\n",
            "2/2 [==============================] - 0s 5ms/step - loss: 16.4211 - mae: 16.4211\n",
            "Epoch 27/100\n",
            "2/2 [==============================] - 0s 6ms/step - loss: 13.1660 - mae: 13.1660\n",
            "Epoch 28/100\n",
            "2/2 [==============================] - 0s 4ms/step - loss: 14.2559 - mae: 14.2559\n",
            "Epoch 29/100\n",
            "2/2 [==============================] - 0s 4ms/step - loss: 10.0670 - mae: 10.0670\n",
            "Epoch 30/100\n",
            "2/2 [==============================] - 0s 18ms/step - loss: 16.3409 - mae: 16.3409\n",
            "Epoch 31/100\n",
            "2/2 [==============================] - 0s 8ms/step - loss: 23.6444 - mae: 23.6444\n",
            "Epoch 32/100\n",
            "2/2 [==============================] - 0s 4ms/step - loss: 7.6215 - mae: 7.6215\n",
            "Epoch 33/100\n",
            "2/2 [==============================] - 0s 4ms/step - loss: 9.3221 - mae: 9.3221\n",
            "Epoch 34/100\n",
            "2/2 [==============================] - 0s 12ms/step - loss: 13.7313 - mae: 13.7313\n",
            "Epoch 35/100\n",
            "2/2 [==============================] - 0s 4ms/step - loss: 11.1276 - mae: 11.1276\n",
            "Epoch 36/100\n",
            "2/2 [==============================] - 0s 4ms/step - loss: 13.3222 - mae: 13.3222\n",
            "Epoch 37/100\n",
            "2/2 [==============================] - 0s 4ms/step - loss: 9.4763 - mae: 9.4763\n",
            "Epoch 38/100\n",
            "2/2 [==============================] - 0s 5ms/step - loss: 10.1381 - mae: 10.1381\n",
            "Epoch 39/100\n",
            "2/2 [==============================] - 0s 4ms/step - loss: 10.1793 - mae: 10.1793\n",
            "Epoch 40/100\n",
            "2/2 [==============================] - 0s 4ms/step - loss: 10.9137 - mae: 10.9137\n",
            "Epoch 41/100\n",
            "2/2 [==============================] - 0s 3ms/step - loss: 7.9063 - mae: 7.9063\n",
            "Epoch 42/100\n",
            "2/2 [==============================] - 0s 5ms/step - loss: 10.0914 - mae: 10.0914\n",
            "Epoch 43/100\n",
            "2/2 [==============================] - 0s 6ms/step - loss: 8.7006 - mae: 8.7006\n",
            "Epoch 44/100\n",
            "2/2 [==============================] - 0s 4ms/step - loss: 12.2047 - mae: 12.2047\n",
            "Epoch 45/100\n",
            "2/2 [==============================] - 0s 5ms/step - loss: 13.7970 - mae: 13.7970\n",
            "Epoch 46/100\n",
            "2/2 [==============================] - 0s 5ms/step - loss: 8.4687 - mae: 8.4687\n",
            "Epoch 47/100\n",
            "2/2 [==============================] - 0s 4ms/step - loss: 9.1330 - mae: 9.1330\n",
            "Epoch 48/100\n",
            "2/2 [==============================] - 0s 6ms/step - loss: 10.6190 - mae: 10.6190\n",
            "Epoch 49/100\n",
            "2/2 [==============================] - 0s 3ms/step - loss: 7.7503 - mae: 7.7503\n",
            "Epoch 50/100\n",
            "2/2 [==============================] - 0s 6ms/step - loss: 9.5407 - mae: 9.5407\n",
            "Epoch 51/100\n",
            "2/2 [==============================] - 0s 3ms/step - loss: 9.1584 - mae: 9.1584\n",
            "Epoch 52/100\n",
            "2/2 [==============================] - 0s 16ms/step - loss: 16.3630 - mae: 16.3630\n",
            "Epoch 53/100\n",
            "2/2 [==============================] - 0s 4ms/step - loss: 14.1299 - mae: 14.1299\n",
            "Epoch 54/100\n",
            "2/2 [==============================] - 0s 8ms/step - loss: 21.1247 - mae: 21.1247\n",
            "Epoch 55/100\n",
            "2/2 [==============================] - 0s 7ms/step - loss: 16.3961 - mae: 16.3961\n",
            "Epoch 56/100\n",
            "2/2 [==============================] - 0s 4ms/step - loss: 9.9806 - mae: 9.9806\n",
            "Epoch 57/100\n",
            "2/2 [==============================] - 0s 3ms/step - loss: 9.9606 - mae: 9.9606\n",
            "Epoch 58/100\n",
            "2/2 [==============================] - 0s 4ms/step - loss: 9.2209 - mae: 9.2209\n",
            "Epoch 59/100\n",
            "2/2 [==============================] - 0s 4ms/step - loss: 8.4239 - mae: 8.4239\n",
            "Epoch 60/100\n",
            "2/2 [==============================] - 0s 4ms/step - loss: 9.4869 - mae: 9.4869\n",
            "Epoch 61/100\n",
            "2/2 [==============================] - 0s 4ms/step - loss: 11.4355 - mae: 11.4355\n",
            "Epoch 62/100\n",
            "2/2 [==============================] - 0s 4ms/step - loss: 11.6887 - mae: 11.6887\n",
            "Epoch 63/100\n",
            "2/2 [==============================] - 0s 4ms/step - loss: 7.0838 - mae: 7.0838\n",
            "Epoch 64/100\n",
            "2/2 [==============================] - 0s 3ms/step - loss: 16.9675 - mae: 16.9675\n",
            "Epoch 65/100\n",
            "2/2 [==============================] - 0s 3ms/step - loss: 12.4599 - mae: 12.4599\n",
            "Epoch 66/100\n",
            "2/2 [==============================] - 0s 4ms/step - loss: 13.0184 - mae: 13.0184\n",
            "Epoch 67/100\n",
            "2/2 [==============================] - 0s 4ms/step - loss: 8.0600 - mae: 8.0600\n",
            "Epoch 68/100\n",
            "2/2 [==============================] - 0s 4ms/step - loss: 10.1888 - mae: 10.1888\n",
            "Epoch 69/100\n",
            "2/2 [==============================] - 0s 4ms/step - loss: 12.3633 - mae: 12.3633\n",
            "Epoch 70/100\n",
            "2/2 [==============================] - 0s 4ms/step - loss: 9.0516 - mae: 9.0516\n",
            "Epoch 71/100\n",
            "2/2 [==============================] - 0s 3ms/step - loss: 10.0378 - mae: 10.0378\n",
            "Epoch 72/100\n",
            "2/2 [==============================] - 0s 7ms/step - loss: 10.0516 - mae: 10.0516\n",
            "Epoch 73/100\n",
            "2/2 [==============================] - 0s 4ms/step - loss: 12.6151 - mae: 12.6151\n",
            "Epoch 74/100\n",
            "2/2 [==============================] - 0s 6ms/step - loss: 10.3819 - mae: 10.3819\n",
            "Epoch 75/100\n",
            "2/2 [==============================] - 0s 4ms/step - loss: 9.7229 - mae: 9.7229\n",
            "Epoch 76/100\n",
            "2/2 [==============================] - 0s 8ms/step - loss: 11.2252 - mae: 11.2252\n",
            "Epoch 77/100\n",
            "2/2 [==============================] - 0s 4ms/step - loss: 8.3642 - mae: 8.3642\n",
            "Epoch 78/100\n",
            "2/2 [==============================] - 0s 4ms/step - loss: 9.1274 - mae: 9.1274\n",
            "Epoch 79/100\n",
            "2/2 [==============================] - 0s 4ms/step - loss: 19.5039 - mae: 19.5039\n",
            "Epoch 80/100\n",
            "2/2 [==============================] - 0s 3ms/step - loss: 14.8945 - mae: 14.8945\n",
            "Epoch 81/100\n",
            "2/2 [==============================] - 0s 3ms/step - loss: 9.0034 - mae: 9.0034\n",
            "Epoch 82/100\n",
            "2/2 [==============================] - 0s 6ms/step - loss: 13.0206 - mae: 13.0206\n",
            "Epoch 83/100\n",
            "2/2 [==============================] - 0s 4ms/step - loss: 7.9299 - mae: 7.9299\n",
            "Epoch 84/100\n",
            "2/2 [==============================] - 0s 3ms/step - loss: 7.6872 - mae: 7.6872\n",
            "Epoch 85/100\n",
            "2/2 [==============================] - 0s 6ms/step - loss: 10.0328 - mae: 10.0328\n",
            "Epoch 86/100\n",
            "2/2 [==============================] - 0s 7ms/step - loss: 9.2433 - mae: 9.2433\n",
            "Epoch 87/100\n",
            "2/2 [==============================] - 0s 8ms/step - loss: 12.0209 - mae: 12.0209\n",
            "Epoch 88/100\n",
            "2/2 [==============================] - 0s 6ms/step - loss: 10.6389 - mae: 10.6389\n",
            "Epoch 89/100\n",
            "2/2 [==============================] - 0s 4ms/step - loss: 7.2667 - mae: 7.2667\n",
            "Epoch 90/100\n",
            "2/2 [==============================] - 0s 4ms/step - loss: 12.7786 - mae: 12.7786\n",
            "Epoch 91/100\n",
            "2/2 [==============================] - 0s 4ms/step - loss: 7.3481 - mae: 7.3481\n",
            "Epoch 92/100\n",
            "2/2 [==============================] - 0s 4ms/step - loss: 7.7175 - mae: 7.7175\n",
            "Epoch 93/100\n",
            "2/2 [==============================] - 0s 4ms/step - loss: 7.1263 - mae: 7.1263\n",
            "Epoch 94/100\n",
            "2/2 [==============================] - 0s 4ms/step - loss: 12.6190 - mae: 12.6190\n",
            "Epoch 95/100\n",
            "2/2 [==============================] - 0s 19ms/step - loss: 10.0912 - mae: 10.0912\n",
            "Epoch 96/100\n",
            "2/2 [==============================] - 0s 3ms/step - loss: 9.3558 - mae: 9.3558\n",
            "Epoch 97/100\n",
            "2/2 [==============================] - 0s 8ms/step - loss: 12.6834 - mae: 12.6834\n",
            "Epoch 98/100\n",
            "2/2 [==============================] - 0s 8ms/step - loss: 8.6762 - mae: 8.6762\n",
            "Epoch 99/100\n",
            "2/2 [==============================] - 0s 4ms/step - loss: 9.4693 - mae: 9.4693\n",
            "Epoch 100/100\n",
            "2/2 [==============================] - 0s 3ms/step - loss: 8.7067 - mae: 8.7067\n"
          ],
          "name": "stdout"
        },
        {
          "output_type": "execute_result",
          "data": {
            "text/plain": [
              "<tensorflow.python.keras.callbacks.History at 0x7f7e466c5710>"
            ]
          },
          "metadata": {
            "tags": []
          },
          "execution_count": 64
        }
      ]
    },
    {
      "cell_type": "code",
      "metadata": {
        "colab": {
          "base_uri": "https://localhost:8080/",
          "height": 428
        },
        "id": "EB_71DDrtm_s",
        "outputId": "c0895da7-9974-4997-e939-6ee710f1d353"
      },
      "source": [
        "# track results\n",
        "# make predictions and plot\n",
        "y_pred_1 = model_1.predict(X_test)\n",
        "plot_predictions(predictions=y_pred_1)"
      ],
      "execution_count": 65,
      "outputs": [
        {
          "output_type": "display_data",
          "data": {
            "image/png": "[encoded data removed]",
            "text/plain": [
              "<Figure size 720x504 with 1 Axes>"
            ]
          },
          "metadata": {
            "tags": [],
            "needs_background": "light"
          }
        }
      ]
    },
    {
      "cell_type": "code",
      "metadata": {
        "colab": {
          "base_uri": "https://localhost:8080/"
        },
        "id": "Xjjz4Z-S6-hu",
        "outputId": "76c04b1b-c8e0-41c5-99ed-231b40ed3cfc"
      },
      "source": [
        "# Calculate model_1 evaluation metrix\n",
        "mae_1 = mae(y_test, y_pred_1)\n",
        "mse_1 = mse(y_test, y_pred_1)\n",
        "mae_1, mse_1"
      ],
      "execution_count": 66,
      "outputs": [
        {
          "output_type": "execute_result",
          "data": {
            "text/plain": [
              "(<tf.Tensor: shape=(), dtype=float32, numpy=18.745327>,\n",
              " <tf.Tensor: shape=(), dtype=float32, numpy=353.57336>)"
            ]
          },
          "metadata": {
            "tags": []
          },
          "execution_count": 66
        }
      ]
    },
    {
      "cell_type": "code",
      "metadata": {
        "colab": {
          "base_uri": "https://localhost:8080/"
        },
        "id": "2yMkk6Ba7tMi",
        "outputId": "91fbb0c1-cd80-48ff-f364-bac397b6fa34"
      },
      "source": [
        "mae_1"
      ],
      "execution_count": 67,
      "outputs": [
        {
          "output_type": "execute_result",
          "data": {
            "text/plain": [
              "<tf.Tensor: shape=(), dtype=float32, numpy=18.745327>"
            ]
          },
          "metadata": {
            "tags": []
          },
          "execution_count": 67
        }
      ]
    },
    {
      "cell_type": "markdown",
      "metadata": {
        "id": "gwZ82vai7r_V"
      },
      "source": [
        "# Build model 2: two layers for a 100 epochs"
      ]
    },
    {
      "cell_type": "code",
      "metadata": {
        "colab": {
          "base_uri": "https://localhost:8080/"
        },
        "id": "9HBf_Gyp9cWq",
        "outputId": "7849ddaa-75bd-4c79-a516-31b7391e471d"
      },
      "source": [
        "# model 1: try 1 layer for 100 epochs\n",
        "tf.random.set_seed(42)\n",
        "\n",
        "# 1. Create  the model\n",
        "model_2 = tf.keras.Sequential([\n",
        "  tf.keras.layers.Dense(1),\n",
        "  tf.keras.layers.Dense(1)\n",
        "])\n",
        "\n",
        "# 2. Compile the model\n",
        "model_1.compile(loss=tf.keras.losses.mae,\n",
        "                optimizer=tf.keras.optimizers.SGD(),\n",
        "                metrics=[\"mae\"])\n",
        "\n",
        "# 3. Fit the model\n",
        "model_1.fit(X_train, y_train, epochs=100)"
      ],
      "execution_count": 68,
      "outputs": [
        {
          "output_type": "stream",
          "text": [
            "Epoch 1/100\n",
            "2/2 [==============================] - 0s 6ms/step - loss: 7.4494 - mae: 7.4494\n",
            "Epoch 2/100\n",
            "2/2 [==============================] - 0s 7ms/step - loss: 9.2391 - mae: 9.2391\n",
            "Epoch 3/100\n",
            "2/2 [==============================] - 0s 3ms/step - loss: 9.6116 - mae: 9.6116\n",
            "Epoch 4/100\n",
            "2/2 [==============================] - 0s 7ms/step - loss: 8.7602 - mae: 8.7602\n",
            "Epoch 5/100\n",
            "2/2 [==============================] - 0s 7ms/step - loss: 9.7251 - mae: 9.7251\n",
            "Epoch 6/100\n",
            "2/2 [==============================] - 0s 3ms/step - loss: 8.9002 - mae: 8.9002\n",
            "Epoch 7/100\n",
            "2/2 [==============================] - 0s 5ms/step - loss: 8.0002 - mae: 8.0002\n",
            "Epoch 8/100\n",
            "2/2 [==============================] - 0s 6ms/step - loss: 8.1138 - mae: 8.1138\n",
            "Epoch 9/100\n",
            "2/2 [==============================] - 0s 4ms/step - loss: 19.0986 - mae: 19.0986\n",
            "Epoch 10/100\n",
            "2/2 [==============================] - 0s 5ms/step - loss: 9.3698 - mae: 9.3698\n",
            "Epoch 11/100\n",
            "2/2 [==============================] - 0s 3ms/step - loss: 7.5493 - mae: 7.5493\n",
            "Epoch 12/100\n",
            "2/2 [==============================] - 0s 6ms/step - loss: 9.8866 - mae: 9.8866\n",
            "Epoch 13/100\n",
            "2/2 [==============================] - 0s 4ms/step - loss: 8.9273 - mae: 8.9273\n",
            "Epoch 14/100\n",
            "2/2 [==============================] - 0s 4ms/step - loss: 10.9891 - mae: 10.9891\n",
            "Epoch 15/100\n",
            "2/2 [==============================] - 0s 3ms/step - loss: 12.6094 - mae: 12.6094\n",
            "Epoch 16/100\n",
            "2/2 [==============================] - 0s 4ms/step - loss: 6.4175 - mae: 6.4175\n",
            "Epoch 17/100\n",
            "2/2 [==============================] - 0s 4ms/step - loss: 7.6479 - mae: 7.6479\n",
            "Epoch 18/100\n",
            "2/2 [==============================] - 0s 7ms/step - loss: 10.2152 - mae: 10.2152\n",
            "Epoch 19/100\n",
            "2/2 [==============================] - 0s 4ms/step - loss: 18.3227 - mae: 18.3227\n",
            "Epoch 20/100\n",
            "2/2 [==============================] - 0s 3ms/step - loss: 15.0241 - mae: 15.0241\n",
            "Epoch 21/100\n",
            "2/2 [==============================] - 0s 4ms/step - loss: 10.5285 - mae: 10.5285\n",
            "Epoch 22/100\n",
            "2/2 [==============================] - 0s 4ms/step - loss: 7.0450 - mae: 7.0450\n",
            "Epoch 23/100\n",
            "2/2 [==============================] - 0s 4ms/step - loss: 8.7253 - mae: 8.7253\n",
            "Epoch 24/100\n",
            "2/2 [==============================] - 0s 3ms/step - loss: 7.5994 - mae: 7.5994\n",
            "Epoch 25/100\n",
            "2/2 [==============================] - 0s 4ms/step - loss: 10.1121 - mae: 10.1121\n",
            "Epoch 26/100\n",
            "2/2 [==============================] - 0s 3ms/step - loss: 16.3869 - mae: 16.3869\n",
            "Epoch 27/100\n",
            "2/2 [==============================] - 0s 3ms/step - loss: 12.5856 - mae: 12.5856\n",
            "Epoch 28/100\n",
            "2/2 [==============================] - 0s 4ms/step - loss: 13.7632 - mae: 13.7632\n",
            "Epoch 29/100\n",
            "2/2 [==============================] - 0s 3ms/step - loss: 9.0995 - mae: 9.0995\n",
            "Epoch 30/100\n",
            "2/2 [==============================] - 0s 4ms/step - loss: 15.4324 - mae: 15.4324\n",
            "Epoch 31/100\n",
            "2/2 [==============================] - 0s 3ms/step - loss: 23.7275 - mae: 23.7275\n",
            "Epoch 32/100\n",
            "2/2 [==============================] - 0s 7ms/step - loss: 6.6583 - mae: 6.6583\n",
            "Epoch 33/100\n",
            "2/2 [==============================] - 0s 4ms/step - loss: 9.3521 - mae: 9.3521\n",
            "Epoch 34/100\n",
            "2/2 [==============================] - 0s 3ms/step - loss: 8.9275 - mae: 8.9275\n",
            "Epoch 35/100\n",
            "2/2 [==============================] - 0s 4ms/step - loss: 7.0428 - mae: 7.0428\n",
            "Epoch 36/100\n",
            "2/2 [==============================] - 0s 9ms/step - loss: 8.9966 - mae: 8.9966\n",
            "Epoch 37/100\n",
            "2/2 [==============================] - 0s 4ms/step - loss: 8.7731 - mae: 8.7731\n",
            "Epoch 38/100\n",
            "2/2 [==============================] - 0s 4ms/step - loss: 9.5648 - mae: 9.5648\n",
            "Epoch 39/100\n",
            "2/2 [==============================] - 0s 4ms/step - loss: 15.0424 - mae: 15.0424\n",
            "Epoch 40/100\n",
            "2/2 [==============================] - 0s 8ms/step - loss: 12.7918 - mae: 12.7918\n",
            "Epoch 41/100\n",
            "2/2 [==============================] - 0s 20ms/step - loss: 8.5635 - mae: 8.5635\n",
            "Epoch 42/100\n",
            "2/2 [==============================] - 0s 4ms/step - loss: 10.4069 - mae: 10.4069\n",
            "Epoch 43/100\n",
            "2/2 [==============================] - 0s 5ms/step - loss: 10.9575 - mae: 10.9575\n",
            "Epoch 44/100\n",
            "2/2 [==============================] - 0s 6ms/step - loss: 15.4550 - mae: 15.4550\n",
            "Epoch 45/100\n",
            "2/2 [==============================] - 0s 5ms/step - loss: 11.1913 - mae: 11.1913\n",
            "Epoch 46/100\n",
            "2/2 [==============================] - 0s 5ms/step - loss: 6.3175 - mae: 6.3175\n",
            "Epoch 47/100\n",
            "2/2 [==============================] - 0s 5ms/step - loss: 8.4750 - mae: 8.4750\n",
            "Epoch 48/100\n",
            "2/2 [==============================] - 0s 6ms/step - loss: 8.0104 - mae: 8.0104\n",
            "Epoch 49/100\n",
            "2/2 [==============================] - 0s 5ms/step - loss: 6.8868 - mae: 6.8868\n",
            "Epoch 50/100\n",
            "2/2 [==============================] - 0s 6ms/step - loss: 8.6688 - mae: 8.6688\n",
            "Epoch 51/100\n",
            "2/2 [==============================] - 0s 7ms/step - loss: 8.6195 - mae: 8.6195\n",
            "Epoch 52/100\n",
            "2/2 [==============================] - 0s 15ms/step - loss: 10.3668 - mae: 10.3668\n",
            "Epoch 53/100\n",
            "2/2 [==============================] - 0s 12ms/step - loss: 11.7298 - mae: 11.7298\n",
            "Epoch 54/100\n",
            "2/2 [==============================] - 0s 8ms/step - loss: 17.4147 - mae: 17.4147\n",
            "Epoch 55/100\n",
            "2/2 [==============================] - 0s 5ms/step - loss: 15.1775 - mae: 15.1775\n",
            "Epoch 56/100\n",
            "2/2 [==============================] - 0s 7ms/step - loss: 10.3830 - mae: 10.3830\n",
            "Epoch 57/100\n",
            "2/2 [==============================] - 0s 14ms/step - loss: 8.7312 - mae: 8.7312\n",
            "Epoch 58/100\n",
            "2/2 [==============================] - 0s 7ms/step - loss: 8.0396 - mae: 8.0396\n",
            "Epoch 59/100\n",
            "2/2 [==============================] - 0s 6ms/step - loss: 9.2555 - mae: 9.2555\n",
            "Epoch 60/100\n",
            "2/2 [==============================] - 0s 5ms/step - loss: 7.4949 - mae: 7.4949\n",
            "Epoch 61/100\n",
            "2/2 [==============================] - 0s 5ms/step - loss: 8.3574 - mae: 8.3574\n",
            "Epoch 62/100\n",
            "2/2 [==============================] - 0s 5ms/step - loss: 6.3038 - mae: 6.3038\n",
            "Epoch 63/100\n",
            "2/2 [==============================] - 0s 4ms/step - loss: 7.2954 - mae: 7.2954\n",
            "Epoch 64/100\n",
            "2/2 [==============================] - 0s 3ms/step - loss: 12.0381 - mae: 12.0381\n",
            "Epoch 65/100\n",
            "2/2 [==============================] - 0s 4ms/step - loss: 9.1088 - mae: 9.1088\n",
            "Epoch 66/100\n",
            "2/2 [==============================] - 0s 6ms/step - loss: 15.5762 - mae: 15.5762\n",
            "Epoch 67/100\n",
            "2/2 [==============================] - 0s 6ms/step - loss: 9.4988 - mae: 9.4988\n",
            "Epoch 68/100\n",
            "2/2 [==============================] - 0s 5ms/step - loss: 7.3459 - mae: 7.3459\n",
            "Epoch 69/100\n",
            "2/2 [==============================] - 0s 9ms/step - loss: 13.3723 - mae: 13.3723\n",
            "Epoch 70/100\n",
            "2/2 [==============================] - 0s 6ms/step - loss: 6.1456 - mae: 6.1456\n",
            "Epoch 71/100\n",
            "2/2 [==============================] - 0s 7ms/step - loss: 12.7084 - mae: 12.7084\n",
            "Epoch 72/100\n",
            "2/2 [==============================] - 0s 4ms/step - loss: 8.6625 - mae: 8.6625\n",
            "Epoch 73/100\n",
            "2/2 [==============================] - 0s 4ms/step - loss: 10.7664 - mae: 10.7664\n",
            "Epoch 74/100\n",
            "2/2 [==============================] - 0s 5ms/step - loss: 11.6373 - mae: 11.6373\n",
            "Epoch 75/100\n",
            "2/2 [==============================] - 0s 10ms/step - loss: 6.3771 - mae: 6.3771\n",
            "Epoch 76/100\n",
            "2/2 [==============================] - 0s 4ms/step - loss: 10.1117 - mae: 10.1117\n",
            "Epoch 77/100\n",
            "2/2 [==============================] - 0s 6ms/step - loss: 10.0869 - mae: 10.0869\n",
            "Epoch 78/100\n",
            "2/2 [==============================] - 0s 5ms/step - loss: 11.7024 - mae: 11.7024\n",
            "Epoch 79/100\n",
            "2/2 [==============================] - 0s 6ms/step - loss: 14.6771 - mae: 14.6771\n",
            "Epoch 80/100\n",
            "2/2 [==============================] - 0s 5ms/step - loss: 11.0129 - mae: 11.0129\n",
            "Epoch 81/100\n",
            "2/2 [==============================] - 0s 6ms/step - loss: 10.1555 - mae: 10.1555\n",
            "Epoch 82/100\n",
            "2/2 [==============================] - 0s 5ms/step - loss: 7.1339 - mae: 7.1339\n",
            "Epoch 83/100\n",
            "2/2 [==============================] - 0s 5ms/step - loss: 8.0773 - mae: 8.0773\n",
            "Epoch 84/100\n",
            "2/2 [==============================] - 0s 5ms/step - loss: 6.7051 - mae: 6.7051\n",
            "Epoch 85/100\n",
            "2/2 [==============================] - 0s 5ms/step - loss: 16.1770 - mae: 16.1770\n",
            "Epoch 86/100\n",
            "2/2 [==============================] - 0s 5ms/step - loss: 11.5961 - mae: 11.5961\n",
            "Epoch 87/100\n",
            "2/2 [==============================] - 0s 6ms/step - loss: 11.4825 - mae: 11.4825\n",
            "Epoch 88/100\n",
            "2/2 [==============================] - 0s 8ms/step - loss: 9.5590 - mae: 9.5590\n",
            "Epoch 89/100\n",
            "2/2 [==============================] - 0s 10ms/step - loss: 6.0280 - mae: 6.0280\n",
            "Epoch 90/100\n",
            "2/2 [==============================] - 0s 6ms/step - loss: 12.9257 - mae: 12.9257\n",
            "Epoch 91/100\n",
            "2/2 [==============================] - 0s 5ms/step - loss: 6.8810 - mae: 6.8810\n",
            "Epoch 92/100\n",
            "2/2 [==============================] - 0s 6ms/step - loss: 7.1209 - mae: 7.1209\n",
            "Epoch 93/100\n",
            "2/2 [==============================] - 0s 7ms/step - loss: 8.5510 - mae: 8.5510\n",
            "Epoch 94/100\n",
            "2/2 [==============================] - 0s 5ms/step - loss: 7.8979 - mae: 7.8979\n",
            "Epoch 95/100\n",
            "2/2 [==============================] - 0s 5ms/step - loss: 11.3865 - mae: 11.3865\n",
            "Epoch 96/100\n",
            "2/2 [==============================] - 0s 5ms/step - loss: 8.4120 - mae: 8.4120\n",
            "Epoch 97/100\n",
            "2/2 [==============================] - 0s 6ms/step - loss: 12.1666 - mae: 12.1666\n",
            "Epoch 98/100\n",
            "2/2 [==============================] - 0s 7ms/step - loss: 7.4770 - mae: 7.4770\n",
            "Epoch 99/100\n",
            "2/2 [==============================] - 0s 6ms/step - loss: 8.2216 - mae: 8.2216\n",
            "Epoch 100/100\n",
            "2/2 [==============================] - 0s 5ms/step - loss: 9.6944 - mae: 9.6944\n"
          ],
          "name": "stdout"
        },
        {
          "output_type": "execute_result",
          "data": {
            "text/plain": [
              "<tensorflow.python.keras.callbacks.History at 0x7f7e46750390>"
            ]
          },
          "metadata": {
            "tags": []
          },
          "execution_count": 68
        }
      ]
    },
    {
      "cell_type": "code",
      "metadata": {
        "colab": {
          "base_uri": "https://localhost:8080/",
          "height": 428
        },
        "id": "ffiXy5939vlZ",
        "outputId": "bf1d4e8a-8f78-4eac-af1d-ec93f9d1797a"
      },
      "source": [
        "# track results\n",
        "# make predictions and plot\n",
        "y_pred_2 = model_2.predict(X_test)\n",
        "plot_predictions(predictions=y_pred_2)"
      ],
      "execution_count": 69,
      "outputs": [
        {
          "output_type": "display_data",
          "data": {
            "image/png": "[encoded data removed]",
            "text/plain": [
              "<Figure size 720x504 with 1 Axes>"
            ]
          },
          "metadata": {
            "tags": [],
            "needs_background": "light"
          }
        }
      ]
    },
    {
      "cell_type": "code",
      "metadata": {
        "colab": {
          "base_uri": "https://localhost:8080/"
        },
        "id": "h8kVtcax93el",
        "outputId": "260569fe-ae83-487b-bb7e-94b2ad8533c1"
      },
      "source": [
        "# Calculate model_1 evaluation metrix\n",
        "mae_2 = mae(y_test, y_pred_2)\n",
        "mse_2 = mse(y_test, y_pred_2)\n",
        "mae_2, mse_2"
      ],
      "execution_count": 70,
      "outputs": [
        {
          "output_type": "execute_result",
          "data": {
            "text/plain": [
              "(<tf.Tensor: shape=(), dtype=float32, numpy=59.05909>,\n",
              " <tf.Tensor: shape=(), dtype=float32, numpy=3540.1946>)"
            ]
          },
          "metadata": {
            "tags": []
          },
          "execution_count": 70
        }
      ]
    },
    {
      "cell_type": "code",
      "metadata": {
        "colab": {
          "base_uri": "https://localhost:8080/"
        },
        "id": "Qh72wfeO-AKq",
        "outputId": "eac57397-c711-42df-a103-515977f73b73"
      },
      "source": [
        "#set random seed\n",
        "tf.random.set_seed(42)\n",
        "# 1. Create the model\n",
        "model_2 = tf.keras.Sequential([\n",
        "  tf.keras.layers.Dense(10),\n",
        "  tf.keras.layers.Dense(1)\n",
        "])\n",
        "\n",
        "# 2. Compile the model\n",
        "model_2.compile(loss = tf.keras.losses.mae,\n",
        "                 optimizer=tf.keras.optimizers.SGD(),\n",
        "                 metrics=['mse'])\n",
        "\n",
        "# 3. Fit the model\n",
        "model_2.fit(X_train, y_train, epochs=100)"
      ],
      "execution_count": 71,
      "outputs": [
        {
          "output_type": "stream",
          "text": [
            "Epoch 1/100\n",
            "2/2 [==============================] - 0s 8ms/step - loss: 27.4058 - mse: 1084.1482\n",
            "Epoch 2/100\n",
            "2/2 [==============================] - 0s 4ms/step - loss: 24.6339 - mse: 777.9203\n",
            "Epoch 3/100\n",
            "2/2 [==============================] - 0s 4ms/step - loss: 29.8935 - mse: 1334.8956\n",
            "Epoch 4/100\n",
            "2/2 [==============================] - 0s 4ms/step - loss: 27.4055 - mse: 1106.8035\n",
            "Epoch 5/100\n",
            "2/2 [==============================] - 0s 3ms/step - loss: 14.9463 - mse: 281.1077\n",
            "Epoch 6/100\n",
            "2/2 [==============================] - 0s 4ms/step - loss: 11.8819 - mse: 168.6621\n",
            "Epoch 7/100\n",
            "2/2 [==============================] - 0s 6ms/step - loss: 11.1988 - mse: 151.3509\n",
            "Epoch 8/100\n",
            "2/2 [==============================] - 0s 5ms/step - loss: 11.0910 - mse: 160.3745\n",
            "Epoch 9/100\n",
            "2/2 [==============================] - 0s 12ms/step - loss: 40.4763 - mse: 2586.0090\n",
            "Epoch 10/100\n",
            "2/2 [==============================] - 0s 4ms/step - loss: 27.8688 - mse: 1094.4382\n",
            "Epoch 11/100\n",
            "2/2 [==============================] - 0s 6ms/step - loss: 10.2473 - mse: 147.9359\n",
            "Epoch 12/100\n",
            "2/2 [==============================] - 0s 5ms/step - loss: 25.2803 - mse: 890.3866\n",
            "Epoch 13/100\n",
            "2/2 [==============================] - 0s 5ms/step - loss: 16.9897 - mse: 399.9678\n",
            "Epoch 14/100\n",
            "2/2 [==============================] - 0s 9ms/step - loss: 25.9217 - mse: 1049.5515\n",
            "Epoch 15/100\n",
            "2/2 [==============================] - 0s 4ms/step - loss: 17.9948 - mse: 450.2580\n",
            "Epoch 16/100\n",
            "2/2 [==============================] - 0s 4ms/step - loss: 7.3510 - mse: 80.6206\n",
            "Epoch 17/100\n",
            "2/2 [==============================] - 0s 4ms/step - loss: 10.8636 - mse: 174.7868\n",
            "Epoch 18/100\n",
            "2/2 [==============================] - 0s 8ms/step - loss: 19.5304 - mse: 565.8053\n",
            "Epoch 19/100\n",
            "2/2 [==============================] - 0s 4ms/step - loss: 10.3469 - mse: 167.7749\n",
            "Epoch 20/100\n",
            "2/2 [==============================] - 0s 3ms/step - loss: 17.6985 - mse: 455.7096\n",
            "Epoch 21/100\n",
            "2/2 [==============================] - 0s 5ms/step - loss: 15.8984 - mse: 347.1929\n",
            "Epoch 22/100\n",
            "2/2 [==============================] - 0s 8ms/step - loss: 14.1991 - mse: 285.1767\n",
            "Epoch 23/100\n",
            "2/2 [==============================] - 0s 3ms/step - loss: 8.7720 - mse: 91.7852\n",
            "Epoch 24/100\n",
            "2/2 [==============================] - 0s 3ms/step - loss: 11.0570 - mse: 153.7430\n",
            "Epoch 25/100\n",
            "2/2 [==============================] - 0s 3ms/step - loss: 12.6838 - mse: 233.2949\n",
            "Epoch 26/100\n",
            "2/2 [==============================] - 0s 3ms/step - loss: 26.1877 - mse: 1024.6091\n",
            "Epoch 27/100\n",
            "2/2 [==============================] - 0s 3ms/step - loss: 11.7432 - mse: 194.8454\n",
            "Epoch 28/100\n",
            "2/2 [==============================] - 0s 4ms/step - loss: 22.8730 - mse: 835.6074\n",
            "Epoch 29/100\n",
            "2/2 [==============================] - 0s 5ms/step - loss: 9.2459 - mse: 96.7786\n",
            "Epoch 30/100\n",
            "2/2 [==============================] - 0s 3ms/step - loss: 29.2641 - mse: 1535.1349\n",
            "Epoch 31/100\n",
            "2/2 [==============================] - 0s 3ms/step - loss: 53.0225 - mse: 5030.2988\n",
            "Epoch 32/100\n",
            "2/2 [==============================] - 0s 4ms/step - loss: 11.9951 - mse: 211.7025\n",
            "Epoch 33/100\n",
            "2/2 [==============================] - 0s 5ms/step - loss: 15.6357 - mse: 337.3666\n",
            "Epoch 34/100\n",
            "2/2 [==============================] - 0s 11ms/step - loss: 12.6925 - mse: 214.4824\n",
            "Epoch 35/100\n",
            "2/2 [==============================] - 0s 5ms/step - loss: 9.2398 - mse: 92.9126\n",
            "Epoch 36/100\n",
            "2/2 [==============================] - 0s 3ms/step - loss: 16.6497 - mse: 403.6573\n",
            "Epoch 37/100\n",
            "2/2 [==============================] - 0s 4ms/step - loss: 11.0382 - mse: 192.3919\n",
            "Epoch 38/100\n",
            "2/2 [==============================] - 0s 4ms/step - loss: 18.1634 - mse: 433.6717\n",
            "Epoch 39/100\n",
            "2/2 [==============================] - 0s 3ms/step - loss: 19.1013 - mse: 529.6439\n",
            "Epoch 40/100\n",
            "2/2 [==============================] - 0s 4ms/step - loss: 20.4324 - mse: 610.1324\n",
            "Epoch 41/100\n",
            "2/2 [==============================] - 0s 4ms/step - loss: 14.9102 - mse: 279.6183\n",
            "Epoch 42/100\n",
            "2/2 [==============================] - 0s 6ms/step - loss: 12.2809 - mse: 186.6180\n",
            "Epoch 43/100\n",
            "2/2 [==============================] - 0s 11ms/step - loss: 10.7333 - mse: 167.0952\n",
            "Epoch 44/100\n",
            "2/2 [==============================] - 0s 10ms/step - loss: 23.0260 - mse: 830.4244\n",
            "Epoch 45/100\n",
            "2/2 [==============================] - 0s 9ms/step - loss: 10.3897 - mse: 128.9549\n",
            "Epoch 46/100\n",
            "2/2 [==============================] - 0s 10ms/step - loss: 11.7904 - mse: 181.9212\n",
            "Epoch 47/100\n",
            "2/2 [==============================] - 0s 4ms/step - loss: 9.6438 - mse: 153.8708\n",
            "Epoch 48/100\n",
            "2/2 [==============================] - 0s 3ms/step - loss: 17.2335 - mse: 402.8494\n",
            "Epoch 49/100\n",
            "2/2 [==============================] - 0s 5ms/step - loss: 9.5729 - mse: 99.8337\n",
            "Epoch 50/100\n",
            "2/2 [==============================] - 0s 4ms/step - loss: 13.8185 - mse: 260.3670\n",
            "Epoch 51/100\n",
            "2/2 [==============================] - 0s 4ms/step - loss: 11.5958 - mse: 154.7956\n",
            "Epoch 52/100\n",
            "2/2 [==============================] - 0s 4ms/step - loss: 30.5538 - mse: 1613.0886\n",
            "Epoch 53/100\n",
            "2/2 [==============================] - 0s 4ms/step - loss: 14.3541 - mse: 302.5293\n",
            "Epoch 54/100\n",
            "2/2 [==============================] - 0s 3ms/step - loss: 23.9713 - mse: 859.3983\n",
            "Epoch 55/100\n",
            "2/2 [==============================] - 0s 3ms/step - loss: 23.1938 - mse: 805.5452\n",
            "Epoch 56/100\n",
            "2/2 [==============================] - 0s 3ms/step - loss: 10.8837 - mse: 170.9834\n",
            "Epoch 57/100\n",
            "2/2 [==============================] - 0s 3ms/step - loss: 12.7445 - mse: 198.7015\n",
            "Epoch 58/100\n",
            "2/2 [==============================] - 0s 3ms/step - loss: 9.5995 - mse: 102.5890\n",
            "Epoch 59/100\n",
            "2/2 [==============================] - 0s 4ms/step - loss: 12.5172 - mse: 216.3367\n",
            "Epoch 60/100\n",
            "2/2 [==============================] - 0s 4ms/step - loss: 12.3200 - mse: 208.6371\n",
            "Epoch 61/100\n",
            "2/2 [==============================] - 0s 3ms/step - loss: 17.4604 - mse: 428.6393\n",
            "Epoch 62/100\n",
            "2/2 [==============================] - 0s 3ms/step - loss: 10.6052 - mse: 136.9777\n",
            "Epoch 63/100\n",
            "2/2 [==============================] - 0s 3ms/step - loss: 10.4893 - mse: 152.4555\n",
            "Epoch 64/100\n",
            "2/2 [==============================] - 0s 6ms/step - loss: 24.8450 - mse: 911.7512\n",
            "Epoch 65/100\n",
            "2/2 [==============================] - 0s 3ms/step - loss: 10.6761 - mse: 142.7374\n",
            "Epoch 66/100\n",
            "2/2 [==============================] - 0s 3ms/step - loss: 21.7809 - mse: 704.4492\n",
            "Epoch 67/100\n",
            "2/2 [==============================] - 0s 3ms/step - loss: 10.7136 - mse: 136.0194\n",
            "Epoch 68/100\n",
            "2/2 [==============================] - 0s 3ms/step - loss: 10.6397 - mse: 149.2300\n",
            "Epoch 69/100\n",
            "2/2 [==============================] - 0s 4ms/step - loss: 22.6914 - mse: 742.1761\n",
            "Epoch 70/100\n",
            "2/2 [==============================] - 0s 4ms/step - loss: 9.3316 - mse: 166.1628\n",
            "Epoch 71/100\n",
            "2/2 [==============================] - 0s 4ms/step - loss: 15.4355 - mse: 323.0843\n",
            "Epoch 72/100\n",
            "2/2 [==============================] - 0s 3ms/step - loss: 6.7437 - mse: 67.0210\n",
            "Epoch 73/100\n",
            "2/2 [==============================] - 0s 5ms/step - loss: 11.6891 - mse: 183.7296\n",
            "Epoch 74/100\n",
            "2/2 [==============================] - 0s 5ms/step - loss: 24.0400 - mse: 908.8992\n",
            "Epoch 75/100\n",
            "2/2 [==============================] - 0s 6ms/step - loss: 9.5896 - mse: 149.3948\n",
            "Epoch 76/100\n",
            "2/2 [==============================] - 0s 4ms/step - loss: 12.4371 - mse: 188.3310\n",
            "Epoch 77/100\n",
            "2/2 [==============================] - 0s 3ms/step - loss: 16.6489 - mse: 429.2708\n",
            "Epoch 78/100\n",
            "2/2 [==============================] - 0s 5ms/step - loss: 9.0614 - mse: 95.4870\n",
            "Epoch 79/100\n",
            "2/2 [==============================] - 0s 4ms/step - loss: 23.9675 - mse: 864.0864\n",
            "Epoch 80/100\n",
            "2/2 [==============================] - 0s 7ms/step - loss: 26.7463 - mse: 1104.4032\n",
            "Epoch 81/100\n",
            "2/2 [==============================] - 0s 6ms/step - loss: 11.6714 - mse: 170.7055\n",
            "Epoch 82/100\n",
            "2/2 [==============================] - 0s 6ms/step - loss: 12.0228 - mse: 211.9191\n",
            "Epoch 83/100\n",
            "2/2 [==============================] - 0s 6ms/step - loss: 17.4218 - mse: 395.5589\n",
            "Epoch 84/100\n",
            "2/2 [==============================] - 0s 6ms/step - loss: 7.2629 - mse: 73.0935\n",
            "Epoch 85/100\n",
            "2/2 [==============================] - 0s 5ms/step - loss: 14.9650 - mse: 312.8361\n",
            "Epoch 86/100\n",
            "2/2 [==============================] - 0s 11ms/step - loss: 15.2862 - mse: 315.3605\n",
            "Epoch 87/100\n",
            "2/2 [==============================] - 0s 9ms/step - loss: 19.1086 - mse: 521.2534\n",
            "Epoch 88/100\n",
            "2/2 [==============================] - 0s 3ms/step - loss: 29.8229 - mse: 1287.1907\n",
            "Epoch 89/100\n",
            "2/2 [==============================] - 0s 7ms/step - loss: 10.1742 - mse: 124.1342\n",
            "Epoch 90/100\n",
            "2/2 [==============================] - 0s 10ms/step - loss: 21.5240 - mse: 663.8611\n",
            "Epoch 91/100\n",
            "2/2 [==============================] - 0s 7ms/step - loss: 10.5716 - mse: 161.7467\n",
            "Epoch 92/100\n",
            "2/2 [==============================] - 0s 3ms/step - loss: 18.3977 - mse: 464.1326\n",
            "Epoch 93/100\n",
            "2/2 [==============================] - 0s 3ms/step - loss: 7.4138 - mse: 81.9820\n",
            "Epoch 94/100\n",
            "2/2 [==============================] - 0s 3ms/step - loss: 17.7380 - mse: 445.7379\n",
            "Epoch 95/100\n",
            "2/2 [==============================] - 0s 3ms/step - loss: 11.1144 - mse: 164.0820\n",
            "Epoch 96/100\n",
            "2/2 [==============================] - 0s 3ms/step - loss: 19.4346 - mse: 510.5842\n",
            "Epoch 97/100\n",
            "2/2 [==============================] - 0s 4ms/step - loss: 12.1593 - mse: 209.9755\n",
            "Epoch 98/100\n",
            "2/2 [==============================] - 0s 3ms/step - loss: 11.5653 - mse: 169.4052\n",
            "Epoch 99/100\n",
            "2/2 [==============================] - 0s 3ms/step - loss: 13.8827 - mse: 265.4630\n",
            "Epoch 100/100\n",
            "2/2 [==============================] - 0s 3ms/step - loss: 20.2277 - mse: 608.8218\n"
          ],
          "name": "stdout"
        },
        {
          "output_type": "execute_result",
          "data": {
            "text/plain": [
              "<tensorflow.python.keras.callbacks.History at 0x7f7e8ebde950>"
            ]
          },
          "metadata": {
            "tags": []
          },
          "execution_count": 71
        }
      ]
    },
    {
      "cell_type": "code",
      "metadata": {
        "colab": {
          "base_uri": "https://localhost:8080/",
          "height": 428
        },
        "id": "Xw4IrM2IEGGJ",
        "outputId": "a8dc9f17-a728-43ce-f4ee-19d288b01c44"
      },
      "source": [
        "# make and plot prediction of model_2\n",
        "y_preds_2 = model_2.predict(X_test)\n",
        "plot_predictions(predictions=y_preds_2)"
      ],
      "execution_count": 72,
      "outputs": [
        {
          "output_type": "display_data",
          "data": {
            "image/png": "[encoded data removed]",
            "text/plain": [
              "<Figure size 720x504 with 1 Axes>"
            ]
          },
          "metadata": {
            "tags": [],
            "needs_background": "light"
          }
        }
      ]
    },
    {
      "cell_type": "code",
      "metadata": {
        "colab": {
          "base_uri": "https://localhost:8080/"
        },
        "id": "bmCHpDu6EXsV",
        "outputId": "ea453df4-aadf-41ab-8e32-584b6afc1742"
      },
      "source": [
        "# evaluation metrics for model 2\n",
        "mae_2 = mae(y_test, y_preds_2)\n",
        "mae_2"
      ],
      "execution_count": 73,
      "outputs": [
        {
          "output_type": "execute_result",
          "data": {
            "text/plain": [
              "<tf.Tensor: shape=(), dtype=float32, numpy=3.1969407>"
            ]
          },
          "metadata": {
            "tags": []
          },
          "execution_count": 73
        }
      ]
    },
    {
      "cell_type": "code",
      "metadata": {
        "colab": {
          "base_uri": "https://localhost:8080/"
        },
        "id": "OH52sxylFgRu",
        "outputId": "998e67aa-dd1f-45be-db8d-91e37b1ef036"
      },
      "source": [
        "mse_2 = mse(y_test, y_preds_2)\n",
        "mse_2"
      ],
      "execution_count": 74,
      "outputs": [
        {
          "output_type": "execute_result",
          "data": {
            "text/plain": [
              "<tf.Tensor: shape=(), dtype=float32, numpy=13.070143>"
            ]
          },
          "metadata": {
            "tags": []
          },
          "execution_count": 74
        }
      ]
    },
    {
      "cell_type": "code",
      "metadata": {
        "colab": {
          "base_uri": "https://localhost:8080/"
        },
        "id": "QIwIKWqLFnXu",
        "outputId": "7d68b40d-fc3a-4294-c8b8-ea4738e00014"
      },
      "source": [
        "# model 3\n",
        "#set seed\n",
        "tf.random.set_seed(42)\n",
        "\n",
        "# 1. Create model\n",
        "model_3 = tf.keras.Sequential([\n",
        "  tf.keras.layers.Dense(1),\n",
        "  tf.keras.layers.Dense(10),\n",
        "  tf.keras.layers.Dense(100),\n",
        "  tf.keras.layers.Dense(1)\n",
        "])\n",
        "\n",
        "# 2. Complile model\n",
        "model_3.compile(loss = tf.keras.losses.mae,\n",
        "                 optimizer=tf.keras.optimizers.Adam(),\n",
        "                 metrics=['mse'])\n",
        "# 3. fit the model\n",
        "model.fit(X_train, y_train, epochs=300)"
      ],
      "execution_count": 75,
      "outputs": [
        {
          "output_type": "stream",
          "text": [
            "Epoch 1/300\n",
            "2/2 [==============================] - 0s 7ms/step - loss: 17.3392 - mae: 17.3392\n",
            "Epoch 2/300\n",
            "2/2 [==============================] - 0s 4ms/step - loss: 9.2463 - mae: 9.2463\n",
            "Epoch 3/300\n",
            "2/2 [==============================] - 0s 5ms/step - loss: 18.8860 - mae: 18.8860\n",
            "Epoch 4/300\n",
            "2/2 [==============================] - 0s 4ms/step - loss: 10.9330 - mae: 10.9330\n",
            "Epoch 5/300\n",
            "2/2 [==============================] - 0s 6ms/step - loss: 11.7792 - mae: 11.7792\n",
            "Epoch 6/300\n",
            "2/2 [==============================] - 0s 6ms/step - loss: 9.5991 - mae: 9.5991\n",
            "Epoch 7/300\n",
            "2/2 [==============================] - 0s 7ms/step - loss: 10.4972 - mae: 10.4972\n",
            "Epoch 8/300\n",
            "2/2 [==============================] - 0s 5ms/step - loss: 10.6171 - mae: 10.6171\n",
            "Epoch 9/300\n",
            "2/2 [==============================] - 0s 5ms/step - loss: 38.4294 - mae: 38.4294\n",
            "Epoch 10/300\n",
            "2/2 [==============================] - 0s 5ms/step - loss: 26.1387 - mae: 26.1387\n",
            "Epoch 11/300\n",
            "2/2 [==============================] - 0s 6ms/step - loss: 11.5874 - mae: 11.5874\n",
            "Epoch 12/300\n",
            "2/2 [==============================] - 0s 6ms/step - loss: 23.5239 - mae: 23.5239\n",
            "Epoch 13/300\n",
            "2/2 [==============================] - 0s 4ms/step - loss: 21.0424 - mae: 21.0424\n",
            "Epoch 14/300\n",
            "2/2 [==============================] - 0s 4ms/step - loss: 23.5537 - mae: 23.5537\n",
            "Epoch 15/300\n",
            "2/2 [==============================] - 0s 3ms/step - loss: 15.5499 - mae: 15.5499\n",
            "Epoch 16/300\n",
            "2/2 [==============================] - 0s 4ms/step - loss: 10.2005 - mae: 10.2005\n",
            "Epoch 17/300\n",
            "2/2 [==============================] - 0s 3ms/step - loss: 19.9264 - mae: 19.9264\n",
            "Epoch 18/300\n",
            "2/2 [==============================] - 0s 4ms/step - loss: 10.8724 - mae: 10.8724\n",
            "Epoch 19/300\n",
            "2/2 [==============================] - 0s 3ms/step - loss: 13.3907 - mae: 13.3907\n",
            "Epoch 20/300\n",
            "2/2 [==============================] - 0s 3ms/step - loss: 10.7815 - mae: 10.7815\n",
            "Epoch 21/300\n",
            "2/2 [==============================] - 0s 3ms/step - loss: 16.7926 - mae: 16.7926\n",
            "Epoch 22/300\n",
            "2/2 [==============================] - 0s 3ms/step - loss: 15.0242 - mae: 15.0242\n",
            "Epoch 23/300\n",
            "2/2 [==============================] - 0s 3ms/step - loss: 8.4227 - mae: 8.4227\n",
            "Epoch 24/300\n",
            "2/2 [==============================] - 0s 3ms/step - loss: 10.7068 - mae: 10.7068\n",
            "Epoch 25/300\n",
            "2/2 [==============================] - 0s 3ms/step - loss: 12.9930 - mae: 12.9930\n",
            "Epoch 26/300\n",
            "2/2 [==============================] - 0s 5ms/step - loss: 22.5163 - mae: 22.5163\n",
            "Epoch 27/300\n",
            "2/2 [==============================] - 0s 3ms/step - loss: 10.7489 - mae: 10.7489\n",
            "Epoch 28/300\n",
            "2/2 [==============================] - 0s 4ms/step - loss: 26.5636 - mae: 26.5636\n",
            "Epoch 29/300\n",
            "2/2 [==============================] - 0s 6ms/step - loss: 9.0272 - mae: 9.0272\n",
            "Epoch 30/300\n",
            "2/2 [==============================] - 0s 5ms/step - loss: 31.0501 - mae: 31.0501\n",
            "Epoch 31/300\n",
            "2/2 [==============================] - 0s 5ms/step - loss: 42.5044 - mae: 42.5044\n",
            "Epoch 32/300\n",
            "2/2 [==============================] - 0s 12ms/step - loss: 12.1921 - mae: 12.1921\n",
            "Epoch 33/300\n",
            "2/2 [==============================] - 0s 4ms/step - loss: 11.9560 - mae: 11.9560\n",
            "Epoch 34/300\n",
            "2/2 [==============================] - 0s 5ms/step - loss: 24.1975 - mae: 24.1975\n",
            "Epoch 35/300\n",
            "2/2 [==============================] - 0s 8ms/step - loss: 11.7662 - mae: 11.7662\n",
            "Epoch 36/300\n",
            "2/2 [==============================] - 0s 5ms/step - loss: 22.1616 - mae: 22.1616\n",
            "Epoch 37/300\n",
            "2/2 [==============================] - 0s 18ms/step - loss: 17.5553 - mae: 17.5553\n",
            "Epoch 38/300\n",
            "2/2 [==============================] - 0s 4ms/step - loss: 9.6818 - mae: 9.6818\n",
            "Epoch 39/300\n",
            "2/2 [==============================] - 0s 3ms/step - loss: 12.5151 - mae: 12.5151\n",
            "Epoch 40/300\n",
            "2/2 [==============================] - 0s 5ms/step - loss: 16.8493 - mae: 16.8493\n",
            "Epoch 41/300\n",
            "2/2 [==============================] - 0s 4ms/step - loss: 10.9212 - mae: 10.9212\n",
            "Epoch 42/300\n",
            "2/2 [==============================] - 0s 5ms/step - loss: 9.2474 - mae: 9.2474\n",
            "Epoch 43/300\n",
            "2/2 [==============================] - 0s 7ms/step - loss: 9.4332 - mae: 9.4332\n",
            "Epoch 44/300\n",
            "2/2 [==============================] - 0s 4ms/step - loss: 28.9955 - mae: 28.9955\n",
            "Epoch 45/300\n",
            "2/2 [==============================] - 0s 5ms/step - loss: 11.3178 - mae: 11.3178\n",
            "Epoch 46/300\n",
            "2/2 [==============================] - 0s 7ms/step - loss: 14.8214 - mae: 14.8214\n",
            "Epoch 47/300\n",
            "2/2 [==============================] - 0s 7ms/step - loss: 14.3485 - mae: 14.3485\n",
            "Epoch 48/300\n",
            "2/2 [==============================] - 0s 7ms/step - loss: 17.7860 - mae: 17.7860\n",
            "Epoch 49/300\n",
            "2/2 [==============================] - 0s 4ms/step - loss: 8.9413 - mae: 8.9413\n",
            "Epoch 50/300\n",
            "2/2 [==============================] - 0s 5ms/step - loss: 12.8798 - mae: 12.8798\n",
            "Epoch 51/300\n",
            "2/2 [==============================] - 0s 6ms/step - loss: 11.1092 - mae: 11.1092\n",
            "Epoch 52/300\n",
            "2/2 [==============================] - 0s 7ms/step - loss: 29.0569 - mae: 29.0569\n",
            "Epoch 53/300\n",
            "2/2 [==============================] - 0s 16ms/step - loss: 16.4662 - mae: 16.4662\n",
            "Epoch 54/300\n",
            "2/2 [==============================] - 0s 4ms/step - loss: 21.4008 - mae: 21.4008\n",
            "Epoch 55/300\n",
            "2/2 [==============================] - 0s 4ms/step - loss: 21.9390 - mae: 21.9390\n",
            "Epoch 56/300\n",
            "2/2 [==============================] - 0s 5ms/step - loss: 10.2796 - mae: 10.2796\n",
            "Epoch 57/300\n",
            "2/2 [==============================] - 0s 9ms/step - loss: 12.0466 - mae: 12.0466\n",
            "Epoch 58/300\n",
            "2/2 [==============================] - 0s 8ms/step - loss: 9.1457 - mae: 9.1457\n",
            "Epoch 59/300\n",
            "2/2 [==============================] - 0s 10ms/step - loss: 11.9588 - mae: 11.9588\n",
            "Epoch 60/300\n",
            "2/2 [==============================] - 0s 14ms/step - loss: 11.4416 - mae: 11.4416\n",
            "Epoch 61/300\n",
            "2/2 [==============================] - 0s 20ms/step - loss: 16.4481 - mae: 16.4481\n",
            "Epoch 62/300\n",
            "2/2 [==============================] - 0s 4ms/step - loss: 10.0186 - mae: 10.0186\n",
            "Epoch 63/300\n",
            "2/2 [==============================] - 0s 5ms/step - loss: 13.5854 - mae: 13.5854\n",
            "Epoch 64/300\n",
            "2/2 [==============================] - 0s 7ms/step - loss: 11.3679 - mae: 11.3679\n",
            "Epoch 65/300\n",
            "2/2 [==============================] - 0s 8ms/step - loss: 19.3054 - mae: 19.3054\n",
            "Epoch 66/300\n",
            "2/2 [==============================] - 0s 4ms/step - loss: 11.6774 - mae: 11.6774\n",
            "Epoch 67/300\n",
            "2/2 [==============================] - 0s 9ms/step - loss: 17.6821 - mae: 17.6821\n",
            "Epoch 68/300\n",
            "2/2 [==============================] - 0s 4ms/step - loss: 6.5985 - mae: 6.5985\n",
            "Epoch 69/300\n",
            "2/2 [==============================] - 0s 4ms/step - loss: 14.3738 - mae: 14.3738\n",
            "Epoch 70/300\n",
            "2/2 [==============================] - 0s 15ms/step - loss: 6.4887 - mae: 6.4887\n",
            "Epoch 71/300\n",
            "2/2 [==============================] - 0s 5ms/step - loss: 11.7892 - mae: 11.7892\n",
            "Epoch 72/300\n",
            "2/2 [==============================] - 0s 7ms/step - loss: 19.3829 - mae: 19.3829\n",
            "Epoch 73/300\n",
            "2/2 [==============================] - 0s 4ms/step - loss: 11.3364 - mae: 11.3364\n",
            "Epoch 74/300\n",
            "2/2 [==============================] - 0s 4ms/step - loss: 23.5519 - mae: 23.5519\n",
            "Epoch 75/300\n",
            "2/2 [==============================] - 0s 3ms/step - loss: 9.2635 - mae: 9.2635\n",
            "Epoch 76/300\n",
            "2/2 [==============================] - 0s 4ms/step - loss: 12.1032 - mae: 12.1032\n",
            "Epoch 77/300\n",
            "2/2 [==============================] - 0s 3ms/step - loss: 16.6520 - mae: 16.6520\n",
            "Epoch 78/300\n",
            "2/2 [==============================] - 0s 22ms/step - loss: 8.5997 - mae: 8.5997\n",
            "Epoch 79/300\n",
            "2/2 [==============================] - 0s 6ms/step - loss: 27.3791 - mae: 27.3791\n",
            "Epoch 80/300\n",
            "2/2 [==============================] - 0s 6ms/step - loss: 29.4628 - mae: 29.4628\n",
            "Epoch 81/300\n",
            "2/2 [==============================] - 0s 4ms/step - loss: 12.0973 - mae: 12.0973\n",
            "Epoch 82/300\n",
            "2/2 [==============================] - 0s 4ms/step - loss: 11.5837 - mae: 11.5837\n",
            "Epoch 83/300\n",
            "2/2 [==============================] - 0s 25ms/step - loss: 16.8200 - mae: 16.8200\n",
            "Epoch 84/300\n",
            "2/2 [==============================] - 0s 5ms/step - loss: 11.7713 - mae: 11.7713\n",
            "Epoch 85/300\n",
            "2/2 [==============================] - 0s 4ms/step - loss: 24.5648 - mae: 24.5648\n",
            "Epoch 86/300\n",
            "2/2 [==============================] - 0s 12ms/step - loss: 18.3215 - mae: 18.3215\n",
            "Epoch 87/300\n",
            "2/2 [==============================] - 0s 5ms/step - loss: 10.5856 - mae: 10.5856\n",
            "Epoch 88/300\n",
            "2/2 [==============================] - 0s 3ms/step - loss: 23.8927 - mae: 23.8927\n",
            "Epoch 89/300\n",
            "2/2 [==============================] - 0s 4ms/step - loss: 9.2805 - mae: 9.2805\n",
            "Epoch 90/300\n",
            "2/2 [==============================] - 0s 5ms/step - loss: 18.1710 - mae: 18.1710\n",
            "Epoch 91/300\n",
            "2/2 [==============================] - 0s 7ms/step - loss: 10.1181 - mae: 10.1181\n",
            "Epoch 92/300\n",
            "2/2 [==============================] - 0s 5ms/step - loss: 17.5237 - mae: 17.5237\n",
            "Epoch 93/300\n",
            "2/2 [==============================] - 0s 3ms/step - loss: 6.6220 - mae: 6.6220\n",
            "Epoch 94/300\n",
            "2/2 [==============================] - 0s 4ms/step - loss: 17.5007 - mae: 17.5007\n",
            "Epoch 95/300\n",
            "2/2 [==============================] - 0s 3ms/step - loss: 17.1580 - mae: 17.1580\n",
            "Epoch 96/300\n",
            "2/2 [==============================] - 0s 3ms/step - loss: 11.3646 - mae: 11.3646\n",
            "Epoch 97/300\n",
            "2/2 [==============================] - 0s 3ms/step - loss: 18.0529 - mae: 18.0529\n",
            "Epoch 98/300\n",
            "2/2 [==============================] - 0s 4ms/step - loss: 9.5539 - mae: 9.5539\n",
            "Epoch 99/300\n",
            "2/2 [==============================] - 0s 5ms/step - loss: 16.7308 - mae: 16.7308\n",
            "Epoch 100/300\n",
            "2/2 [==============================] - 0s 3ms/step - loss: 17.5682 - mae: 17.5682\n",
            "Epoch 101/300\n",
            "2/2 [==============================] - 0s 3ms/step - loss: 16.1689 - mae: 16.1689\n",
            "Epoch 102/300\n",
            "2/2 [==============================] - 0s 4ms/step - loss: 12.6590 - mae: 12.6590\n",
            "Epoch 103/300\n",
            "2/2 [==============================] - 0s 4ms/step - loss: 15.8310 - mae: 15.8310\n",
            "Epoch 104/300\n",
            "2/2 [==============================] - 0s 3ms/step - loss: 21.8322 - mae: 21.8322\n",
            "Epoch 105/300\n",
            "2/2 [==============================] - 0s 5ms/step - loss: 21.2986 - mae: 21.2986\n",
            "Epoch 106/300\n",
            "2/2 [==============================] - 0s 4ms/step - loss: 9.1696 - mae: 9.1696\n",
            "Epoch 107/300\n",
            "2/2 [==============================] - 0s 4ms/step - loss: 25.2683 - mae: 25.2683\n",
            "Epoch 108/300\n",
            "2/2 [==============================] - 0s 3ms/step - loss: 13.8325 - mae: 13.8325\n",
            "Epoch 109/300\n",
            "2/2 [==============================] - 0s 3ms/step - loss: 8.3709 - mae: 8.3709\n",
            "Epoch 110/300\n",
            "2/2 [==============================] - 0s 4ms/step - loss: 7.2119 - mae: 7.2119\n",
            "Epoch 111/300\n",
            "2/2 [==============================] - 0s 4ms/step - loss: 23.6194 - mae: 23.6194\n",
            "Epoch 112/300\n",
            "2/2 [==============================] - 0s 6ms/step - loss: 9.1889 - mae: 9.1889\n",
            "Epoch 113/300\n",
            "2/2 [==============================] - 0s 7ms/step - loss: 17.1253 - mae: 17.1253\n",
            "Epoch 114/300\n",
            "2/2 [==============================] - 0s 4ms/step - loss: 16.4673 - mae: 16.4673\n",
            "Epoch 115/300\n",
            "2/2 [==============================] - 0s 3ms/step - loss: 10.7245 - mae: 10.7245\n",
            "Epoch 116/300\n",
            "2/2 [==============================] - 0s 4ms/step - loss: 22.4870 - mae: 22.4870\n",
            "Epoch 117/300\n",
            "2/2 [==============================] - 0s 4ms/step - loss: 9.2178 - mae: 9.2178\n",
            "Epoch 118/300\n",
            "2/2 [==============================] - 0s 5ms/step - loss: 10.2862 - mae: 10.2862\n",
            "Epoch 119/300\n",
            "2/2 [==============================] - 0s 4ms/step - loss: 7.8393 - mae: 7.8393\n",
            "Epoch 120/300\n",
            "2/2 [==============================] - 0s 3ms/step - loss: 38.4955 - mae: 38.4955\n",
            "Epoch 121/300\n",
            "2/2 [==============================] - 0s 4ms/step - loss: 10.4463 - mae: 10.4463\n",
            "Epoch 122/300\n",
            "2/2 [==============================] - 0s 4ms/step - loss: 27.9930 - mae: 27.9930\n",
            "Epoch 123/300\n",
            "2/2 [==============================] - 0s 3ms/step - loss: 32.5235 - mae: 32.5235\n",
            "Epoch 124/300\n",
            "2/2 [==============================] - 0s 3ms/step - loss: 19.3155 - mae: 19.3155\n",
            "Epoch 125/300\n",
            "2/2 [==============================] - 0s 3ms/step - loss: 9.3498 - mae: 9.3498\n",
            "Epoch 126/300\n",
            "2/2 [==============================] - 0s 4ms/step - loss: 9.4594 - mae: 9.4594\n",
            "Epoch 127/300\n",
            "2/2 [==============================] - 0s 4ms/step - loss: 12.7784 - mae: 12.7784\n",
            "Epoch 128/300\n",
            "2/2 [==============================] - 0s 4ms/step - loss: 13.2644 - mae: 13.2644\n",
            "Epoch 129/300\n",
            "2/2 [==============================] - 0s 3ms/step - loss: 10.4987 - mae: 10.4987\n",
            "Epoch 130/300\n",
            "2/2 [==============================] - 0s 6ms/step - loss: 14.9201 - mae: 14.9201\n",
            "Epoch 131/300\n",
            "2/2 [==============================] - 0s 3ms/step - loss: 8.5566 - mae: 8.5566\n",
            "Epoch 132/300\n",
            "2/2 [==============================] - 0s 3ms/step - loss: 14.5080 - mae: 14.5080\n",
            "Epoch 133/300\n",
            "2/2 [==============================] - 0s 5ms/step - loss: 7.5560 - mae: 7.5560\n",
            "Epoch 134/300\n",
            "2/2 [==============================] - 0s 4ms/step - loss: 19.1755 - mae: 19.1755\n",
            "Epoch 135/300\n",
            "2/2 [==============================] - 0s 6ms/step - loss: 10.6254 - mae: 10.6254\n",
            "Epoch 136/300\n",
            "2/2 [==============================] - 0s 4ms/step - loss: 19.0910 - mae: 19.0910\n",
            "Epoch 137/300\n",
            "2/2 [==============================] - 0s 5ms/step - loss: 22.2280 - mae: 22.2280\n",
            "Epoch 138/300\n",
            "2/2 [==============================] - 0s 5ms/step - loss: 8.6771 - mae: 8.6771\n",
            "Epoch 139/300\n",
            "2/2 [==============================] - 0s 3ms/step - loss: 6.2094 - mae: 6.2094\n",
            "Epoch 140/300\n",
            "2/2 [==============================] - 0s 6ms/step - loss: 26.8478 - mae: 26.8478\n",
            "Epoch 141/300\n",
            "2/2 [==============================] - 0s 9ms/step - loss: 11.4951 - mae: 11.4951\n",
            "Epoch 142/300\n",
            "2/2 [==============================] - 0s 3ms/step - loss: 23.8362 - mae: 23.8362\n",
            "Epoch 143/300\n",
            "2/2 [==============================] - 0s 5ms/step - loss: 16.4130 - mae: 16.4130\n",
            "Epoch 144/300\n",
            "2/2 [==============================] - 0s 3ms/step - loss: 12.1365 - mae: 12.1365\n",
            "Epoch 145/300\n",
            "2/2 [==============================] - 0s 4ms/step - loss: 25.0212 - mae: 25.0212\n",
            "Epoch 146/300\n",
            "2/2 [==============================] - 0s 5ms/step - loss: 10.9731 - mae: 10.9731\n",
            "Epoch 147/300\n",
            "2/2 [==============================] - 0s 4ms/step - loss: 13.9559 - mae: 13.9559\n",
            "Epoch 148/300\n",
            "2/2 [==============================] - 0s 4ms/step - loss: 16.8090 - mae: 16.8090\n",
            "Epoch 149/300\n",
            "2/2 [==============================] - 0s 7ms/step - loss: 9.1695 - mae: 9.1695\n",
            "Epoch 150/300\n",
            "2/2 [==============================] - 0s 20ms/step - loss: 7.8098 - mae: 7.8098\n",
            "Epoch 151/300\n",
            "2/2 [==============================] - 0s 6ms/step - loss: 16.7085 - mae: 16.7085\n",
            "Epoch 152/300\n",
            "2/2 [==============================] - 0s 3ms/step - loss: 9.7114 - mae: 9.7114\n",
            "Epoch 153/300\n",
            "2/2 [==============================] - 0s 6ms/step - loss: 27.3082 - mae: 27.3082\n",
            "Epoch 154/300\n",
            "2/2 [==============================] - 0s 14ms/step - loss: 11.7298 - mae: 11.7298\n",
            "Epoch 155/300\n",
            "2/2 [==============================] - 0s 14ms/step - loss: 15.1141 - mae: 15.1141\n",
            "Epoch 156/300\n",
            "2/2 [==============================] - 0s 3ms/step - loss: 16.3971 - mae: 16.3971\n",
            "Epoch 157/300\n",
            "2/2 [==============================] - 0s 11ms/step - loss: 16.5857 - mae: 16.5857\n",
            "Epoch 158/300\n",
            "2/2 [==============================] - 0s 5ms/step - loss: 17.2714 - mae: 17.2714\n",
            "Epoch 159/300\n",
            "2/2 [==============================] - 0s 6ms/step - loss: 8.2665 - mae: 8.2665\n",
            "Epoch 160/300\n",
            "2/2 [==============================] - 0s 13ms/step - loss: 19.7221 - mae: 19.7221\n",
            "Epoch 161/300\n",
            "2/2 [==============================] - 0s 4ms/step - loss: 10.1753 - mae: 10.1753\n",
            "Epoch 162/300\n",
            "2/2 [==============================] - 0s 6ms/step - loss: 24.4135 - mae: 24.4135\n",
            "Epoch 163/300\n",
            "2/2 [==============================] - 0s 4ms/step - loss: 20.7603 - mae: 20.7603\n",
            "Epoch 164/300\n",
            "2/2 [==============================] - 0s 6ms/step - loss: 12.7833 - mae: 12.7833\n",
            "Epoch 165/300\n",
            "2/2 [==============================] - 0s 7ms/step - loss: 12.6109 - mae: 12.6109\n",
            "Epoch 166/300\n",
            "2/2 [==============================] - 0s 5ms/step - loss: 18.7059 - mae: 18.7059\n",
            "Epoch 167/300\n",
            "2/2 [==============================] - 0s 5ms/step - loss: 27.2201 - mae: 27.2201\n",
            "Epoch 168/300\n",
            "2/2 [==============================] - 0s 5ms/step - loss: 9.8781 - mae: 9.8781\n",
            "Epoch 169/300\n",
            "2/2 [==============================] - 0s 8ms/step - loss: 23.6105 - mae: 23.6105\n",
            "Epoch 170/300\n",
            "2/2 [==============================] - 0s 13ms/step - loss: 9.4061 - mae: 9.4061\n",
            "Epoch 171/300\n",
            "2/2 [==============================] - 0s 7ms/step - loss: 18.4394 - mae: 18.4394\n",
            "Epoch 172/300\n",
            "2/2 [==============================] - 0s 3ms/step - loss: 27.8722 - mae: 27.8722\n",
            "Epoch 173/300\n",
            "2/2 [==============================] - 0s 4ms/step - loss: 15.5553 - mae: 15.5553\n",
            "Epoch 174/300\n",
            "2/2 [==============================] - 0s 3ms/step - loss: 10.4228 - mae: 10.4228\n",
            "Epoch 175/300\n",
            "2/2 [==============================] - 0s 6ms/step - loss: 27.6310 - mae: 27.6310\n",
            "Epoch 176/300\n",
            "2/2 [==============================] - 0s 5ms/step - loss: 8.0548 - mae: 8.0548\n",
            "Epoch 177/300\n",
            "2/2 [==============================] - 0s 4ms/step - loss: 9.0538 - mae: 9.0538\n",
            "Epoch 178/300\n",
            "2/2 [==============================] - 0s 6ms/step - loss: 18.0412 - mae: 18.0412\n",
            "Epoch 179/300\n",
            "2/2 [==============================] - 0s 5ms/step - loss: 10.5940 - mae: 10.5940\n",
            "Epoch 180/300\n",
            "2/2 [==============================] - 0s 4ms/step - loss: 7.7341 - mae: 7.7341\n",
            "Epoch 181/300\n",
            "2/2 [==============================] - 0s 3ms/step - loss: 17.4002 - mae: 17.4002\n",
            "Epoch 182/300\n",
            "2/2 [==============================] - 0s 4ms/step - loss: 10.8597 - mae: 10.8597\n",
            "Epoch 183/300\n",
            "2/2 [==============================] - 0s 9ms/step - loss: 12.1973 - mae: 12.1973\n",
            "Epoch 184/300\n",
            "2/2 [==============================] - 0s 5ms/step - loss: 27.0464 - mae: 27.0464\n",
            "Epoch 185/300\n",
            "2/2 [==============================] - 0s 8ms/step - loss: 8.0723 - mae: 8.0723\n",
            "Epoch 186/300\n",
            "2/2 [==============================] - 0s 9ms/step - loss: 22.6810 - mae: 22.6810\n",
            "Epoch 187/300\n",
            "2/2 [==============================] - 0s 7ms/step - loss: 19.2200 - mae: 19.2200\n",
            "Epoch 188/300\n",
            "2/2 [==============================] - 0s 15ms/step - loss: 13.5850 - mae: 13.5850\n",
            "Epoch 189/300\n",
            "2/2 [==============================] - 0s 8ms/step - loss: 15.0083 - mae: 15.0083\n",
            "Epoch 190/300\n",
            "2/2 [==============================] - 0s 5ms/step - loss: 20.5188 - mae: 20.5188\n",
            "Epoch 191/300\n",
            "2/2 [==============================] - 0s 3ms/step - loss: 22.3707 - mae: 22.3707\n",
            "Epoch 192/300\n",
            "2/2 [==============================] - 0s 9ms/step - loss: 9.9008 - mae: 9.9008\n",
            "Epoch 193/300\n",
            "2/2 [==============================] - 0s 3ms/step - loss: 28.5352 - mae: 28.5352\n",
            "Epoch 194/300\n",
            "2/2 [==============================] - 0s 8ms/step - loss: 7.0015 - mae: 7.0015\n",
            "Epoch 195/300\n",
            "2/2 [==============================] - 0s 8ms/step - loss: 6.9430 - mae: 6.9430\n",
            "Epoch 196/300\n",
            "2/2 [==============================] - 0s 8ms/step - loss: 21.8717 - mae: 21.8717\n",
            "Epoch 197/300\n",
            "2/2 [==============================] - 0s 3ms/step - loss: 21.0897 - mae: 21.0897\n",
            "Epoch 198/300\n",
            "2/2 [==============================] - 0s 4ms/step - loss: 12.5766 - mae: 12.5766\n",
            "Epoch 199/300\n",
            "2/2 [==============================] - 0s 3ms/step - loss: 18.1324 - mae: 18.1324\n",
            "Epoch 200/300\n",
            "2/2 [==============================] - 0s 5ms/step - loss: 14.1555 - mae: 14.1555\n",
            "Epoch 201/300\n",
            "2/2 [==============================] - 0s 6ms/step - loss: 9.6684 - mae: 9.6684\n",
            "Epoch 202/300\n",
            "2/2 [==============================] - 0s 6ms/step - loss: 23.1498 - mae: 23.1498\n",
            "Epoch 203/300\n",
            "2/2 [==============================] - 0s 7ms/step - loss: 20.1510 - mae: 20.1510\n",
            "Epoch 204/300\n",
            "2/2 [==============================] - 0s 4ms/step - loss: 15.8620 - mae: 15.8620\n",
            "Epoch 205/300\n",
            "2/2 [==============================] - 0s 3ms/step - loss: 8.7732 - mae: 8.7732\n",
            "Epoch 206/300\n",
            "2/2 [==============================] - 0s 7ms/step - loss: 11.8455 - mae: 11.8455\n",
            "Epoch 207/300\n",
            "2/2 [==============================] - 0s 6ms/step - loss: 14.9495 - mae: 14.9495\n",
            "Epoch 208/300\n",
            "2/2 [==============================] - 0s 7ms/step - loss: 13.5180 - mae: 13.5180\n",
            "Epoch 209/300\n",
            "2/2 [==============================] - 0s 6ms/step - loss: 15.7340 - mae: 15.7340\n",
            "Epoch 210/300\n",
            "2/2 [==============================] - 0s 6ms/step - loss: 18.8619 - mae: 18.8619\n",
            "Epoch 211/300\n",
            "2/2 [==============================] - 0s 4ms/step - loss: 10.0138 - mae: 10.0138\n",
            "Epoch 212/300\n",
            "2/2 [==============================] - 0s 8ms/step - loss: 19.6458 - mae: 19.6458\n",
            "Epoch 213/300\n",
            "2/2 [==============================] - 0s 4ms/step - loss: 15.1347 - mae: 15.1347\n",
            "Epoch 214/300\n",
            "2/2 [==============================] - 0s 7ms/step - loss: 14.6379 - mae: 14.6379\n",
            "Epoch 215/300\n",
            "2/2 [==============================] - 0s 4ms/step - loss: 23.4471 - mae: 23.4471\n",
            "Epoch 216/300\n",
            "2/2 [==============================] - 0s 6ms/step - loss: 13.0635 - mae: 13.0635\n",
            "Epoch 217/300\n",
            "2/2 [==============================] - 0s 5ms/step - loss: 9.5298 - mae: 9.5298\n",
            "Epoch 218/300\n",
            "2/2 [==============================] - 0s 5ms/step - loss: 11.3599 - mae: 11.3599\n",
            "Epoch 219/300\n",
            "2/2 [==============================] - 0s 4ms/step - loss: 6.9459 - mae: 6.9459\n",
            "Epoch 220/300\n",
            "2/2 [==============================] - 0s 5ms/step - loss: 6.9202 - mae: 6.9202\n",
            "Epoch 221/300\n",
            "2/2 [==============================] - 0s 6ms/step - loss: 40.0170 - mae: 40.0170\n",
            "Epoch 222/300\n",
            "2/2 [==============================] - 0s 5ms/step - loss: 40.4062 - mae: 40.4062\n",
            "Epoch 223/300\n",
            "2/2 [==============================] - 0s 4ms/step - loss: 4.9870 - mae: 4.9870\n",
            "Epoch 224/300\n",
            "2/2 [==============================] - 0s 9ms/step - loss: 9.9893 - mae: 9.9893\n",
            "Epoch 225/300\n",
            "2/2 [==============================] - 0s 8ms/step - loss: 30.4811 - mae: 30.4811\n",
            "Epoch 226/300\n",
            "2/2 [==============================] - 0s 4ms/step - loss: 7.6696 - mae: 7.6696\n",
            "Epoch 227/300\n",
            "2/2 [==============================] - 0s 4ms/step - loss: 18.4221 - mae: 18.4221\n",
            "Epoch 228/300\n",
            "2/2 [==============================] - 0s 7ms/step - loss: 8.6277 - mae: 8.6277\n",
            "Epoch 229/300\n",
            "2/2 [==============================] - 0s 4ms/step - loss: 18.1297 - mae: 18.1297\n",
            "Epoch 230/300\n",
            "2/2 [==============================] - 0s 5ms/step - loss: 15.6356 - mae: 15.6356\n",
            "Epoch 231/300\n",
            "2/2 [==============================] - 0s 4ms/step - loss: 21.3272 - mae: 21.3272\n",
            "Epoch 232/300\n",
            "2/2 [==============================] - 0s 5ms/step - loss: 24.9734 - mae: 24.9734\n",
            "Epoch 233/300\n",
            "2/2 [==============================] - 0s 14ms/step - loss: 16.0650 - mae: 16.0650\n",
            "Epoch 234/300\n",
            "2/2 [==============================] - 0s 4ms/step - loss: 7.1120 - mae: 7.1120\n",
            "Epoch 235/300\n",
            "2/2 [==============================] - 0s 9ms/step - loss: 16.7517 - mae: 16.7517\n",
            "Epoch 236/300\n",
            "2/2 [==============================] - 0s 9ms/step - loss: 6.9614 - mae: 6.9614\n",
            "Epoch 237/300\n",
            "2/2 [==============================] - 0s 3ms/step - loss: 9.0416 - mae: 9.0416\n",
            "Epoch 238/300\n",
            "2/2 [==============================] - 0s 6ms/step - loss: 7.9625 - mae: 7.9625\n",
            "Epoch 239/300\n",
            "2/2 [==============================] - 0s 5ms/step - loss: 17.0238 - mae: 17.0238\n",
            "Epoch 240/300\n",
            "2/2 [==============================] - 0s 6ms/step - loss: 8.7509 - mae: 8.7509\n",
            "Epoch 241/300\n",
            "2/2 [==============================] - 0s 4ms/step - loss: 13.1352 - mae: 13.1352\n",
            "Epoch 242/300\n",
            "2/2 [==============================] - 0s 6ms/step - loss: 8.6921 - mae: 8.6921\n",
            "Epoch 243/300\n",
            "2/2 [==============================] - 0s 4ms/step - loss: 19.0376 - mae: 19.0376\n",
            "Epoch 244/300\n",
            "2/2 [==============================] - 0s 3ms/step - loss: 13.9099 - mae: 13.9099\n",
            "Epoch 245/300\n",
            "2/2 [==============================] - 0s 12ms/step - loss: 14.5611 - mae: 14.5611\n",
            "Epoch 246/300\n",
            "2/2 [==============================] - 0s 10ms/step - loss: 18.3211 - mae: 18.3211\n",
            "Epoch 247/300\n",
            "2/2 [==============================] - 0s 6ms/step - loss: 36.5821 - mae: 36.5821\n",
            "Epoch 248/300\n",
            "2/2 [==============================] - 0s 8ms/step - loss: 5.9249 - mae: 5.9249\n",
            "Epoch 249/300\n",
            "2/2 [==============================] - 0s 10ms/step - loss: 12.3483 - mae: 12.3483\n",
            "Epoch 250/300\n",
            "2/2 [==============================] - 0s 7ms/step - loss: 12.9521 - mae: 12.9521\n",
            "Epoch 251/300\n",
            "2/2 [==============================] - 0s 18ms/step - loss: 12.1367 - mae: 12.1367\n",
            "Epoch 252/300\n",
            "2/2 [==============================] - 0s 3ms/step - loss: 30.9877 - mae: 30.9877\n",
            "Epoch 253/300\n",
            "2/2 [==============================] - 0s 4ms/step - loss: 8.6943 - mae: 8.6943\n",
            "Epoch 254/300\n",
            "2/2 [==============================] - 0s 16ms/step - loss: 16.0346 - mae: 16.0346\n",
            "Epoch 255/300\n",
            "2/2 [==============================] - 0s 11ms/step - loss: 21.5101 - mae: 21.5101\n",
            "Epoch 256/300\n",
            "2/2 [==============================] - 0s 4ms/step - loss: 28.0981 - mae: 28.0981\n",
            "Epoch 257/300\n",
            "2/2 [==============================] - 0s 5ms/step - loss: 13.2412 - mae: 13.2412\n",
            "Epoch 258/300\n",
            "2/2 [==============================] - 0s 3ms/step - loss: 7.3903 - mae: 7.3903\n",
            "Epoch 259/300\n",
            "2/2 [==============================] - 0s 4ms/step - loss: 18.4829 - mae: 18.4829\n",
            "Epoch 260/300\n",
            "2/2 [==============================] - 0s 3ms/step - loss: 26.1284 - mae: 26.1284\n",
            "Epoch 261/300\n",
            "2/2 [==============================] - 0s 6ms/step - loss: 9.4491 - mae: 9.4491\n",
            "Epoch 262/300\n",
            "2/2 [==============================] - 0s 4ms/step - loss: 8.5440 - mae: 8.5440\n",
            "Epoch 263/300\n",
            "2/2 [==============================] - 0s 3ms/step - loss: 8.0294 - mae: 8.0294\n",
            "Epoch 264/300\n",
            "2/2 [==============================] - 0s 6ms/step - loss: 18.1909 - mae: 18.1909\n",
            "Epoch 265/300\n",
            "2/2 [==============================] - 0s 3ms/step - loss: 12.0965 - mae: 12.0965\n",
            "Epoch 266/300\n",
            "2/2 [==============================] - 0s 3ms/step - loss: 13.4404 - mae: 13.4404\n",
            "Epoch 267/300\n",
            "2/2 [==============================] - 0s 4ms/step - loss: 11.1308 - mae: 11.1308\n",
            "Epoch 268/300\n",
            "2/2 [==============================] - 0s 3ms/step - loss: 19.3560 - mae: 19.3560\n",
            "Epoch 269/300\n",
            "2/2 [==============================] - 0s 3ms/step - loss: 40.0840 - mae: 40.0840\n",
            "Epoch 270/300\n",
            "2/2 [==============================] - 0s 3ms/step - loss: 12.5374 - mae: 12.5374\n",
            "Epoch 271/300\n",
            "2/2 [==============================] - 0s 3ms/step - loss: 14.7896 - mae: 14.7896\n",
            "Epoch 272/300\n",
            "2/2 [==============================] - 0s 7ms/step - loss: 28.5931 - mae: 28.5931\n",
            "Epoch 273/300\n",
            "2/2 [==============================] - 0s 3ms/step - loss: 7.1781 - mae: 7.1781\n",
            "Epoch 274/300\n",
            "2/2 [==============================] - 0s 4ms/step - loss: 6.2648 - mae: 6.2648\n",
            "Epoch 275/300\n",
            "2/2 [==============================] - 0s 6ms/step - loss: 36.5875 - mae: 36.5875\n",
            "Epoch 276/300\n",
            "2/2 [==============================] - 0s 5ms/step - loss: 8.1580 - mae: 8.1580\n",
            "Epoch 277/300\n",
            "2/2 [==============================] - 0s 6ms/step - loss: 27.4949 - mae: 27.4949\n",
            "Epoch 278/300\n",
            "2/2 [==============================] - 0s 4ms/step - loss: 10.6617 - mae: 10.6617\n",
            "Epoch 279/300\n",
            "2/2 [==============================] - 0s 9ms/step - loss: 16.1008 - mae: 16.1008\n",
            "Epoch 280/300\n",
            "2/2 [==============================] - 0s 9ms/step - loss: 21.2566 - mae: 21.2566\n",
            "Epoch 281/300\n",
            "2/2 [==============================] - 0s 6ms/step - loss: 23.7483 - mae: 23.7483\n",
            "Epoch 282/300\n",
            "2/2 [==============================] - 0s 8ms/step - loss: 8.1495 - mae: 8.1495\n",
            "Epoch 283/300\n",
            "2/2 [==============================] - 0s 4ms/step - loss: 8.3477 - mae: 8.3477\n",
            "Epoch 284/300\n",
            "2/2 [==============================] - 0s 7ms/step - loss: 26.6722 - mae: 26.6722\n",
            "Epoch 285/300\n",
            "2/2 [==============================] - 0s 4ms/step - loss: 14.4153 - mae: 14.4153\n",
            "Epoch 286/300\n",
            "2/2 [==============================] - 0s 6ms/step - loss: 9.3813 - mae: 9.3813\n",
            "Epoch 287/300\n",
            "2/2 [==============================] - 0s 6ms/step - loss: 21.6372 - mae: 21.6372\n",
            "Epoch 288/300\n",
            "2/2 [==============================] - 0s 5ms/step - loss: 25.2557 - mae: 25.2557\n",
            "Epoch 289/300\n",
            "2/2 [==============================] - 0s 16ms/step - loss: 11.2774 - mae: 11.2774\n",
            "Epoch 290/300\n",
            "2/2 [==============================] - 0s 6ms/step - loss: 16.4542 - mae: 16.4542\n",
            "Epoch 291/300\n",
            "2/2 [==============================] - 0s 9ms/step - loss: 16.6886 - mae: 16.6886\n",
            "Epoch 292/300\n",
            "2/2 [==============================] - 0s 3ms/step - loss: 8.7370 - mae: 8.7370\n",
            "Epoch 293/300\n",
            "2/2 [==============================] - 0s 7ms/step - loss: 15.6359 - mae: 15.6359\n",
            "Epoch 294/300\n",
            "2/2 [==============================] - 0s 3ms/step - loss: 23.4955 - mae: 23.4955\n",
            "Epoch 295/300\n",
            "2/2 [==============================] - 0s 8ms/step - loss: 16.2004 - mae: 16.2004\n",
            "Epoch 296/300\n",
            "2/2 [==============================] - 0s 4ms/step - loss: 4.8443 - mae: 4.8443\n",
            "Epoch 297/300\n",
            "2/2 [==============================] - 0s 3ms/step - loss: 13.3469 - mae: 13.3469\n",
            "Epoch 298/300\n",
            "2/2 [==============================] - 0s 3ms/step - loss: 25.2208 - mae: 25.2208\n",
            "Epoch 299/300\n",
            "2/2 [==============================] - 0s 5ms/step - loss: 15.4885 - mae: 15.4885\n",
            "Epoch 300/300\n",
            "2/2 [==============================] - 0s 4ms/step - loss: 6.7654 - mae: 6.7654\n"
          ],
          "name": "stdout"
        },
        {
          "output_type": "execute_result",
          "data": {
            "text/plain": [
              "<tensorflow.python.keras.callbacks.History at 0x7f7e8eac9790>"
            ]
          },
          "metadata": {
            "tags": []
          },
          "execution_count": 75
        }
      ]
    },
    {
      "cell_type": "code",
      "metadata": {
        "colab": {
          "base_uri": "https://localhost:8080/",
          "height": 428
        },
        "id": "Uyj7um4bG-pV",
        "outputId": "2e17a586-e104-4a2e-a5fc-926f7c368ecf"
      },
      "source": [
        "# make and plot prediction of model_2\n",
        "y_preds_3 = model_3.predict(X_test)\n",
        "plot_predictions(predictions=y_preds_3)"
      ],
      "execution_count": 76,
      "outputs": [
        {
          "output_type": "display_data",
          "data": {
            "image/png": "[encoded data removed]",
            "text/plain": [
              "<Figure size 720x504 with 1 Axes>"
            ]
          },
          "metadata": {
            "tags": [],
            "needs_background": "light"
          }
        }
      ]
    },
    {
      "cell_type": "code",
      "metadata": {
        "colab": {
          "base_uri": "https://localhost:8080/"
        },
        "id": "nPGtD6hJHSzO",
        "outputId": "f0a54624-c577-4068-9cc9-54e512188079"
      },
      "source": [
        "y_preds_3"
      ],
      "execution_count": 77,
      "outputs": [
        {
          "output_type": "execute_result",
          "data": {
            "text/plain": [
              "array([[0.3240558 ],\n",
              "       [0.34565985],\n",
              "       [0.3672645 ],\n",
              "       [0.38886726],\n",
              "       [0.41047043],\n",
              "       [0.43207413],\n",
              "       [0.45367828],\n",
              "       [0.47528166],\n",
              "       [0.4968862 ],\n",
              "       [0.518488  ]], dtype=float32)"
            ]
          },
          "metadata": {
            "tags": []
          },
          "execution_count": 77
        }
      ]
    },
    {
      "cell_type": "markdown",
      "metadata": {
        "id": "6fUMFYysHbgF"
      },
      "source": [
        "# Model 3 is overfitting"
      ]
    },
    {
      "cell_type": "code",
      "metadata": {
        "colab": {
          "base_uri": "https://localhost:8080/"
        },
        "id": "XQMrF8RCIQio",
        "outputId": "dc25b3f0-c857-4e9a-e68f-4564e549e17d"
      },
      "source": [
        "mae_3 = mae(y_test, y_preds_3)\n",
        "mae_3"
      ],
      "execution_count": 78,
      "outputs": [
        {
          "output_type": "execute_result",
          "data": {
            "text/plain": [
              "<tf.Tensor: shape=(), dtype=float32, numpy=87.57872>"
            ]
          },
          "metadata": {
            "tags": []
          },
          "execution_count": 78
        }
      ]
    },
    {
      "cell_type": "code",
      "metadata": {
        "colab": {
          "base_uri": "https://localhost:8080/"
        },
        "id": "-eoh87YCIT-e",
        "outputId": "e6a5d829-d1aa-4ba2-fba4-e366e49063f6"
      },
      "source": [
        "mse_3 = mse(y_test, y_preds_3)\n",
        "mse_3"
      ],
      "execution_count": 79,
      "outputs": [
        {
          "output_type": "execute_result",
          "data": {
            "text/plain": [
              "<tf.Tensor: shape=(), dtype=float32, numpy=7800.611>"
            ]
          },
          "metadata": {
            "tags": []
          },
          "execution_count": 79
        }
      ]
    },
    {
      "cell_type": "markdown",
      "metadata": {
        "id": "Xys_tKDSIWp-"
      },
      "source": [
        "# Comparing the results of our experiments"
      ]
    },
    {
      "cell_type": "code",
      "metadata": {
        "colab": {
          "base_uri": "https://localhost:8080/",
          "height": 142
        },
        "id": "EuXkesxjMh9t",
        "outputId": "d81bc28c-1845-43e3-e497-1d155e2a300c"
      },
      "source": [
        "# Create Dataframe\n",
        "import pandas as pd\n",
        "\n",
        "model_results = [['model_1', mae_1.numpy(), mse_1.numpy()],\n",
        "                 ['model_2', mae_2.numpy(), mse_2.numpy()],\n",
        "                 ['model_3', mae_3.numpy(), mse_2.numpy()]]\n",
        "\n",
        "all_results = pd.DataFrame(model_results, columns = ['model', 'mae', 'mse'])\n",
        "all_results"
      ],
      "execution_count": 80,
      "outputs": [
        {
          "output_type": "execute_result",
          "data": {
            "text/html": [
              "<div>\n",
              "<style scoped>\n",
              "    .dataframe tbody tr th:only-of-type {\n",
              "        vertical-align: middle;\n",
              "    }\n",
              "\n",
              "    .dataframe tbody tr th {\n",
              "        vertical-align: top;\n",
              "    }\n",
              "\n",
              "    .dataframe thead th {\n",
              "        text-align: right;\n",
              "    }\n",
              "</style>\n",
              "<table border=\"1\" class=\"dataframe\">\n",
              "  <thead>\n",
              "    <tr style=\"text-align: right;\">\n",
              "      <th></th>\n",
              "      <th>model</th>\n",
              "      <th>mae</th>\n",
              "      <th>mse</th>\n",
              "    </tr>\n",
              "  </thead>\n",
              "  <tbody>\n",
              "    <tr>\n",
              "      <th>0</th>\n",
              "      <td>model_1</td>\n",
              "      <td>18.745327</td>\n",
              "      <td>353.573364</td>\n",
              "    </tr>\n",
              "    <tr>\n",
              "      <th>1</th>\n",
              "      <td>model_2</td>\n",
              "      <td>3.196941</td>\n",
              "      <td>13.070143</td>\n",
              "    </tr>\n",
              "    <tr>\n",
              "      <th>2</th>\n",
              "      <td>model_3</td>\n",
              "      <td>87.578720</td>\n",
              "      <td>13.070143</td>\n",
              "    </tr>\n",
              "  </tbody>\n",
              "</table>\n",
              "</div>"
            ],
            "text/plain": [
              "     model        mae         mse\n",
              "0  model_1  18.745327  353.573364\n",
              "1  model_2   3.196941   13.070143\n",
              "2  model_3  87.578720   13.070143"
            ]
          },
          "metadata": {
            "tags": []
          },
          "execution_count": 80
        }
      ]
    },
    {
      "cell_type": "code",
      "metadata": {
        "colab": {
          "base_uri": "https://localhost:8080/"
        },
        "id": "9Bp88-OMNjNR",
        "outputId": "379da62d-a198-4c76-9fb5-1f03e1283c3c"
      },
      "source": [
        "model_2.summary()"
      ],
      "execution_count": 81,
      "outputs": [
        {
          "output_type": "stream",
          "text": [
            "Model: \"sequential_10\"\n",
            "_________________________________________________________________\n",
            "Layer (type)                 Output Shape              Param #   \n",
            "=================================================================\n",
            "dense_17 (Dense)             (None, 10)                20        \n",
            "_________________________________________________________________\n",
            "dense_18 (Dense)             (None, 1)                 11        \n",
            "=================================================================\n",
            "Total params: 31\n",
            "Trainable params: 31\n",
            "Non-trainable params: 0\n",
            "_________________________________________________________________\n"
          ],
          "name": "stdout"
        }
      ]
    },
    {
      "cell_type": "markdown",
      "metadata": {
        "id": "diywhLqXN-Hf"
      },
      "source": [
        "## Tracking experiments using tensorboard"
      ]
    },
    {
      "cell_type": "markdown",
      "metadata": {
        "id": "A6SadKa1QMgr"
      },
      "source": [
        "# Saving the model\n",
        "\n",
        "## There are two main methods\n",
        "- SavedModel format\n",
        "- HDF5 format"
      ]
    },
    {
      "cell_type": "code",
      "metadata": {
        "colab": {
          "base_uri": "https://localhost:8080/"
        },
        "id": "mkBiUOtzQSE6",
        "outputId": "f2495e0b-c765-486b-f258-7d0a3a68e2e7"
      },
      "source": [
        "model_2.save('model_2_saved')"
      ],
      "execution_count": 82,
      "outputs": [
        {
          "output_type": "stream",
          "text": [
            "INFO:tensorflow:Assets written to: model_2_saved/assets\n"
          ],
          "name": "stdout"
        }
      ]
    },
    {
      "cell_type": "code",
      "metadata": {
        "id": "2lh5YIHVTfuA"
      },
      "source": [
        "model_2.save('model_2_HDF5.h5')"
      ],
      "execution_count": 83,
      "outputs": []
    },
    {
      "cell_type": "markdown",
      "metadata": {
        "id": "FeTk0qnxULcM"
      },
      "source": [
        "## loading saved model"
      ]
    },
    {
      "cell_type": "code",
      "metadata": {
        "id": "d_n6SsGJZ-6-"
      },
      "source": [
        "loaded_model_2 = tf.keras.models.load_model('/content/model_2_saved')"
      ],
      "execution_count": 84,
      "outputs": []
    },
    {
      "cell_type": "code",
      "metadata": {
        "colab": {
          "base_uri": "https://localhost:8080/"
        },
        "id": "6Tu_d3fFaT-e",
        "outputId": "85f2fc98-3458-48fc-c71d-6f043efef61f"
      },
      "source": [
        "loaded_model_2.summary()"
      ],
      "execution_count": 85,
      "outputs": [
        {
          "output_type": "stream",
          "text": [
            "Model: \"sequential_10\"\n",
            "_________________________________________________________________\n",
            "Layer (type)                 Output Shape              Param #   \n",
            "=================================================================\n",
            "dense_17 (Dense)             (None, 10)                20        \n",
            "_________________________________________________________________\n",
            "dense_18 (Dense)             (None, 1)                 11        \n",
            "=================================================================\n",
            "Total params: 31\n",
            "Trainable params: 31\n",
            "Non-trainable params: 0\n",
            "_________________________________________________________________\n"
          ],
          "name": "stdout"
        }
      ]
    },
    {
      "cell_type": "code",
      "metadata": {
        "colab": {
          "base_uri": "https://localhost:8080/"
        },
        "id": "gYgEJoMVaWJE",
        "outputId": "4368404a-2003-4533-de3a-6c97dd109dbb"
      },
      "source": [
        "loaded_y_preds = loaded_model_2.predict(X_test)\n",
        "loaded_y_preds"
      ],
      "execution_count": 86,
      "outputs": [
        {
          "output_type": "execute_result",
          "data": {
            "text/plain": [
              "array([[ 70.55218 ],\n",
              "       [ 75.13991 ],\n",
              "       [ 79.72763 ],\n",
              "       [ 84.31535 ],\n",
              "       [ 88.903076],\n",
              "       [ 93.49081 ],\n",
              "       [ 98.07853 ],\n",
              "       [102.66625 ],\n",
              "       [107.253975],\n",
              "       [111.8417  ]], dtype=float32)"
            ]
          },
          "metadata": {
            "tags": []
          },
          "execution_count": 86
        }
      ]
    },
    {
      "cell_type": "code",
      "metadata": {
        "colab": {
          "base_uri": "https://localhost:8080/"
        },
        "id": "Py4X08DiakVU",
        "outputId": "5c4850f8-e6e7-43a3-9d05-3f4e92bbf0fc"
      },
      "source": [
        "y_pred_2"
      ],
      "execution_count": 87,
      "outputs": [
        {
          "output_type": "execute_result",
          "data": {
            "text/plain": [
              "array([[22.26224 ],\n",
              "       [23.746387],\n",
              "       [25.230537],\n",
              "       [26.714685],\n",
              "       [28.198835],\n",
              "       [29.682983],\n",
              "       [31.167135],\n",
              "       [32.651283],\n",
              "       [34.135433],\n",
              "       [35.619583]], dtype=float32)"
            ]
          },
          "metadata": {
            "tags": []
          },
          "execution_count": 87
        }
      ]
    },
    {
      "cell_type": "code",
      "metadata": {
        "colab": {
          "base_uri": "https://localhost:8080/"
        },
        "id": "prn0g7ocam2O",
        "outputId": "abbeab60-78bd-42f6-d7ec-241033cbeacb"
      },
      "source": [
        "model_2.predict(X_test)"
      ],
      "execution_count": 88,
      "outputs": [
        {
          "output_type": "execute_result",
          "data": {
            "text/plain": [
              "array([[ 70.55218 ],\n",
              "       [ 75.13991 ],\n",
              "       [ 79.72763 ],\n",
              "       [ 84.31535 ],\n",
              "       [ 88.903076],\n",
              "       [ 93.49081 ],\n",
              "       [ 98.07853 ],\n",
              "       [102.66625 ],\n",
              "       [107.253975],\n",
              "       [111.8417  ]], dtype=float32)"
            ]
          },
          "metadata": {
            "tags": []
          },
          "execution_count": 88
        }
      ]
    },
    {
      "cell_type": "code",
      "metadata": {
        "id": "07nwe-5ba4Y6"
      },
      "source": [
        "loaded_model_2_h5 = tf.keras.models.load_model('/content/model_2_HDF5.h5')"
      ],
      "execution_count": 89,
      "outputs": []
    },
    {
      "cell_type": "code",
      "metadata": {
        "colab": {
          "base_uri": "https://localhost:8080/"
        },
        "id": "0auZZp39bV-R",
        "outputId": "0d344500-2253-45af-da3d-6e5d717fed9f"
      },
      "source": [
        "h5_y_preds = loaded_model_2_h5.predict(X_test)\n",
        "h5_y_preds"
      ],
      "execution_count": 90,
      "outputs": [
        {
          "output_type": "execute_result",
          "data": {
            "text/plain": [
              "array([[ 70.55218 ],\n",
              "       [ 75.13991 ],\n",
              "       [ 79.72763 ],\n",
              "       [ 84.31535 ],\n",
              "       [ 88.903076],\n",
              "       [ 93.49081 ],\n",
              "       [ 98.07853 ],\n",
              "       [102.66625 ],\n",
              "       [107.253975],\n",
              "       [111.8417  ]], dtype=float32)"
            ]
          },
          "metadata": {
            "tags": []
          },
          "execution_count": 90
        }
      ]
    },
    {
      "cell_type": "markdown",
      "metadata": {
        "id": "sqUD76-LbeFx"
      },
      "source": [
        "# Downloading models"
      ]
    },
    {
      "cell_type": "code",
      "metadata": {
        "colab": {
          "base_uri": "https://localhost:8080/",
          "height": 17
        },
        "id": "ddfljJvtcQaY",
        "outputId": "ce4d361b-dd1c-4015-b885-578806a06936"
      },
      "source": [
        "# Download file colab\n",
        "from google.colab import files\n",
        "files.download('/content/model_2_HDF5.h5')"
      ],
      "execution_count": 91,
      "outputs": [
        {
          "output_type": "display_data",
          "data": {
            "application/javascript": [
              "\n",
              "    async function download(id, filename, size) {\n",
              "      if (!google.colab.kernel.accessAllowed) {\n",
              "        return;\n",
              "      }\n",
              "      const div = document.createElement('div');\n",
              "      const label = document.createElement('label');\n",
              "      label.textContent = `Downloading \"${filename}\": `;\n",
              "      div.appendChild(label);\n",
              "      const progress = document.createElement('progress');\n",
              "      progress.max = size;\n",
              "      div.appendChild(progress);\n",
              "      document.body.appendChild(div);\n",
              "\n",
              "      const buffers = [];\n",
              "      let downloaded = 0;\n",
              "\n",
              "      const channel = await google.colab.kernel.comms.open(id);\n",
              "      // Send a message to notify the kernel that we're ready.\n",
              "      channel.send({})\n",
              "\n",
              "      for await (const message of channel.messages) {\n",
              "        // Send a message to notify the kernel that we're ready.\n",
              "        channel.send({})\n",
              "        if (message.buffers) {\n",
              "          for (const buffer of message.buffers) {\n",
              "            buffers.push(buffer);\n",
              "            downloaded += buffer.byteLength;\n",
              "            progress.value = downloaded;\n",
              "          }\n",
              "        }\n",
              "      }\n",
              "      const blob = new Blob(buffers, {type: 'application/binary'});\n",
              "      const a = document.createElement('a');\n",
              "      a.href = window.URL.createObjectURL(blob);\n",
              "      a.download = filename;\n",
              "      div.appendChild(a);\n",
              "      a.click();\n",
              "      div.remove();\n",
              "    }\n",
              "  "
            ],
            "text/plain": [
              "<IPython.core.display.Javascript object>"
            ]
          },
          "metadata": {
            "tags": []
          }
        },
        {
          "output_type": "display_data",
          "data": {
            "application/javascript": [
              "download(\"download_75a14d15-8991-459d-a70d-ec2754cea0f5\", \"model_2_HDF5.h5\", 17040)"
            ],
            "text/plain": [
              "<IPython.core.display.Javascript object>"
            ]
          },
          "metadata": {
            "tags": []
          }
        }
      ]
    },
    {
      "cell_type": "code",
      "metadata": {
        "id": "QwieAjlDcdcn"
      },
      "source": [
        "!cp /content/model_2_HDF5.h5 /content/drive/MyDrive"
      ],
      "execution_count": 92,
      "outputs": []
    },
    {
      "cell_type": "code",
      "metadata": {
        "colab": {
          "base_uri": "https://localhost:8080/"
        },
        "id": "rIO-QRSIdDi4",
        "outputId": "e80a72d5-d47b-4eb5-dc92-ca3b184f1df0"
      },
      "source": [
        "X_train, y_train"
      ],
      "execution_count": 93,
      "outputs": [
        {
          "output_type": "execute_result",
          "data": {
            "text/plain": [
              "(<tf.Tensor: shape=(40,), dtype=int32, numpy=\n",
              " array([-100,  -96,  -92,  -88,  -84,  -80,  -76,  -72,  -68,  -64,  -60,\n",
              "         -56,  -52,  -48,  -44,  -40,  -36,  -32,  -28,  -24,  -20,  -16,\n",
              "         -12,   -8,   -4,    0,    4,    8,   12,   16,   20,   24,   28,\n",
              "          32,   36,   40,   44,   48,   52,   56], dtype=int32)>,\n",
              " <tf.Tensor: shape=(40,), dtype=int32, numpy=\n",
              " array([-90, -86, -82, -78, -74, -70, -66, -62, -58, -54, -50, -46, -42,\n",
              "        -38, -34, -30, -26, -22, -18, -14, -10,  -6,  -2,   2,   6,  10,\n",
              "         14,  18,  22,  26,  30,  34,  38,  42,  46,  50,  54,  58,  62,\n",
              "         66], dtype=int32)>)"
            ]
          },
          "metadata": {
            "tags": []
          },
          "execution_count": 93
        }
      ]
    },
    {
      "cell_type": "markdown",
      "metadata": {
        "id": "mHNvzoEPdudU"
      },
      "source": [
        "# Let's look at the medical costs dataset from kaggle\n",
        "## Insurance forecasting using Linear Regression"
      ]
    },
    {
      "cell_type": "code",
      "metadata": {
        "colab": {
          "base_uri": "https://localhost:8080/",
          "height": 204
        },
        "id": "IsZwCMWsjUBT",
        "outputId": "cec43e00-7a02-481a-8cde-03179e373e4e"
      },
      "source": [
        "insurance = pd.read_csv('/content/insurance.csv')\n",
        "insurance.head()"
      ],
      "execution_count": 94,
      "outputs": [
        {
          "output_type": "execute_result",
          "data": {
            "text/html": [
              "<div>\n",
              "<style scoped>\n",
              "    .dataframe tbody tr th:only-of-type {\n",
              "        vertical-align: middle;\n",
              "    }\n",
              "\n",
              "    .dataframe tbody tr th {\n",
              "        vertical-align: top;\n",
              "    }\n",
              "\n",
              "    .dataframe thead th {\n",
              "        text-align: right;\n",
              "    }\n",
              "</style>\n",
              "<table border=\"1\" class=\"dataframe\">\n",
              "  <thead>\n",
              "    <tr style=\"text-align: right;\">\n",
              "      <th></th>\n",
              "      <th>age</th>\n",
              "      <th>sex</th>\n",
              "      <th>bmi</th>\n",
              "      <th>children</th>\n",
              "      <th>smoker</th>\n",
              "      <th>region</th>\n",
              "      <th>charges</th>\n",
              "    </tr>\n",
              "  </thead>\n",
              "  <tbody>\n",
              "    <tr>\n",
              "      <th>0</th>\n",
              "      <td>19</td>\n",
              "      <td>female</td>\n",
              "      <td>27.900</td>\n",
              "      <td>0</td>\n",
              "      <td>yes</td>\n",
              "      <td>southwest</td>\n",
              "      <td>16884.92400</td>\n",
              "    </tr>\n",
              "    <tr>\n",
              "      <th>1</th>\n",
              "      <td>18</td>\n",
              "      <td>male</td>\n",
              "      <td>33.770</td>\n",
              "      <td>1</td>\n",
              "      <td>no</td>\n",
              "      <td>southeast</td>\n",
              "      <td>1725.55230</td>\n",
              "    </tr>\n",
              "    <tr>\n",
              "      <th>2</th>\n",
              "      <td>28</td>\n",
              "      <td>male</td>\n",
              "      <td>33.000</td>\n",
              "      <td>3</td>\n",
              "      <td>no</td>\n",
              "      <td>southeast</td>\n",
              "      <td>4449.46200</td>\n",
              "    </tr>\n",
              "    <tr>\n",
              "      <th>3</th>\n",
              "      <td>33</td>\n",
              "      <td>male</td>\n",
              "      <td>22.705</td>\n",
              "      <td>0</td>\n",
              "      <td>no</td>\n",
              "      <td>northwest</td>\n",
              "      <td>21984.47061</td>\n",
              "    </tr>\n",
              "    <tr>\n",
              "      <th>4</th>\n",
              "      <td>32</td>\n",
              "      <td>male</td>\n",
              "      <td>28.880</td>\n",
              "      <td>0</td>\n",
              "      <td>no</td>\n",
              "      <td>northwest</td>\n",
              "      <td>3866.85520</td>\n",
              "    </tr>\n",
              "  </tbody>\n",
              "</table>\n",
              "</div>"
            ],
            "text/plain": [
              "   age     sex     bmi  children smoker     region      charges\n",
              "0   19  female  27.900         0    yes  southwest  16884.92400\n",
              "1   18    male  33.770         1     no  southeast   1725.55230\n",
              "2   28    male  33.000         3     no  southeast   4449.46200\n",
              "3   33    male  22.705         0     no  northwest  21984.47061\n",
              "4   32    male  28.880         0     no  northwest   3866.85520"
            ]
          },
          "metadata": {
            "tags": []
          },
          "execution_count": 94
        }
      ]
    },
    {
      "cell_type": "code",
      "metadata": {
        "colab": {
          "base_uri": "https://localhost:8080/"
        },
        "id": "vwjcVAtYkD7k",
        "outputId": "7e56e43e-4522-4e88-83a5-2475acba6f1b"
      },
      "source": [
        "insurance.shape"
      ],
      "execution_count": 95,
      "outputs": [
        {
          "output_type": "execute_result",
          "data": {
            "text/plain": [
              "(1338, 7)"
            ]
          },
          "metadata": {
            "tags": []
          },
          "execution_count": 95
        }
      ]
    },
    {
      "cell_type": "markdown",
      "metadata": {
        "id": "X9wx5Rc9kN8C"
      },
      "source": [
        "# Context\n",
        "### Machine Learning with R by Brett Lantz is a book that provides an introduction to machine learning using R. As far as I can tell, Packt Publishing does not make its datasets available online unless you buy the book and create a user account which can be a problem if you are checking the book out from the library or borrowing the book from a friend. All of these datasets are in the public domain but simply needed some cleaning up and recoding to match the format in the book.\n",
        "\n",
        "#Content\n",
        "#Columns\n",
        "\n",
        "- age: age of primary beneficiary\n",
        "\n",
        "- sex: insurance contractor gender, female, male\n",
        "\n",
        "- bmi: Body mass index, providing an understanding of body, weights that are relatively high or low relative to height,\n",
        "objective index of body weight (kg / m ^ 2) using the ratio of height to weight, ideally 18.5 to 24.9\n",
        "\n",
        "- children: Number of children covered by health insurance / Number of dependents\n",
        "\n",
        "- smoker: Smoking\n",
        "\n",
        "- region: the beneficiary's residential area in the US, northeast, southeast, southwest, northwest.\n",
        "\n",
        "- charges: Individual medical costs billed by health insurance\n",
        "\n"
      ]
    },
    {
      "cell_type": "code",
      "metadata": {
        "colab": {
          "base_uri": "https://localhost:8080/"
        },
        "id": "6jTPz8_mkrYZ",
        "outputId": "f0def9f5-71b0-40cf-fb2e-8e639367129c"
      },
      "source": [
        "insurance.info()"
      ],
      "execution_count": 96,
      "outputs": [
        {
          "output_type": "stream",
          "text": [
            "<class 'pandas.core.frame.DataFrame'>\n",
            "RangeIndex: 1338 entries, 0 to 1337\n",
            "Data columns (total 7 columns):\n",
            " #   Column    Non-Null Count  Dtype  \n",
            "---  ------    --------------  -----  \n",
            " 0   age       1338 non-null   int64  \n",
            " 1   sex       1338 non-null   object \n",
            " 2   bmi       1338 non-null   float64\n",
            " 3   children  1338 non-null   int64  \n",
            " 4   smoker    1338 non-null   object \n",
            " 5   region    1338 non-null   object \n",
            " 6   charges   1338 non-null   float64\n",
            "dtypes: float64(2), int64(2), object(3)\n",
            "memory usage: 73.3+ KB\n"
          ],
          "name": "stdout"
        }
      ]
    },
    {
      "cell_type": "code",
      "metadata": {
        "colab": {
          "base_uri": "https://localhost:8080/"
        },
        "id": "L92bNBqflCjD",
        "outputId": "db651c52-c6d7-4bc7-e3ef-3ce6a399a6b2"
      },
      "source": [
        "insurance.isna().sum()"
      ],
      "execution_count": 97,
      "outputs": [
        {
          "output_type": "execute_result",
          "data": {
            "text/plain": [
              "age         0\n",
              "sex         0\n",
              "bmi         0\n",
              "children    0\n",
              "smoker      0\n",
              "region      0\n",
              "charges     0\n",
              "dtype: int64"
            ]
          },
          "metadata": {
            "tags": []
          },
          "execution_count": 97
        }
      ]
    },
    {
      "cell_type": "markdown",
      "metadata": {
        "id": "_GNbOLSomCpN"
      },
      "source": [
        "![one_hot_encoding.png](data:image/png;base64,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)"
      ]
    },
    {
      "cell_type": "code",
      "metadata": {
        "colab": {
          "base_uri": "https://localhost:8080/",
          "height": 204
        },
        "id": "M1pXPIrGmLB7",
        "outputId": "e6f6911f-5ba6-447a-b7e2-824c17d39737"
      },
      "source": [
        "insurance_one_hot = pd.get_dummies(insurance)\n",
        "insurance_one_hot.head()"
      ],
      "execution_count": 98,
      "outputs": [
        {
          "output_type": "execute_result",
          "data": {
            "text/html": [
              "<div>\n",
              "<style scoped>\n",
              "    .dataframe tbody tr th:only-of-type {\n",
              "        vertical-align: middle;\n",
              "    }\n",
              "\n",
              "    .dataframe tbody tr th {\n",
              "        vertical-align: top;\n",
              "    }\n",
              "\n",
              "    .dataframe thead th {\n",
              "        text-align: right;\n",
              "    }\n",
              "</style>\n",
              "<table border=\"1\" class=\"dataframe\">\n",
              "  <thead>\n",
              "    <tr style=\"text-align: right;\">\n",
              "      <th></th>\n",
              "      <th>age</th>\n",
              "      <th>bmi</th>\n",
              "      <th>children</th>\n",
              "      <th>charges</th>\n",
              "      <th>sex_female</th>\n",
              "      <th>sex_male</th>\n",
              "      <th>smoker_no</th>\n",
              "      <th>smoker_yes</th>\n",
              "      <th>region_northeast</th>\n",
              "      <th>region_northwest</th>\n",
              "      <th>region_southeast</th>\n",
              "      <th>region_southwest</th>\n",
              "    </tr>\n",
              "  </thead>\n",
              "  <tbody>\n",
              "    <tr>\n",
              "      <th>0</th>\n",
              "      <td>19</td>\n",
              "      <td>27.900</td>\n",
              "      <td>0</td>\n",
              "      <td>16884.92400</td>\n",
              "      <td>1</td>\n",
              "      <td>0</td>\n",
              "      <td>0</td>\n",
              "      <td>1</td>\n",
              "      <td>0</td>\n",
              "      <td>0</td>\n",
              "      <td>0</td>\n",
              "      <td>1</td>\n",
              "    </tr>\n",
              "    <tr>\n",
              "      <th>1</th>\n",
              "      <td>18</td>\n",
              "      <td>33.770</td>\n",
              "      <td>1</td>\n",
              "      <td>1725.55230</td>\n",
              "      <td>0</td>\n",
              "      <td>1</td>\n",
              "      <td>1</td>\n",
              "      <td>0</td>\n",
              "      <td>0</td>\n",
              "      <td>0</td>\n",
              "      <td>1</td>\n",
              "      <td>0</td>\n",
              "    </tr>\n",
              "    <tr>\n",
              "      <th>2</th>\n",
              "      <td>28</td>\n",
              "      <td>33.000</td>\n",
              "      <td>3</td>\n",
              "      <td>4449.46200</td>\n",
              "      <td>0</td>\n",
              "      <td>1</td>\n",
              "      <td>1</td>\n",
              "      <td>0</td>\n",
              "      <td>0</td>\n",
              "      <td>0</td>\n",
              "      <td>1</td>\n",
              "      <td>0</td>\n",
              "    </tr>\n",
              "    <tr>\n",
              "      <th>3</th>\n",
              "      <td>33</td>\n",
              "      <td>22.705</td>\n",
              "      <td>0</td>\n",
              "      <td>21984.47061</td>\n",
              "      <td>0</td>\n",
              "      <td>1</td>\n",
              "      <td>1</td>\n",
              "      <td>0</td>\n",
              "      <td>0</td>\n",
              "      <td>1</td>\n",
              "      <td>0</td>\n",
              "      <td>0</td>\n",
              "    </tr>\n",
              "    <tr>\n",
              "      <th>4</th>\n",
              "      <td>32</td>\n",
              "      <td>28.880</td>\n",
              "      <td>0</td>\n",
              "      <td>3866.85520</td>\n",
              "      <td>0</td>\n",
              "      <td>1</td>\n",
              "      <td>1</td>\n",
              "      <td>0</td>\n",
              "      <td>0</td>\n",
              "      <td>1</td>\n",
              "      <td>0</td>\n",
              "      <td>0</td>\n",
              "    </tr>\n",
              "  </tbody>\n",
              "</table>\n",
              "</div>"
            ],
            "text/plain": [
              "   age     bmi  children  ...  region_northwest  region_southeast  region_southwest\n",
              "0   19  27.900         0  ...                 0                 0                 1\n",
              "1   18  33.770         1  ...                 0                 1                 0\n",
              "2   28  33.000         3  ...                 0                 1                 0\n",
              "3   33  22.705         0  ...                 1                 0                 0\n",
              "4   32  28.880         0  ...                 1                 0                 0\n",
              "\n",
              "[5 rows x 12 columns]"
            ]
          },
          "metadata": {
            "tags": []
          },
          "execution_count": 98
        }
      ]
    },
    {
      "cell_type": "code",
      "metadata": {
        "colab": {
          "base_uri": "https://localhost:8080/"
        },
        "id": "0R54IlzLmWda",
        "outputId": "fd23b98d-c62a-4007-a185-44eb405bd612"
      },
      "source": [
        "insurance_one_hot.info()"
      ],
      "execution_count": 99,
      "outputs": [
        {
          "output_type": "stream",
          "text": [
            "<class 'pandas.core.frame.DataFrame'>\n",
            "RangeIndex: 1338 entries, 0 to 1337\n",
            "Data columns (total 12 columns):\n",
            " #   Column            Non-Null Count  Dtype  \n",
            "---  ------            --------------  -----  \n",
            " 0   age               1338 non-null   int64  \n",
            " 1   bmi               1338 non-null   float64\n",
            " 2   children          1338 non-null   int64  \n",
            " 3   charges           1338 non-null   float64\n",
            " 4   sex_female        1338 non-null   uint8  \n",
            " 5   sex_male          1338 non-null   uint8  \n",
            " 6   smoker_no         1338 non-null   uint8  \n",
            " 7   smoker_yes        1338 non-null   uint8  \n",
            " 8   region_northeast  1338 non-null   uint8  \n",
            " 9   region_northwest  1338 non-null   uint8  \n",
            " 10  region_southeast  1338 non-null   uint8  \n",
            " 11  region_southwest  1338 non-null   uint8  \n",
            "dtypes: float64(2), int64(2), uint8(8)\n",
            "memory usage: 52.4 KB\n"
          ],
          "name": "stdout"
        }
      ]
    },
    {
      "cell_type": "code",
      "metadata": {
        "id": "WAQsuO5rm7gx"
      },
      "source": [
        "# Create X & y values (features and labels)\n",
        "\n",
        "X = insurance_one_hot.drop('charges', axis=1)\n",
        "y = insurance_one_hot['charges']"
      ],
      "execution_count": 100,
      "outputs": []
    },
    {
      "cell_type": "code",
      "metadata": {
        "colab": {
          "base_uri": "https://localhost:8080/",
          "height": 204
        },
        "id": "dLx1z41Gngp7",
        "outputId": "18114a4b-f787-46be-9783-da20ad10ca22"
      },
      "source": [
        "X.head()"
      ],
      "execution_count": 101,
      "outputs": [
        {
          "output_type": "execute_result",
          "data": {
            "text/html": [
              "<div>\n",
              "<style scoped>\n",
              "    .dataframe tbody tr th:only-of-type {\n",
              "        vertical-align: middle;\n",
              "    }\n",
              "\n",
              "    .dataframe tbody tr th {\n",
              "        vertical-align: top;\n",
              "    }\n",
              "\n",
              "    .dataframe thead th {\n",
              "        text-align: right;\n",
              "    }\n",
              "</style>\n",
              "<table border=\"1\" class=\"dataframe\">\n",
              "  <thead>\n",
              "    <tr style=\"text-align: right;\">\n",
              "      <th></th>\n",
              "      <th>age</th>\n",
              "      <th>bmi</th>\n",
              "      <th>children</th>\n",
              "      <th>sex_female</th>\n",
              "      <th>sex_male</th>\n",
              "      <th>smoker_no</th>\n",
              "      <th>smoker_yes</th>\n",
              "      <th>region_northeast</th>\n",
              "      <th>region_northwest</th>\n",
              "      <th>region_southeast</th>\n",
              "      <th>region_southwest</th>\n",
              "    </tr>\n",
              "  </thead>\n",
              "  <tbody>\n",
              "    <tr>\n",
              "      <th>0</th>\n",
              "      <td>19</td>\n",
              "      <td>27.900</td>\n",
              "      <td>0</td>\n",
              "      <td>1</td>\n",
              "      <td>0</td>\n",
              "      <td>0</td>\n",
              "      <td>1</td>\n",
              "      <td>0</td>\n",
              "      <td>0</td>\n",
              "      <td>0</td>\n",
              "      <td>1</td>\n",
              "    </tr>\n",
              "    <tr>\n",
              "      <th>1</th>\n",
              "      <td>18</td>\n",
              "      <td>33.770</td>\n",
              "      <td>1</td>\n",
              "      <td>0</td>\n",
              "      <td>1</td>\n",
              "      <td>1</td>\n",
              "      <td>0</td>\n",
              "      <td>0</td>\n",
              "      <td>0</td>\n",
              "      <td>1</td>\n",
              "      <td>0</td>\n",
              "    </tr>\n",
              "    <tr>\n",
              "      <th>2</th>\n",
              "      <td>28</td>\n",
              "      <td>33.000</td>\n",
              "      <td>3</td>\n",
              "      <td>0</td>\n",
              "      <td>1</td>\n",
              "      <td>1</td>\n",
              "      <td>0</td>\n",
              "      <td>0</td>\n",
              "      <td>0</td>\n",
              "      <td>1</td>\n",
              "      <td>0</td>\n",
              "    </tr>\n",
              "    <tr>\n",
              "      <th>3</th>\n",
              "      <td>33</td>\n",
              "      <td>22.705</td>\n",
              "      <td>0</td>\n",
              "      <td>0</td>\n",
              "      <td>1</td>\n",
              "      <td>1</td>\n",
              "      <td>0</td>\n",
              "      <td>0</td>\n",
              "      <td>1</td>\n",
              "      <td>0</td>\n",
              "      <td>0</td>\n",
              "    </tr>\n",
              "    <tr>\n",
              "      <th>4</th>\n",
              "      <td>32</td>\n",
              "      <td>28.880</td>\n",
              "      <td>0</td>\n",
              "      <td>0</td>\n",
              "      <td>1</td>\n",
              "      <td>1</td>\n",
              "      <td>0</td>\n",
              "      <td>0</td>\n",
              "      <td>1</td>\n",
              "      <td>0</td>\n",
              "      <td>0</td>\n",
              "    </tr>\n",
              "  </tbody>\n",
              "</table>\n",
              "</div>"
            ],
            "text/plain": [
              "   age     bmi  children  ...  region_northwest  region_southeast  region_southwest\n",
              "0   19  27.900         0  ...                 0                 0                 1\n",
              "1   18  33.770         1  ...                 0                 1                 0\n",
              "2   28  33.000         3  ...                 0                 1                 0\n",
              "3   33  22.705         0  ...                 1                 0                 0\n",
              "4   32  28.880         0  ...                 1                 0                 0\n",
              "\n",
              "[5 rows x 11 columns]"
            ]
          },
          "metadata": {
            "tags": []
          },
          "execution_count": 101
        }
      ]
    },
    {
      "cell_type": "code",
      "metadata": {
        "colab": {
          "base_uri": "https://localhost:8080/"
        },
        "id": "KszUZ9FMnjJD",
        "outputId": "52dc7988-c484-4f3d-b59d-5fb7b90caad7"
      },
      "source": [
        "y.head()"
      ],
      "execution_count": 102,
      "outputs": [
        {
          "output_type": "execute_result",
          "data": {
            "text/plain": [
              "0    16884.92400\n",
              "1     1725.55230\n",
              "2     4449.46200\n",
              "3    21984.47061\n",
              "4     3866.85520\n",
              "Name: charges, dtype: float64"
            ]
          },
          "metadata": {
            "tags": []
          },
          "execution_count": 102
        }
      ]
    },
    {
      "cell_type": "code",
      "metadata": {
        "id": "UJUP0L60nkmx"
      },
      "source": [
        "# Create train test sets\n",
        "from sklearn.model_selection import train_test_split\n",
        "\n",
        "X_train, X_test, y_train, y_test = train_test_split(X, y, test_size = 0.2, random_state = 42 )"
      ],
      "execution_count": 103,
      "outputs": []
    },
    {
      "cell_type": "code",
      "metadata": {
        "colab": {
          "base_uri": "https://localhost:8080/"
        },
        "id": "o_VrX2iBozf-",
        "outputId": "e6100a7f-66af-44ba-d4df-52d842829f71"
      },
      "source": [
        "X_train.shape, X_test.shape"
      ],
      "execution_count": 104,
      "outputs": [
        {
          "output_type": "execute_result",
          "data": {
            "text/plain": [
              "((1070, 11), (268, 11))"
            ]
          },
          "metadata": {
            "tags": []
          },
          "execution_count": 104
        }
      ]
    },
    {
      "cell_type": "code",
      "metadata": {
        "colab": {
          "base_uri": "https://localhost:8080/",
          "height": 204
        },
        "id": "vKuQ0UoAo4kI",
        "outputId": "b98fed08-3915-4697-ff09-ca7d9a0ffd52"
      },
      "source": [
        "X_train.head()"
      ],
      "execution_count": 105,
      "outputs": [
        {
          "output_type": "execute_result",
          "data": {
            "text/html": [
              "<div>\n",
              "<style scoped>\n",
              "    .dataframe tbody tr th:only-of-type {\n",
              "        vertical-align: middle;\n",
              "    }\n",
              "\n",
              "    .dataframe tbody tr th {\n",
              "        vertical-align: top;\n",
              "    }\n",
              "\n",
              "    .dataframe thead th {\n",
              "        text-align: right;\n",
              "    }\n",
              "</style>\n",
              "<table border=\"1\" class=\"dataframe\">\n",
              "  <thead>\n",
              "    <tr style=\"text-align: right;\">\n",
              "      <th></th>\n",
              "      <th>age</th>\n",
              "      <th>bmi</th>\n",
              "      <th>children</th>\n",
              "      <th>sex_female</th>\n",
              "      <th>sex_male</th>\n",
              "      <th>smoker_no</th>\n",
              "      <th>smoker_yes</th>\n",
              "      <th>region_northeast</th>\n",
              "      <th>region_northwest</th>\n",
              "      <th>region_southeast</th>\n",
              "      <th>region_southwest</th>\n",
              "    </tr>\n",
              "  </thead>\n",
              "  <tbody>\n",
              "    <tr>\n",
              "      <th>560</th>\n",
              "      <td>46</td>\n",
              "      <td>19.95</td>\n",
              "      <td>2</td>\n",
              "      <td>1</td>\n",
              "      <td>0</td>\n",
              "      <td>1</td>\n",
              "      <td>0</td>\n",
              "      <td>0</td>\n",
              "      <td>1</td>\n",
              "      <td>0</td>\n",
              "      <td>0</td>\n",
              "    </tr>\n",
              "    <tr>\n",
              "      <th>1285</th>\n",
              "      <td>47</td>\n",
              "      <td>24.32</td>\n",
              "      <td>0</td>\n",
              "      <td>1</td>\n",
              "      <td>0</td>\n",
              "      <td>1</td>\n",
              "      <td>0</td>\n",
              "      <td>1</td>\n",
              "      <td>0</td>\n",
              "      <td>0</td>\n",
              "      <td>0</td>\n",
              "    </tr>\n",
              "    <tr>\n",
              "      <th>1142</th>\n",
              "      <td>52</td>\n",
              "      <td>24.86</td>\n",
              "      <td>0</td>\n",
              "      <td>1</td>\n",
              "      <td>0</td>\n",
              "      <td>1</td>\n",
              "      <td>0</td>\n",
              "      <td>0</td>\n",
              "      <td>0</td>\n",
              "      <td>1</td>\n",
              "      <td>0</td>\n",
              "    </tr>\n",
              "    <tr>\n",
              "      <th>969</th>\n",
              "      <td>39</td>\n",
              "      <td>34.32</td>\n",
              "      <td>5</td>\n",
              "      <td>1</td>\n",
              "      <td>0</td>\n",
              "      <td>1</td>\n",
              "      <td>0</td>\n",
              "      <td>0</td>\n",
              "      <td>0</td>\n",
              "      <td>1</td>\n",
              "      <td>0</td>\n",
              "    </tr>\n",
              "    <tr>\n",
              "      <th>486</th>\n",
              "      <td>54</td>\n",
              "      <td>21.47</td>\n",
              "      <td>3</td>\n",
              "      <td>1</td>\n",
              "      <td>0</td>\n",
              "      <td>1</td>\n",
              "      <td>0</td>\n",
              "      <td>0</td>\n",
              "      <td>1</td>\n",
              "      <td>0</td>\n",
              "      <td>0</td>\n",
              "    </tr>\n",
              "  </tbody>\n",
              "</table>\n",
              "</div>"
            ],
            "text/plain": [
              "      age    bmi  ...  region_southeast  region_southwest\n",
              "560    46  19.95  ...                 0                 0\n",
              "1285   47  24.32  ...                 0                 0\n",
              "1142   52  24.86  ...                 1                 0\n",
              "969    39  34.32  ...                 1                 0\n",
              "486    54  21.47  ...                 0                 0\n",
              "\n",
              "[5 rows x 11 columns]"
            ]
          },
          "metadata": {
            "tags": []
          },
          "execution_count": 105
        }
      ]
    },
    {
      "cell_type": "markdown",
      "metadata": {
        "id": "5yuWkQkyo9gx"
      },
      "source": [
        "# How to build Neural Network to model the data?"
      ]
    },
    {
      "cell_type": "code",
      "metadata": {
        "colab": {
          "base_uri": "https://localhost:8080/"
        },
        "id": "RUsQL_XepFqf",
        "outputId": "a93cbfa0-bd8c-48b8-ed54-de4066bd8e0a"
      },
      "source": [
        "# set random seed\n",
        "tf.random.set_seed(42)\n",
        "\n",
        "# 1. Create a model\n",
        "insurance_model = tf.keras.Sequential([\n",
        "  tf.keras.layers.Dense(10),\n",
        "  tf.keras.layers.Dense(1)\n",
        "])\n",
        "\n",
        "# 2. Compile the model\n",
        "insurance_model.compile(loss=tf.keras.losses.mae,\n",
        "                        optimizer=tf.keras.optimizers.SGD(),\n",
        "                        metrics=['mae']\n",
        ")\n",
        "\n",
        "# 3. Fit the model\n",
        "insurance_model.fit(X_train, y_train, epochs=100)\n"
      ],
      "execution_count": 106,
      "outputs": [
        {
          "output_type": "stream",
          "text": [
            "Epoch 1/100\n",
            "34/34 [==============================] - 0s 1ms/step - loss: 8637.1006 - mae: 8637.1006\n",
            "Epoch 2/100\n",
            "34/34 [==============================] - 0s 2ms/step - loss: 7886.7759 - mae: 7886.7759\n",
            "Epoch 3/100\n",
            "34/34 [==============================] - 0s 1ms/step - loss: 7558.1470 - mae: 7558.1470\n",
            "Epoch 4/100\n",
            "34/34 [==============================] - 0s 1ms/step - loss: 7792.0220 - mae: 7792.0220\n",
            "Epoch 5/100\n",
            "34/34 [==============================] - 0s 1ms/step - loss: 7748.3887 - mae: 7748.3887\n",
            "Epoch 6/100\n",
            "34/34 [==============================] - 0s 1ms/step - loss: 7595.3940 - mae: 7595.3940\n",
            "Epoch 7/100\n",
            "34/34 [==============================] - 0s 1ms/step - loss: 7589.9844 - mae: 7589.9844\n",
            "Epoch 8/100\n",
            "34/34 [==============================] - 0s 1ms/step - loss: 7698.5576 - mae: 7698.5576\n",
            "Epoch 9/100\n",
            "34/34 [==============================] - 0s 1ms/step - loss: 7496.7778 - mae: 7496.7778\n",
            "Epoch 10/100\n",
            "34/34 [==============================] - 0s 1ms/step - loss: 7493.1743 - mae: 7493.1743\n",
            "Epoch 11/100\n",
            "34/34 [==============================] - 0s 1ms/step - loss: 7769.7295 - mae: 7769.7295\n",
            "Epoch 12/100\n",
            "34/34 [==============================] - 0s 1ms/step - loss: 7706.9028 - mae: 7706.9028\n",
            "Epoch 13/100\n",
            "34/34 [==============================] - 0s 1ms/step - loss: 7687.7231 - mae: 7687.7231\n",
            "Epoch 14/100\n",
            "34/34 [==============================] - 0s 2ms/step - loss: 7689.9004 - mae: 7689.9004\n",
            "Epoch 15/100\n",
            "34/34 [==============================] - 0s 2ms/step - loss: 7393.5327 - mae: 7393.5327\n",
            "Epoch 16/100\n",
            "34/34 [==============================] - 0s 1ms/step - loss: 7780.6987 - mae: 7780.6987\n",
            "Epoch 17/100\n",
            "34/34 [==============================] - 0s 1ms/step - loss: 7578.5098 - mae: 7578.5098\n",
            "Epoch 18/100\n",
            "34/34 [==============================] - 0s 1ms/step - loss: 7750.8354 - mae: 7750.8354\n",
            "Epoch 19/100\n",
            "34/34 [==============================] - 0s 1ms/step - loss: 7739.2144 - mae: 7739.2144\n",
            "Epoch 20/100\n",
            "34/34 [==============================] - 0s 1ms/step - loss: 7875.0654 - mae: 7875.0654\n",
            "Epoch 21/100\n",
            "34/34 [==============================] - 0s 1ms/step - loss: 7466.6768 - mae: 7466.6768\n",
            "Epoch 22/100\n",
            "34/34 [==============================] - 0s 1ms/step - loss: 7941.2329 - mae: 7941.2329\n",
            "Epoch 23/100\n",
            "34/34 [==============================] - 0s 1ms/step - loss: 7640.2725 - mae: 7640.2725\n",
            "Epoch 24/100\n",
            "34/34 [==============================] - 0s 1ms/step - loss: 7539.2671 - mae: 7539.2671\n",
            "Epoch 25/100\n",
            "34/34 [==============================] - 0s 2ms/step - loss: 7619.9653 - mae: 7619.9653\n",
            "Epoch 26/100\n",
            "34/34 [==============================] - 0s 1ms/step - loss: 7644.1719 - mae: 7644.1719\n",
            "Epoch 27/100\n",
            "34/34 [==============================] - 0s 1ms/step - loss: 7709.0371 - mae: 7709.0371\n",
            "Epoch 28/100\n",
            "34/34 [==============================] - 0s 1ms/step - loss: 7366.8662 - mae: 7366.8662\n",
            "Epoch 29/100\n",
            "34/34 [==============================] - 0s 1ms/step - loss: 7444.3154 - mae: 7444.3154\n",
            "Epoch 30/100\n",
            "34/34 [==============================] - 0s 1ms/step - loss: 7616.4077 - mae: 7616.4077\n",
            "Epoch 31/100\n",
            "34/34 [==============================] - 0s 1ms/step - loss: 7686.3853 - mae: 7686.3853\n",
            "Epoch 32/100\n",
            "34/34 [==============================] - 0s 1ms/step - loss: 7548.0977 - mae: 7548.0977\n",
            "Epoch 33/100\n",
            "34/34 [==============================] - 0s 1ms/step - loss: 7501.5532 - mae: 7501.5532\n",
            "Epoch 34/100\n",
            "34/34 [==============================] - 0s 1ms/step - loss: 7363.4160 - mae: 7363.4160\n",
            "Epoch 35/100\n",
            "34/34 [==============================] - 0s 1ms/step - loss: 7295.4478 - mae: 7295.4478\n",
            "Epoch 36/100\n",
            "34/34 [==============================] - 0s 1ms/step - loss: 7569.8813 - mae: 7569.8813\n",
            "Epoch 37/100\n",
            "34/34 [==============================] - 0s 1ms/step - loss: 7548.1997 - mae: 7548.1997\n",
            "Epoch 38/100\n",
            "34/34 [==============================] - 0s 1ms/step - loss: 7424.3975 - mae: 7424.3975\n",
            "Epoch 39/100\n",
            "34/34 [==============================] - 0s 1ms/step - loss: 7529.7734 - mae: 7529.7734\n",
            "Epoch 40/100\n",
            "34/34 [==============================] - 0s 1ms/step - loss: 7467.3232 - mae: 7467.3232\n",
            "Epoch 41/100\n",
            "34/34 [==============================] - 0s 1ms/step - loss: 7635.9292 - mae: 7635.9292\n",
            "Epoch 42/100\n",
            "34/34 [==============================] - 0s 1ms/step - loss: 7536.8398 - mae: 7536.8398\n",
            "Epoch 43/100\n",
            "34/34 [==============================] - 0s 1ms/step - loss: 7616.5859 - mae: 7616.5859\n",
            "Epoch 44/100\n",
            "34/34 [==============================] - 0s 1ms/step - loss: 7439.4941 - mae: 7439.4941\n",
            "Epoch 45/100\n",
            "34/34 [==============================] - 0s 1ms/step - loss: 7538.0151 - mae: 7538.0151\n",
            "Epoch 46/100\n",
            "34/34 [==============================] - 0s 1ms/step - loss: 7415.1470 - mae: 7415.1470\n",
            "Epoch 47/100\n",
            "34/34 [==============================] - 0s 1ms/step - loss: 7420.6938 - mae: 7420.6938\n",
            "Epoch 48/100\n",
            "34/34 [==============================] - 0s 1ms/step - loss: 7509.9839 - mae: 7509.9839\n",
            "Epoch 49/100\n",
            "34/34 [==============================] - 0s 1ms/step - loss: 7541.1133 - mae: 7541.1133\n",
            "Epoch 50/100\n",
            "34/34 [==============================] - 0s 1ms/step - loss: 7467.8643 - mae: 7467.8643\n",
            "Epoch 51/100\n",
            "34/34 [==============================] - 0s 2ms/step - loss: 7389.3560 - mae: 7389.3560\n",
            "Epoch 52/100\n",
            "34/34 [==============================] - 0s 1ms/step - loss: 7499.7749 - mae: 7499.7749\n",
            "Epoch 53/100\n",
            "34/34 [==============================] - 0s 1ms/step - loss: 7523.9282 - mae: 7523.9282\n",
            "Epoch 54/100\n",
            "34/34 [==============================] - 0s 1ms/step - loss: 7243.3115 - mae: 7243.3115\n",
            "Epoch 55/100\n",
            "34/34 [==============================] - 0s 980us/step - loss: 7429.5864 - mae: 7429.5864\n",
            "Epoch 56/100\n",
            "34/34 [==============================] - 0s 1ms/step - loss: 7313.3999 - mae: 7313.3999\n",
            "Epoch 57/100\n",
            "34/34 [==============================] - 0s 1ms/step - loss: 7526.3877 - mae: 7526.3877\n",
            "Epoch 58/100\n",
            "34/34 [==============================] - 0s 1ms/step - loss: 7542.2666 - mae: 7542.2666\n",
            "Epoch 59/100\n",
            "34/34 [==============================] - 0s 1ms/step - loss: 7576.9277 - mae: 7576.9277\n",
            "Epoch 60/100\n",
            "34/34 [==============================] - 0s 1ms/step - loss: 7546.4048 - mae: 7546.4048\n",
            "Epoch 61/100\n",
            "34/34 [==============================] - 0s 1ms/step - loss: 7351.2261 - mae: 7351.2261\n",
            "Epoch 62/100\n",
            "34/34 [==============================] - 0s 1ms/step - loss: 7302.1436 - mae: 7302.1436\n",
            "Epoch 63/100\n",
            "34/34 [==============================] - 0s 2ms/step - loss: 7393.0879 - mae: 7393.0879\n",
            "Epoch 64/100\n",
            "34/34 [==============================] - 0s 1ms/step - loss: 7442.2881 - mae: 7442.2881\n",
            "Epoch 65/100\n",
            "34/34 [==============================] - 0s 1ms/step - loss: 7492.6782 - mae: 7492.6782\n",
            "Epoch 66/100\n",
            "34/34 [==============================] - 0s 1ms/step - loss: 7561.9165 - mae: 7561.9165\n",
            "Epoch 67/100\n",
            "34/34 [==============================] - 0s 1ms/step - loss: 7340.5137 - mae: 7340.5137\n",
            "Epoch 68/100\n",
            "34/34 [==============================] - 0s 1ms/step - loss: 7496.0845 - mae: 7496.0845\n",
            "Epoch 69/100\n",
            "34/34 [==============================] - 0s 992us/step - loss: 7617.0303 - mae: 7617.0303\n",
            "Epoch 70/100\n",
            "34/34 [==============================] - 0s 1ms/step - loss: 7641.1948 - mae: 7641.1948\n",
            "Epoch 71/100\n",
            "34/34 [==============================] - 0s 1ms/step - loss: 7084.2744 - mae: 7084.2744\n",
            "Epoch 72/100\n",
            "34/34 [==============================] - 0s 1ms/step - loss: 7240.4902 - mae: 7240.4902\n",
            "Epoch 73/100\n",
            "34/34 [==============================] - 0s 1ms/step - loss: 7283.4888 - mae: 7283.4888\n",
            "Epoch 74/100\n",
            "34/34 [==============================] - 0s 1ms/step - loss: 7335.5083 - mae: 7335.5083\n",
            "Epoch 75/100\n",
            "34/34 [==============================] - 0s 1ms/step - loss: 7275.6392 - mae: 7275.6392\n",
            "Epoch 76/100\n",
            "34/34 [==============================] - 0s 1ms/step - loss: 7313.1860 - mae: 7313.1860\n",
            "Epoch 77/100\n",
            "34/34 [==============================] - 0s 1ms/step - loss: 7485.7588 - mae: 7485.7588\n",
            "Epoch 78/100\n",
            "34/34 [==============================] - 0s 1ms/step - loss: 7352.2803 - mae: 7352.2803\n",
            "Epoch 79/100\n",
            "34/34 [==============================] - 0s 1ms/step - loss: 7520.5703 - mae: 7520.5703\n",
            "Epoch 80/100\n",
            "34/34 [==============================] - 0s 1ms/step - loss: 7279.3779 - mae: 7279.3779\n",
            "Epoch 81/100\n",
            "34/34 [==============================] - 0s 1ms/step - loss: 7273.8477 - mae: 7273.8477\n",
            "Epoch 82/100\n",
            "34/34 [==============================] - 0s 1ms/step - loss: 7176.5215 - mae: 7176.5215\n",
            "Epoch 83/100\n",
            "34/34 [==============================] - 0s 1ms/step - loss: 7425.6289 - mae: 7425.6289\n",
            "Epoch 84/100\n",
            "34/34 [==============================] - 0s 2ms/step - loss: 7403.1294 - mae: 7403.1294\n",
            "Epoch 85/100\n",
            "34/34 [==============================] - 0s 1ms/step - loss: 7356.0088 - mae: 7356.0088\n",
            "Epoch 86/100\n",
            "34/34 [==============================] - 0s 1ms/step - loss: 7484.7271 - mae: 7484.7271\n",
            "Epoch 87/100\n",
            "34/34 [==============================] - 0s 1ms/step - loss: 7217.6074 - mae: 7217.6074\n",
            "Epoch 88/100\n",
            "34/34 [==============================] - 0s 1ms/step - loss: 7261.0000 - mae: 7261.0000\n",
            "Epoch 89/100\n",
            "34/34 [==============================] - 0s 1ms/step - loss: 7134.1562 - mae: 7134.1562\n",
            "Epoch 90/100\n",
            "34/34 [==============================] - 0s 1ms/step - loss: 7083.4360 - mae: 7083.4360\n",
            "Epoch 91/100\n",
            "34/34 [==============================] - 0s 1ms/step - loss: 7254.1782 - mae: 7254.1782\n",
            "Epoch 92/100\n",
            "34/34 [==============================] - 0s 1ms/step - loss: 7268.7456 - mae: 7268.7456\n",
            "Epoch 93/100\n",
            "34/34 [==============================] - 0s 1ms/step - loss: 7470.5220 - mae: 7470.5220\n",
            "Epoch 94/100\n",
            "34/34 [==============================] - 0s 1ms/step - loss: 7210.9536 - mae: 7210.9536\n",
            "Epoch 95/100\n",
            "34/34 [==============================] - 0s 1ms/step - loss: 7395.6816 - mae: 7395.6816\n",
            "Epoch 96/100\n",
            "34/34 [==============================] - 0s 1ms/step - loss: 7328.0884 - mae: 7328.0884\n",
            "Epoch 97/100\n",
            "34/34 [==============================] - 0s 1ms/step - loss: 7230.4380 - mae: 7230.4380\n",
            "Epoch 98/100\n",
            "34/34 [==============================] - 0s 1ms/step - loss: 7261.3936 - mae: 7261.3936\n",
            "Epoch 99/100\n",
            "34/34 [==============================] - 0s 1ms/step - loss: 7342.5684 - mae: 7342.5684\n",
            "Epoch 100/100\n",
            "34/34 [==============================] - 0s 1ms/step - loss: 7106.1714 - mae: 7106.1714\n"
          ],
          "name": "stdout"
        },
        {
          "output_type": "execute_result",
          "data": {
            "text/plain": [
              "<tensorflow.python.keras.callbacks.History at 0x7f7e3a5a27d0>"
            ]
          },
          "metadata": {
            "tags": []
          },
          "execution_count": 106
        }
      ]
    },
    {
      "cell_type": "code",
      "metadata": {
        "colab": {
          "base_uri": "https://localhost:8080/"
        },
        "id": "i7XQF1-jp698",
        "outputId": "e107700d-53c8-40eb-86b3-bbce1f3eac6a"
      },
      "source": [
        "#check results of model\n",
        "insurance_model.evaluate(X_test, y_test)"
      ],
      "execution_count": 107,
      "outputs": [
        {
          "output_type": "stream",
          "text": [
            "9/9 [==============================] - 0s 3ms/step - loss: 7023.3291 - mae: 7023.3291\n"
          ],
          "name": "stdout"
        },
        {
          "output_type": "execute_result",
          "data": {
            "text/plain": [
              "[7023.3291015625, 7023.3291015625]"
            ]
          },
          "metadata": {
            "tags": []
          },
          "execution_count": 107
        }
      ]
    },
    {
      "cell_type": "code",
      "metadata": {
        "colab": {
          "base_uri": "https://localhost:8080/"
        },
        "id": "Edn6ZCWzq0KW",
        "outputId": "0a32744a-1756-48a9-dd30-6ef812cbebc8"
      },
      "source": [
        "y_train.mean(), y_train.median() # way off"
      ],
      "execution_count": 108,
      "outputs": [
        {
          "output_type": "execute_result",
          "data": {
            "text/plain": [
              "(13346.089736364489, 9575.4421)"
            ]
          },
          "metadata": {
            "tags": []
          },
          "execution_count": 108
        }
      ]
    },
    {
      "cell_type": "markdown",
      "metadata": {
        "id": "LIlxMqWCq39t"
      },
      "source": [
        "# Try more hidden layers"
      ]
    },
    {
      "cell_type": "code",
      "metadata": {
        "colab": {
          "base_uri": "https://localhost:8080/"
        },
        "id": "j6YysbxtXvH-",
        "outputId": "7d93e32f-f354-4c54-eea5-fb5aba0f2a9a"
      },
      "source": [
        "# set random seed\n",
        "tf.random.set_seed(42)\n",
        "\n",
        "# 1. Create a model\n",
        "insurance_model_2 = tf.keras.Sequential([\n",
        "  tf.keras.layers.Dense(100),\n",
        "  tf.keras.layers.Dense(10),\n",
        "  tf.keras.layers.Dense(1)\n",
        "])\n",
        "\n",
        "# 2. Compile the model\n",
        "insurance_model_2.compile(loss = tf.keras.losses.mae,\n",
        "                          optimizer = tf.keras.optimizers.Adam(),\n",
        "                          metrics = ['mae'])\n",
        "\n",
        "# 3. Fit the model\n",
        "insurance_model_2.fit(X_train, y_train, epochs=100)"
      ],
      "execution_count": 114,
      "outputs": [
        {
          "output_type": "stream",
          "text": [
            "Epoch 1/100\n",
            "34/34 [==============================] - 0s 1ms/step - loss: 13273.1602 - mae: 13273.1602\n",
            "Epoch 2/100\n",
            "34/34 [==============================] - 0s 1ms/step - loss: 13104.4297 - mae: 13104.4297\n",
            "Epoch 3/100\n",
            "34/34 [==============================] - 0s 2ms/step - loss: 12749.5420 - mae: 12749.5420\n",
            "Epoch 4/100\n",
            "34/34 [==============================] - 0s 2ms/step - loss: 12055.7510 - mae: 12055.7510\n",
            "Epoch 5/100\n",
            "34/34 [==============================] - 0s 2ms/step - loss: 10905.8154 - mae: 10905.8154\n",
            "Epoch 6/100\n",
            "34/34 [==============================] - 0s 2ms/step - loss: 9457.7217 - mae: 9457.7217\n",
            "Epoch 7/100\n",
            "34/34 [==============================] - 0s 2ms/step - loss: 8147.6543 - mae: 8147.6543\n",
            "Epoch 8/100\n",
            "34/34 [==============================] - 0s 1ms/step - loss: 7528.8408 - mae: 7528.8408\n",
            "Epoch 9/100\n",
            "34/34 [==============================] - 0s 2ms/step - loss: 7429.1528 - mae: 7429.1528\n",
            "Epoch 10/100\n",
            "34/34 [==============================] - 0s 1ms/step - loss: 7409.0811 - mae: 7409.0811\n",
            "Epoch 11/100\n",
            "34/34 [==============================] - 0s 2ms/step - loss: 7390.8042 - mae: 7390.8042\n",
            "Epoch 12/100\n",
            "34/34 [==============================] - 0s 2ms/step - loss: 7368.9180 - mae: 7368.9180\n",
            "Epoch 13/100\n",
            "34/34 [==============================] - 0s 2ms/step - loss: 7348.5195 - mae: 7348.5195\n",
            "Epoch 14/100\n",
            "34/34 [==============================] - 0s 2ms/step - loss: 7326.4893 - mae: 7326.4893\n",
            "Epoch 15/100\n",
            "34/34 [==============================] - 0s 2ms/step - loss: 7307.5815 - mae: 7307.5815\n",
            "Epoch 16/100\n",
            "34/34 [==============================] - 0s 2ms/step - loss: 7285.7734 - mae: 7285.7734\n",
            "Epoch 17/100\n",
            "34/34 [==============================] - 0s 2ms/step - loss: 7265.7104 - mae: 7265.7104\n",
            "Epoch 18/100\n",
            "34/34 [==============================] - 0s 2ms/step - loss: 7242.5488 - mae: 7242.5488\n",
            "Epoch 19/100\n",
            "34/34 [==============================] - 0s 1ms/step - loss: 7220.5068 - mae: 7220.5068\n",
            "Epoch 20/100\n",
            "34/34 [==============================] - 0s 1ms/step - loss: 7197.1978 - mae: 7197.1978\n",
            "Epoch 21/100\n",
            "34/34 [==============================] - 0s 1ms/step - loss: 7179.0195 - mae: 7179.0195\n",
            "Epoch 22/100\n",
            "34/34 [==============================] - 0s 1ms/step - loss: 7151.2104 - mae: 7151.2104\n",
            "Epoch 23/100\n",
            "34/34 [==============================] - 0s 1ms/step - loss: 7126.4639 - mae: 7126.4639\n",
            "Epoch 24/100\n",
            "34/34 [==============================] - 0s 1ms/step - loss: 7101.9199 - mae: 7101.9199\n",
            "Epoch 25/100\n",
            "34/34 [==============================] - 0s 2ms/step - loss: 7084.3379 - mae: 7084.3379\n",
            "Epoch 26/100\n",
            "34/34 [==============================] - 0s 1ms/step - loss: 7052.3291 - mae: 7052.3291\n",
            "Epoch 27/100\n",
            "34/34 [==============================] - 0s 1ms/step - loss: 7024.3501 - mae: 7024.3501\n",
            "Epoch 28/100\n",
            "34/34 [==============================] - 0s 2ms/step - loss: 6996.6963 - mae: 6996.6963\n",
            "Epoch 29/100\n",
            "34/34 [==============================] - 0s 2ms/step - loss: 6969.0112 - mae: 6969.0112\n",
            "Epoch 30/100\n",
            "34/34 [==============================] - 0s 2ms/step - loss: 6942.1899 - mae: 6942.1899\n",
            "Epoch 31/100\n",
            "34/34 [==============================] - 0s 2ms/step - loss: 6911.7280 - mae: 6911.7280\n",
            "Epoch 32/100\n",
            "34/34 [==============================] - 0s 1ms/step - loss: 6884.0205 - mae: 6884.0205\n",
            "Epoch 33/100\n",
            "34/34 [==============================] - 0s 1ms/step - loss: 6853.4648 - mae: 6853.4648\n",
            "Epoch 34/100\n",
            "34/34 [==============================] - 0s 1ms/step - loss: 6823.0674 - mae: 6823.0674\n",
            "Epoch 35/100\n",
            "34/34 [==============================] - 0s 2ms/step - loss: 6789.6855 - mae: 6789.6855\n",
            "Epoch 36/100\n",
            "34/34 [==============================] - 0s 2ms/step - loss: 6755.7646 - mae: 6755.7646\n",
            "Epoch 37/100\n",
            "34/34 [==============================] - 0s 2ms/step - loss: 6720.2026 - mae: 6720.2026\n",
            "Epoch 38/100\n",
            "34/34 [==============================] - 0s 2ms/step - loss: 6689.7158 - mae: 6689.7158\n",
            "Epoch 39/100\n",
            "34/34 [==============================] - 0s 2ms/step - loss: 6652.4614 - mae: 6652.4614\n",
            "Epoch 40/100\n",
            "34/34 [==============================] - 0s 1ms/step - loss: 6618.1006 - mae: 6618.1006\n",
            "Epoch 41/100\n",
            "34/34 [==============================] - 0s 2ms/step - loss: 6585.8643 - mae: 6585.8643\n",
            "Epoch 42/100\n",
            "34/34 [==============================] - 0s 1ms/step - loss: 6559.4956 - mae: 6559.4956\n",
            "Epoch 43/100\n",
            "34/34 [==============================] - 0s 2ms/step - loss: 6530.0444 - mae: 6530.0444\n",
            "Epoch 44/100\n",
            "34/34 [==============================] - 0s 2ms/step - loss: 6506.8071 - mae: 6506.8071\n",
            "Epoch 45/100\n",
            "34/34 [==============================] - 0s 1ms/step - loss: 6493.5718 - mae: 6493.5718\n",
            "Epoch 46/100\n",
            "34/34 [==============================] - 0s 2ms/step - loss: 6475.9258 - mae: 6475.9258\n",
            "Epoch 47/100\n",
            "34/34 [==============================] - 0s 1ms/step - loss: 6458.8979 - mae: 6458.8979\n",
            "Epoch 48/100\n",
            "34/34 [==============================] - 0s 1ms/step - loss: 6445.1494 - mae: 6445.1494\n",
            "Epoch 49/100\n",
            "34/34 [==============================] - 0s 1ms/step - loss: 6430.9639 - mae: 6430.9639\n",
            "Epoch 50/100\n",
            "34/34 [==============================] - 0s 1ms/step - loss: 6417.7510 - mae: 6417.7510\n",
            "Epoch 51/100\n",
            "34/34 [==============================] - 0s 1ms/step - loss: 6403.2759 - mae: 6403.2759\n",
            "Epoch 52/100\n",
            "34/34 [==============================] - 0s 1ms/step - loss: 6392.4141 - mae: 6392.4141\n",
            "Epoch 53/100\n",
            "34/34 [==============================] - 0s 2ms/step - loss: 6378.7451 - mae: 6378.7451\n",
            "Epoch 54/100\n",
            "34/34 [==============================] - 0s 2ms/step - loss: 6364.9131 - mae: 6364.9131\n",
            "Epoch 55/100\n",
            "34/34 [==============================] - 0s 1ms/step - loss: 6351.5269 - mae: 6351.5269\n",
            "Epoch 56/100\n",
            "34/34 [==============================] - 0s 2ms/step - loss: 6337.6602 - mae: 6337.6602\n",
            "Epoch 57/100\n",
            "34/34 [==============================] - 0s 2ms/step - loss: 6324.8369 - mae: 6324.8369\n",
            "Epoch 58/100\n",
            "34/34 [==============================] - 0s 2ms/step - loss: 6310.1948 - mae: 6310.1948\n",
            "Epoch 59/100\n",
            "34/34 [==============================] - 0s 1ms/step - loss: 6295.6035 - mae: 6295.6035\n",
            "Epoch 60/100\n",
            "34/34 [==============================] - 0s 1ms/step - loss: 6284.8696 - mae: 6284.8696\n",
            "Epoch 61/100\n",
            "34/34 [==============================] - 0s 2ms/step - loss: 6265.6411 - mae: 6265.6411\n",
            "Epoch 62/100\n",
            "34/34 [==============================] - 0s 1ms/step - loss: 6253.0103 - mae: 6253.0103\n",
            "Epoch 63/100\n",
            "34/34 [==============================] - 0s 2ms/step - loss: 6234.9292 - mae: 6234.9292\n",
            "Epoch 64/100\n",
            "34/34 [==============================] - 0s 1ms/step - loss: 6218.0430 - mae: 6218.0430\n",
            "Epoch 65/100\n",
            "34/34 [==============================] - 0s 2ms/step - loss: 6201.1899 - mae: 6201.1899\n",
            "Epoch 66/100\n",
            "34/34 [==============================] - 0s 2ms/step - loss: 6183.9590 - mae: 6183.9590\n",
            "Epoch 67/100\n",
            "34/34 [==============================] - 0s 2ms/step - loss: 6171.2993 - mae: 6171.2993\n",
            "Epoch 68/100\n",
            "34/34 [==============================] - 0s 2ms/step - loss: 6148.8398 - mae: 6148.8398\n",
            "Epoch 69/100\n",
            "34/34 [==============================] - 0s 1ms/step - loss: 6132.5981 - mae: 6132.5981\n",
            "Epoch 70/100\n",
            "34/34 [==============================] - 0s 1ms/step - loss: 6112.3848 - mae: 6112.3848\n",
            "Epoch 71/100\n",
            "34/34 [==============================] - 0s 1ms/step - loss: 6092.7202 - mae: 6092.7202\n",
            "Epoch 72/100\n",
            "34/34 [==============================] - 0s 3ms/step - loss: 6073.7422 - mae: 6073.7422\n",
            "Epoch 73/100\n",
            "34/34 [==============================] - 0s 2ms/step - loss: 6059.4873 - mae: 6059.4873\n",
            "Epoch 74/100\n",
            "34/34 [==============================] - 0s 2ms/step - loss: 6031.3848 - mae: 6031.3848\n",
            "Epoch 75/100\n",
            "34/34 [==============================] - 0s 2ms/step - loss: 6010.3350 - mae: 6010.3350\n",
            "Epoch 76/100\n",
            "34/34 [==============================] - 0s 1ms/step - loss: 5995.2178 - mae: 5995.2178\n",
            "Epoch 77/100\n",
            "34/34 [==============================] - 0s 2ms/step - loss: 5963.0718 - mae: 5963.0718\n",
            "Epoch 78/100\n",
            "34/34 [==============================] - 0s 2ms/step - loss: 5940.0605 - mae: 5940.0605\n",
            "Epoch 79/100\n",
            "34/34 [==============================] - 0s 1ms/step - loss: 5915.1064 - mae: 5915.1064\n",
            "Epoch 80/100\n",
            "34/34 [==============================] - 0s 1ms/step - loss: 5887.9990 - mae: 5887.9990\n",
            "Epoch 81/100\n",
            "34/34 [==============================] - 0s 2ms/step - loss: 5861.6992 - mae: 5861.6992\n",
            "Epoch 82/100\n",
            "34/34 [==============================] - 0s 1ms/step - loss: 5834.3066 - mae: 5834.3066\n",
            "Epoch 83/100\n",
            "34/34 [==============================] - 0s 2ms/step - loss: 5805.8237 - mae: 5805.8237\n",
            "Epoch 84/100\n",
            "34/34 [==============================] - 0s 2ms/step - loss: 5772.3232 - mae: 5772.3232\n",
            "Epoch 85/100\n",
            "34/34 [==============================] - 0s 2ms/step - loss: 5745.1514 - mae: 5745.1514\n",
            "Epoch 86/100\n",
            "34/34 [==============================] - 0s 1ms/step - loss: 5711.3477 - mae: 5711.3477\n",
            "Epoch 87/100\n",
            "34/34 [==============================] - 0s 2ms/step - loss: 5674.5215 - mae: 5674.5215\n",
            "Epoch 88/100\n",
            "34/34 [==============================] - 0s 2ms/step - loss: 5639.4927 - mae: 5639.4927\n",
            "Epoch 89/100\n",
            "34/34 [==============================] - 0s 1ms/step - loss: 5600.6655 - mae: 5600.6655\n",
            "Epoch 90/100\n",
            "34/34 [==============================] - 0s 2ms/step - loss: 5559.4326 - mae: 5559.4326\n",
            "Epoch 91/100\n",
            "34/34 [==============================] - 0s 1ms/step - loss: 5523.6187 - mae: 5523.6187\n",
            "Epoch 92/100\n",
            "34/34 [==============================] - 0s 2ms/step - loss: 5474.1250 - mae: 5474.1250\n",
            "Epoch 93/100\n",
            "34/34 [==============================] - 0s 2ms/step - loss: 5432.2661 - mae: 5432.2661\n",
            "Epoch 94/100\n",
            "34/34 [==============================] - 0s 1ms/step - loss: 5386.0527 - mae: 5386.0527\n",
            "Epoch 95/100\n",
            "34/34 [==============================] - 0s 2ms/step - loss: 5333.1812 - mae: 5333.1812\n",
            "Epoch 96/100\n",
            "34/34 [==============================] - 0s 1ms/step - loss: 5288.8159 - mae: 5288.8159\n",
            "Epoch 97/100\n",
            "34/34 [==============================] - 0s 1ms/step - loss: 5234.6792 - mae: 5234.6792\n",
            "Epoch 98/100\n",
            "34/34 [==============================] - 0s 1ms/step - loss: 5170.9360 - mae: 5170.9360\n",
            "Epoch 99/100\n",
            "34/34 [==============================] - 0s 2ms/step - loss: 5112.9443 - mae: 5112.9443\n",
            "Epoch 100/100\n",
            "34/34 [==============================] - 0s 2ms/step - loss: 5059.8643 - mae: 5059.8643\n"
          ],
          "name": "stdout"
        },
        {
          "output_type": "execute_result",
          "data": {
            "text/plain": [
              "<tensorflow.python.keras.callbacks.History at 0x7f7e3796cc50>"
            ]
          },
          "metadata": {
            "tags": []
          },
          "execution_count": 114
        }
      ]
    },
    {
      "cell_type": "code",
      "metadata": {
        "colab": {
          "base_uri": "https://localhost:8080/"
        },
        "id": "KIBiVInqY7gr",
        "outputId": "0f2be9e8-5051-4b94-9560-98a3a6563f99"
      },
      "source": [
        "insurance_model.evaluate(X_test, y_test)"
      ],
      "execution_count": 115,
      "outputs": [
        {
          "output_type": "stream",
          "text": [
            "9/9 [==============================] - 0s 3ms/step - loss: 7023.3291 - mae: 7023.3291\n"
          ],
          "name": "stdout"
        },
        {
          "output_type": "execute_result",
          "data": {
            "text/plain": [
              "[7023.3291015625, 7023.3291015625]"
            ]
          },
          "metadata": {
            "tags": []
          },
          "execution_count": 115
        }
      ]
    },
    {
      "cell_type": "code",
      "metadata": {
        "colab": {
          "base_uri": "https://localhost:8080/"
        },
        "id": "nFCU9hCWZjIi",
        "outputId": "28ee3646-b65d-40ba-c20f-c290b4f1af16"
      },
      "source": [
        "insurance_model_2.evaluate(X_test, y_test)"
      ],
      "execution_count": 116,
      "outputs": [
        {
          "output_type": "stream",
          "text": [
            "9/9 [==============================] - 0s 2ms/step - loss: 4924.3477 - mae: 4924.3477\n"
          ],
          "name": "stdout"
        },
        {
          "output_type": "execute_result",
          "data": {
            "text/plain": [
              "[4924.34765625, 4924.34765625]"
            ]
          },
          "metadata": {
            "tags": []
          },
          "execution_count": 116
        }
      ]
    },
    {
      "cell_type": "markdown",
      "metadata": {
        "id": "d9rMe5aWZrPg"
      },
      "source": [
        "# Adding an extra layer and the Adam optimizers has improved the mode"
      ]
    },
    {
      "cell_type": "code",
      "metadata": {
        "colab": {
          "base_uri": "https://localhost:8080/"
        },
        "id": "KYukm3xVZ2pY",
        "outputId": "9766f453-33db-4c77-b99d-4c00464eaac4"
      },
      "source": [
        "# Set random seet\n",
        "tf.random.set_seed(42)\n",
        "\n",
        "# 1. Create a model\n",
        "insurance_model_3 = tf.keras.Sequential([\n",
        "  tf.keras.layers.Dense(100),\n",
        "  tf.keras.layers.Dense(10),\n",
        "  tf.keras.layers.Dense(1)\n",
        "])\n",
        "\n",
        "# 2.Compile the model\n",
        "insurance_model_3.compile(loss=tf.keras.losses.mae,\n",
        "                          optimizer=tf.keras.optimizers.Adam(),\n",
        "                          metrics=['mae'])\n",
        "\n",
        "# 3. Fit the model\n",
        "history = insurance_model_3.fit(X_train, y_train, epochs=200)"
      ],
      "execution_count": 124,
      "outputs": [
        {
          "output_type": "stream",
          "text": [
            "Epoch 1/200\n",
            "34/34 [==============================] - 0s 2ms/step - loss: 13273.1602 - mae: 13273.1602\n",
            "Epoch 2/200\n",
            "34/34 [==============================] - 0s 2ms/step - loss: 13104.4297 - mae: 13104.4297\n",
            "Epoch 3/200\n",
            "34/34 [==============================] - 0s 2ms/step - loss: 12749.5420 - mae: 12749.5420\n",
            "Epoch 4/200\n",
            "34/34 [==============================] - 0s 1ms/step - loss: 12055.7510 - mae: 12055.7510\n",
            "Epoch 5/200\n",
            "34/34 [==============================] - 0s 1ms/step - loss: 10905.8154 - mae: 10905.8154\n",
            "Epoch 6/200\n",
            "34/34 [==============================] - 0s 1ms/step - loss: 9457.7217 - mae: 9457.7217\n",
            "Epoch 7/200\n",
            "34/34 [==============================] - 0s 1ms/step - loss: 8147.6543 - mae: 8147.6543\n",
            "Epoch 8/200\n",
            "34/34 [==============================] - 0s 1ms/step - loss: 7528.8408 - mae: 7528.8408\n",
            "Epoch 9/200\n",
            "34/34 [==============================] - 0s 1ms/step - loss: 7429.1528 - mae: 7429.1528\n",
            "Epoch 10/200\n",
            "34/34 [==============================] - 0s 1ms/step - loss: 7409.0811 - mae: 7409.0811\n",
            "Epoch 11/200\n",
            "34/34 [==============================] - 0s 2ms/step - loss: 7390.8042 - mae: 7390.8042\n",
            "Epoch 12/200\n",
            "34/34 [==============================] - 0s 2ms/step - loss: 7368.9180 - mae: 7368.9180\n",
            "Epoch 13/200\n",
            "34/34 [==============================] - 0s 2ms/step - loss: 7348.5195 - mae: 7348.5195\n",
            "Epoch 14/200\n",
            "34/34 [==============================] - 0s 1ms/step - loss: 7326.4893 - mae: 7326.4893\n",
            "Epoch 15/200\n",
            "34/34 [==============================] - 0s 1ms/step - loss: 7307.5815 - mae: 7307.5815\n",
            "Epoch 16/200\n",
            "34/34 [==============================] - 0s 2ms/step - loss: 7285.7734 - mae: 7285.7734\n",
            "Epoch 17/200\n",
            "34/34 [==============================] - 0s 1ms/step - loss: 7265.7104 - mae: 7265.7104\n",
            "Epoch 18/200\n",
            "34/34 [==============================] - 0s 1ms/step - loss: 7242.5488 - mae: 7242.5488\n",
            "Epoch 19/200\n",
            "34/34 [==============================] - 0s 1ms/step - loss: 7220.5068 - mae: 7220.5068\n",
            "Epoch 20/200\n",
            "34/34 [==============================] - 0s 1ms/step - loss: 7197.1978 - mae: 7197.1978\n",
            "Epoch 21/200\n",
            "34/34 [==============================] - 0s 1ms/step - loss: 7179.0195 - mae: 7179.0195\n",
            "Epoch 22/200\n",
            "34/34 [==============================] - 0s 1ms/step - loss: 7151.2104 - mae: 7151.2104\n",
            "Epoch 23/200\n",
            "34/34 [==============================] - 0s 2ms/step - loss: 7126.4639 - mae: 7126.4639\n",
            "Epoch 24/200\n",
            "34/34 [==============================] - 0s 1ms/step - loss: 7101.9199 - mae: 7101.9199\n",
            "Epoch 25/200\n",
            "34/34 [==============================] - 0s 1ms/step - loss: 7084.3379 - mae: 7084.3379\n",
            "Epoch 26/200\n",
            "34/34 [==============================] - 0s 2ms/step - loss: 7052.3291 - mae: 7052.3291\n",
            "Epoch 27/200\n",
            "34/34 [==============================] - 0s 2ms/step - loss: 7024.3501 - mae: 7024.3501\n",
            "Epoch 28/200\n",
            "34/34 [==============================] - 0s 2ms/step - loss: 6996.6963 - mae: 6996.6963\n",
            "Epoch 29/200\n",
            "34/34 [==============================] - 0s 2ms/step - loss: 6969.0112 - mae: 6969.0112\n",
            "Epoch 30/200\n",
            "34/34 [==============================] - 0s 2ms/step - loss: 6942.1899 - mae: 6942.1899\n",
            "Epoch 31/200\n",
            "34/34 [==============================] - 0s 1ms/step - loss: 6911.7280 - mae: 6911.7280\n",
            "Epoch 32/200\n",
            "34/34 [==============================] - 0s 2ms/step - loss: 6884.0205 - mae: 6884.0205\n",
            "Epoch 33/200\n",
            "34/34 [==============================] - 0s 2ms/step - loss: 6853.4648 - mae: 6853.4648\n",
            "Epoch 34/200\n",
            "34/34 [==============================] - 0s 1ms/step - loss: 6823.0674 - mae: 6823.0674\n",
            "Epoch 35/200\n",
            "34/34 [==============================] - 0s 1ms/step - loss: 6789.6855 - mae: 6789.6855\n",
            "Epoch 36/200\n",
            "34/34 [==============================] - 0s 1ms/step - loss: 6755.7646 - mae: 6755.7646\n",
            "Epoch 37/200\n",
            "34/34 [==============================] - 0s 1ms/step - loss: 6720.2026 - mae: 6720.2026\n",
            "Epoch 38/200\n",
            "34/34 [==============================] - 0s 1ms/step - loss: 6689.7158 - mae: 6689.7158\n",
            "Epoch 39/200\n",
            "34/34 [==============================] - 0s 1ms/step - loss: 6652.4614 - mae: 6652.4614\n",
            "Epoch 40/200\n",
            "34/34 [==============================] - 0s 1ms/step - loss: 6618.1006 - mae: 6618.1006\n",
            "Epoch 41/200\n",
            "34/34 [==============================] - 0s 1ms/step - loss: 6585.8643 - mae: 6585.8643\n",
            "Epoch 42/200\n",
            "34/34 [==============================] - 0s 2ms/step - loss: 6559.4956 - mae: 6559.4956\n",
            "Epoch 43/200\n",
            "34/34 [==============================] - 0s 2ms/step - loss: 6530.0444 - mae: 6530.0444\n",
            "Epoch 44/200\n",
            "34/34 [==============================] - 0s 1ms/step - loss: 6506.8071 - mae: 6506.8071\n",
            "Epoch 45/200\n",
            "34/34 [==============================] - 0s 2ms/step - loss: 6493.5718 - mae: 6493.5718\n",
            "Epoch 46/200\n",
            "34/34 [==============================] - 0s 2ms/step - loss: 6475.9258 - mae: 6475.9258\n",
            "Epoch 47/200\n",
            "34/34 [==============================] - 0s 1ms/step - loss: 6458.8979 - mae: 6458.8979\n",
            "Epoch 48/200\n",
            "34/34 [==============================] - 0s 1ms/step - loss: 6445.1494 - mae: 6445.1494\n",
            "Epoch 49/200\n",
            "34/34 [==============================] - 0s 2ms/step - loss: 6430.9639 - mae: 6430.9639\n",
            "Epoch 50/200\n",
            "34/34 [==============================] - 0s 1ms/step - loss: 6417.7510 - mae: 6417.7510\n",
            "Epoch 51/200\n",
            "34/34 [==============================] - 0s 1ms/step - loss: 6403.2759 - mae: 6403.2759\n",
            "Epoch 52/200\n",
            "34/34 [==============================] - 0s 2ms/step - loss: 6392.4141 - mae: 6392.4141\n",
            "Epoch 53/200\n",
            "34/34 [==============================] - 0s 1ms/step - loss: 6378.7451 - mae: 6378.7451\n",
            "Epoch 54/200\n",
            "34/34 [==============================] - 0s 1ms/step - loss: 6364.9131 - mae: 6364.9131\n",
            "Epoch 55/200\n",
            "34/34 [==============================] - 0s 1ms/step - loss: 6351.5269 - mae: 6351.5269\n",
            "Epoch 56/200\n",
            "34/34 [==============================] - 0s 1ms/step - loss: 6337.6602 - mae: 6337.6602\n",
            "Epoch 57/200\n",
            "34/34 [==============================] - 0s 1ms/step - loss: 6324.8369 - mae: 6324.8369\n",
            "Epoch 58/200\n",
            "34/34 [==============================] - 0s 1ms/step - loss: 6310.1948 - mae: 6310.1948\n",
            "Epoch 59/200\n",
            "34/34 [==============================] - 0s 1ms/step - loss: 6295.6035 - mae: 6295.6035\n",
            "Epoch 60/200\n",
            "34/34 [==============================] - 0s 2ms/step - loss: 6284.8696 - mae: 6284.8696\n",
            "Epoch 61/200\n",
            "34/34 [==============================] - 0s 2ms/step - loss: 6265.6411 - mae: 6265.6411\n",
            "Epoch 62/200\n",
            "34/34 [==============================] - 0s 3ms/step - loss: 6253.0103 - mae: 6253.0103\n",
            "Epoch 63/200\n",
            "34/34 [==============================] - 0s 1ms/step - loss: 6234.9292 - mae: 6234.9292\n",
            "Epoch 64/200\n",
            "34/34 [==============================] - 0s 2ms/step - loss: 6218.0430 - mae: 6218.0430\n",
            "Epoch 65/200\n",
            "34/34 [==============================] - 0s 1ms/step - loss: 6201.1899 - mae: 6201.1899\n",
            "Epoch 66/200\n",
            "34/34 [==============================] - 0s 1ms/step - loss: 6183.9590 - mae: 6183.9590\n",
            "Epoch 67/200\n",
            "34/34 [==============================] - 0s 1ms/step - loss: 6171.2993 - mae: 6171.2993\n",
            "Epoch 68/200\n",
            "34/34 [==============================] - 0s 2ms/step - loss: 6148.8398 - mae: 6148.8398\n",
            "Epoch 69/200\n",
            "34/34 [==============================] - 0s 2ms/step - loss: 6132.5981 - mae: 6132.5981\n",
            "Epoch 70/200\n",
            "34/34 [==============================] - 0s 1ms/step - loss: 6112.3848 - mae: 6112.3848\n",
            "Epoch 71/200\n",
            "34/34 [==============================] - 0s 2ms/step - loss: 6092.7202 - mae: 6092.7202\n",
            "Epoch 72/200\n",
            "34/34 [==============================] - 0s 2ms/step - loss: 6073.7422 - mae: 6073.7422\n",
            "Epoch 73/200\n",
            "34/34 [==============================] - 0s 2ms/step - loss: 6059.4873 - mae: 6059.4873\n",
            "Epoch 74/200\n",
            "34/34 [==============================] - 0s 1ms/step - loss: 6031.3848 - mae: 6031.3848\n",
            "Epoch 75/200\n",
            "34/34 [==============================] - 0s 1ms/step - loss: 6010.3350 - mae: 6010.3350\n",
            "Epoch 76/200\n",
            "34/34 [==============================] - 0s 1ms/step - loss: 5995.2178 - mae: 5995.2178\n",
            "Epoch 77/200\n",
            "34/34 [==============================] - 0s 1ms/step - loss: 5963.0718 - mae: 5963.0718\n",
            "Epoch 78/200\n",
            "34/34 [==============================] - 0s 1ms/step - loss: 5940.0605 - mae: 5940.0605\n",
            "Epoch 79/200\n",
            "34/34 [==============================] - 0s 2ms/step - loss: 5915.1064 - mae: 5915.1064\n",
            "Epoch 80/200\n",
            "34/34 [==============================] - 0s 1ms/step - loss: 5887.9990 - mae: 5887.9990\n",
            "Epoch 81/200\n",
            "34/34 [==============================] - 0s 2ms/step - loss: 5861.6992 - mae: 5861.6992\n",
            "Epoch 82/200\n",
            "34/34 [==============================] - 0s 2ms/step - loss: 5834.3066 - mae: 5834.3066\n",
            "Epoch 83/200\n",
            "34/34 [==============================] - 0s 2ms/step - loss: 5805.8237 - mae: 5805.8237\n",
            "Epoch 84/200\n",
            "34/34 [==============================] - 0s 2ms/step - loss: 5772.3232 - mae: 5772.3232\n",
            "Epoch 85/200\n",
            "34/34 [==============================] - 0s 1ms/step - loss: 5745.1514 - mae: 5745.1514\n",
            "Epoch 86/200\n",
            "34/34 [==============================] - 0s 1ms/step - loss: 5711.3477 - mae: 5711.3477\n",
            "Epoch 87/200\n",
            "34/34 [==============================] - 0s 1ms/step - loss: 5674.5215 - mae: 5674.5215\n",
            "Epoch 88/200\n",
            "34/34 [==============================] - 0s 1ms/step - loss: 5639.4927 - mae: 5639.4927\n",
            "Epoch 89/200\n",
            "34/34 [==============================] - 0s 1ms/step - loss: 5600.6655 - mae: 5600.6655\n",
            "Epoch 90/200\n",
            "34/34 [==============================] - 0s 1ms/step - loss: 5559.4326 - mae: 5559.4326\n",
            "Epoch 91/200\n",
            "34/34 [==============================] - 0s 2ms/step - loss: 5523.6187 - mae: 5523.6187\n",
            "Epoch 92/200\n",
            "34/34 [==============================] - 0s 2ms/step - loss: 5474.1250 - mae: 5474.1250\n",
            "Epoch 93/200\n",
            "34/34 [==============================] - 0s 1ms/step - loss: 5432.2661 - mae: 5432.2661\n",
            "Epoch 94/200\n",
            "34/34 [==============================] - 0s 1ms/step - loss: 5386.0527 - mae: 5386.0527\n",
            "Epoch 95/200\n",
            "34/34 [==============================] - 0s 2ms/step - loss: 5333.1812 - mae: 5333.1812\n",
            "Epoch 96/200\n",
            "34/34 [==============================] - 0s 1ms/step - loss: 5288.8159 - mae: 5288.8159\n",
            "Epoch 97/200\n",
            "34/34 [==============================] - 0s 1ms/step - loss: 5234.6792 - mae: 5234.6792\n",
            "Epoch 98/200\n",
            "34/34 [==============================] - 0s 1ms/step - loss: 5170.9360 - mae: 5170.9360\n",
            "Epoch 99/200\n",
            "34/34 [==============================] - 0s 2ms/step - loss: 5112.9443 - mae: 5112.9443\n",
            "Epoch 100/200\n",
            "34/34 [==============================] - 0s 1ms/step - loss: 5059.8643 - mae: 5059.8643\n",
            "Epoch 101/200\n",
            "34/34 [==============================] - 0s 2ms/step - loss: 4987.6191 - mae: 4987.6191\n",
            "Epoch 102/200\n",
            "34/34 [==============================] - 0s 2ms/step - loss: 4915.2910 - mae: 4915.2910\n",
            "Epoch 103/200\n",
            "34/34 [==============================] - 0s 1ms/step - loss: 4847.3599 - mae: 4847.3599\n",
            "Epoch 104/200\n",
            "34/34 [==============================] - 0s 1ms/step - loss: 4768.0151 - mae: 4768.0151\n",
            "Epoch 105/200\n",
            "34/34 [==============================] - 0s 1ms/step - loss: 4683.4727 - mae: 4683.4727\n",
            "Epoch 106/200\n",
            "34/34 [==============================] - 0s 1ms/step - loss: 4600.5054 - mae: 4600.5054\n",
            "Epoch 107/200\n",
            "34/34 [==============================] - 0s 1ms/step - loss: 4513.1436 - mae: 4513.1436\n",
            "Epoch 108/200\n",
            "34/34 [==============================] - 0s 2ms/step - loss: 4422.2983 - mae: 4422.2983\n",
            "Epoch 109/200\n",
            "34/34 [==============================] - 0s 2ms/step - loss: 4339.9600 - mae: 4339.9600\n",
            "Epoch 110/200\n",
            "34/34 [==============================] - 0s 2ms/step - loss: 4254.3916 - mae: 4254.3916\n",
            "Epoch 111/200\n",
            "34/34 [==============================] - 0s 1ms/step - loss: 4173.1797 - mae: 4173.1797\n",
            "Epoch 112/200\n",
            "34/34 [==============================] - 0s 2ms/step - loss: 4102.2939 - mae: 4102.2939\n",
            "Epoch 113/200\n",
            "34/34 [==============================] - 0s 1ms/step - loss: 4031.9592 - mae: 4031.9592\n",
            "Epoch 114/200\n",
            "34/34 [==============================] - 0s 2ms/step - loss: 3986.0220 - mae: 3986.0220\n",
            "Epoch 115/200\n",
            "34/34 [==============================] - 0s 2ms/step - loss: 3943.2346 - mae: 3943.2346\n",
            "Epoch 116/200\n",
            "34/34 [==============================] - 0s 2ms/step - loss: 3918.8977 - mae: 3918.8977\n",
            "Epoch 117/200\n",
            "34/34 [==============================] - 0s 2ms/step - loss: 3895.5610 - mae: 3895.5610\n",
            "Epoch 118/200\n",
            "34/34 [==============================] - 0s 2ms/step - loss: 3869.5679 - mae: 3869.5679\n",
            "Epoch 119/200\n",
            "34/34 [==============================] - 0s 1ms/step - loss: 3850.2136 - mae: 3850.2136\n",
            "Epoch 120/200\n",
            "34/34 [==============================] - 0s 1ms/step - loss: 3834.7349 - mae: 3834.7349\n",
            "Epoch 121/200\n",
            "34/34 [==============================] - 0s 2ms/step - loss: 3827.0952 - mae: 3827.0952\n",
            "Epoch 122/200\n",
            "34/34 [==============================] - 0s 1ms/step - loss: 3821.6382 - mae: 3821.6382\n",
            "Epoch 123/200\n",
            "34/34 [==============================] - 0s 1ms/step - loss: 3813.8315 - mae: 3813.8315\n",
            "Epoch 124/200\n",
            "34/34 [==============================] - 0s 1ms/step - loss: 3805.7307 - mae: 3805.7307\n",
            "Epoch 125/200\n",
            "34/34 [==============================] - 0s 2ms/step - loss: 3794.7090 - mae: 3794.7090\n",
            "Epoch 126/200\n",
            "34/34 [==============================] - 0s 2ms/step - loss: 3804.4946 - mae: 3804.4946\n",
            "Epoch 127/200\n",
            "34/34 [==============================] - 0s 3ms/step - loss: 3796.0596 - mae: 3796.0596\n",
            "Epoch 128/200\n",
            "34/34 [==============================] - 0s 2ms/step - loss: 3791.0422 - mae: 3791.0422\n",
            "Epoch 129/200\n",
            "34/34 [==============================] - 0s 1ms/step - loss: 3800.0696 - mae: 3800.0696\n",
            "Epoch 130/200\n",
            "34/34 [==============================] - 0s 1ms/step - loss: 3788.5005 - mae: 3788.5005\n",
            "Epoch 131/200\n",
            "34/34 [==============================] - 0s 1ms/step - loss: 3780.8442 - mae: 3780.8442\n",
            "Epoch 132/200\n",
            "34/34 [==============================] - 0s 1ms/step - loss: 3774.5413 - mae: 3774.5413\n",
            "Epoch 133/200\n",
            "34/34 [==============================] - 0s 1ms/step - loss: 3771.0156 - mae: 3771.0156\n",
            "Epoch 134/200\n",
            "34/34 [==============================] - 0s 2ms/step - loss: 3769.3762 - mae: 3769.3762\n",
            "Epoch 135/200\n",
            "34/34 [==============================] - 0s 2ms/step - loss: 3766.7610 - mae: 3766.7610\n",
            "Epoch 136/200\n",
            "34/34 [==============================] - 0s 2ms/step - loss: 3765.5508 - mae: 3765.5508\n",
            "Epoch 137/200\n",
            "34/34 [==============================] - 0s 2ms/step - loss: 3774.5032 - mae: 3774.5032\n",
            "Epoch 138/200\n",
            "34/34 [==============================] - 0s 1ms/step - loss: 3785.3909 - mae: 3785.3909\n",
            "Epoch 139/200\n",
            "34/34 [==============================] - 0s 1ms/step - loss: 3761.1299 - mae: 3761.1299\n",
            "Epoch 140/200\n",
            "34/34 [==============================] - 0s 1ms/step - loss: 3764.1753 - mae: 3764.1753\n",
            "Epoch 141/200\n",
            "34/34 [==============================] - 0s 2ms/step - loss: 3763.9250 - mae: 3763.9250\n",
            "Epoch 142/200\n",
            "34/34 [==============================] - 0s 3ms/step - loss: 3762.7959 - mae: 3762.7959\n",
            "Epoch 143/200\n",
            "34/34 [==============================] - 0s 1ms/step - loss: 3754.4397 - mae: 3754.4397\n",
            "Epoch 144/200\n",
            "34/34 [==============================] - 0s 1ms/step - loss: 3750.3347 - mae: 3750.3347\n",
            "Epoch 145/200\n",
            "34/34 [==============================] - 0s 2ms/step - loss: 3750.4006 - mae: 3750.4006\n",
            "Epoch 146/200\n",
            "34/34 [==============================] - 0s 2ms/step - loss: 3755.4736 - mae: 3755.4736\n",
            "Epoch 147/200\n",
            "34/34 [==============================] - 0s 2ms/step - loss: 3750.3223 - mae: 3750.3223\n",
            "Epoch 148/200\n",
            "34/34 [==============================] - 0s 2ms/step - loss: 3758.1089 - mae: 3758.1089\n",
            "Epoch 149/200\n",
            "34/34 [==============================] - 0s 2ms/step - loss: 3743.4858 - mae: 3743.4858\n",
            "Epoch 150/200\n",
            "34/34 [==============================] - 0s 2ms/step - loss: 3738.5342 - mae: 3738.5342\n",
            "Epoch 151/200\n",
            "34/34 [==============================] - 0s 2ms/step - loss: 3740.1384 - mae: 3740.1384\n",
            "Epoch 152/200\n",
            "34/34 [==============================] - 0s 1ms/step - loss: 3742.4954 - mae: 3742.4954\n",
            "Epoch 153/200\n",
            "34/34 [==============================] - 0s 2ms/step - loss: 3744.4399 - mae: 3744.4399\n",
            "Epoch 154/200\n",
            "34/34 [==============================] - 0s 2ms/step - loss: 3737.1824 - mae: 3737.1824\n",
            "Epoch 155/200\n",
            "34/34 [==============================] - 0s 2ms/step - loss: 3737.6541 - mae: 3737.6541\n",
            "Epoch 156/200\n",
            "34/34 [==============================] - 0s 2ms/step - loss: 3737.1663 - mae: 3737.1663\n",
            "Epoch 157/200\n",
            "34/34 [==============================] - 0s 2ms/step - loss: 3733.1101 - mae: 3733.1101\n",
            "Epoch 158/200\n",
            "34/34 [==============================] - 0s 2ms/step - loss: 3729.5813 - mae: 3729.5813\n",
            "Epoch 159/200\n",
            "34/34 [==============================] - 0s 2ms/step - loss: 3725.9053 - mae: 3725.9053\n",
            "Epoch 160/200\n",
            "34/34 [==============================] - 0s 2ms/step - loss: 3733.2817 - mae: 3733.2817\n",
            "Epoch 161/200\n",
            "34/34 [==============================] - 0s 1ms/step - loss: 3728.2559 - mae: 3728.2559\n",
            "Epoch 162/200\n",
            "34/34 [==============================] - 0s 2ms/step - loss: 3724.5825 - mae: 3724.5825\n",
            "Epoch 163/200\n",
            "34/34 [==============================] - 0s 2ms/step - loss: 3723.0806 - mae: 3723.0806\n",
            "Epoch 164/200\n",
            "34/34 [==============================] - 0s 2ms/step - loss: 3726.9475 - mae: 3726.9475\n",
            "Epoch 165/200\n",
            "34/34 [==============================] - 0s 1ms/step - loss: 3716.5430 - mae: 3716.5430\n",
            "Epoch 166/200\n",
            "34/34 [==============================] - 0s 2ms/step - loss: 3721.9155 - mae: 3721.9155\n",
            "Epoch 167/200\n",
            "34/34 [==============================] - 0s 1ms/step - loss: 3721.1814 - mae: 3721.1814\n",
            "Epoch 168/200\n",
            "34/34 [==============================] - 0s 1ms/step - loss: 3715.2456 - mae: 3715.2456\n",
            "Epoch 169/200\n",
            "34/34 [==============================] - 0s 1ms/step - loss: 3713.9756 - mae: 3713.9756\n",
            "Epoch 170/200\n",
            "34/34 [==============================] - 0s 1ms/step - loss: 3707.9922 - mae: 3707.9922\n",
            "Epoch 171/200\n",
            "34/34 [==============================] - 0s 2ms/step - loss: 3707.4158 - mae: 3707.4158\n",
            "Epoch 172/200\n",
            "34/34 [==============================] - 0s 2ms/step - loss: 3710.6833 - mae: 3710.6833\n",
            "Epoch 173/200\n",
            "34/34 [==============================] - 0s 1ms/step - loss: 3703.3618 - mae: 3703.3618\n",
            "Epoch 174/200\n",
            "34/34 [==============================] - 0s 1ms/step - loss: 3710.9385 - mae: 3710.9385\n",
            "Epoch 175/200\n",
            "34/34 [==============================] - 0s 2ms/step - loss: 3713.0417 - mae: 3713.0417\n",
            "Epoch 176/200\n",
            "34/34 [==============================] - 0s 2ms/step - loss: 3705.0571 - mae: 3705.0571\n",
            "Epoch 177/200\n",
            "34/34 [==============================] - 0s 2ms/step - loss: 3698.9333 - mae: 3698.9333\n",
            "Epoch 178/200\n",
            "34/34 [==============================] - 0s 2ms/step - loss: 3697.9983 - mae: 3697.9983\n",
            "Epoch 179/200\n",
            "34/34 [==============================] - 0s 1ms/step - loss: 3704.9150 - mae: 3704.9150\n",
            "Epoch 180/200\n",
            "34/34 [==============================] - 0s 2ms/step - loss: 3710.3679 - mae: 3710.3679\n",
            "Epoch 181/200\n",
            "34/34 [==============================] - 0s 2ms/step - loss: 3696.6482 - mae: 3696.6482\n",
            "Epoch 182/200\n",
            "34/34 [==============================] - 0s 2ms/step - loss: 3692.7329 - mae: 3692.7329\n",
            "Epoch 183/200\n",
            "34/34 [==============================] - 0s 1ms/step - loss: 3691.1655 - mae: 3691.1655\n",
            "Epoch 184/200\n",
            "34/34 [==============================] - 0s 2ms/step - loss: 3699.2437 - mae: 3699.2437\n",
            "Epoch 185/200\n",
            "34/34 [==============================] - 0s 2ms/step - loss: 3693.2480 - mae: 3693.2480\n",
            "Epoch 186/200\n",
            "34/34 [==============================] - 0s 2ms/step - loss: 3696.1387 - mae: 3696.1387\n",
            "Epoch 187/200\n",
            "34/34 [==============================] - 0s 1ms/step - loss: 3687.8640 - mae: 3687.8640\n",
            "Epoch 188/200\n",
            "34/34 [==============================] - 0s 1ms/step - loss: 3693.3562 - mae: 3693.3562\n",
            "Epoch 189/200\n",
            "34/34 [==============================] - 0s 1ms/step - loss: 3682.7324 - mae: 3682.7324\n",
            "Epoch 190/200\n",
            "34/34 [==============================] - 0s 2ms/step - loss: 3683.2891 - mae: 3683.2891\n",
            "Epoch 191/200\n",
            "34/34 [==============================] - 0s 2ms/step - loss: 3697.6536 - mae: 3697.6536\n",
            "Epoch 192/200\n",
            "34/34 [==============================] - 0s 1ms/step - loss: 3684.6665 - mae: 3684.6665\n",
            "Epoch 193/200\n",
            "34/34 [==============================] - 0s 1ms/step - loss: 3675.5154 - mae: 3675.5154\n",
            "Epoch 194/200\n",
            "34/34 [==============================] - 0s 2ms/step - loss: 3676.3923 - mae: 3676.3923\n",
            "Epoch 195/200\n",
            "34/34 [==============================] - 0s 2ms/step - loss: 3672.8452 - mae: 3672.8452\n",
            "Epoch 196/200\n",
            "34/34 [==============================] - 0s 2ms/step - loss: 3682.0283 - mae: 3682.0283\n",
            "Epoch 197/200\n",
            "34/34 [==============================] - 0s 2ms/step - loss: 3665.7961 - mae: 3665.7961\n",
            "Epoch 198/200\n",
            "34/34 [==============================] - 0s 1ms/step - loss: 3671.7419 - mae: 3671.7419\n",
            "Epoch 199/200\n",
            "34/34 [==============================] - 0s 2ms/step - loss: 3680.5464 - mae: 3680.5464\n",
            "Epoch 200/200\n",
            "34/34 [==============================] - 0s 2ms/step - loss: 3665.6401 - mae: 3665.6401\n"
          ],
          "name": "stdout"
        }
      ]
    },
    {
      "cell_type": "code",
      "metadata": {
        "colab": {
          "base_uri": "https://localhost:8080/"
        },
        "id": "Sl4AYNrkas69",
        "outputId": "0cbdd8e3-98cd-449b-9be2-297cece07b5b"
      },
      "source": [
        "insurance_model_3.evaluate(X_test, y_test)"
      ],
      "execution_count": 125,
      "outputs": [
        {
          "output_type": "stream",
          "text": [
            "9/9 [==============================] - 0s 2ms/step - loss: 3491.2961 - mae: 3491.2961\n"
          ],
          "name": "stdout"
        },
        {
          "output_type": "execute_result",
          "data": {
            "text/plain": [
              "[3491.296142578125, 3491.296142578125]"
            ]
          },
          "metadata": {
            "tags": []
          },
          "execution_count": 125
        }
      ]
    },
    {
      "cell_type": "code",
      "metadata": {
        "colab": {
          "base_uri": "https://localhost:8080/",
          "height": 297
        },
        "id": "RqcKAiP1a2_j",
        "outputId": "acb3e51b-2de7-4560-b94c-2342d5c67c60"
      },
      "source": [
        "# Plot history or loss curve or training curve\n",
        "pd.DataFrame(history.history).plot()\n",
        "plt.ylabel('loss')\n",
        "plt.xlabel('epochs')"
      ],
      "execution_count": 126,
      "outputs": [
        {
          "output_type": "execute_result",
          "data": {
            "text/plain": [
              "Text(0.5, 0, 'epochs')"
            ]
          },
          "metadata": {
            "tags": []
          },
          "execution_count": 126
        },
        {
          "output_type": "display_data",
          "data": {
            "image/png": "[encoded data removed]",
            "text/plain": [
              "<Figure size 432x288 with 1 Axes>"
            ]
          },
          "metadata": {
            "tags": [],
            "needs_background": "light"
          }
        }
      ]
    },
    {
      "cell_type": "markdown",
      "metadata": {
        "id": "VAWZlP03bLIs"
      },
      "source": [
        "# Preprocessing data (normalization and standardization)\n",
        "\n",
        "## Neural networks tend to work better with normalized data."
      ]
    },
    {
      "cell_type": "code",
      "metadata": {
        "colab": {
          "base_uri": "https://localhost:8080/",
          "height": 419
        },
        "id": "njyV-3exctMV",
        "outputId": "0cb50418-e3c9-46a6-fad3-e72b48c246e6"
      },
      "source": [
        "X"
      ],
      "execution_count": 127,
      "outputs": [
        {
          "output_type": "execute_result",
          "data": {
            "text/html": [
              "<div>\n",
              "<style scoped>\n",
              "    .dataframe tbody tr th:only-of-type {\n",
              "        vertical-align: middle;\n",
              "    }\n",
              "\n",
              "    .dataframe tbody tr th {\n",
              "        vertical-align: top;\n",
              "    }\n",
              "\n",
              "    .dataframe thead th {\n",
              "        text-align: right;\n",
              "    }\n",
              "</style>\n",
              "<table border=\"1\" class=\"dataframe\">\n",
              "  <thead>\n",
              "    <tr style=\"text-align: right;\">\n",
              "      <th></th>\n",
              "      <th>age</th>\n",
              "      <th>bmi</th>\n",
              "      <th>children</th>\n",
              "      <th>sex_female</th>\n",
              "      <th>sex_male</th>\n",
              "      <th>smoker_no</th>\n",
              "      <th>smoker_yes</th>\n",
              "      <th>region_northeast</th>\n",
              "      <th>region_northwest</th>\n",
              "      <th>region_southeast</th>\n",
              "      <th>region_southwest</th>\n",
              "    </tr>\n",
              "  </thead>\n",
              "  <tbody>\n",
              "    <tr>\n",
              "      <th>0</th>\n",
              "      <td>19</td>\n",
              "      <td>27.900</td>\n",
              "      <td>0</td>\n",
              "      <td>1</td>\n",
              "      <td>0</td>\n",
              "      <td>0</td>\n",
              "      <td>1</td>\n",
              "      <td>0</td>\n",
              "      <td>0</td>\n",
              "      <td>0</td>\n",
              "      <td>1</td>\n",
              "    </tr>\n",
              "    <tr>\n",
              "      <th>1</th>\n",
              "      <td>18</td>\n",
              "      <td>33.770</td>\n",
              "      <td>1</td>\n",
              "      <td>0</td>\n",
              "      <td>1</td>\n",
              "      <td>1</td>\n",
              "      <td>0</td>\n",
              "      <td>0</td>\n",
              "      <td>0</td>\n",
              "      <td>1</td>\n",
              "      <td>0</td>\n",
              "    </tr>\n",
              "    <tr>\n",
              "      <th>2</th>\n",
              "      <td>28</td>\n",
              "      <td>33.000</td>\n",
              "      <td>3</td>\n",
              "      <td>0</td>\n",
              "      <td>1</td>\n",
              "      <td>1</td>\n",
              "      <td>0</td>\n",
              "      <td>0</td>\n",
              "      <td>0</td>\n",
              "      <td>1</td>\n",
              "      <td>0</td>\n",
              "    </tr>\n",
              "    <tr>\n",
              "      <th>3</th>\n",
              "      <td>33</td>\n",
              "      <td>22.705</td>\n",
              "      <td>0</td>\n",
              "      <td>0</td>\n",
              "      <td>1</td>\n",
              "      <td>1</td>\n",
              "      <td>0</td>\n",
              "      <td>0</td>\n",
              "      <td>1</td>\n",
              "      <td>0</td>\n",
              "      <td>0</td>\n",
              "    </tr>\n",
              "    <tr>\n",
              "      <th>4</th>\n",
              "      <td>32</td>\n",
              "      <td>28.880</td>\n",
              "      <td>0</td>\n",
              "      <td>0</td>\n",
              "      <td>1</td>\n",
              "      <td>1</td>\n",
              "      <td>0</td>\n",
              "      <td>0</td>\n",
              "      <td>1</td>\n",
              "      <td>0</td>\n",
              "      <td>0</td>\n",
              "    </tr>\n",
              "    <tr>\n",
              "      <th>...</th>\n",
              "      <td>...</td>\n",
              "      <td>...</td>\n",
              "      <td>...</td>\n",
              "      <td>...</td>\n",
              "      <td>...</td>\n",
              "      <td>...</td>\n",
              "      <td>...</td>\n",
              "      <td>...</td>\n",
              "      <td>...</td>\n",
              "      <td>...</td>\n",
              "      <td>...</td>\n",
              "    </tr>\n",
              "    <tr>\n",
              "      <th>1333</th>\n",
              "      <td>50</td>\n",
              "      <td>30.970</td>\n",
              "      <td>3</td>\n",
              "      <td>0</td>\n",
              "      <td>1</td>\n",
              "      <td>1</td>\n",
              "      <td>0</td>\n",
              "      <td>0</td>\n",
              "      <td>1</td>\n",
              "      <td>0</td>\n",
              "      <td>0</td>\n",
              "    </tr>\n",
              "    <tr>\n",
              "      <th>1334</th>\n",
              "      <td>18</td>\n",
              "      <td>31.920</td>\n",
              "      <td>0</td>\n",
              "      <td>1</td>\n",
              "      <td>0</td>\n",
              "      <td>1</td>\n",
              "      <td>0</td>\n",
              "      <td>1</td>\n",
              "      <td>0</td>\n",
              "      <td>0</td>\n",
              "      <td>0</td>\n",
              "    </tr>\n",
              "    <tr>\n",
              "      <th>1335</th>\n",
              "      <td>18</td>\n",
              "      <td>36.850</td>\n",
              "      <td>0</td>\n",
              "      <td>1</td>\n",
              "      <td>0</td>\n",
              "      <td>1</td>\n",
              "      <td>0</td>\n",
              "      <td>0</td>\n",
              "      <td>0</td>\n",
              "      <td>1</td>\n",
              "      <td>0</td>\n",
              "    </tr>\n",
              "    <tr>\n",
              "      <th>1336</th>\n",
              "      <td>21</td>\n",
              "      <td>25.800</td>\n",
              "      <td>0</td>\n",
              "      <td>1</td>\n",
              "      <td>0</td>\n",
              "      <td>1</td>\n",
              "      <td>0</td>\n",
              "      <td>0</td>\n",
              "      <td>0</td>\n",
              "      <td>0</td>\n",
              "      <td>1</td>\n",
              "    </tr>\n",
              "    <tr>\n",
              "      <th>1337</th>\n",
              "      <td>61</td>\n",
              "      <td>29.070</td>\n",
              "      <td>0</td>\n",
              "      <td>1</td>\n",
              "      <td>0</td>\n",
              "      <td>0</td>\n",
              "      <td>1</td>\n",
              "      <td>0</td>\n",
              "      <td>1</td>\n",
              "      <td>0</td>\n",
              "      <td>0</td>\n",
              "    </tr>\n",
              "  </tbody>\n",
              "</table>\n",
              "<p>1338 rows × 11 columns</p>\n",
              "</div>"
            ],
            "text/plain": [
              "      age     bmi  ...  region_southeast  region_southwest\n",
              "0      19  27.900  ...                 0                 1\n",
              "1      18  33.770  ...                 1                 0\n",
              "2      28  33.000  ...                 1                 0\n",
              "3      33  22.705  ...                 0                 0\n",
              "4      32  28.880  ...                 0                 0\n",
              "...   ...     ...  ...               ...               ...\n",
              "1333   50  30.970  ...                 0                 0\n",
              "1334   18  31.920  ...                 0                 0\n",
              "1335   18  36.850  ...                 1                 0\n",
              "1336   21  25.800  ...                 0                 1\n",
              "1337   61  29.070  ...                 0                 0\n",
              "\n",
              "[1338 rows x 11 columns]"
            ]
          },
          "metadata": {
            "tags": []
          },
          "execution_count": 127
        }
      ]
    },
    {
      "cell_type": "code",
      "metadata": {
        "colab": {
          "base_uri": "https://localhost:8080/",
          "height": 283
        },
        "id": "x5O-wdVgg1C3",
        "outputId": "76f60aee-a5e7-48bd-99fa-b0358409bb32"
      },
      "source": [
        "X.age.plot.hist()"
      ],
      "execution_count": 128,
      "outputs": [
        {
          "output_type": "execute_result",
          "data": {
            "text/plain": [
              "<matplotlib.axes._subplots.AxesSubplot at 0x7f7e43a93610>"
            ]
          },
          "metadata": {
            "tags": []
          },
          "execution_count": 128
        },
        {
          "output_type": "display_data",
          "data": {
            "image/png": "[encoded data removed]",
            "text/plain": [
              "<Figure size 432x288 with 1 Axes>"
            ]
          },
          "metadata": {
            "tags": [],
            "needs_background": "light"
          }
        }
      ]
    },
    {
      "cell_type": "code",
      "metadata": {
        "colab": {
          "base_uri": "https://localhost:8080/",
          "height": 283
        },
        "id": "k50G-3mdg8w9",
        "outputId": "dc88012d-b664-4406-aa11-0a248461ea53"
      },
      "source": [
        "X.bmi.plot.hist()"
      ],
      "execution_count": 129,
      "outputs": [
        {
          "output_type": "execute_result",
          "data": {
            "text/plain": [
              "<matplotlib.axes._subplots.AxesSubplot at 0x7f7e43a36ad0>"
            ]
          },
          "metadata": {
            "tags": []
          },
          "execution_count": 129
        },
        {
          "output_type": "display_data",
          "data": {
            "image/png": "[encoded data removed]",
            "text/plain": [
              "<Figure size 432x288 with 1 Axes>"
            ]
          },
          "metadata": {
            "tags": [],
            "needs_background": "light"
          }
        }
      ]
    },
    {
      "cell_type": "code",
      "metadata": {
        "colab": {
          "base_uri": "https://localhost:8080/",
          "height": 419
        },
        "id": "QPka_d-ihEZt",
        "outputId": "ba1125ae-060b-46d9-835e-a3543558eb3f"
      },
      "source": [
        "insurance"
      ],
      "execution_count": 130,
      "outputs": [
        {
          "output_type": "execute_result",
          "data": {
            "text/html": [
              "<div>\n",
              "<style scoped>\n",
              "    .dataframe tbody tr th:only-of-type {\n",
              "        vertical-align: middle;\n",
              "    }\n",
              "\n",
              "    .dataframe tbody tr th {\n",
              "        vertical-align: top;\n",
              "    }\n",
              "\n",
              "    .dataframe thead th {\n",
              "        text-align: right;\n",
              "    }\n",
              "</style>\n",
              "<table border=\"1\" class=\"dataframe\">\n",
              "  <thead>\n",
              "    <tr style=\"text-align: right;\">\n",
              "      <th></th>\n",
              "      <th>age</th>\n",
              "      <th>sex</th>\n",
              "      <th>bmi</th>\n",
              "      <th>children</th>\n",
              "      <th>smoker</th>\n",
              "      <th>region</th>\n",
              "      <th>charges</th>\n",
              "    </tr>\n",
              "  </thead>\n",
              "  <tbody>\n",
              "    <tr>\n",
              "      <th>0</th>\n",
              "      <td>19</td>\n",
              "      <td>female</td>\n",
              "      <td>27.900</td>\n",
              "      <td>0</td>\n",
              "      <td>yes</td>\n",
              "      <td>southwest</td>\n",
              "      <td>16884.92400</td>\n",
              "    </tr>\n",
              "    <tr>\n",
              "      <th>1</th>\n",
              "      <td>18</td>\n",
              "      <td>male</td>\n",
              "      <td>33.770</td>\n",
              "      <td>1</td>\n",
              "      <td>no</td>\n",
              "      <td>southeast</td>\n",
              "      <td>1725.55230</td>\n",
              "    </tr>\n",
              "    <tr>\n",
              "      <th>2</th>\n",
              "      <td>28</td>\n",
              "      <td>male</td>\n",
              "      <td>33.000</td>\n",
              "      <td>3</td>\n",
              "      <td>no</td>\n",
              "      <td>southeast</td>\n",
              "      <td>4449.46200</td>\n",
              "    </tr>\n",
              "    <tr>\n",
              "      <th>3</th>\n",
              "      <td>33</td>\n",
              "      <td>male</td>\n",
              "      <td>22.705</td>\n",
              "      <td>0</td>\n",
              "      <td>no</td>\n",
              "      <td>northwest</td>\n",
              "      <td>21984.47061</td>\n",
              "    </tr>\n",
              "    <tr>\n",
              "      <th>4</th>\n",
              "      <td>32</td>\n",
              "      <td>male</td>\n",
              "      <td>28.880</td>\n",
              "      <td>0</td>\n",
              "      <td>no</td>\n",
              "      <td>northwest</td>\n",
              "      <td>3866.85520</td>\n",
              "    </tr>\n",
              "    <tr>\n",
              "      <th>...</th>\n",
              "      <td>...</td>\n",
              "      <td>...</td>\n",
              "      <td>...</td>\n",
              "      <td>...</td>\n",
              "      <td>...</td>\n",
              "      <td>...</td>\n",
              "      <td>...</td>\n",
              "    </tr>\n",
              "    <tr>\n",
              "      <th>1333</th>\n",
              "      <td>50</td>\n",
              "      <td>male</td>\n",
              "      <td>30.970</td>\n",
              "      <td>3</td>\n",
              "      <td>no</td>\n",
              "      <td>northwest</td>\n",
              "      <td>10600.54830</td>\n",
              "    </tr>\n",
              "    <tr>\n",
              "      <th>1334</th>\n",
              "      <td>18</td>\n",
              "      <td>female</td>\n",
              "      <td>31.920</td>\n",
              "      <td>0</td>\n",
              "      <td>no</td>\n",
              "      <td>northeast</td>\n",
              "      <td>2205.98080</td>\n",
              "    </tr>\n",
              "    <tr>\n",
              "      <th>1335</th>\n",
              "      <td>18</td>\n",
              "      <td>female</td>\n",
              "      <td>36.850</td>\n",
              "      <td>0</td>\n",
              "      <td>no</td>\n",
              "      <td>southeast</td>\n",
              "      <td>1629.83350</td>\n",
              "    </tr>\n",
              "    <tr>\n",
              "      <th>1336</th>\n",
              "      <td>21</td>\n",
              "      <td>female</td>\n",
              "      <td>25.800</td>\n",
              "      <td>0</td>\n",
              "      <td>no</td>\n",
              "      <td>southwest</td>\n",
              "      <td>2007.94500</td>\n",
              "    </tr>\n",
              "    <tr>\n",
              "      <th>1337</th>\n",
              "      <td>61</td>\n",
              "      <td>female</td>\n",
              "      <td>29.070</td>\n",
              "      <td>0</td>\n",
              "      <td>yes</td>\n",
              "      <td>northwest</td>\n",
              "      <td>29141.36030</td>\n",
              "    </tr>\n",
              "  </tbody>\n",
              "</table>\n",
              "<p>1338 rows × 7 columns</p>\n",
              "</div>"
            ],
            "text/plain": [
              "      age     sex     bmi  children smoker     region      charges\n",
              "0      19  female  27.900         0    yes  southwest  16884.92400\n",
              "1      18    male  33.770         1     no  southeast   1725.55230\n",
              "2      28    male  33.000         3     no  southeast   4449.46200\n",
              "3      33    male  22.705         0     no  northwest  21984.47061\n",
              "4      32    male  28.880         0     no  northwest   3866.85520\n",
              "...   ...     ...     ...       ...    ...        ...          ...\n",
              "1333   50    male  30.970         3     no  northwest  10600.54830\n",
              "1334   18  female  31.920         0     no  northeast   2205.98080\n",
              "1335   18  female  36.850         0     no  southeast   1629.83350\n",
              "1336   21  female  25.800         0     no  southwest   2007.94500\n",
              "1337   61  female  29.070         0    yes  northwest  29141.36030\n",
              "\n",
              "[1338 rows x 7 columns]"
            ]
          },
          "metadata": {
            "tags": []
          },
          "execution_count": 130
        }
      ]
    },
    {
      "cell_type": "code",
      "metadata": {
        "id": "DQkXMqLajQwG"
      },
      "source": [
        "from sklearn.compose import make_column_transformer\n",
        "from sklearn.preprocessing import MinMaxScaler, OneHotEncoder\n",
        "\n",
        "# Create a column transformer\n",
        "ct = make_column_transformer(\n",
        "    (MinMaxScaler(), ['age', 'bmi', 'children']), # turn all the numerical columns to standard scale\n",
        "    (OneHotEncoder(handle_unknown='ignore'), ['sex', 'smoker','region'])\n",
        ")\n",
        "\n",
        "# Create X and y values\n",
        "X = insurance.drop('charges', axis=1)\n",
        "y = insurance['charges']\n",
        "\n",
        "# Build train and test sets\n",
        "X_train, X_test, y_train, y_test = train_test_split(X, y, test_size=0.2, random_state=42)\n",
        "\n",
        "# Fit the column transformer to out training data\n",
        "ct.fit(X_train)\n",
        "\n",
        "# transform training and testing data with normalization (MinMaxScaler) and OneHotEncoder\n",
        "X_train_normal = ct.transform(X_train)\n",
        "X_test_normal = ct.transform(X_test)"
      ],
      "execution_count": 134,
      "outputs": []
    },
    {
      "cell_type": "code",
      "metadata": {
        "colab": {
          "base_uri": "https://localhost:8080/"
        },
        "id": "h-YfiVVWmqxG",
        "outputId": "072ad8be-f924-4c92-dbfd-bddc6acb7483"
      },
      "source": [
        "# what does the data look like now\n",
        "X_train.loc[0]"
      ],
      "execution_count": 135,
      "outputs": [
        {
          "output_type": "execute_result",
          "data": {
            "text/plain": [
              "age                19\n",
              "sex            female\n",
              "bmi              27.9\n",
              "children            0\n",
              "smoker            yes\n",
              "region      southwest\n",
              "Name: 0, dtype: object"
            ]
          },
          "metadata": {
            "tags": []
          },
          "execution_count": 135
        }
      ]
    },
    {
      "cell_type": "code",
      "metadata": {
        "colab": {
          "base_uri": "https://localhost:8080/"
        },
        "id": "3uaA15TGnIgI",
        "outputId": "6d819ae6-192b-4882-ffaf-a6d1899d2e94"
      },
      "source": [
        "X_train_normal[0]"
      ],
      "execution_count": 137,
      "outputs": [
        {
          "output_type": "execute_result",
          "data": {
            "text/plain": [
              "array([0.60869565, 0.10734463, 0.4       , 1.        , 0.        ,\n",
              "       1.        , 0.        , 0.        , 1.        , 0.        ,\n",
              "       0.        ])"
            ]
          },
          "metadata": {
            "tags": []
          },
          "execution_count": 137
        }
      ]
    },
    {
      "cell_type": "markdown",
      "metadata": {
        "id": "jGgnNen3nLO_"
      },
      "source": [
        "# Fit transformed data to a model"
      ]
    },
    {
      "cell_type": "code",
      "metadata": {
        "colab": {
          "base_uri": "https://localhost:8080/"
        },
        "id": "P7c6Fmq-nrR3",
        "outputId": "0c3a5643-9346-46cf-8d71-0a0fd9a618ec"
      },
      "source": [
        "# set random seed\n",
        "tf.random.set_seed(42)\n",
        "\n",
        "# 1. Create the model\n",
        "insurance_model_4 = tf.keras.Sequential([\n",
        "  tf.keras.layers.Dense(100),\n",
        "  tf.keras.layers.Dense(10),\n",
        "  tf.keras.layers.Dense(1)\n",
        "])\n",
        "\n",
        "# 2. Compile the model\n",
        "insurance_model_4.compile(loss=tf.keras.losses.mae,\n",
        "                          optimizer=tf.keras.optimizers.Adam(),\n",
        "                          metrics=['mae'])\n",
        "\n",
        "# 3. Fit the model\n",
        "insurance_model_4.fit(X_train_normal, y_train, epochs=100)"
      ],
      "execution_count": 142,
      "outputs": [
        {
          "output_type": "stream",
          "text": [
            "Epoch 1/100\n",
            "34/34 [==============================] - 0s 2ms/step - loss: 13342.6475 - mae: 13342.6475\n",
            "Epoch 2/100\n",
            "34/34 [==============================] - 0s 1ms/step - loss: 13333.4785 - mae: 13333.4785\n",
            "Epoch 3/100\n",
            "34/34 [==============================] - 0s 1ms/step - loss: 13312.0234 - mae: 13312.0234\n",
            "Epoch 4/100\n",
            "34/34 [==============================] - 0s 1ms/step - loss: 13267.7930 - mae: 13267.7930\n",
            "Epoch 5/100\n",
            "34/34 [==============================] - 0s 1ms/step - loss: 13189.5850 - mae: 13189.5850\n",
            "Epoch 6/100\n",
            "34/34 [==============================] - 0s 1ms/step - loss: 13066.4502 - mae: 13066.4502\n",
            "Epoch 7/100\n",
            "34/34 [==============================] - 0s 1ms/step - loss: 12888.1953 - mae: 12888.1953\n",
            "Epoch 8/100\n",
            "34/34 [==============================] - 0s 1ms/step - loss: 12644.6523 - mae: 12644.6523\n",
            "Epoch 9/100\n",
            "34/34 [==============================] - 0s 1ms/step - loss: 12325.5469 - mae: 12325.5469\n",
            "Epoch 10/100\n",
            "34/34 [==============================] - 0s 2ms/step - loss: 11925.9658 - mae: 11925.9658\n",
            "Epoch 11/100\n",
            "34/34 [==============================] - 0s 1ms/step - loss: 11454.3350 - mae: 11454.3350\n",
            "Epoch 12/100\n",
            "34/34 [==============================] - 0s 2ms/step - loss: 10949.8086 - mae: 10949.8086\n",
            "Epoch 13/100\n",
            "34/34 [==============================] - 0s 2ms/step - loss: 10448.9404 - mae: 10448.9404\n",
            "Epoch 14/100\n",
            "34/34 [==============================] - 0s 2ms/step - loss: 9951.6250 - mae: 9951.6250\n",
            "Epoch 15/100\n",
            "34/34 [==============================] - 0s 1ms/step - loss: 9482.7422 - mae: 9482.7422\n",
            "Epoch 16/100\n",
            "34/34 [==============================] - 0s 2ms/step - loss: 9066.7461 - mae: 9066.7461\n",
            "Epoch 17/100\n",
            "34/34 [==============================] - 0s 2ms/step - loss: 8721.9854 - mae: 8721.9854\n",
            "Epoch 18/100\n",
            "34/34 [==============================] - 0s 1ms/step - loss: 8441.2002 - mae: 8441.2002\n",
            "Epoch 19/100\n",
            "34/34 [==============================] - 0s 1ms/step - loss: 8227.5117 - mae: 8227.5117\n",
            "Epoch 20/100\n",
            "34/34 [==============================] - 0s 2ms/step - loss: 8081.9775 - mae: 8081.9775\n",
            "Epoch 21/100\n",
            "34/34 [==============================] - 0s 1ms/step - loss: 7973.8945 - mae: 7973.8945\n",
            "Epoch 22/100\n",
            "34/34 [==============================] - 0s 1ms/step - loss: 7899.1597 - mae: 7899.1597\n",
            "Epoch 23/100\n",
            "34/34 [==============================] - 0s 1ms/step - loss: 7840.3916 - mae: 7840.3916\n",
            "Epoch 24/100\n",
            "34/34 [==============================] - 0s 1ms/step - loss: 7787.9619 - mae: 7787.9619\n",
            "Epoch 25/100\n",
            "34/34 [==============================] - 0s 1ms/step - loss: 7749.2622 - mae: 7749.2622\n",
            "Epoch 26/100\n",
            "34/34 [==============================] - 0s 2ms/step - loss: 7697.9595 - mae: 7697.9595\n",
            "Epoch 27/100\n",
            "34/34 [==============================] - 0s 2ms/step - loss: 7656.0273 - mae: 7656.0273\n",
            "Epoch 28/100\n",
            "34/34 [==============================] - 0s 1ms/step - loss: 7613.4780 - mae: 7613.4780\n",
            "Epoch 29/100\n",
            "34/34 [==============================] - 0s 2ms/step - loss: 7570.9482 - mae: 7570.9482\n",
            "Epoch 30/100\n",
            "34/34 [==============================] - 0s 2ms/step - loss: 7527.4175 - mae: 7527.4175\n",
            "Epoch 31/100\n",
            "34/34 [==============================] - 0s 1ms/step - loss: 7483.5947 - mae: 7483.5947\n",
            "Epoch 32/100\n",
            "34/34 [==============================] - 0s 1ms/step - loss: 7439.4424 - mae: 7439.4424\n",
            "Epoch 33/100\n",
            "34/34 [==============================] - 0s 2ms/step - loss: 7395.0552 - mae: 7395.0552\n",
            "Epoch 34/100\n",
            "34/34 [==============================] - 0s 1ms/step - loss: 7346.8125 - mae: 7346.8125\n",
            "Epoch 35/100\n",
            "34/34 [==============================] - 0s 2ms/step - loss: 7300.0493 - mae: 7300.0493\n",
            "Epoch 36/100\n",
            "34/34 [==============================] - 0s 1ms/step - loss: 7249.8452 - mae: 7249.8452\n",
            "Epoch 37/100\n",
            "34/34 [==============================] - 0s 2ms/step - loss: 7199.5303 - mae: 7199.5303\n",
            "Epoch 38/100\n",
            "34/34 [==============================] - 0s 1ms/step - loss: 7148.4805 - mae: 7148.4805\n",
            "Epoch 39/100\n",
            "34/34 [==============================] - 0s 1ms/step - loss: 7093.6660 - mae: 7093.6660\n",
            "Epoch 40/100\n",
            "34/34 [==============================] - 0s 2ms/step - loss: 7038.1797 - mae: 7038.1797\n",
            "Epoch 41/100\n",
            "34/34 [==============================] - 0s 1ms/step - loss: 6981.7393 - mae: 6981.7393\n",
            "Epoch 42/100\n",
            "34/34 [==============================] - 0s 1ms/step - loss: 6922.7847 - mae: 6922.7847\n",
            "Epoch 43/100\n",
            "34/34 [==============================] - 0s 1ms/step - loss: 6860.1724 - mae: 6860.1724\n",
            "Epoch 44/100\n",
            "34/34 [==============================] - 0s 2ms/step - loss: 6793.7979 - mae: 6793.7979\n",
            "Epoch 45/100\n",
            "34/34 [==============================] - 0s 3ms/step - loss: 6726.6201 - mae: 6726.6201\n",
            "Epoch 46/100\n",
            "34/34 [==============================] - 0s 2ms/step - loss: 6657.4683 - mae: 6657.4683\n",
            "Epoch 47/100\n",
            "34/34 [==============================] - 0s 1ms/step - loss: 6586.3086 - mae: 6586.3086\n",
            "Epoch 48/100\n",
            "34/34 [==============================] - 0s 1ms/step - loss: 6507.5063 - mae: 6507.5063\n",
            "Epoch 49/100\n",
            "34/34 [==============================] - 0s 1ms/step - loss: 6428.6025 - mae: 6428.6025\n",
            "Epoch 50/100\n",
            "34/34 [==============================] - 0s 1ms/step - loss: 6342.7100 - mae: 6342.7100\n",
            "Epoch 51/100\n",
            "34/34 [==============================] - 0s 1ms/step - loss: 6258.0718 - mae: 6258.0718\n",
            "Epoch 52/100\n",
            "34/34 [==============================] - 0s 1ms/step - loss: 6164.7046 - mae: 6164.7046\n",
            "Epoch 53/100\n",
            "34/34 [==============================] - 0s 1ms/step - loss: 6068.6748 - mae: 6068.6748\n",
            "Epoch 54/100\n",
            "34/34 [==============================] - 0s 1ms/step - loss: 5970.0981 - mae: 5970.0981\n",
            "Epoch 55/100\n",
            "34/34 [==============================] - 0s 2ms/step - loss: 5862.5625 - mae: 5862.5625\n",
            "Epoch 56/100\n",
            "34/34 [==============================] - 0s 1ms/step - loss: 5753.9531 - mae: 5753.9531\n",
            "Epoch 57/100\n",
            "34/34 [==============================] - 0s 1ms/step - loss: 5638.0942 - mae: 5638.0942\n",
            "Epoch 58/100\n",
            "34/34 [==============================] - 0s 2ms/step - loss: 5519.8687 - mae: 5519.8687\n",
            "Epoch 59/100\n",
            "34/34 [==============================] - 0s 1ms/step - loss: 5401.3198 - mae: 5401.3198\n",
            "Epoch 60/100\n",
            "34/34 [==============================] - 0s 1ms/step - loss: 5277.3506 - mae: 5277.3506\n",
            "Epoch 61/100\n",
            "34/34 [==============================] - 0s 1ms/step - loss: 5149.7642 - mae: 5149.7642\n",
            "Epoch 62/100\n",
            "34/34 [==============================] - 0s 2ms/step - loss: 5019.3540 - mae: 5019.3540\n",
            "Epoch 63/100\n",
            "34/34 [==============================] - 0s 1ms/step - loss: 4889.6865 - mae: 4889.6865\n",
            "Epoch 64/100\n",
            "34/34 [==============================] - 0s 1ms/step - loss: 4756.8560 - mae: 4756.8560\n",
            "Epoch 65/100\n",
            "34/34 [==============================] - 0s 1ms/step - loss: 4629.4370 - mae: 4629.4370\n",
            "Epoch 66/100\n",
            "34/34 [==============================] - 0s 2ms/step - loss: 4503.5991 - mae: 4503.5991\n",
            "Epoch 67/100\n",
            "34/34 [==============================] - 0s 1ms/step - loss: 4392.9922 - mae: 4392.9922\n",
            "Epoch 68/100\n",
            "34/34 [==============================] - 0s 2ms/step - loss: 4284.3862 - mae: 4284.3862\n",
            "Epoch 69/100\n",
            "34/34 [==============================] - 0s 1ms/step - loss: 4182.6182 - mae: 4182.6182\n",
            "Epoch 70/100\n",
            "34/34 [==============================] - 0s 2ms/step - loss: 4089.5720 - mae: 4089.5720\n",
            "Epoch 71/100\n",
            "34/34 [==============================] - 0s 1ms/step - loss: 4003.3901 - mae: 4003.3901\n",
            "Epoch 72/100\n",
            "34/34 [==============================] - 0s 2ms/step - loss: 3929.0093 - mae: 3929.0093\n",
            "Epoch 73/100\n",
            "34/34 [==============================] - 0s 2ms/step - loss: 3866.3110 - mae: 3866.3110\n",
            "Epoch 74/100\n",
            "34/34 [==============================] - 0s 1ms/step - loss: 3813.7144 - mae: 3813.7144\n",
            "Epoch 75/100\n",
            "34/34 [==============================] - 0s 2ms/step - loss: 3773.0317 - mae: 3773.0317\n",
            "Epoch 76/100\n",
            "34/34 [==============================] - 0s 2ms/step - loss: 3744.1995 - mae: 3744.1995\n",
            "Epoch 77/100\n",
            "34/34 [==============================] - 0s 1ms/step - loss: 3719.6870 - mae: 3719.6870\n",
            "Epoch 78/100\n",
            "34/34 [==============================] - 0s 2ms/step - loss: 3702.9109 - mae: 3702.9109\n",
            "Epoch 79/100\n",
            "34/34 [==============================] - 0s 2ms/step - loss: 3691.8792 - mae: 3691.8792\n",
            "Epoch 80/100\n",
            "34/34 [==============================] - 0s 2ms/step - loss: 3682.8350 - mae: 3682.8350\n",
            "Epoch 81/100\n",
            "34/34 [==============================] - 0s 1ms/step - loss: 3676.9763 - mae: 3676.9763\n",
            "Epoch 82/100\n",
            "34/34 [==============================] - 0s 1ms/step - loss: 3673.9492 - mae: 3673.9492\n",
            "Epoch 83/100\n",
            "34/34 [==============================] - 0s 1ms/step - loss: 3667.8452 - mae: 3667.8452\n",
            "Epoch 84/100\n",
            "34/34 [==============================] - 0s 2ms/step - loss: 3664.5757 - mae: 3664.5757\n",
            "Epoch 85/100\n",
            "34/34 [==============================] - 0s 2ms/step - loss: 3661.8562 - mae: 3661.8562\n",
            "Epoch 86/100\n",
            "34/34 [==============================] - 0s 2ms/step - loss: 3660.3049 - mae: 3660.3049\n",
            "Epoch 87/100\n",
            "34/34 [==============================] - 0s 2ms/step - loss: 3657.5134 - mae: 3657.5134\n",
            "Epoch 88/100\n",
            "34/34 [==============================] - 0s 2ms/step - loss: 3655.2200 - mae: 3655.2200\n",
            "Epoch 89/100\n",
            "34/34 [==============================] - 0s 1ms/step - loss: 3653.8831 - mae: 3653.8831\n",
            "Epoch 90/100\n",
            "34/34 [==============================] - 0s 1ms/step - loss: 3652.0195 - mae: 3652.0195\n",
            "Epoch 91/100\n",
            "34/34 [==============================] - 0s 1ms/step - loss: 3648.9990 - mae: 3648.9990\n",
            "Epoch 92/100\n",
            "34/34 [==============================] - 0s 1ms/step - loss: 3648.4463 - mae: 3648.4463\n",
            "Epoch 93/100\n",
            "34/34 [==============================] - 0s 2ms/step - loss: 3646.2297 - mae: 3646.2297\n",
            "Epoch 94/100\n",
            "34/34 [==============================] - 0s 1ms/step - loss: 3644.4377 - mae: 3644.4377\n",
            "Epoch 95/100\n",
            "34/34 [==============================] - 0s 2ms/step - loss: 3645.8772 - mae: 3645.8772\n",
            "Epoch 96/100\n",
            "34/34 [==============================] - 0s 1ms/step - loss: 3642.2573 - mae: 3642.2573\n",
            "Epoch 97/100\n",
            "34/34 [==============================] - 0s 2ms/step - loss: 3640.1184 - mae: 3640.1184\n",
            "Epoch 98/100\n",
            "34/34 [==============================] - 0s 1ms/step - loss: 3638.0649 - mae: 3638.0649\n",
            "Epoch 99/100\n",
            "34/34 [==============================] - 0s 1ms/step - loss: 3637.2051 - mae: 3637.2051\n",
            "Epoch 100/100\n",
            "34/34 [==============================] - 0s 1ms/step - loss: 3636.1707 - mae: 3636.1707\n"
          ],
          "name": "stdout"
        },
        {
          "output_type": "execute_result",
          "data": {
            "text/plain": [
              "<tensorflow.python.keras.callbacks.History at 0x7f7e43902650>"
            ]
          },
          "metadata": {
            "tags": []
          },
          "execution_count": 142
        }
      ]
    },
    {
      "cell_type": "code",
      "metadata": {
        "colab": {
          "base_uri": "https://localhost:8080/"
        },
        "id": "mY1Enhuin6eM",
        "outputId": "74ec8d2d-d073-45c9-c0dd-71ee082a8758"
      },
      "source": [
        "# Evaluate the model\n",
        "insurance_model_4.evaluate(X_test_normal, y_test)"
      ],
      "execution_count": 143,
      "outputs": [
        {
          "output_type": "stream",
          "text": [
            "9/9 [==============================] - 0s 2ms/step - loss: 3438.7844 - mae: 3438.7844\n"
          ],
          "name": "stdout"
        },
        {
          "output_type": "execute_result",
          "data": {
            "text/plain": [
              "[3438.784423828125, 3438.784423828125]"
            ]
          },
          "metadata": {
            "tags": []
          },
          "execution_count": 143
        }
      ]
    },
    {
      "cell_type": "code",
      "metadata": {
        "id": "0ws6QoowpA6B"
      },
      "source": [
        ""
      ],
      "execution_count": null,
      "outputs": []
    }
  ]
}