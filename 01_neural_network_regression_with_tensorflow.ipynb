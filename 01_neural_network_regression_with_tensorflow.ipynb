{
  "nbformat": 4,
  "nbformat_minor": 0,
  "metadata": {
    "colab": {
      "name": "01_neural_network_regression_with_tensorflow.ipynb",
      "provenance": [],
      "authorship_tag": "ABX9TyOQYb9ce+IbF7L+XTVW8h8G",
      "include_colab_link": true
    },
    "kernelspec": {
      "name": "python3",
      "display_name": "Python 3"
    },
    "language_info": {
      "name": "python"
    }
  },
  "cells": [
    {
      "cell_type": "markdown",
      "metadata": {
        "id": "view-in-github",
        "colab_type": "text"
      },
      "source": [
        "<a href=\"https://colab.research.google.com/github/Kgs-Mathaba/TensorFlow_DC_ZTM/blob/main/01_neural_network_regression_with_tensorflow.ipynb\" target=\"_parent\"><img src=\"https://colab.research.google.com/assets/colab-badge.svg\" alt=\"Open In Colab\"/></a>"
      ]
    },
    {
      "cell_type": "markdown",
      "metadata": {
        "id": "SDMzmCaiz_M6"
      },
      "source": [
        "# Introduction to Regression using Neural Networks"
      ]
    },
    {
      "cell_type": "code",
      "metadata": {
        "colab": {
          "base_uri": "https://localhost:8080/"
        },
        "id": "nYQCeO3P0bUM",
        "outputId": "650e646a-ff1a-4656-c8ea-ce47f620b2f6"
      },
      "source": [
        "import tensorflow as tf\n",
        "print(tf.__version__)"
      ],
      "execution_count": 14,
      "outputs": [
        {
          "output_type": "stream",
          "text": [
            "2.5.0\n"
          ],
          "name": "stdout"
        }
      ]
    },
    {
      "cell_type": "code",
      "metadata": {
        "colab": {
          "base_uri": "https://localhost:8080/",
          "height": 282
        },
        "id": "a0k-in9Q0qfx",
        "outputId": "d5a581e4-7f7d-44e7-a743-bdcf3458a87d"
      },
      "source": [
        "import numpy as np\n",
        "import matplotlib.pyplot as plt\n",
        "\n",
        "\n",
        "#create features\n",
        "X = np.array([-7.0, -4.0, -1.0, 2.0, 5.0, 8.0, 11.0, 14.0])\n",
        "\n",
        "y = np.array([3.0, 6.6, 9.0, 12.0, 15.0, 18.0, 21.0, 25.0])\n",
        "\n",
        "plt.scatter(X,y)"
      ],
      "execution_count": 15,
      "outputs": [
        {
          "output_type": "execute_result",
          "data": {
            "text/plain": [
              "<matplotlib.collections.PathCollection at 0x7f8ae7e8c690>"
            ]
          },
          "metadata": {
            "tags": []
          },
          "execution_count": 15
        },
        {
          "output_type": "display_data",
          "data": {
            "image/png": "[encoded data removed]",
            "text/plain": [
              "<Figure size 432x288 with 1 Axes>"
            ]
          },
          "metadata": {
            "tags": [],
            "needs_background": "light"
          }
        }
      ]
    },
    {
      "cell_type": "code",
      "metadata": {
        "colab": {
          "base_uri": "https://localhost:8080/"
        },
        "id": "r1FCUPr-1cJ_",
        "outputId": "4432b4f4-f3e3-48bd-da69-59b21ee4156f"
      },
      "source": [
        "X+10"
      ],
      "execution_count": 16,
      "outputs": [
        {
          "output_type": "execute_result",
          "data": {
            "text/plain": [
              "array([ 3.,  6.,  9., 12., 15., 18., 21., 24.])"
            ]
          },
          "metadata": {
            "tags": []
          },
          "execution_count": 16
        }
      ]
    },
    {
      "cell_type": "code",
      "metadata": {
        "colab": {
          "base_uri": "https://localhost:8080/"
        },
        "id": "uOUyYE6Z1wTn",
        "outputId": "6ae43794-b1cf-40b4-95e0-0fd63eeabf50"
      },
      "source": [
        "y==X+10"
      ],
      "execution_count": 17,
      "outputs": [
        {
          "output_type": "execute_result",
          "data": {
            "text/plain": [
              "array([ True, False,  True,  True,  True,  True,  True, False])"
            ]
          },
          "metadata": {
            "tags": []
          },
          "execution_count": 17
        }
      ]
    },
    {
      "cell_type": "markdown",
      "metadata": {
        "id": "0TqV54jt1yOP"
      },
      "source": [
        "## input and output shape"
      ]
    },
    {
      "cell_type": "code",
      "metadata": {
        "colab": {
          "base_uri": "https://localhost:8080/"
        },
        "id": "zIO0OK302I8X",
        "outputId": "b652aa2a-3597-4de2-f3d1-cbec14f15149"
      },
      "source": [
        "#create demo tensor for the input\n",
        "house_info = tf.constant([\"bedroom\", \"bathroom\", \"garage\"])\n",
        "house_price = tf.constant([939700])\n",
        "house_info, house_price"
      ],
      "execution_count": 18,
      "outputs": [
        {
          "output_type": "execute_result",
          "data": {
            "text/plain": [
              "(<tf.Tensor: shape=(3,), dtype=string, numpy=array([b'bedroom', b'bathroom', b'garage'], dtype=object)>,\n",
              " <tf.Tensor: shape=(1,), dtype=int32, numpy=array([939700], dtype=int32)>)"
            ]
          },
          "metadata": {
            "tags": []
          },
          "execution_count": 18
        }
      ]
    },
    {
      "cell_type": "code",
      "metadata": {
        "colab": {
          "base_uri": "https://localhost:8080/"
        },
        "id": "zStRdwtM3Tbe",
        "outputId": "0f7408be-e23c-4858-e086-3b5598af08c3"
      },
      "source": [
        "input_shape = X.shape\n",
        "output_shape = y.shape\n",
        "input_shape, output_shape"
      ],
      "execution_count": 19,
      "outputs": [
        {
          "output_type": "execute_result",
          "data": {
            "text/plain": [
              "((8,), (8,))"
            ]
          },
          "metadata": {
            "tags": []
          },
          "execution_count": 19
        }
      ]
    },
    {
      "cell_type": "code",
      "metadata": {
        "colab": {
          "base_uri": "https://localhost:8080/"
        },
        "id": "iizj5wJy3g4O",
        "outputId": "98dce647-9883-4239-e503-a3b7836a993c"
      },
      "source": [
        "X[0], y[0]"
      ],
      "execution_count": 20,
      "outputs": [
        {
          "output_type": "execute_result",
          "data": {
            "text/plain": [
              "(-7.0, 3.0)"
            ]
          },
          "metadata": {
            "tags": []
          },
          "execution_count": 20
        }
      ]
    },
    {
      "cell_type": "markdown",
      "metadata": {
        "id": "uuc90D8K39tA"
      },
      "source": [
        "# Turn numpy array to tensor"
      ]
    },
    {
      "cell_type": "code",
      "metadata": {
        "colab": {
          "base_uri": "https://localhost:8080/"
        },
        "id": "jSxJ2n9OAa1C",
        "outputId": "f9610365-70a9-4926-9319-4e8dac5ad4e0"
      },
      "source": [
        "X = tf.constant(X)\n",
        "y = tf.constant(y)\n",
        "X, y"
      ],
      "execution_count": 55,
      "outputs": [
        {
          "output_type": "execute_result",
          "data": {
            "text/plain": [
              "(<tf.Tensor: shape=(8,), dtype=float64, numpy=array([-7., -4., -1.,  2.,  5.,  8., 11., 14.])>,\n",
              " <tf.Tensor: shape=(8,), dtype=float64, numpy=array([ 3. ,  6.6,  9. , 12. , 15. , 18. , 21. , 25. ])>)"
            ]
          },
          "metadata": {
            "tags": []
          },
          "execution_count": 55
        }
      ]
    },
    {
      "cell_type": "code",
      "metadata": {
        "colab": {
          "base_uri": "https://localhost:8080/"
        },
        "id": "aEPmbQ9iAgFV",
        "outputId": "066d39c2-9817-4d58-911c-46020d306292"
      },
      "source": [
        "input_shape = X[0].shape\n",
        "output_shape = y[0].shape\n",
        "input_shape, output_shape"
      ],
      "execution_count": 22,
      "outputs": [
        {
          "output_type": "execute_result",
          "data": {
            "text/plain": [
              "(TensorShape([]), TensorShape([]))"
            ]
          },
          "metadata": {
            "tags": []
          },
          "execution_count": 22
        }
      ]
    },
    {
      "cell_type": "code",
      "metadata": {
        "colab": {
          "base_uri": "https://localhost:8080/",
          "height": 282
        },
        "id": "L5pndpUnAtdd",
        "outputId": "2bd09b8f-462e-486f-bc04-c1bf38435b3c"
      },
      "source": [
        "plt.scatter(X, y)"
      ],
      "execution_count": 23,
      "outputs": [
        {
          "output_type": "execute_result",
          "data": {
            "text/plain": [
              "<matplotlib.collections.PathCollection at 0x7f8ae7e8c5d0>"
            ]
          },
          "metadata": {
            "tags": []
          },
          "execution_count": 23
        },
        {
          "output_type": "display_data",
          "data": {
            "image/png": "[encoded data removed]",
            "text/plain": [
              "<Figure size 432x288 with 1 Axes>"
            ]
          },
          "metadata": {
            "tags": [],
            "needs_background": "light"
          }
        }
      ]
    },
    {
      "cell_type": "markdown",
      "metadata": {
        "id": "fE9rKt1uA758"
      },
      "source": [
        "## Steps in modelling with tensorflow\n",
        "\n",
        "1. **Creating a model** - define input and output layers, also the hidden layers\n",
        "2. **Compiling a model** - define a loss function (tells how wrong the model is), and the optimizer (tells model how to improve), and evaluation metrics.\n",
        "3. **Fitting the model** - let the model find the patterns in the data"
      ]
    },
    {
      "cell_type": "code",
      "metadata": {
        "colab": {
          "base_uri": "https://localhost:8080/"
        },
        "id": "JrTGoESTBBa0",
        "outputId": "1c90d339-6480-48c3-edf5-a7dc6c393bd7"
      },
      "source": [
        "# Set random seed\n",
        "tf.random.set_seed(42)\n",
        "\n",
        "#1. Create a model using Sequential API\n",
        "model = tf.keras.Sequential([\n",
        "                             tf.keras.layers.Dense(1)\n",
        "])\n",
        "\n",
        "# 2. Compile the model\n",
        "model.compile(loss =tf.keras.losses.mae, # mae mean absolute error\n",
        "              optimizer=tf.keras.optimizers.SGD(),\n",
        "              metrics=['mae'])\n",
        "\n",
        "# 3. Fit the model\n",
        "model.fit(X, y, epochs=5)"
      ],
      "execution_count": 24,
      "outputs": [
        {
          "output_type": "stream",
          "text": [
            "Epoch 1/5\n",
            "1/1 [==============================] - 0s 212ms/step - loss: 11.7048 - mae: 11.7048\n",
            "Epoch 2/5\n",
            "1/1 [==============================] - 0s 4ms/step - loss: 11.5723 - mae: 11.5723\n",
            "Epoch 3/5\n",
            "1/1 [==============================] - 0s 5ms/step - loss: 11.4398 - mae: 11.4398\n",
            "Epoch 4/5\n",
            "1/1 [==============================] - 0s 5ms/step - loss: 11.3073 - mae: 11.3073\n",
            "Epoch 5/5\n",
            "1/1 [==============================] - 0s 6ms/step - loss: 11.1748 - mae: 11.1748\n"
          ],
          "name": "stdout"
        },
        {
          "output_type": "execute_result",
          "data": {
            "text/plain": [
              "<tensorflow.python.keras.callbacks.History at 0x7f8ae75d8a10>"
            ]
          },
          "metadata": {
            "tags": []
          },
          "execution_count": 24
        }
      ]
    },
    {
      "cell_type": "code",
      "metadata": {
        "colab": {
          "base_uri": "https://localhost:8080/"
        },
        "id": "TmSIEt-hHxl1",
        "outputId": "21575a3f-0305-4e8c-eed7-d12ab13e9c6b"
      },
      "source": [
        "# Set random seed\n",
        "tf.random.set_seed(42)\n",
        "\n",
        "#1. Create a model using Sequential API\n",
        "model = tf.keras.Sequential([\n",
        "                             tf.keras.layers.Dense(1)\n",
        "])\n",
        "\n",
        "# 2. Compile the model\n",
        "model.compile(loss =tf.keras.losses.mse, # mae mean absolute error\n",
        "              optimizer=tf.keras.optimizers.Adam(),\n",
        "              metrics=['mse'])\n",
        "\n",
        "# 3. Fit the model\n",
        "model.fit(X, y, epochs=50)"
      ],
      "execution_count": 32,
      "outputs": [
        {
          "output_type": "stream",
          "text": [
            "Epoch 1/50\n",
            "1/1 [==============================] - 0s 241ms/step - loss: 146.5111 - mse: 146.5111\n",
            "Epoch 2/50\n",
            "1/1 [==============================] - 0s 4ms/step - loss: 146.3637 - mse: 146.3637\n",
            "Epoch 3/50\n",
            "1/1 [==============================] - 0s 4ms/step - loss: 146.2165 - mse: 146.2165\n",
            "Epoch 4/50\n",
            "1/1 [==============================] - 0s 6ms/step - loss: 146.0693 - mse: 146.0693\n",
            "Epoch 5/50\n",
            "1/1 [==============================] - 0s 3ms/step - loss: 145.9223 - mse: 145.9223\n",
            "Epoch 6/50\n",
            "1/1 [==============================] - 0s 8ms/step - loss: 145.7755 - mse: 145.7755\n",
            "Epoch 7/50\n",
            "1/1 [==============================] - 0s 3ms/step - loss: 145.6288 - mse: 145.6288\n",
            "Epoch 8/50\n",
            "1/1 [==============================] - 0s 6ms/step - loss: 145.4823 - mse: 145.4823\n",
            "Epoch 9/50\n",
            "1/1 [==============================] - 0s 5ms/step - loss: 145.3359 - mse: 145.3359\n",
            "Epoch 10/50\n",
            "1/1 [==============================] - 0s 5ms/step - loss: 145.1897 - mse: 145.1897\n",
            "Epoch 11/50\n",
            "1/1 [==============================] - 0s 3ms/step - loss: 145.0436 - mse: 145.0436\n",
            "Epoch 12/50\n",
            "1/1 [==============================] - 0s 5ms/step - loss: 144.8977 - mse: 144.8977\n",
            "Epoch 13/50\n",
            "1/1 [==============================] - 0s 3ms/step - loss: 144.7519 - mse: 144.7519\n",
            "Epoch 14/50\n",
            "1/1 [==============================] - 0s 6ms/step - loss: 144.6063 - mse: 144.6063\n",
            "Epoch 15/50\n",
            "1/1 [==============================] - 0s 4ms/step - loss: 144.4609 - mse: 144.4609\n",
            "Epoch 16/50\n",
            "1/1 [==============================] - 0s 9ms/step - loss: 144.3156 - mse: 144.3156\n",
            "Epoch 17/50\n",
            "1/1 [==============================] - 0s 3ms/step - loss: 144.1705 - mse: 144.1705\n",
            "Epoch 18/50\n",
            "1/1 [==============================] - 0s 3ms/step - loss: 144.0256 - mse: 144.0256\n",
            "Epoch 19/50\n",
            "1/1 [==============================] - 0s 4ms/step - loss: 143.8808 - mse: 143.8808\n",
            "Epoch 20/50\n",
            "1/1 [==============================] - 0s 4ms/step - loss: 143.7363 - mse: 143.7363\n",
            "Epoch 21/50\n",
            "1/1 [==============================] - 0s 3ms/step - loss: 143.5919 - mse: 143.5919\n",
            "Epoch 22/50\n",
            "1/1 [==============================] - 0s 3ms/step - loss: 143.4476 - mse: 143.4476\n",
            "Epoch 23/50\n",
            "1/1 [==============================] - 0s 7ms/step - loss: 143.3036 - mse: 143.3036\n",
            "Epoch 24/50\n",
            "1/1 [==============================] - 0s 3ms/step - loss: 143.1597 - mse: 143.1597\n",
            "Epoch 25/50\n",
            "1/1 [==============================] - 0s 6ms/step - loss: 143.0160 - mse: 143.0160\n",
            "Epoch 26/50\n",
            "1/1 [==============================] - 0s 3ms/step - loss: 142.8725 - mse: 142.8725\n",
            "Epoch 27/50\n",
            "1/1 [==============================] - 0s 3ms/step - loss: 142.7291 - mse: 142.7291\n",
            "Epoch 28/50\n",
            "1/1 [==============================] - 0s 3ms/step - loss: 142.5860 - mse: 142.5860\n",
            "Epoch 29/50\n",
            "1/1 [==============================] - 0s 5ms/step - loss: 142.4430 - mse: 142.4430\n",
            "Epoch 30/50\n",
            "1/1 [==============================] - 0s 4ms/step - loss: 142.3002 - mse: 142.3002\n",
            "Epoch 31/50\n",
            "1/1 [==============================] - 0s 6ms/step - loss: 142.1576 - mse: 142.1576\n",
            "Epoch 32/50\n",
            "1/1 [==============================] - 0s 4ms/step - loss: 142.0152 - mse: 142.0152\n",
            "Epoch 33/50\n",
            "1/1 [==============================] - 0s 4ms/step - loss: 141.8730 - mse: 141.8730\n",
            "Epoch 34/50\n",
            "1/1 [==============================] - 0s 5ms/step - loss: 141.7309 - mse: 141.7309\n",
            "Epoch 35/50\n",
            "1/1 [==============================] - 0s 5ms/step - loss: 141.5891 - mse: 141.5891\n",
            "Epoch 36/50\n",
            "1/1 [==============================] - 0s 3ms/step - loss: 141.4474 - mse: 141.4474\n",
            "Epoch 37/50\n",
            "1/1 [==============================] - 0s 5ms/step - loss: 141.3060 - mse: 141.3060\n",
            "Epoch 38/50\n",
            "1/1 [==============================] - 0s 5ms/step - loss: 141.1647 - mse: 141.1647\n",
            "Epoch 39/50\n",
            "1/1 [==============================] - 0s 5ms/step - loss: 141.0236 - mse: 141.0236\n",
            "Epoch 40/50\n",
            "1/1 [==============================] - 0s 3ms/step - loss: 140.8827 - mse: 140.8827\n",
            "Epoch 41/50\n",
            "1/1 [==============================] - 0s 5ms/step - loss: 140.7420 - mse: 140.7420\n",
            "Epoch 42/50\n",
            "1/1 [==============================] - 0s 3ms/step - loss: 140.6015 - mse: 140.6015\n",
            "Epoch 43/50\n",
            "1/1 [==============================] - 0s 5ms/step - loss: 140.4612 - mse: 140.4612\n",
            "Epoch 44/50\n",
            "1/1 [==============================] - 0s 3ms/step - loss: 140.3210 - mse: 140.3210\n",
            "Epoch 45/50\n",
            "1/1 [==============================] - 0s 7ms/step - loss: 140.1811 - mse: 140.1811\n",
            "Epoch 46/50\n",
            "1/1 [==============================] - 0s 6ms/step - loss: 140.0414 - mse: 140.0414\n",
            "Epoch 47/50\n",
            "1/1 [==============================] - 0s 3ms/step - loss: 139.9018 - mse: 139.9018\n",
            "Epoch 48/50\n",
            "1/1 [==============================] - 0s 3ms/step - loss: 139.7624 - mse: 139.7624\n",
            "Epoch 49/50\n",
            "1/1 [==============================] - 0s 5ms/step - loss: 139.6233 - mse: 139.6233\n",
            "Epoch 50/50\n",
            "1/1 [==============================] - 0s 3ms/step - loss: 139.4843 - mse: 139.4843\n"
          ],
          "name": "stdout"
        },
        {
          "output_type": "execute_result",
          "data": {
            "text/plain": [
              "<tensorflow.python.keras.callbacks.History at 0x7f8ae37f8d50>"
            ]
          },
          "metadata": {
            "tags": []
          },
          "execution_count": 32
        }
      ]
    },
    {
      "cell_type": "code",
      "metadata": {
        "colab": {
          "base_uri": "https://localhost:8080/"
        },
        "id": "ysWyfQp1H2_G",
        "outputId": "dea55b1d-bd68-4182-fb7f-6dcf90789b4a"
      },
      "source": [
        "# try make prdiction with the model\n",
        "y_pred = model.predict([17.0])\n",
        "y_pred"
      ],
      "execution_count": 27,
      "outputs": [
        {
          "output_type": "execute_result",
          "data": {
            "text/plain": [
              "array([[10.58562]], dtype=float32)"
            ]
          },
          "metadata": {
            "tags": []
          },
          "execution_count": 27
        }
      ]
    },
    {
      "cell_type": "markdown",
      "metadata": {
        "id": "CGs1GmWTI_Qw"
      },
      "source": [
        "## The model is way off "
      ]
    },
    {
      "cell_type": "markdown",
      "metadata": {
        "id": "zPHuxJ8EImaB"
      },
      "source": [
        "# Improving the model\n",
        "\n",
        "1. Add more hidden layers, change activation functions\n",
        "2. Change optimization function or change learning rate\n",
        "3. fit model for more epochs, or on more data (more examples"
      ]
    },
    {
      "cell_type": "code",
      "metadata": {
        "id": "YTG-OQNNJD-u",
        "colab": {
          "base_uri": "https://localhost:8080/"
        },
        "outputId": "7ceeaf52-8e51-4176-a3b5-04ba9b2da075"
      },
      "source": [
        "# rebuild model\n",
        "\n",
        "# Create the model\n",
        "model = tf.keras.Sequential([\n",
        "                             tf.keras.layers.Dense(1)\n",
        "])\n",
        "\n",
        "# 2. Compile the model\n",
        "model.compile(loss=tf.keras.losses.mae,\n",
        "              optimizer = tf.keras.optimizers.SGD(),\n",
        "              metrics=['mae'])\n",
        "# 3. Fut the model\n",
        "model.fit(X,y, epochs=100)"
      ],
      "execution_count": 33,
      "outputs": [
        {
          "output_type": "stream",
          "text": [
            "Epoch 1/100\n",
            "1/1 [==============================] - 0s 209ms/step - loss: 11.4219 - mae: 11.4219\n",
            "Epoch 2/100\n",
            "1/1 [==============================] - 0s 4ms/step - loss: 11.2894 - mae: 11.2894\n",
            "Epoch 3/100\n",
            "1/1 [==============================] - 0s 8ms/step - loss: 11.1569 - mae: 11.1569\n",
            "Epoch 4/100\n",
            "1/1 [==============================] - 0s 5ms/step - loss: 11.0244 - mae: 11.0244\n",
            "Epoch 5/100\n",
            "1/1 [==============================] - 0s 4ms/step - loss: 10.8919 - mae: 10.8919\n",
            "Epoch 6/100\n",
            "1/1 [==============================] - 0s 5ms/step - loss: 10.7594 - mae: 10.7594\n",
            "Epoch 7/100\n",
            "1/1 [==============================] - 0s 4ms/step - loss: 10.6269 - mae: 10.6269\n",
            "Epoch 8/100\n",
            "1/1 [==============================] - 0s 4ms/step - loss: 10.4944 - mae: 10.4944\n",
            "Epoch 9/100\n",
            "1/1 [==============================] - 0s 4ms/step - loss: 10.3619 - mae: 10.3619\n",
            "Epoch 10/100\n",
            "1/1 [==============================] - 0s 4ms/step - loss: 10.2294 - mae: 10.2294\n",
            "Epoch 11/100\n",
            "1/1 [==============================] - 0s 8ms/step - loss: 10.0969 - mae: 10.0969\n",
            "Epoch 12/100\n",
            "1/1 [==============================] - 0s 4ms/step - loss: 9.9644 - mae: 9.9644\n",
            "Epoch 13/100\n",
            "1/1 [==============================] - 0s 5ms/step - loss: 9.8319 - mae: 9.8319\n",
            "Epoch 14/100\n",
            "1/1 [==============================] - 0s 4ms/step - loss: 9.6994 - mae: 9.6994\n",
            "Epoch 15/100\n",
            "1/1 [==============================] - 0s 5ms/step - loss: 9.5669 - mae: 9.5669\n",
            "Epoch 16/100\n",
            "1/1 [==============================] - 0s 5ms/step - loss: 9.4344 - mae: 9.4344\n",
            "Epoch 17/100\n",
            "1/1 [==============================] - 0s 7ms/step - loss: 9.3019 - mae: 9.3019\n",
            "Epoch 18/100\n",
            "1/1 [==============================] - 0s 3ms/step - loss: 9.1694 - mae: 9.1694\n",
            "Epoch 19/100\n",
            "1/1 [==============================] - 0s 3ms/step - loss: 9.0369 - mae: 9.0369\n",
            "Epoch 20/100\n",
            "1/1 [==============================] - 0s 5ms/step - loss: 8.9044 - mae: 8.9044\n",
            "Epoch 21/100\n",
            "1/1 [==============================] - 0s 4ms/step - loss: 8.7719 - mae: 8.7719\n",
            "Epoch 22/100\n",
            "1/1 [==============================] - 0s 6ms/step - loss: 8.6394 - mae: 8.6394\n",
            "Epoch 23/100\n",
            "1/1 [==============================] - 0s 3ms/step - loss: 8.5069 - mae: 8.5069\n",
            "Epoch 24/100\n",
            "1/1 [==============================] - 0s 7ms/step - loss: 8.3744 - mae: 8.3744\n",
            "Epoch 25/100\n",
            "1/1 [==============================] - 0s 3ms/step - loss: 8.2419 - mae: 8.2419\n",
            "Epoch 26/100\n",
            "1/1 [==============================] - 0s 3ms/step - loss: 8.1094 - mae: 8.1094\n",
            "Epoch 27/100\n",
            "1/1 [==============================] - 0s 3ms/step - loss: 7.9769 - mae: 7.9769\n",
            "Epoch 28/100\n",
            "1/1 [==============================] - 0s 3ms/step - loss: 7.8444 - mae: 7.8444\n",
            "Epoch 29/100\n",
            "1/1 [==============================] - 0s 7ms/step - loss: 7.7119 - mae: 7.7119\n",
            "Epoch 30/100\n",
            "1/1 [==============================] - 0s 3ms/step - loss: 7.5794 - mae: 7.5794\n",
            "Epoch 31/100\n",
            "1/1 [==============================] - 0s 3ms/step - loss: 7.4469 - mae: 7.4469\n",
            "Epoch 32/100\n",
            "1/1 [==============================] - 0s 5ms/step - loss: 7.3144 - mae: 7.3144\n",
            "Epoch 33/100\n",
            "1/1 [==============================] - 0s 3ms/step - loss: 7.2100 - mae: 7.2100\n",
            "Epoch 34/100\n",
            "1/1 [==============================] - 0s 3ms/step - loss: 7.2044 - mae: 7.2044\n",
            "Epoch 35/100\n",
            "1/1 [==============================] - 0s 3ms/step - loss: 7.1987 - mae: 7.1987\n",
            "Epoch 36/100\n",
            "1/1 [==============================] - 0s 4ms/step - loss: 7.1931 - mae: 7.1931\n",
            "Epoch 37/100\n",
            "1/1 [==============================] - 0s 3ms/step - loss: 7.1875 - mae: 7.1875\n",
            "Epoch 38/100\n",
            "1/1 [==============================] - 0s 4ms/step - loss: 7.1819 - mae: 7.1819\n",
            "Epoch 39/100\n",
            "1/1 [==============================] - 0s 3ms/step - loss: 7.1762 - mae: 7.1762\n",
            "Epoch 40/100\n",
            "1/1 [==============================] - 0s 3ms/step - loss: 7.1706 - mae: 7.1706\n",
            "Epoch 41/100\n",
            "1/1 [==============================] - 0s 6ms/step - loss: 7.1650 - mae: 7.1650\n",
            "Epoch 42/100\n",
            "1/1 [==============================] - 0s 4ms/step - loss: 7.1594 - mae: 7.1594\n",
            "Epoch 43/100\n",
            "1/1 [==============================] - 0s 6ms/step - loss: 7.1537 - mae: 7.1537\n",
            "Epoch 44/100\n",
            "1/1 [==============================] - 0s 4ms/step - loss: 7.1481 - mae: 7.1481\n",
            "Epoch 45/100\n",
            "1/1 [==============================] - 0s 4ms/step - loss: 7.1425 - mae: 7.1425\n",
            "Epoch 46/100\n",
            "1/1 [==============================] - 0s 4ms/step - loss: 7.1369 - mae: 7.1369\n",
            "Epoch 47/100\n",
            "1/1 [==============================] - 0s 4ms/step - loss: 7.1312 - mae: 7.1312\n",
            "Epoch 48/100\n",
            "1/1 [==============================] - 0s 3ms/step - loss: 7.1256 - mae: 7.1256\n",
            "Epoch 49/100\n",
            "1/1 [==============================] - 0s 5ms/step - loss: 7.1200 - mae: 7.1200\n",
            "Epoch 50/100\n",
            "1/1 [==============================] - 0s 4ms/step - loss: 7.1144 - mae: 7.1144\n",
            "Epoch 51/100\n",
            "1/1 [==============================] - 0s 5ms/step - loss: 7.1087 - mae: 7.1087\n",
            "Epoch 52/100\n",
            "1/1 [==============================] - 0s 5ms/step - loss: 7.1031 - mae: 7.1031\n",
            "Epoch 53/100\n",
            "1/1 [==============================] - 0s 5ms/step - loss: 7.0975 - mae: 7.0975\n",
            "Epoch 54/100\n",
            "1/1 [==============================] - 0s 4ms/step - loss: 7.0919 - mae: 7.0919\n",
            "Epoch 55/100\n",
            "1/1 [==============================] - 0s 5ms/step - loss: 7.0863 - mae: 7.0863\n",
            "Epoch 56/100\n",
            "1/1 [==============================] - 0s 6ms/step - loss: 7.0806 - mae: 7.0806\n",
            "Epoch 57/100\n",
            "1/1 [==============================] - 0s 3ms/step - loss: 7.0750 - mae: 7.0750\n",
            "Epoch 58/100\n",
            "1/1 [==============================] - 0s 3ms/step - loss: 7.0694 - mae: 7.0694\n",
            "Epoch 59/100\n",
            "1/1 [==============================] - 0s 4ms/step - loss: 7.0637 - mae: 7.0637\n",
            "Epoch 60/100\n",
            "1/1 [==============================] - 0s 3ms/step - loss: 7.0581 - mae: 7.0581\n",
            "Epoch 61/100\n",
            "1/1 [==============================] - 0s 4ms/step - loss: 7.0525 - mae: 7.0525\n",
            "Epoch 62/100\n",
            "1/1 [==============================] - 0s 3ms/step - loss: 7.0469 - mae: 7.0469\n",
            "Epoch 63/100\n",
            "1/1 [==============================] - 0s 4ms/step - loss: 7.0412 - mae: 7.0412\n",
            "Epoch 64/100\n",
            "1/1 [==============================] - 0s 5ms/step - loss: 7.0356 - mae: 7.0356\n",
            "Epoch 65/100\n",
            "1/1 [==============================] - 0s 4ms/step - loss: 7.0300 - mae: 7.0300\n",
            "Epoch 66/100\n",
            "1/1 [==============================] - 0s 3ms/step - loss: 7.0244 - mae: 7.0244\n",
            "Epoch 67/100\n",
            "1/1 [==============================] - 0s 3ms/step - loss: 7.0188 - mae: 7.0188\n",
            "Epoch 68/100\n",
            "1/1 [==============================] - 0s 4ms/step - loss: 7.0131 - mae: 7.0131\n",
            "Epoch 69/100\n",
            "1/1 [==============================] - 0s 13ms/step - loss: 7.0075 - mae: 7.0075\n",
            "Epoch 70/100\n",
            "1/1 [==============================] - 0s 5ms/step - loss: 7.0019 - mae: 7.0019\n",
            "Epoch 71/100\n",
            "1/1 [==============================] - 0s 6ms/step - loss: 6.9963 - mae: 6.9963\n",
            "Epoch 72/100\n",
            "1/1 [==============================] - 0s 7ms/step - loss: 6.9906 - mae: 6.9906\n",
            "Epoch 73/100\n",
            "1/1 [==============================] - 0s 4ms/step - loss: 6.9850 - mae: 6.9850\n",
            "Epoch 74/100\n",
            "1/1 [==============================] - 0s 7ms/step - loss: 6.9794 - mae: 6.9794\n",
            "Epoch 75/100\n",
            "1/1 [==============================] - 0s 7ms/step - loss: 6.9738 - mae: 6.9738\n",
            "Epoch 76/100\n",
            "1/1 [==============================] - 0s 4ms/step - loss: 6.9681 - mae: 6.9681\n",
            "Epoch 77/100\n",
            "1/1 [==============================] - 0s 9ms/step - loss: 6.9625 - mae: 6.9625\n",
            "Epoch 78/100\n",
            "1/1 [==============================] - 0s 6ms/step - loss: 6.9569 - mae: 6.9569\n",
            "Epoch 79/100\n",
            "1/1 [==============================] - 0s 4ms/step - loss: 6.9513 - mae: 6.9513\n",
            "Epoch 80/100\n",
            "1/1 [==============================] - 0s 5ms/step - loss: 6.9456 - mae: 6.9456\n",
            "Epoch 81/100\n",
            "1/1 [==============================] - 0s 7ms/step - loss: 6.9400 - mae: 6.9400\n",
            "Epoch 82/100\n",
            "1/1 [==============================] - 0s 7ms/step - loss: 6.9344 - mae: 6.9344\n",
            "Epoch 83/100\n",
            "1/1 [==============================] - 0s 4ms/step - loss: 6.9287 - mae: 6.9287\n",
            "Epoch 84/100\n",
            "1/1 [==============================] - 0s 14ms/step - loss: 6.9231 - mae: 6.9231\n",
            "Epoch 85/100\n",
            "1/1 [==============================] - 0s 5ms/step - loss: 6.9175 - mae: 6.9175\n",
            "Epoch 86/100\n",
            "1/1 [==============================] - 0s 4ms/step - loss: 6.9119 - mae: 6.9119\n",
            "Epoch 87/100\n",
            "1/1 [==============================] - 0s 5ms/step - loss: 6.9062 - mae: 6.9062\n",
            "Epoch 88/100\n",
            "1/1 [==============================] - 0s 4ms/step - loss: 6.9006 - mae: 6.9006\n",
            "Epoch 89/100\n",
            "1/1 [==============================] - 0s 6ms/step - loss: 6.8950 - mae: 6.8950\n",
            "Epoch 90/100\n",
            "1/1 [==============================] - 0s 6ms/step - loss: 6.8894 - mae: 6.8894\n",
            "Epoch 91/100\n",
            "1/1 [==============================] - 0s 3ms/step - loss: 6.8838 - mae: 6.8838\n",
            "Epoch 92/100\n",
            "1/1 [==============================] - 0s 5ms/step - loss: 6.8781 - mae: 6.8781\n",
            "Epoch 93/100\n",
            "1/1 [==============================] - 0s 4ms/step - loss: 6.8725 - mae: 6.8725\n",
            "Epoch 94/100\n",
            "1/1 [==============================] - 0s 5ms/step - loss: 6.8669 - mae: 6.8669\n",
            "Epoch 95/100\n",
            "1/1 [==============================] - 0s 5ms/step - loss: 6.8613 - mae: 6.8613\n",
            "Epoch 96/100\n",
            "1/1 [==============================] - 0s 3ms/step - loss: 6.8556 - mae: 6.8556\n",
            "Epoch 97/100\n",
            "1/1 [==============================] - 0s 6ms/step - loss: 6.8500 - mae: 6.8500\n",
            "Epoch 98/100\n",
            "1/1 [==============================] - 0s 3ms/step - loss: 6.8444 - mae: 6.8444\n",
            "Epoch 99/100\n",
            "1/1 [==============================] - 0s 4ms/step - loss: 6.8388 - mae: 6.8388\n",
            "Epoch 100/100\n",
            "1/1 [==============================] - 0s 3ms/step - loss: 6.8331 - mae: 6.8331\n"
          ],
          "name": "stdout"
        },
        {
          "output_type": "execute_result",
          "data": {
            "text/plain": [
              "<tensorflow.python.keras.callbacks.History at 0x7f8ae37a7410>"
            ]
          },
          "metadata": {
            "tags": []
          },
          "execution_count": 33
        }
      ]
    },
    {
      "cell_type": "code",
      "metadata": {
        "colab": {
          "base_uri": "https://localhost:8080/"
        },
        "id": "h0v1pF-__Kmg",
        "outputId": "3d04ca77-4bff-42e0-c4b1-1483c88a5a97"
      },
      "source": [
        "model.predict([17.0])"
      ],
      "execution_count": 36,
      "outputs": [
        {
          "output_type": "execute_result",
          "data": {
            "text/plain": [
              "array([[30.934855]], dtype=float32)"
            ]
          },
          "metadata": {
            "tags": []
          },
          "execution_count": 36
        }
      ]
    },
    {
      "cell_type": "code",
      "metadata": {
        "colab": {
          "base_uri": "https://localhost:8080/"
        },
        "id": "I8hnpDtV_oH3",
        "outputId": "01773535-7f74-4efd-a63a-a80ffe9ba6ab"
      },
      "source": [
        "X, y"
      ],
      "execution_count": 35,
      "outputs": [
        {
          "output_type": "execute_result",
          "data": {
            "text/plain": [
              "(<tf.Tensor: shape=(8,), dtype=float64, numpy=array([-7., -4., -1.,  2.,  5.,  8., 11., 14.])>,\n",
              " <tf.Tensor: shape=(8,), dtype=float64, numpy=array([ 3. ,  6.6,  9. , 12. , 15. , 18. , 21. , 25. ])>)"
            ]
          },
          "metadata": {
            "tags": []
          },
          "execution_count": 35
        }
      ]
    },
    {
      "cell_type": "code",
      "metadata": {
        "colab": {
          "base_uri": "https://localhost:8080/"
        },
        "id": "zXuReM8iAQAX",
        "outputId": "5ea2d371-4244-49f7-db09-9a4680b7fa69"
      },
      "source": [
        "# 1. Create the model\n",
        "model = tf.keras.Sequential([\n",
        "                             tf.keras.layers.Dense(1, input_shape=(1,)),\n",
        "                             tf.keras.layers.Dense(2),\n",
        "                             tf.keras.layers.Dense(1)\n",
        "])\n",
        "\n",
        "# 2.Compile model\n",
        "model.compile(loss=tf.keras.losses.mae,\n",
        "              optimizer = tf.keras.optimizers.Adam(),\n",
        "              metrics = ['mae'])\n",
        "\n",
        "# 3. Fit the model\n",
        "model.fit(X,y, epochs=55)"
      ],
      "execution_count": 48,
      "outputs": [
        {
          "output_type": "stream",
          "text": [
            "Epoch 1/55\n",
            "1/1 [==============================] - 0s 273ms/step - loss: 19.1267 - mae: 19.1267\n",
            "Epoch 2/55\n",
            "1/1 [==============================] - 0s 4ms/step - loss: 19.1029 - mae: 19.1029\n",
            "Epoch 3/55\n",
            "1/1 [==============================] - 0s 7ms/step - loss: 19.0791 - mae: 19.0791\n",
            "Epoch 4/55\n",
            "1/1 [==============================] - 0s 3ms/step - loss: 19.0555 - mae: 19.0555\n",
            "Epoch 5/55\n",
            "1/1 [==============================] - 0s 3ms/step - loss: 19.0319 - mae: 19.0319\n",
            "Epoch 6/55\n",
            "1/1 [==============================] - 0s 6ms/step - loss: 19.0083 - mae: 19.0083\n",
            "Epoch 7/55\n",
            "1/1 [==============================] - 0s 3ms/step - loss: 18.9848 - mae: 18.9848\n",
            "Epoch 8/55\n",
            "1/1 [==============================] - 0s 3ms/step - loss: 18.9614 - mae: 18.9614\n",
            "Epoch 9/55\n",
            "1/1 [==============================] - 0s 5ms/step - loss: 18.9381 - mae: 18.9381\n",
            "Epoch 10/55\n",
            "1/1 [==============================] - 0s 3ms/step - loss: 18.9148 - mae: 18.9148\n",
            "Epoch 11/55\n",
            "1/1 [==============================] - 0s 6ms/step - loss: 18.8916 - mae: 18.8916\n",
            "Epoch 12/55\n",
            "1/1 [==============================] - 0s 7ms/step - loss: 18.8685 - mae: 18.8685\n",
            "Epoch 13/55\n",
            "1/1 [==============================] - 0s 3ms/step - loss: 18.8454 - mae: 18.8454\n",
            "Epoch 14/55\n",
            "1/1 [==============================] - 0s 4ms/step - loss: 18.8224 - mae: 18.8224\n",
            "Epoch 15/55\n",
            "1/1 [==============================] - 0s 3ms/step - loss: 18.7995 - mae: 18.7995\n",
            "Epoch 16/55\n",
            "1/1 [==============================] - 0s 4ms/step - loss: 18.7766 - mae: 18.7766\n",
            "Epoch 17/55\n",
            "1/1 [==============================] - 0s 3ms/step - loss: 18.7538 - mae: 18.7538\n",
            "Epoch 18/55\n",
            "1/1 [==============================] - 0s 4ms/step - loss: 18.7311 - mae: 18.7311\n",
            "Epoch 19/55\n",
            "1/1 [==============================] - 0s 4ms/step - loss: 18.7085 - mae: 18.7085\n",
            "Epoch 20/55\n",
            "1/1 [==============================] - 0s 6ms/step - loss: 18.6859 - mae: 18.6859\n",
            "Epoch 21/55\n",
            "1/1 [==============================] - 0s 3ms/step - loss: 18.6634 - mae: 18.6634\n",
            "Epoch 22/55\n",
            "1/1 [==============================] - 0s 4ms/step - loss: 18.6410 - mae: 18.6410\n",
            "Epoch 23/55\n",
            "1/1 [==============================] - 0s 3ms/step - loss: 18.6186 - mae: 18.6186\n",
            "Epoch 24/55\n",
            "1/1 [==============================] - 0s 4ms/step - loss: 18.5964 - mae: 18.5964\n",
            "Epoch 25/55\n",
            "1/1 [==============================] - 0s 4ms/step - loss: 18.5742 - mae: 18.5742\n",
            "Epoch 26/55\n",
            "1/1 [==============================] - 0s 4ms/step - loss: 18.5521 - mae: 18.5521\n",
            "Epoch 27/55\n",
            "1/1 [==============================] - 0s 4ms/step - loss: 18.5300 - mae: 18.5300\n",
            "Epoch 28/55\n",
            "1/1 [==============================] - 0s 5ms/step - loss: 18.5080 - mae: 18.5080\n",
            "Epoch 29/55\n",
            "1/1 [==============================] - 0s 4ms/step - loss: 18.4862 - mae: 18.4862\n",
            "Epoch 30/55\n",
            "1/1 [==============================] - 0s 5ms/step - loss: 18.4643 - mae: 18.4643\n",
            "Epoch 31/55\n",
            "1/1 [==============================] - 0s 4ms/step - loss: 18.4426 - mae: 18.4426\n",
            "Epoch 32/55\n",
            "1/1 [==============================] - 0s 4ms/step - loss: 18.4209 - mae: 18.4209\n",
            "Epoch 33/55\n",
            "1/1 [==============================] - 0s 3ms/step - loss: 18.3994 - mae: 18.3994\n",
            "Epoch 34/55\n",
            "1/1 [==============================] - 0s 3ms/step - loss: 18.3778 - mae: 18.3778\n",
            "Epoch 35/55\n",
            "1/1 [==============================] - 0s 4ms/step - loss: 18.3564 - mae: 18.3564\n",
            "Epoch 36/55\n",
            "1/1 [==============================] - 0s 4ms/step - loss: 18.3351 - mae: 18.3351\n",
            "Epoch 37/55\n",
            "1/1 [==============================] - 0s 4ms/step - loss: 18.3138 - mae: 18.3138\n",
            "Epoch 38/55\n",
            "1/1 [==============================] - 0s 4ms/step - loss: 18.2926 - mae: 18.2926\n",
            "Epoch 39/55\n",
            "1/1 [==============================] - 0s 6ms/step - loss: 18.2714 - mae: 18.2714\n",
            "Epoch 40/55\n",
            "1/1 [==============================] - 0s 6ms/step - loss: 18.2504 - mae: 18.2504\n",
            "Epoch 41/55\n",
            "1/1 [==============================] - 0s 3ms/step - loss: 18.2294 - mae: 18.2294\n",
            "Epoch 42/55\n",
            "1/1 [==============================] - 0s 3ms/step - loss: 18.2085 - mae: 18.2085\n",
            "Epoch 43/55\n",
            "1/1 [==============================] - 0s 3ms/step - loss: 18.1877 - mae: 18.1877\n",
            "Epoch 44/55\n",
            "1/1 [==============================] - 0s 2ms/step - loss: 18.1669 - mae: 18.1669\n",
            "Epoch 45/55\n",
            "1/1 [==============================] - 0s 4ms/step - loss: 18.1463 - mae: 18.1463\n",
            "Epoch 46/55\n",
            "1/1 [==============================] - 0s 4ms/step - loss: 18.1257 - mae: 18.1257\n",
            "Epoch 47/55\n",
            "1/1 [==============================] - 0s 3ms/step - loss: 18.1051 - mae: 18.1051\n",
            "Epoch 48/55\n",
            "1/1 [==============================] - 0s 4ms/step - loss: 18.0847 - mae: 18.0847\n",
            "Epoch 49/55\n",
            "1/1 [==============================] - 0s 6ms/step - loss: 18.0643 - mae: 18.0643\n",
            "Epoch 50/55\n",
            "1/1 [==============================] - 0s 5ms/step - loss: 18.0440 - mae: 18.0440\n",
            "Epoch 51/55\n",
            "1/1 [==============================] - 0s 6ms/step - loss: 18.0237 - mae: 18.0237\n",
            "Epoch 52/55\n",
            "1/1 [==============================] - 0s 5ms/step - loss: 18.0036 - mae: 18.0036\n",
            "Epoch 53/55\n",
            "1/1 [==============================] - 0s 6ms/step - loss: 17.9835 - mae: 17.9835\n",
            "Epoch 54/55\n",
            "1/1 [==============================] - 0s 6ms/step - loss: 17.9635 - mae: 17.9635\n",
            "Epoch 55/55\n",
            "1/1 [==============================] - 0s 3ms/step - loss: 17.9435 - mae: 17.9435\n"
          ],
          "name": "stdout"
        },
        {
          "output_type": "execute_result",
          "data": {
            "text/plain": [
              "<tensorflow.python.keras.callbacks.History at 0x7f8adea7cd90>"
            ]
          },
          "metadata": {
            "tags": []
          },
          "execution_count": 48
        }
      ]
    },
    {
      "cell_type": "code",
      "metadata": {
        "colab": {
          "base_uri": "https://localhost:8080/"
        },
        "id": "psFS5wANCLCO",
        "outputId": "d75ffbaf-02f6-4e25-c0a2-a99436edb3dc"
      },
      "source": [
        "# 1. create the model ( and add 1 hidden layer with 100 nodes)\n",
        "model = tf.keras.Sequential([\n",
        "  tf.keras.layers.Dense(100, activation = \"relu\"),\n",
        "  tf.keras.layers.Dense(1)\n",
        "]) \n",
        "\n",
        "# 2. compile the model\n",
        "model.compile(loss=tf.keras.losses.mae,\n",
        "              optimizer=tf.keras.optimizers.SGD(),\n",
        "              metrics=['mae'])\n",
        "\n",
        "# 3. fit the model\n",
        "model.fit(X,y, epochs=100)"
      ],
      "execution_count": 50,
      "outputs": [
        {
          "output_type": "stream",
          "text": [
            "Epoch 1/100\n",
            "1/1 [==============================] - 0s 218ms/step - loss: 14.0571 - mae: 14.0571\n",
            "Epoch 2/100\n",
            "1/1 [==============================] - 0s 5ms/step - loss: 13.5693 - mae: 13.5693\n",
            "Epoch 3/100\n",
            "1/1 [==============================] - 0s 3ms/step - loss: 13.0843 - mae: 13.0843\n",
            "Epoch 4/100\n",
            "1/1 [==============================] - 0s 3ms/step - loss: 12.6028 - mae: 12.6028\n",
            "Epoch 5/100\n",
            "1/1 [==============================] - 0s 5ms/step - loss: 12.1248 - mae: 12.1248\n",
            "Epoch 6/100\n",
            "1/1 [==============================] - 0s 3ms/step - loss: 11.6333 - mae: 11.6333\n",
            "Epoch 7/100\n",
            "1/1 [==============================] - 0s 3ms/step - loss: 11.1267 - mae: 11.1267\n",
            "Epoch 8/100\n",
            "1/1 [==============================] - 0s 4ms/step - loss: 10.6011 - mae: 10.6011\n",
            "Epoch 9/100\n",
            "1/1 [==============================] - 0s 3ms/step - loss: 10.0534 - mae: 10.0534\n",
            "Epoch 10/100\n",
            "1/1 [==============================] - 0s 4ms/step - loss: 9.4822 - mae: 9.4822\n",
            "Epoch 11/100\n",
            "1/1 [==============================] - 0s 5ms/step - loss: 8.8778 - mae: 8.8778\n",
            "Epoch 12/100\n",
            "1/1 [==============================] - 0s 4ms/step - loss: 8.2350 - mae: 8.2350\n",
            "Epoch 13/100\n",
            "1/1 [==============================] - 0s 3ms/step - loss: 7.5462 - mae: 7.5462\n",
            "Epoch 14/100\n",
            "1/1 [==============================] - 0s 4ms/step - loss: 6.8598 - mae: 6.8598\n",
            "Epoch 15/100\n",
            "1/1 [==============================] - 0s 3ms/step - loss: 6.1128 - mae: 6.1128\n",
            "Epoch 16/100\n",
            "1/1 [==============================] - 0s 3ms/step - loss: 5.3025 - mae: 5.3025\n",
            "Epoch 17/100\n",
            "1/1 [==============================] - 0s 3ms/step - loss: 4.4257 - mae: 4.4257\n",
            "Epoch 18/100\n",
            "1/1 [==============================] - 0s 5ms/step - loss: 3.8537 - mae: 3.8537\n",
            "Epoch 19/100\n",
            "1/1 [==============================] - 0s 4ms/step - loss: 3.9026 - mae: 3.9026\n",
            "Epoch 20/100\n",
            "1/1 [==============================] - 0s 5ms/step - loss: 3.8366 - mae: 3.8366\n",
            "Epoch 21/100\n",
            "1/1 [==============================] - 0s 5ms/step - loss: 3.9000 - mae: 3.9000\n",
            "Epoch 22/100\n",
            "1/1 [==============================] - 0s 5ms/step - loss: 3.8471 - mae: 3.8471\n",
            "Epoch 23/100\n",
            "1/1 [==============================] - 0s 3ms/step - loss: 3.8825 - mae: 3.8825\n",
            "Epoch 24/100\n",
            "1/1 [==============================] - 0s 4ms/step - loss: 3.8574 - mae: 3.8574\n",
            "Epoch 25/100\n",
            "1/1 [==============================] - 0s 5ms/step - loss: 3.8574 - mae: 3.8574\n",
            "Epoch 26/100\n",
            "1/1 [==============================] - 0s 5ms/step - loss: 3.8639 - mae: 3.8639\n",
            "Epoch 27/100\n",
            "1/1 [==============================] - 0s 4ms/step - loss: 3.8321 - mae: 3.8321\n",
            "Epoch 28/100\n",
            "1/1 [==============================] - 0s 5ms/step - loss: 3.8706 - mae: 3.8706\n",
            "Epoch 29/100\n",
            "1/1 [==============================] - 0s 3ms/step - loss: 3.8067 - mae: 3.8067\n",
            "Epoch 30/100\n",
            "1/1 [==============================] - 0s 3ms/step - loss: 3.8793 - mae: 3.8793\n",
            "Epoch 31/100\n",
            "1/1 [==============================] - 0s 4ms/step - loss: 3.8198 - mae: 3.8198\n",
            "Epoch 32/100\n",
            "1/1 [==============================] - 0s 5ms/step - loss: 3.8600 - mae: 3.8600\n",
            "Epoch 33/100\n",
            "1/1 [==============================] - 0s 5ms/step - loss: 3.8264 - mae: 3.8264\n",
            "Epoch 34/100\n",
            "1/1 [==============================] - 0s 4ms/step - loss: 3.8346 - mae: 3.8346\n",
            "Epoch 35/100\n",
            "1/1 [==============================] - 0s 4ms/step - loss: 3.8332 - mae: 3.8332\n",
            "Epoch 36/100\n",
            "1/1 [==============================] - 0s 6ms/step - loss: 3.8091 - mae: 3.8091\n",
            "Epoch 37/100\n",
            "1/1 [==============================] - 0s 9ms/step - loss: 3.8401 - mae: 3.8401\n",
            "Epoch 38/100\n",
            "1/1 [==============================] - 0s 4ms/step - loss: 3.7837 - mae: 3.7837\n",
            "Epoch 39/100\n",
            "1/1 [==============================] - 0s 4ms/step - loss: 3.8551 - mae: 3.8551\n",
            "Epoch 40/100\n",
            "1/1 [==============================] - 0s 3ms/step - loss: 3.7899 - mae: 3.7899\n",
            "Epoch 41/100\n",
            "1/1 [==============================] - 0s 3ms/step - loss: 3.8362 - mae: 3.8362\n",
            "Epoch 42/100\n",
            "1/1 [==============================] - 0s 6ms/step - loss: 3.7967 - mae: 3.7967\n",
            "Epoch 43/100\n",
            "1/1 [==============================] - 0s 7ms/step - loss: 3.8105 - mae: 3.8105\n",
            "Epoch 44/100\n",
            "1/1 [==============================] - 0s 4ms/step - loss: 3.8038 - mae: 3.8038\n",
            "Epoch 45/100\n",
            "1/1 [==============================] - 0s 4ms/step - loss: 3.7847 - mae: 3.7847\n",
            "Epoch 46/100\n",
            "1/1 [==============================] - 0s 6ms/step - loss: 3.8109 - mae: 3.8109\n",
            "Epoch 47/100\n",
            "1/1 [==============================] - 0s 3ms/step - loss: 3.7645 - mae: 3.7645\n",
            "Epoch 48/100\n",
            "1/1 [==============================] - 0s 5ms/step - loss: 3.8260 - mae: 3.8260\n",
            "Epoch 49/100\n",
            "1/1 [==============================] - 0s 3ms/step - loss: 3.7612 - mae: 3.7612\n",
            "Epoch 50/100\n",
            "1/1 [==============================] - 0s 5ms/step - loss: 3.8110 - mae: 3.8110\n",
            "Epoch 51/100\n",
            "1/1 [==============================] - 0s 5ms/step - loss: 3.7683 - mae: 3.7683\n",
            "Epoch 52/100\n",
            "1/1 [==============================] - 0s 6ms/step - loss: 3.7850 - mae: 3.7850\n",
            "Epoch 53/100\n",
            "1/1 [==============================] - 0s 6ms/step - loss: 3.7755 - mae: 3.7755\n",
            "Epoch 54/100\n",
            "1/1 [==============================] - 0s 4ms/step - loss: 3.7589 - mae: 3.7589\n",
            "Epoch 55/100\n",
            "1/1 [==============================] - 0s 7ms/step - loss: 3.7862 - mae: 3.7862\n",
            "Epoch 56/100\n",
            "1/1 [==============================] - 0s 4ms/step - loss: 3.7399 - mae: 3.7399\n",
            "Epoch 57/100\n",
            "1/1 [==============================] - 0s 4ms/step - loss: 3.7982 - mae: 3.7982\n",
            "Epoch 58/100\n",
            "1/1 [==============================] - 0s 3ms/step - loss: 3.7337 - mae: 3.7337\n",
            "Epoch 59/100\n",
            "1/1 [==============================] - 0s 5ms/step - loss: 3.7844 - mae: 3.7844\n",
            "Epoch 60/100\n",
            "1/1 [==============================] - 0s 4ms/step - loss: 3.7410 - mae: 3.7410\n",
            "Epoch 61/100\n",
            "1/1 [==============================] - 0s 11ms/step - loss: 3.7581 - mae: 3.7581\n",
            "Epoch 62/100\n",
            "1/1 [==============================] - 0s 7ms/step - loss: 3.7484 - mae: 3.7484\n",
            "Epoch 63/100\n",
            "1/1 [==============================] - 0s 16ms/step - loss: 3.7332 - mae: 3.7332\n",
            "Epoch 64/100\n",
            "1/1 [==============================] - 0s 15ms/step - loss: 3.7639 - mae: 3.7639\n",
            "Epoch 65/100\n",
            "1/1 [==============================] - 0s 7ms/step - loss: 3.7124 - mae: 3.7124\n",
            "Epoch 66/100\n",
            "1/1 [==============================] - 0s 11ms/step - loss: 3.7714 - mae: 3.7714\n",
            "Epoch 67/100\n",
            "1/1 [==============================] - 0s 7ms/step - loss: 3.7072 - mae: 3.7072\n",
            "Epoch 68/100\n",
            "1/1 [==============================] - 0s 5ms/step - loss: 3.7566 - mae: 3.7566\n",
            "Epoch 69/100\n",
            "1/1 [==============================] - 0s 5ms/step - loss: 3.7147 - mae: 3.7147\n",
            "Epoch 70/100\n",
            "1/1 [==============================] - 0s 6ms/step - loss: 3.7300 - mae: 3.7300\n",
            "Epoch 71/100\n",
            "1/1 [==============================] - 0s 14ms/step - loss: 3.7224 - mae: 3.7224\n",
            "Epoch 72/100\n",
            "1/1 [==============================] - 0s 7ms/step - loss: 3.7099 - mae: 3.7099\n",
            "Epoch 73/100\n",
            "1/1 [==============================] - 0s 4ms/step - loss: 3.7380 - mae: 3.7380\n",
            "Epoch 74/100\n",
            "1/1 [==============================] - 0s 5ms/step - loss: 3.6837 - mae: 3.6837\n",
            "Epoch 75/100\n",
            "1/1 [==============================] - 0s 4ms/step - loss: 3.7458 - mae: 3.7458\n",
            "Epoch 76/100\n",
            "1/1 [==============================] - 0s 5ms/step - loss: 3.6818 - mae: 3.6818\n",
            "Epoch 77/100\n",
            "1/1 [==============================] - 0s 4ms/step - loss: 3.7275 - mae: 3.7275\n",
            "Epoch 78/100\n",
            "1/1 [==============================] - 0s 5ms/step - loss: 3.6896 - mae: 3.6896\n",
            "Epoch 79/100\n",
            "1/1 [==============================] - 0s 5ms/step - loss: 3.7006 - mae: 3.7006\n",
            "Epoch 80/100\n",
            "1/1 [==============================] - 0s 2ms/step - loss: 3.7010 - mae: 3.7010\n",
            "Epoch 81/100\n",
            "1/1 [==============================] - 0s 4ms/step - loss: 3.6809 - mae: 3.6809\n",
            "Epoch 82/100\n",
            "1/1 [==============================] - 0s 2ms/step - loss: 3.7132 - mae: 3.7132\n",
            "Epoch 83/100\n",
            "1/1 [==============================] - 0s 3ms/step - loss: 3.6536 - mae: 3.6536\n",
            "Epoch 84/100\n",
            "1/1 [==============================] - 0s 4ms/step - loss: 3.7212 - mae: 3.7212\n",
            "Epoch 85/100\n",
            "1/1 [==============================] - 0s 3ms/step - loss: 3.6575 - mae: 3.6575\n",
            "Epoch 86/100\n",
            "1/1 [==============================] - 0s 4ms/step - loss: 3.6971 - mae: 3.6971\n",
            "Epoch 87/100\n",
            "1/1 [==============================] - 0s 3ms/step - loss: 3.6654 - mae: 3.6654\n",
            "Epoch 88/100\n",
            "1/1 [==============================] - 0s 3ms/step - loss: 3.6709 - mae: 3.6709\n",
            "Epoch 89/100\n",
            "1/1 [==============================] - 0s 7ms/step - loss: 3.6814 - mae: 3.6814\n",
            "Epoch 90/100\n",
            "1/1 [==============================] - 0s 3ms/step - loss: 3.6497 - mae: 3.6497\n",
            "Epoch 91/100\n",
            "1/1 [==============================] - 0s 9ms/step - loss: 3.6895 - mae: 3.6895\n",
            "Epoch 92/100\n",
            "1/1 [==============================] - 0s 6ms/step - loss: 3.6263 - mae: 3.6263\n",
            "Epoch 93/100\n",
            "1/1 [==============================] - 0s 5ms/step - loss: 3.6925 - mae: 3.6925\n",
            "Epoch 94/100\n",
            "1/1 [==============================] - 0s 4ms/step - loss: 3.6343 - mae: 3.6343\n",
            "Epoch 95/100\n",
            "1/1 [==============================] - 0s 4ms/step - loss: 3.6652 - mae: 3.6652\n",
            "Epoch 96/100\n",
            "1/1 [==============================] - 0s 4ms/step - loss: 3.6424 - mae: 3.6424\n",
            "Epoch 97/100\n",
            "1/1 [==============================] - 0s 4ms/step - loss: 3.6433 - mae: 3.6433\n",
            "Epoch 98/100\n",
            "1/1 [==============================] - 0s 6ms/step - loss: 3.6586 - mae: 3.6586\n",
            "Epoch 99/100\n",
            "1/1 [==============================] - 0s 4ms/step - loss: 3.6172 - mae: 3.6172\n",
            "Epoch 100/100\n",
            "1/1 [==============================] - 0s 4ms/step - loss: 3.6668 - mae: 3.6668\n"
          ],
          "name": "stdout"
        },
        {
          "output_type": "execute_result",
          "data": {
            "text/plain": [
              "<tensorflow.python.keras.callbacks.History at 0x7f8add8774d0>"
            ]
          },
          "metadata": {
            "tags": []
          },
          "execution_count": 50
        }
      ]
    },
    {
      "cell_type": "code",
      "metadata": {
        "colab": {
          "base_uri": "https://localhost:8080/"
        },
        "id": "pqvLR7UmKJEV",
        "outputId": "e101fda6-c2cd-4972-da8e-9fab0c73e740"
      },
      "source": [
        "model.predict([17.0])"
      ],
      "execution_count": 52,
      "outputs": [
        {
          "output_type": "execute_result",
          "data": {
            "text/plain": [
              "array([[31.994244]], dtype=float32)"
            ]
          },
          "metadata": {
            "tags": []
          },
          "execution_count": 52
        }
      ]
    },
    {
      "cell_type": "code",
      "metadata": {
        "colab": {
          "base_uri": "https://localhost:8080/"
        },
        "id": "TH2NiI2bKkXV",
        "outputId": "0e0819f4-83c4-45b7-c9ba-148663349af0"
      },
      "source": [
        "# 1. create the model ( and add 1 hidden layer with 100 nodes)\n",
        "model = tf.keras.Sequential([\n",
        "  tf.keras.layers.Dense(100, activation = \"relu\"),\n",
        "  tf.keras.layers.Dense(1)\n",
        "]) \n",
        "\n",
        "# 2. compile the model\n",
        "model.compile(loss=tf.keras.losses.mae,\n",
        "              optimizer=tf.keras.optimizers.Adam(learning_rate=0.01),\n",
        "              metrics=['mae'])\n",
        "\n",
        "# 3. fit the model\n",
        "model.fit(X,y, epochs=100)"
      ],
      "execution_count": 53,
      "outputs": [
        {
          "output_type": "stream",
          "text": [
            "Epoch 1/100\n",
            "1/1 [==============================] - 0s 256ms/step - loss: 14.1259 - mae: 14.1259\n",
            "Epoch 2/100\n",
            "1/1 [==============================] - 0s 5ms/step - loss: 13.3153 - mae: 13.3153\n",
            "Epoch 3/100\n",
            "1/1 [==============================] - 0s 3ms/step - loss: 12.5177 - mae: 12.5177\n",
            "Epoch 4/100\n",
            "1/1 [==============================] - 0s 3ms/step - loss: 11.7211 - mae: 11.7211\n",
            "Epoch 5/100\n",
            "1/1 [==============================] - 0s 4ms/step - loss: 10.9294 - mae: 10.9294\n",
            "Epoch 6/100\n",
            "1/1 [==============================] - 0s 4ms/step - loss: 10.1971 - mae: 10.1971\n",
            "Epoch 7/100\n",
            "1/1 [==============================] - 0s 4ms/step - loss: 9.5991 - mae: 9.5991\n",
            "Epoch 8/100\n",
            "1/1 [==============================] - 0s 5ms/step - loss: 8.9952 - mae: 8.9952\n",
            "Epoch 9/100\n",
            "1/1 [==============================] - 0s 4ms/step - loss: 8.3728 - mae: 8.3728\n",
            "Epoch 10/100\n",
            "1/1 [==============================] - 0s 4ms/step - loss: 7.7282 - mae: 7.7282\n",
            "Epoch 11/100\n",
            "1/1 [==============================] - 0s 6ms/step - loss: 7.0576 - mae: 7.0576\n",
            "Epoch 12/100\n",
            "1/1 [==============================] - 0s 5ms/step - loss: 6.3588 - mae: 6.3588\n",
            "Epoch 13/100\n",
            "1/1 [==============================] - 0s 4ms/step - loss: 5.6279 - mae: 5.6279\n",
            "Epoch 14/100\n",
            "1/1 [==============================] - 0s 4ms/step - loss: 4.8621 - mae: 4.8621\n",
            "Epoch 15/100\n",
            "1/1 [==============================] - 0s 5ms/step - loss: 4.0593 - mae: 4.0593\n",
            "Epoch 16/100\n",
            "1/1 [==============================] - 0s 5ms/step - loss: 3.6680 - mae: 3.6680\n",
            "Epoch 17/100\n",
            "1/1 [==============================] - 0s 5ms/step - loss: 3.8171 - mae: 3.8171\n",
            "Epoch 18/100\n",
            "1/1 [==============================] - 0s 4ms/step - loss: 3.9450 - mae: 3.9450\n",
            "Epoch 19/100\n",
            "1/1 [==============================] - 0s 5ms/step - loss: 4.2753 - mae: 4.2753\n",
            "Epoch 20/100\n",
            "1/1 [==============================] - 0s 6ms/step - loss: 4.5066 - mae: 4.5066\n",
            "Epoch 21/100\n",
            "1/1 [==============================] - 0s 4ms/step - loss: 4.6408 - mae: 4.6408\n",
            "Epoch 22/100\n",
            "1/1 [==============================] - 0s 5ms/step - loss: 4.6899 - mae: 4.6899\n",
            "Epoch 23/100\n",
            "1/1 [==============================] - 0s 7ms/step - loss: 4.6645 - mae: 4.6645\n",
            "Epoch 24/100\n",
            "1/1 [==============================] - 0s 3ms/step - loss: 4.5734 - mae: 4.5734\n",
            "Epoch 25/100\n",
            "1/1 [==============================] - 0s 3ms/step - loss: 4.4259 - mae: 4.4259\n",
            "Epoch 26/100\n",
            "1/1 [==============================] - 0s 7ms/step - loss: 4.2328 - mae: 4.2328\n",
            "Epoch 27/100\n",
            "1/1 [==============================] - 0s 6ms/step - loss: 4.0025 - mae: 4.0025\n",
            "Epoch 28/100\n",
            "1/1 [==============================] - 0s 9ms/step - loss: 3.7387 - mae: 3.7387\n",
            "Epoch 29/100\n",
            "1/1 [==============================] - 0s 9ms/step - loss: 3.5694 - mae: 3.5694\n",
            "Epoch 30/100\n",
            "1/1 [==============================] - 0s 3ms/step - loss: 3.4459 - mae: 3.4459\n",
            "Epoch 31/100\n",
            "1/1 [==============================] - 0s 9ms/step - loss: 3.3210 - mae: 3.3210\n",
            "Epoch 32/100\n",
            "1/1 [==============================] - 0s 4ms/step - loss: 3.2215 - mae: 3.2215\n",
            "Epoch 33/100\n",
            "1/1 [==============================] - 0s 4ms/step - loss: 3.2596 - mae: 3.2596\n",
            "Epoch 34/100\n",
            "1/1 [==============================] - 0s 5ms/step - loss: 3.3077 - mae: 3.3077\n",
            "Epoch 35/100\n",
            "1/1 [==============================] - 0s 4ms/step - loss: 3.2550 - mae: 3.2550\n",
            "Epoch 36/100\n",
            "1/1 [==============================] - 0s 6ms/step - loss: 3.0801 - mae: 3.0801\n",
            "Epoch 37/100\n",
            "1/1 [==============================] - 0s 4ms/step - loss: 2.9738 - mae: 2.9738\n",
            "Epoch 38/100\n",
            "1/1 [==============================] - 0s 5ms/step - loss: 2.8790 - mae: 2.8790\n",
            "Epoch 39/100\n",
            "1/1 [==============================] - 0s 4ms/step - loss: 2.8660 - mae: 2.8660\n",
            "Epoch 40/100\n",
            "1/1 [==============================] - 0s 6ms/step - loss: 2.8423 - mae: 2.8423\n",
            "Epoch 41/100\n",
            "1/1 [==============================] - 0s 6ms/step - loss: 2.8032 - mae: 2.8032\n",
            "Epoch 42/100\n",
            "1/1 [==============================] - 0s 6ms/step - loss: 2.7505 - mae: 2.7505\n",
            "Epoch 43/100\n",
            "1/1 [==============================] - 0s 6ms/step - loss: 2.6785 - mae: 2.6785\n",
            "Epoch 44/100\n",
            "1/1 [==============================] - 0s 5ms/step - loss: 2.5927 - mae: 2.5927\n",
            "Epoch 45/100\n",
            "1/1 [==============================] - 0s 5ms/step - loss: 2.4996 - mae: 2.4996\n",
            "Epoch 46/100\n",
            "1/1 [==============================] - 0s 6ms/step - loss: 2.3975 - mae: 2.3975\n",
            "Epoch 47/100\n",
            "1/1 [==============================] - 0s 11ms/step - loss: 2.2758 - mae: 2.2758\n",
            "Epoch 48/100\n",
            "1/1 [==============================] - 0s 10ms/step - loss: 2.1566 - mae: 2.1566\n",
            "Epoch 49/100\n",
            "1/1 [==============================] - 0s 6ms/step - loss: 2.0381 - mae: 2.0381\n",
            "Epoch 50/100\n",
            "1/1 [==============================] - 0s 4ms/step - loss: 1.9235 - mae: 1.9235\n",
            "Epoch 51/100\n",
            "1/1 [==============================] - 0s 6ms/step - loss: 1.8121 - mae: 1.8121\n",
            "Epoch 52/100\n",
            "1/1 [==============================] - 0s 7ms/step - loss: 1.7017 - mae: 1.7017\n",
            "Epoch 53/100\n",
            "1/1 [==============================] - 0s 5ms/step - loss: 1.5961 - mae: 1.5961\n",
            "Epoch 54/100\n",
            "1/1 [==============================] - 0s 7ms/step - loss: 1.4717 - mae: 1.4717\n",
            "Epoch 55/100\n",
            "1/1 [==============================] - 0s 5ms/step - loss: 1.3406 - mae: 1.3406\n",
            "Epoch 56/100\n",
            "1/1 [==============================] - 0s 4ms/step - loss: 1.2658 - mae: 1.2658\n",
            "Epoch 57/100\n",
            "1/1 [==============================] - 0s 6ms/step - loss: 1.0707 - mae: 1.0707\n",
            "Epoch 58/100\n",
            "1/1 [==============================] - 0s 7ms/step - loss: 0.9592 - mae: 0.9592\n",
            "Epoch 59/100\n",
            "1/1 [==============================] - 0s 5ms/step - loss: 0.8280 - mae: 0.8280\n",
            "Epoch 60/100\n",
            "1/1 [==============================] - 0s 7ms/step - loss: 0.7091 - mae: 0.7091\n",
            "Epoch 61/100\n",
            "1/1 [==============================] - 0s 8ms/step - loss: 0.4804 - mae: 0.4804\n",
            "Epoch 62/100\n",
            "1/1 [==============================] - 0s 12ms/step - loss: 0.5528 - mae: 0.5528\n",
            "Epoch 63/100\n",
            "1/1 [==============================] - 0s 12ms/step - loss: 0.3767 - mae: 0.3767\n",
            "Epoch 64/100\n",
            "1/1 [==============================] - 0s 4ms/step - loss: 0.5251 - mae: 0.5251\n",
            "Epoch 65/100\n",
            "1/1 [==============================] - 0s 4ms/step - loss: 0.6157 - mae: 0.6157\n",
            "Epoch 66/100\n",
            "1/1 [==============================] - 0s 4ms/step - loss: 0.4945 - mae: 0.4945\n",
            "Epoch 67/100\n",
            "1/1 [==============================] - 0s 4ms/step - loss: 0.5746 - mae: 0.5746\n",
            "Epoch 68/100\n",
            "1/1 [==============================] - 0s 5ms/step - loss: 0.6899 - mae: 0.6899\n",
            "Epoch 69/100\n",
            "1/1 [==============================] - 0s 4ms/step - loss: 0.6236 - mae: 0.6236\n",
            "Epoch 70/100\n",
            "1/1 [==============================] - 0s 4ms/step - loss: 0.5136 - mae: 0.5136\n",
            "Epoch 71/100\n",
            "1/1 [==============================] - 0s 3ms/step - loss: 0.5835 - mae: 0.5835\n",
            "Epoch 72/100\n",
            "1/1 [==============================] - 0s 5ms/step - loss: 0.7639 - mae: 0.7639\n",
            "Epoch 73/100\n",
            "1/1 [==============================] - 0s 4ms/step - loss: 0.6587 - mae: 0.6587\n",
            "Epoch 74/100\n",
            "1/1 [==============================] - 0s 3ms/step - loss: 0.4090 - mae: 0.4090\n",
            "Epoch 75/100\n",
            "1/1 [==============================] - 0s 5ms/step - loss: 0.5862 - mae: 0.5862\n",
            "Epoch 76/100\n",
            "1/1 [==============================] - 0s 4ms/step - loss: 0.6420 - mae: 0.6420\n",
            "Epoch 77/100\n",
            "1/1 [==============================] - 0s 5ms/step - loss: 0.5663 - mae: 0.5663\n",
            "Epoch 78/100\n",
            "1/1 [==============================] - 0s 6ms/step - loss: 0.3292 - mae: 0.3292\n",
            "Epoch 79/100\n",
            "1/1 [==============================] - 0s 4ms/step - loss: 0.3282 - mae: 0.3282\n",
            "Epoch 80/100\n",
            "1/1 [==============================] - 0s 7ms/step - loss: 0.4004 - mae: 0.4004\n",
            "Epoch 81/100\n",
            "1/1 [==============================] - 0s 5ms/step - loss: 0.3423 - mae: 0.3423\n",
            "Epoch 82/100\n",
            "1/1 [==============================] - 0s 7ms/step - loss: 0.3673 - mae: 0.3673\n",
            "Epoch 83/100\n",
            "1/1 [==============================] - 0s 6ms/step - loss: 0.4009 - mae: 0.4009\n",
            "Epoch 84/100\n",
            "1/1 [==============================] - 0s 3ms/step - loss: 0.3757 - mae: 0.3757\n",
            "Epoch 85/100\n",
            "1/1 [==============================] - 0s 4ms/step - loss: 0.3169 - mae: 0.3169\n",
            "Epoch 86/100\n",
            "1/1 [==============================] - 0s 6ms/step - loss: 0.3597 - mae: 0.3597\n",
            "Epoch 87/100\n",
            "1/1 [==============================] - 0s 3ms/step - loss: 0.3242 - mae: 0.3242\n",
            "Epoch 88/100\n",
            "1/1 [==============================] - 0s 5ms/step - loss: 0.2488 - mae: 0.2488\n",
            "Epoch 89/100\n",
            "1/1 [==============================] - 0s 9ms/step - loss: 0.2267 - mae: 0.2267\n",
            "Epoch 90/100\n",
            "1/1 [==============================] - 0s 4ms/step - loss: 0.2228 - mae: 0.2228\n",
            "Epoch 91/100\n",
            "1/1 [==============================] - 0s 3ms/step - loss: 0.2213 - mae: 0.2213\n",
            "Epoch 92/100\n",
            "1/1 [==============================] - 0s 3ms/step - loss: 0.2221 - mae: 0.2221\n",
            "Epoch 93/100\n",
            "1/1 [==============================] - 0s 6ms/step - loss: 0.2313 - mae: 0.2313\n",
            "Epoch 94/100\n",
            "1/1 [==============================] - 0s 3ms/step - loss: 0.2385 - mae: 0.2385\n",
            "Epoch 95/100\n",
            "1/1 [==============================] - 0s 3ms/step - loss: 0.2325 - mae: 0.2325\n",
            "Epoch 96/100\n",
            "1/1 [==============================] - 0s 4ms/step - loss: 0.2524 - mae: 0.2524\n",
            "Epoch 97/100\n",
            "1/1 [==============================] - 0s 8ms/step - loss: 0.2777 - mae: 0.2777\n",
            "Epoch 98/100\n",
            "1/1 [==============================] - 0s 4ms/step - loss: 0.1877 - mae: 0.1877\n",
            "Epoch 99/100\n",
            "1/1 [==============================] - 0s 5ms/step - loss: 0.2927 - mae: 0.2927\n",
            "Epoch 100/100\n",
            "1/1 [==============================] - 0s 6ms/step - loss: 0.2242 - mae: 0.2242\n"
          ],
          "name": "stdout"
        },
        {
          "output_type": "execute_result",
          "data": {
            "text/plain": [
              "<tensorflow.python.keras.callbacks.History at 0x7f8adc741850>"
            ]
          },
          "metadata": {
            "tags": []
          },
          "execution_count": 53
        }
      ]
    },
    {
      "cell_type": "code",
      "metadata": {
        "colab": {
          "base_uri": "https://localhost:8080/"
        },
        "id": "gnsowD6uL-WO",
        "outputId": "cd9c47cb-341b-4093-9c8d-f9686cac49e8"
      },
      "source": [
        "model.predict(tf.constant([17.0]))"
      ],
      "execution_count": 56,
      "outputs": [
        {
          "output_type": "execute_result",
          "data": {
            "text/plain": [
              "array([[27.721367]], dtype=float32)"
            ]
          },
          "metadata": {
            "tags": []
          },
          "execution_count": 56
        }
      ]
    },
    {
      "cell_type": "code",
      "metadata": {
        "colab": {
          "base_uri": "https://localhost:8080/"
        },
        "id": "YpNOVbEfMHot",
        "outputId": "53c2f764-633f-43ae-a84d-c3a2bd3be31c"
      },
      "source": [
        "a_numpy = np.array([17.0])\n",
        "a_numpy"
      ],
      "execution_count": 57,
      "outputs": [
        {
          "output_type": "execute_result",
          "data": {
            "text/plain": [
              "array([17.])"
            ]
          },
          "metadata": {
            "tags": []
          },
          "execution_count": 57
        }
      ]
    },
    {
      "cell_type": "code",
      "metadata": {
        "colab": {
          "base_uri": "https://localhost:8080/"
        },
        "id": "NhCOGY60NYKr",
        "outputId": "a7bb93e6-2608-432c-e83e-b63942153d81"
      },
      "source": [
        "a_tf = tf.constant(a_numpy)\n",
        "a_tf"
      ],
      "execution_count": 58,
      "outputs": [
        {
          "output_type": "execute_result",
          "data": {
            "text/plain": [
              "<tf.Tensor: shape=(1,), dtype=float64, numpy=array([17.])>"
            ]
          },
          "metadata": {
            "tags": []
          },
          "execution_count": 58
        }
      ]
    },
    {
      "cell_type": "markdown",
      "metadata": {
        "id": "A38dDJgVNfIN"
      },
      "source": [
        "# Evaluating a model"
      ]
    },
    {
      "cell_type": "code",
      "metadata": {
        "id": "VCz3j0_aN_Ba"
      },
      "source": [
        ""
      ],
      "execution_count": null,
      "outputs": []
    }
  ]
}